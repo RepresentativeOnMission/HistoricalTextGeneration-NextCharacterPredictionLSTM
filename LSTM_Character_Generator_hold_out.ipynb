{
  "cells": [
    {
      "cell_type": "code",
      "source": [
        "from google.colab import drive\n",
        "drive.mount('/content/drive')"
      ],
      "metadata": {
        "id": "dpFPnYg8EfEg",
        "outputId": "90bf991f-55ef-4123-c5d2-0386fc3006f0",
        "colab": {
          "base_uri": "https://localhost:8080/"
        }
      },
      "id": "dpFPnYg8EfEg",
      "execution_count": 1,
      "outputs": [
        {
          "output_type": "stream",
          "name": "stdout",
          "text": [
            "Mounted at /content/drive\n"
          ]
        }
      ]
    },
    {
      "cell_type": "code",
      "source": [
        "!pip install torchmetrics"
      ],
      "metadata": {
        "id": "W90EGarRFwA-",
        "outputId": "56aba631-4341-4007-a756-46a6ce84788f",
        "colab": {
          "base_uri": "https://localhost:8080/"
        }
      },
      "id": "W90EGarRFwA-",
      "execution_count": 2,
      "outputs": [
        {
          "output_type": "stream",
          "name": "stdout",
          "text": [
            "Collecting torchmetrics\n",
            "  Downloading torchmetrics-1.1.2-py3-none-any.whl (764 kB)\n",
            "\u001b[?25l     \u001b[90m━━━━━━━━━━━━━━━━━━━━━━━━━━━━━━━━━━━━━━━━\u001b[0m \u001b[32m0.0/764.8 kB\u001b[0m \u001b[31m?\u001b[0m eta \u001b[36m-:--:--\u001b[0m\r\u001b[2K     \u001b[91m━━━\u001b[0m\u001b[90m╺\u001b[0m\u001b[90m━━━━━━━━━━━━━━━━━━━━━━━━━━━━━━━━━━━━\u001b[0m \u001b[32m61.4/764.8 kB\u001b[0m \u001b[31m1.6 MB/s\u001b[0m eta \u001b[36m0:00:01\u001b[0m\r\u001b[2K     \u001b[91m━━━━━━━━━━━━━━━━━━━━━━━━━━━━━━━━━━━━━\u001b[0m\u001b[91m╸\u001b[0m \u001b[32m757.8/764.8 kB\u001b[0m \u001b[31m10.9 MB/s\u001b[0m eta \u001b[36m0:00:01\u001b[0m\r\u001b[2K     \u001b[90m━━━━━━━━━━━━━━━━━━━━━━━━━━━━━━━━━━━━━━━\u001b[0m \u001b[32m764.8/764.8 kB\u001b[0m \u001b[31m9.1 MB/s\u001b[0m eta \u001b[36m0:00:00\u001b[0m\n",
            "\u001b[?25hRequirement already satisfied: numpy>1.20.0 in /usr/local/lib/python3.10/dist-packages (from torchmetrics) (1.23.5)\n",
            "Requirement already satisfied: torch>=1.8.1 in /usr/local/lib/python3.10/dist-packages (from torchmetrics) (2.0.1+cu118)\n",
            "Collecting lightning-utilities>=0.8.0 (from torchmetrics)\n",
            "  Downloading lightning_utilities-0.9.0-py3-none-any.whl (23 kB)\n",
            "Requirement already satisfied: packaging>=17.1 in /usr/local/lib/python3.10/dist-packages (from lightning-utilities>=0.8.0->torchmetrics) (23.1)\n",
            "Requirement already satisfied: typing-extensions in /usr/local/lib/python3.10/dist-packages (from lightning-utilities>=0.8.0->torchmetrics) (4.5.0)\n",
            "Requirement already satisfied: filelock in /usr/local/lib/python3.10/dist-packages (from torch>=1.8.1->torchmetrics) (3.12.2)\n",
            "Requirement already satisfied: sympy in /usr/local/lib/python3.10/dist-packages (from torch>=1.8.1->torchmetrics) (1.12)\n",
            "Requirement already satisfied: networkx in /usr/local/lib/python3.10/dist-packages (from torch>=1.8.1->torchmetrics) (3.1)\n",
            "Requirement already satisfied: jinja2 in /usr/local/lib/python3.10/dist-packages (from torch>=1.8.1->torchmetrics) (3.1.2)\n",
            "Requirement already satisfied: triton==2.0.0 in /usr/local/lib/python3.10/dist-packages (from torch>=1.8.1->torchmetrics) (2.0.0)\n",
            "Requirement already satisfied: cmake in /usr/local/lib/python3.10/dist-packages (from triton==2.0.0->torch>=1.8.1->torchmetrics) (3.27.4.1)\n",
            "Requirement already satisfied: lit in /usr/local/lib/python3.10/dist-packages (from triton==2.0.0->torch>=1.8.1->torchmetrics) (16.0.6)\n",
            "Requirement already satisfied: MarkupSafe>=2.0 in /usr/local/lib/python3.10/dist-packages (from jinja2->torch>=1.8.1->torchmetrics) (2.1.3)\n",
            "Requirement already satisfied: mpmath>=0.19 in /usr/local/lib/python3.10/dist-packages (from sympy->torch>=1.8.1->torchmetrics) (1.3.0)\n",
            "Installing collected packages: lightning-utilities, torchmetrics\n",
            "Successfully installed lightning-utilities-0.9.0 torchmetrics-1.1.2\n"
          ]
        }
      ]
    },
    {
      "cell_type": "code",
      "execution_count": 3,
      "id": "1e8dfe2b-4149-4b10-8114-5403aa77627e",
      "metadata": {
        "id": "1e8dfe2b-4149-4b10-8114-5403aa77627e"
      },
      "outputs": [],
      "source": [
        "#import libraries\n",
        "import numpy as np\n",
        "import os\n",
        "import torch\n",
        "from torch import nn\n",
        "from torch.utils.data import DataLoader\n",
        "from torchvision import datasets, transforms\n",
        "import torchmetrics"
      ]
    },
    {
      "cell_type": "code",
      "execution_count": 4,
      "id": "837a5b60-6479-4dcd-8da0-e3b28aeafbc3",
      "metadata": {
        "id": "837a5b60-6479-4dcd-8da0-e3b28aeafbc3",
        "outputId": "4c0cfa59-23ac-4252-cc51-65b078f904fc",
        "colab": {
          "base_uri": "https://localhost:8080/"
        }
      },
      "outputs": [
        {
          "output_type": "stream",
          "name": "stdout",
          "text": [
            "Tesla T4\n"
          ]
        }
      ],
      "source": [
        "#Load the device GPU\n",
        "gpu = torch.device(\"cuda:0\")\n",
        "#gpu = torch.device(\"cpu\")\n",
        "print(torch.cuda.get_device_name(torch.cuda.current_device()))"
      ]
    },
    {
      "cell_type": "code",
      "execution_count": 5,
      "id": "20114766-5d9c-4d14-a1d9-ffe2b1d52f81",
      "metadata": {
        "tags": [],
        "id": "20114766-5d9c-4d14-a1d9-ffe2b1d52f81"
      },
      "outputs": [],
      "source": [
        "#load the dataset\n",
        "import codecs\n",
        "dataset_t = \"\"\n",
        "with codecs.open('/content/drive/Othercomputers/Il mio computer/BarberoGenerator/dataset/dataset_barbero_sarzana.txt', encoding='utf-8') as f:\n",
        "    for character in f:\n",
        "        dataset_t = dataset_t + character"
      ]
    },
    {
      "cell_type": "code",
      "execution_count": 6,
      "id": "f58b2b63-a5ee-4522-8e3b-e0672a71f2f5",
      "metadata": {
        "tags": [],
        "id": "f58b2b63-a5ee-4522-8e3b-e0672a71f2f5",
        "outputId": "7d18d1ae-caa8-49d9-846c-4760f6a521cc",
        "colab": {
          "base_uri": "https://localhost:8080/"
        }
      },
      "outputs": [
        {
          "output_type": "stream",
          "name": "stderr",
          "text": [
            "<ipython-input-6-c0c5f10b0c7b>:11: SettingWithCopyWarning: \n",
            "A value is trying to be set on a copy of a slice from a DataFrame.\n",
            "Try using .loc[row_indexer,col_indexer] = value instead\n",
            "\n",
            "See the caveats in the documentation: https://pandas.pydata.org/pandas-docs/stable/user_guide/indexing.html#returning-a-view-versus-a-copy\n",
            "  dictionary['int_encoding'] = label_enc.fit_transform(dictionary['data'])\n"
          ]
        },
        {
          "output_type": "stream",
          "name": "stdout",
          "text": [
            "tensor([[0., 0., 0.,  ..., 0., 0., 0.],\n",
            "        [0., 0., 0.,  ..., 0., 0., 0.],\n",
            "        [0., 0., 0.,  ..., 0., 0., 0.],\n",
            "        ...,\n",
            "        [0., 0., 0.,  ..., 0., 0., 0.],\n",
            "        [1., 0., 0.,  ..., 0., 0., 0.],\n",
            "        [1., 0., 0.,  ..., 0., 0., 0.]], device='cuda:0')\n"
          ]
        }
      ],
      "source": [
        "# transform dataset from numeric to one-hot\n",
        "from sklearn.preprocessing import LabelEncoder\n",
        "from sklearn.preprocessing import OneHotEncoder\n",
        "import pandas as pd\n",
        "whole_dataset_list_of_chars = list(dataset_t)\n",
        "dataset_int = pd.DataFrame(whole_dataset_list_of_chars, columns=['data'])\n",
        "\n",
        "# create a dictionary\n",
        "label_enc = LabelEncoder()\n",
        "dictionary = dataset_int.drop_duplicates(subset=['data'])\n",
        "dictionary['int_encoding'] = label_enc.fit_transform(dictionary['data'])\n",
        "dataset_int['int_encoding'] = label_enc.fit_transform(dataset_int['data'])\n",
        "\n",
        "\n",
        "# one hot encode\n",
        "one_hot_enc = OneHotEncoder()\n",
        "# lstm uses float32 insted of float64.\n",
        "one_hot_encoded_dataset = one_hot_enc.fit_transform(dataset_int[['int_encoding']]).toarray().astype(np.float32)\n",
        "one_hot_encoded_dataset = torch.from_numpy(one_hot_encoded_dataset)\n",
        "one_hot_encoded_dataset = one_hot_encoded_dataset.to(gpu)\n",
        "print(one_hot_encoded_dataset)"
      ]
    },
    {
      "cell_type": "code",
      "execution_count": 7,
      "id": "3c6b005c-535e-455d-9ed7-12562d84dbde",
      "metadata": {
        "id": "3c6b005c-535e-455d-9ed7-12562d84dbde",
        "outputId": "da7193c7-2994-4ef0-d994-d547e6659bc7",
        "colab": {
          "base_uri": "https://localhost:8080/"
        }
      },
      "outputs": [
        {
          "output_type": "stream",
          "name": "stdout",
          "text": [
            "        data  int_encoding\n",
            "0          b            39\n",
            "1          e            42\n",
            "2          n            51\n",
            "4                        1\n",
            "6          u            58\n",
            "...      ...           ...\n",
            "1099082    -             4\n",
            "1099618    U            33\n",
            "1100751    È            64\n",
            "1101278    N            26\n",
            "1104174    V            34\n",
            "\n",
            "[72 rows x 2 columns]\n"
          ]
        }
      ],
      "source": [
        "print(dictionary)"
      ]
    },
    {
      "cell_type": "code",
      "execution_count": 8,
      "id": "d7dc00c6-f9fe-45fc-ae9d-fa7529651a71",
      "metadata": {
        "id": "d7dc00c6-f9fe-45fc-ae9d-fa7529651a71"
      },
      "outputs": [],
      "source": [
        "# check that the device set is the GPU\n",
        "#assert one_hot_encoded_dataset.get_device() == 0"
      ]
    },
    {
      "cell_type": "code",
      "execution_count": 39,
      "id": "d28b0528-4984-4602-a237-29bdd620ffa5",
      "metadata": {
        "id": "d28b0528-4984-4602-a237-29bdd620ffa5",
        "outputId": "f0e95bb9-5ad2-4975-d336-cabb457b1856",
        "colab": {
          "base_uri": "https://localhost:8080/"
        }
      },
      "outputs": [
        {
          "output_type": "stream",
          "name": "stdout",
          "text": [
            "22736\n"
          ]
        }
      ],
      "source": [
        "# ADD LABELS: turn dataset from a string \"s1,s2,...,si,si+1\" to ((s1,...,sk),(s2,...,sk+1)),...\n",
        "sequence_length = 100\n",
        "dataset = []\n",
        "for i in range(0,len(one_hot_encoded_dataset)-sequence_length,int(sequence_length/2)):\n",
        "    x = []\n",
        "    y = []\n",
        "    for j in range(sequence_length):\n",
        "        x.append(one_hot_encoded_dataset[i+j])\n",
        "        y.append(one_hot_encoded_dataset[i+j+1])\n",
        "    dataset.append((x, y))\n",
        "print(len(dataset))"
      ]
    },
    {
      "cell_type": "code",
      "execution_count": 10,
      "id": "c1a7355c-4d10-44dc-8138-3382c47e0c1a",
      "metadata": {
        "id": "c1a7355c-4d10-44dc-8138-3382c47e0c1a",
        "outputId": "52bf93c1-3d36-46a1-a260-e1d0dcc63b4c",
        "colab": {
          "base_uri": "https://localhost:8080/"
        }
      },
      "outputs": [
        {
          "output_type": "stream",
          "name": "stdout",
          "text": [
            "2\n"
          ]
        }
      ],
      "source": [
        "print(len(dataset[0]))"
      ]
    },
    {
      "cell_type": "code",
      "execution_count": 11,
      "id": "a8252614-b9f2-4b8c-9485-fcdca17916e0",
      "metadata": {
        "tags": [],
        "id": "a8252614-b9f2-4b8c-9485-fcdca17916e0"
      },
      "outputs": [],
      "source": [
        "#create the dataloader: 70% for training, 30% for test\n",
        "train_set_threshold = int(len(dataset) * 0.7)\n",
        "training_set = dataset[:train_set_threshold]\n",
        "test_set = dataset[train_set_threshold+1:]"
      ]
    },
    {
      "cell_type": "code",
      "execution_count": 18,
      "id": "d6b3684c-ee3b-4e97-8c2a-3188611969a3",
      "metadata": {
        "tags": [],
        "id": "d6b3684c-ee3b-4e97-8c2a-3188611969a3"
      },
      "outputs": [],
      "source": [
        "batch_size_train = 64\n",
        "batch_size_test = 128\n",
        "train_dataloader = DataLoader(training_set, batch_size=batch_size_train, shuffle=False)\n",
        "test_dataloader = DataLoader(test_set, batch_size=batch_size_test, shuffle=True)\n",
        "iterator = iter(train_dataloader)\n",
        "x, y = next(iter(iterator))\n",
        "# check that the data is in the form: L,N,H. L=sequence length, N=batch size, H=input size\n",
        "assert len(x) == sequence_length and len(x[0]) == batch_size_train and len(x[0][0]) == 72\n",
        "assert len(y) == sequence_length and len(y[0]) == batch_size_train and len(y[0][0]) == 72\n",
        "#for x,y in iterator:\n",
        "#    print(x)\n",
        "#    print(\"\\n\")"
      ]
    },
    {
      "cell_type": "code",
      "execution_count": 19,
      "id": "586fe12b-820e-49e5-bc0a-d826cba8e0ed",
      "metadata": {
        "tags": [],
        "id": "586fe12b-820e-49e5-bc0a-d826cba8e0ed",
        "outputId": "fde331a5-3117-4d84-dbcb-d7e24cdf709f",
        "colab": {
          "base_uri": "https://localhost:8080/"
        }
      },
      "outputs": [
        {
          "output_type": "stream",
          "name": "stdout",
          "text": [
            "72\n"
          ]
        }
      ],
      "source": [
        "#build architecture\n",
        "class NeuralNetwork(nn.Module):\n",
        "    def __init__(self, input_size, hidden_size, output_size):\n",
        "        super().__init__()\n",
        "        # weights and biases are initialized using the uniform distribution:\n",
        "        #      weights.uniform_(-sqrt(output_size), +sqrt(output_size))\n",
        "        self.lstm_layer = torch.nn.LSTMCell(input_size=input_size, hidden_size=hidden_size)\n",
        "        self.dense = torch.nn.Linear(in_features=hidden_size, out_features=output_size)\n",
        "\n",
        "    def forward(self, x):\n",
        "        outputs = []\n",
        "        # we convert a list of tensors (given as such by the dataloader) to a tensor\n",
        "        x = torch.stack(x)\n",
        "\n",
        "        # the split function collapses the batch dimension, so now, instead of having (sequence_len,batch_size,input_size) inputs,\n",
        "        # you have a number equal to batch_size of (batch_size,input_size) inputs; you will feed these inputs one after another to the lstm, using\n",
        "        # the history h_t and short term memory c_t, along with the i-th input of type (batch_size,input_size)\n",
        "        for time_step in torch.split(x, split_size_or_sections=1, dim=0):\n",
        "            # this is needed to remove a dimension that wasn't removed by split\n",
        "            time_step = torch.squeeze(time_step)\n",
        "            h_t, c_t = self.lstm_layer(time_step)\n",
        "            output = self.dense(h_t)\n",
        "            outputs.append(output)\n",
        "        # len(outputs) = batch_size. We convert outputs to a tensor by concatenating all tensors inside it\n",
        "        #outputs = torch.stack(outputs)\n",
        "        #print(outputs.size())\n",
        "        return outputs\n",
        "assert len(training_set[0][0][0]) == 72\n",
        "input_size = len(training_set[0][0][0])\n",
        "output_size = input_size\n",
        "model = NeuralNetwork(input_size, 32, output_size)\n",
        "model.to(gpu)\n",
        "print(input_size)"
      ]
    },
    {
      "cell_type": "code",
      "execution_count": 20,
      "id": "39477292-cf1a-443d-b54d-c76e308579c0",
      "metadata": {
        "tags": [],
        "id": "39477292-cf1a-443d-b54d-c76e308579c0",
        "outputId": "d7de683c-7c2a-4f58-ae39-08a2a021031f",
        "colab": {
          "base_uri": "https://localhost:8080/"
        }
      },
      "outputs": [
        {
          "output_type": "stream",
          "name": "stdout",
          "text": [
            "100\n",
            "torch.Size([64, 72])\n",
            "torch.Size([100, 64, 72])\n"
          ]
        }
      ],
      "source": [
        "# try the model\n",
        "inp = next(iter(train_dataloader))[0]\n",
        "output = model(inp)\n",
        "print(len(output))\n",
        "print(output[1].size())\n",
        "#assert output.size() == (100,128,72)\n",
        "print(torch.stack(output).size())"
      ]
    },
    {
      "cell_type": "code",
      "execution_count": 21,
      "id": "ef906656-38b1-474d-bf34-361490ba4066",
      "metadata": {
        "id": "ef906656-38b1-474d-bf34-361490ba4066"
      },
      "outputs": [],
      "source": [
        "#declare loss, optimizer\n",
        "loss = torch.nn.CrossEntropyLoss()\n",
        "optimizer = torch.optim.Adam(model.parameters(), lr=0.001)"
      ]
    },
    {
      "cell_type": "code",
      "execution_count": 23,
      "id": "448f29ec-1a00-44c4-a1b6-20839348436c",
      "metadata": {
        "id": "448f29ec-1a00-44c4-a1b6-20839348436c"
      },
      "outputs": [],
      "source": [
        "#train\n",
        "def train_cycle(EPOCHS, train_dataloader, model, loss, optimizer):\n",
        "    losses = []\n",
        "    for i in range(EPOCHS):\n",
        "        iterator = iter(train_dataloader)\n",
        "        print(\"Epoch: \" + str(i))\n",
        "        for data, label in iterator:\n",
        "            # pytorch accumulate gradients at every batch, doing this you reset these gradients\n",
        "            optimizer.zero_grad()\n",
        "            #forward step\n",
        "            outputs = model(data)\n",
        "            loss_acc = 0\n",
        "            for i in range(len(outputs)):\n",
        "                loss_value = loss(outputs[i],label[i])\n",
        "                #backward step: compute gradients (apply automatic differentiation)\n",
        "                loss_value.backward()\n",
        "                loss_acc = loss_acc + loss_value\n",
        "            loss_acc = loss_acc / len(outputs)\n",
        "            losses.append(loss_acc)\n",
        "            #update the parameters using the already computed gradients\n",
        "            optimizer.step()\n",
        "    return losses"
      ]
    },
    {
      "cell_type": "code",
      "execution_count": 24,
      "id": "b7392af7-d2df-47ce-befb-40925d96eea0",
      "metadata": {
        "jupyter": {
          "outputs_hidden": true
        },
        "tags": [],
        "id": "b7392af7-d2df-47ce-befb-40925d96eea0",
        "outputId": "02c76222-abd3-4565-fb60-4143f83dda4c",
        "colab": {
          "base_uri": "https://localhost:8080/"
        }
      },
      "outputs": [
        {
          "output_type": "stream",
          "name": "stdout",
          "text": [
            "Epoch: 0\n",
            "Epoch: 1\n",
            "Time passed: 49.842140913009644\n",
            "[tensor(4.2995, device='cuda:0', grad_fn=<DivBackward0>), tensor(4.2916, device='cuda:0', grad_fn=<DivBackward0>), tensor(4.2871, device='cuda:0', grad_fn=<DivBackward0>), tensor(4.2853, device='cuda:0', grad_fn=<DivBackward0>), tensor(4.2845, device='cuda:0', grad_fn=<DivBackward0>), tensor(4.2785, device='cuda:0', grad_fn=<DivBackward0>), tensor(4.2765, device='cuda:0', grad_fn=<DivBackward0>), tensor(4.2743, device='cuda:0', grad_fn=<DivBackward0>), tensor(4.2731, device='cuda:0', grad_fn=<DivBackward0>), tensor(4.2717, device='cuda:0', grad_fn=<DivBackward0>), tensor(4.2652, device='cuda:0', grad_fn=<DivBackward0>), tensor(4.2590, device='cuda:0', grad_fn=<DivBackward0>), tensor(4.2557, device='cuda:0', grad_fn=<DivBackward0>), tensor(4.2550, device='cuda:0', grad_fn=<DivBackward0>), tensor(4.2493, device='cuda:0', grad_fn=<DivBackward0>), tensor(4.2463, device='cuda:0', grad_fn=<DivBackward0>), tensor(4.2413, device='cuda:0', grad_fn=<DivBackward0>), tensor(4.2426, device='cuda:0', grad_fn=<DivBackward0>), tensor(4.2346, device='cuda:0', grad_fn=<DivBackward0>), tensor(4.2312, device='cuda:0', grad_fn=<DivBackward0>), tensor(4.2286, device='cuda:0', grad_fn=<DivBackward0>), tensor(4.2253, device='cuda:0', grad_fn=<DivBackward0>), tensor(4.2183, device='cuda:0', grad_fn=<DivBackward0>), tensor(4.2172, device='cuda:0', grad_fn=<DivBackward0>), tensor(4.2148, device='cuda:0', grad_fn=<DivBackward0>), tensor(4.2062, device='cuda:0', grad_fn=<DivBackward0>), tensor(4.2012, device='cuda:0', grad_fn=<DivBackward0>), tensor(4.2010, device='cuda:0', grad_fn=<DivBackward0>), tensor(4.1943, device='cuda:0', grad_fn=<DivBackward0>), tensor(4.1891, device='cuda:0', grad_fn=<DivBackward0>), tensor(4.1830, device='cuda:0', grad_fn=<DivBackward0>), tensor(4.1751, device='cuda:0', grad_fn=<DivBackward0>), tensor(4.1713, device='cuda:0', grad_fn=<DivBackward0>), tensor(4.1649, device='cuda:0', grad_fn=<DivBackward0>), tensor(4.1608, device='cuda:0', grad_fn=<DivBackward0>), tensor(4.1543, device='cuda:0', grad_fn=<DivBackward0>), tensor(4.1475, device='cuda:0', grad_fn=<DivBackward0>), tensor(4.1441, device='cuda:0', grad_fn=<DivBackward0>), tensor(4.1380, device='cuda:0', grad_fn=<DivBackward0>), tensor(4.1338, device='cuda:0', grad_fn=<DivBackward0>), tensor(4.1256, device='cuda:0', grad_fn=<DivBackward0>), tensor(4.1235, device='cuda:0', grad_fn=<DivBackward0>), tensor(4.1142, device='cuda:0', grad_fn=<DivBackward0>), tensor(4.1103, device='cuda:0', grad_fn=<DivBackward0>), tensor(4.1063, device='cuda:0', grad_fn=<DivBackward0>), tensor(4.0985, device='cuda:0', grad_fn=<DivBackward0>), tensor(4.0891, device='cuda:0', grad_fn=<DivBackward0>), tensor(4.0826, device='cuda:0', grad_fn=<DivBackward0>), tensor(4.0725, device='cuda:0', grad_fn=<DivBackward0>), tensor(4.0698, device='cuda:0', grad_fn=<DivBackward0>), tensor(4.0634, device='cuda:0', grad_fn=<DivBackward0>), tensor(4.0545, device='cuda:0', grad_fn=<DivBackward0>), tensor(4.0490, device='cuda:0', grad_fn=<DivBackward0>), tensor(4.0419, device='cuda:0', grad_fn=<DivBackward0>), tensor(4.0286, device='cuda:0', grad_fn=<DivBackward0>), tensor(4.0267, device='cuda:0', grad_fn=<DivBackward0>), tensor(4.0123, device='cuda:0', grad_fn=<DivBackward0>), tensor(4.0076, device='cuda:0', grad_fn=<DivBackward0>), tensor(3.9942, device='cuda:0', grad_fn=<DivBackward0>), tensor(3.9856, device='cuda:0', grad_fn=<DivBackward0>), tensor(3.9739, device='cuda:0', grad_fn=<DivBackward0>), tensor(3.9723, device='cuda:0', grad_fn=<DivBackward0>), tensor(3.9612, device='cuda:0', grad_fn=<DivBackward0>), tensor(3.9480, device='cuda:0', grad_fn=<DivBackward0>), tensor(3.9395, device='cuda:0', grad_fn=<DivBackward0>), tensor(3.9321, device='cuda:0', grad_fn=<DivBackward0>), tensor(3.9158, device='cuda:0', grad_fn=<DivBackward0>), tensor(3.9022, device='cuda:0', grad_fn=<DivBackward0>), tensor(3.8984, device='cuda:0', grad_fn=<DivBackward0>), tensor(3.8910, device='cuda:0', grad_fn=<DivBackward0>), tensor(3.8760, device='cuda:0', grad_fn=<DivBackward0>), tensor(3.8697, device='cuda:0', grad_fn=<DivBackward0>), tensor(3.8577, device='cuda:0', grad_fn=<DivBackward0>), tensor(3.8459, device='cuda:0', grad_fn=<DivBackward0>), tensor(3.8347, device='cuda:0', grad_fn=<DivBackward0>), tensor(3.8194, device='cuda:0', grad_fn=<DivBackward0>), tensor(3.8098, device='cuda:0', grad_fn=<DivBackward0>), tensor(3.7990, device='cuda:0', grad_fn=<DivBackward0>), tensor(3.7896, device='cuda:0', grad_fn=<DivBackward0>), tensor(3.7757, device='cuda:0', grad_fn=<DivBackward0>), tensor(3.7638, device='cuda:0', grad_fn=<DivBackward0>), tensor(3.7537, device='cuda:0', grad_fn=<DivBackward0>), tensor(3.7437, device='cuda:0', grad_fn=<DivBackward0>), tensor(3.7214, device='cuda:0', grad_fn=<DivBackward0>), tensor(3.7209, device='cuda:0', grad_fn=<DivBackward0>), tensor(3.6998, device='cuda:0', grad_fn=<DivBackward0>), tensor(3.6974, device='cuda:0', grad_fn=<DivBackward0>), tensor(3.6748, device='cuda:0', grad_fn=<DivBackward0>), tensor(3.6721, device='cuda:0', grad_fn=<DivBackward0>), tensor(3.6569, device='cuda:0', grad_fn=<DivBackward0>), tensor(3.6561, device='cuda:0', grad_fn=<DivBackward0>), tensor(3.6301, device='cuda:0', grad_fn=<DivBackward0>), tensor(3.6187, device='cuda:0', grad_fn=<DivBackward0>), tensor(3.6081, device='cuda:0', grad_fn=<DivBackward0>), tensor(3.5927, device='cuda:0', grad_fn=<DivBackward0>), tensor(3.5818, device='cuda:0', grad_fn=<DivBackward0>), tensor(3.5789, device='cuda:0', grad_fn=<DivBackward0>), tensor(3.5543, device='cuda:0', grad_fn=<DivBackward0>), tensor(3.5419, device='cuda:0', grad_fn=<DivBackward0>), tensor(3.5424, device='cuda:0', grad_fn=<DivBackward0>), tensor(3.5104, device='cuda:0', grad_fn=<DivBackward0>), tensor(3.4994, device='cuda:0', grad_fn=<DivBackward0>), tensor(3.4940, device='cuda:0', grad_fn=<DivBackward0>), tensor(3.4815, device='cuda:0', grad_fn=<DivBackward0>), tensor(3.4625, device='cuda:0', grad_fn=<DivBackward0>), tensor(3.4667, device='cuda:0', grad_fn=<DivBackward0>), tensor(3.4558, device='cuda:0', grad_fn=<DivBackward0>), tensor(3.4360, device='cuda:0', grad_fn=<DivBackward0>), tensor(3.4228, device='cuda:0', grad_fn=<DivBackward0>), tensor(3.4060, device='cuda:0', grad_fn=<DivBackward0>), tensor(3.3993, device='cuda:0', grad_fn=<DivBackward0>), tensor(3.3968, device='cuda:0', grad_fn=<DivBackward0>), tensor(3.3961, device='cuda:0', grad_fn=<DivBackward0>), tensor(3.3688, device='cuda:0', grad_fn=<DivBackward0>), tensor(3.3566, device='cuda:0', grad_fn=<DivBackward0>), tensor(3.3576, device='cuda:0', grad_fn=<DivBackward0>), tensor(3.3366, device='cuda:0', grad_fn=<DivBackward0>), tensor(3.3293, device='cuda:0', grad_fn=<DivBackward0>), tensor(3.3162, device='cuda:0', grad_fn=<DivBackward0>), tensor(3.3058, device='cuda:0', grad_fn=<DivBackward0>), tensor(3.3033, device='cuda:0', grad_fn=<DivBackward0>), tensor(3.2938, device='cuda:0', grad_fn=<DivBackward0>), tensor(3.2706, device='cuda:0', grad_fn=<DivBackward0>), tensor(3.2825, device='cuda:0', grad_fn=<DivBackward0>), tensor(3.2609, device='cuda:0', grad_fn=<DivBackward0>), tensor(3.2459, device='cuda:0', grad_fn=<DivBackward0>), tensor(3.2114, device='cuda:0', grad_fn=<DivBackward0>), tensor(3.2103, device='cuda:0', grad_fn=<DivBackward0>), tensor(3.2109, device='cuda:0', grad_fn=<DivBackward0>), tensor(3.2024, device='cuda:0', grad_fn=<DivBackward0>), tensor(3.1935, device='cuda:0', grad_fn=<DivBackward0>), tensor(3.1780, device='cuda:0', grad_fn=<DivBackward0>), tensor(3.1790, device='cuda:0', grad_fn=<DivBackward0>), tensor(3.1654, device='cuda:0', grad_fn=<DivBackward0>), tensor(3.1734, device='cuda:0', grad_fn=<DivBackward0>), tensor(3.1780, device='cuda:0', grad_fn=<DivBackward0>), tensor(3.1741, device='cuda:0', grad_fn=<DivBackward0>), tensor(3.1477, device='cuda:0', grad_fn=<DivBackward0>), tensor(3.1189, device='cuda:0', grad_fn=<DivBackward0>), tensor(3.1130, device='cuda:0', grad_fn=<DivBackward0>), tensor(3.1188, device='cuda:0', grad_fn=<DivBackward0>), tensor(3.1279, device='cuda:0', grad_fn=<DivBackward0>), tensor(3.1265, device='cuda:0', grad_fn=<DivBackward0>), tensor(3.1008, device='cuda:0', grad_fn=<DivBackward0>), tensor(3.0881, device='cuda:0', grad_fn=<DivBackward0>), tensor(3.0687, device='cuda:0', grad_fn=<DivBackward0>), tensor(3.0744, device='cuda:0', grad_fn=<DivBackward0>), tensor(3.0803, device='cuda:0', grad_fn=<DivBackward0>), tensor(3.0882, device='cuda:0', grad_fn=<DivBackward0>), tensor(3.0635, device='cuda:0', grad_fn=<DivBackward0>), tensor(3.0516, device='cuda:0', grad_fn=<DivBackward0>), tensor(3.0538, device='cuda:0', grad_fn=<DivBackward0>), tensor(3.0644, device='cuda:0', grad_fn=<DivBackward0>), tensor(3.0533, device='cuda:0', grad_fn=<DivBackward0>), tensor(3.0584, device='cuda:0', grad_fn=<DivBackward0>), tensor(3.0363, device='cuda:0', grad_fn=<DivBackward0>), tensor(3.0191, device='cuda:0', grad_fn=<DivBackward0>), tensor(3.0139, device='cuda:0', grad_fn=<DivBackward0>), tensor(3.0417, device='cuda:0', grad_fn=<DivBackward0>), tensor(3.0236, device='cuda:0', grad_fn=<DivBackward0>), tensor(3.0508, device='cuda:0', grad_fn=<DivBackward0>), tensor(3.0371, device='cuda:0', grad_fn=<DivBackward0>), tensor(3.0375, device='cuda:0', grad_fn=<DivBackward0>), tensor(3.0127, device='cuda:0', grad_fn=<DivBackward0>), tensor(3.0095, device='cuda:0', grad_fn=<DivBackward0>), tensor(3.0162, device='cuda:0', grad_fn=<DivBackward0>), tensor(2.9934, device='cuda:0', grad_fn=<DivBackward0>), tensor(2.9948, device='cuda:0', grad_fn=<DivBackward0>), tensor(3.0082, device='cuda:0', grad_fn=<DivBackward0>), tensor(3.0116, device='cuda:0', grad_fn=<DivBackward0>), tensor(2.9611, device='cuda:0', grad_fn=<DivBackward0>), tensor(2.9826, device='cuda:0', grad_fn=<DivBackward0>), tensor(2.9678, device='cuda:0', grad_fn=<DivBackward0>), tensor(2.9501, device='cuda:0', grad_fn=<DivBackward0>), tensor(2.9876, device='cuda:0', grad_fn=<DivBackward0>), tensor(2.9731, device='cuda:0', grad_fn=<DivBackward0>), tensor(2.9658, device='cuda:0', grad_fn=<DivBackward0>), tensor(2.9944, device='cuda:0', grad_fn=<DivBackward0>), tensor(2.9730, device='cuda:0', grad_fn=<DivBackward0>), tensor(2.9602, device='cuda:0', grad_fn=<DivBackward0>), tensor(2.9433, device='cuda:0', grad_fn=<DivBackward0>), tensor(2.9614, device='cuda:0', grad_fn=<DivBackward0>), tensor(2.9765, device='cuda:0', grad_fn=<DivBackward0>), tensor(2.9588, device='cuda:0', grad_fn=<DivBackward0>), tensor(2.9444, device='cuda:0', grad_fn=<DivBackward0>), tensor(2.9462, device='cuda:0', grad_fn=<DivBackward0>), tensor(2.9503, device='cuda:0', grad_fn=<DivBackward0>), tensor(2.9251, device='cuda:0', grad_fn=<DivBackward0>), tensor(2.9377, device='cuda:0', grad_fn=<DivBackward0>), tensor(2.9373, device='cuda:0', grad_fn=<DivBackward0>), tensor(2.9741, device='cuda:0', grad_fn=<DivBackward0>), tensor(2.9143, device='cuda:0', grad_fn=<DivBackward0>), tensor(2.8979, device='cuda:0', grad_fn=<DivBackward0>), tensor(2.9425, device='cuda:0', grad_fn=<DivBackward0>), tensor(2.9339, device='cuda:0', grad_fn=<DivBackward0>), tensor(2.9671, device='cuda:0', grad_fn=<DivBackward0>), tensor(2.9053, device='cuda:0', grad_fn=<DivBackward0>), tensor(2.9218, device='cuda:0', grad_fn=<DivBackward0>), tensor(2.9542, device='cuda:0', grad_fn=<DivBackward0>), tensor(2.8882, device='cuda:0', grad_fn=<DivBackward0>), tensor(2.9104, device='cuda:0', grad_fn=<DivBackward0>), tensor(2.9362, device='cuda:0', grad_fn=<DivBackward0>), tensor(2.9059, device='cuda:0', grad_fn=<DivBackward0>), tensor(2.9109, device='cuda:0', grad_fn=<DivBackward0>), tensor(2.8949, device='cuda:0', grad_fn=<DivBackward0>), tensor(2.9238, device='cuda:0', grad_fn=<DivBackward0>), tensor(2.9113, device='cuda:0', grad_fn=<DivBackward0>), tensor(2.8968, device='cuda:0', grad_fn=<DivBackward0>), tensor(2.9231, device='cuda:0', grad_fn=<DivBackward0>), tensor(2.9559, device='cuda:0', grad_fn=<DivBackward0>), tensor(2.9451, device='cuda:0', grad_fn=<DivBackward0>), tensor(2.9129, device='cuda:0', grad_fn=<DivBackward0>), tensor(2.9104, device='cuda:0', grad_fn=<DivBackward0>), tensor(2.9131, device='cuda:0', grad_fn=<DivBackward0>), tensor(2.9054, device='cuda:0', grad_fn=<DivBackward0>), tensor(2.8858, device='cuda:0', grad_fn=<DivBackward0>), tensor(2.8916, device='cuda:0', grad_fn=<DivBackward0>), tensor(2.8937, device='cuda:0', grad_fn=<DivBackward0>), tensor(2.9015, device='cuda:0', grad_fn=<DivBackward0>), tensor(2.9128, device='cuda:0', grad_fn=<DivBackward0>), tensor(2.9407, device='cuda:0', grad_fn=<DivBackward0>), tensor(2.8913, device='cuda:0', grad_fn=<DivBackward0>), tensor(2.8889, device='cuda:0', grad_fn=<DivBackward0>), tensor(2.8928, device='cuda:0', grad_fn=<DivBackward0>), tensor(2.8820, device='cuda:0', grad_fn=<DivBackward0>), tensor(2.8913, device='cuda:0', grad_fn=<DivBackward0>), tensor(2.8575, device='cuda:0', grad_fn=<DivBackward0>), tensor(2.8649, device='cuda:0', grad_fn=<DivBackward0>), tensor(2.8644, device='cuda:0', grad_fn=<DivBackward0>), tensor(2.8727, device='cuda:0', grad_fn=<DivBackward0>), tensor(2.9137, device='cuda:0', grad_fn=<DivBackward0>), tensor(2.8750, device='cuda:0', grad_fn=<DivBackward0>), tensor(2.8625, device='cuda:0', grad_fn=<DivBackward0>), tensor(2.8805, device='cuda:0', grad_fn=<DivBackward0>), tensor(2.8698, device='cuda:0', grad_fn=<DivBackward0>), tensor(2.8826, device='cuda:0', grad_fn=<DivBackward0>), tensor(2.8718, device='cuda:0', grad_fn=<DivBackward0>), tensor(2.8480, device='cuda:0', grad_fn=<DivBackward0>), tensor(2.8610, device='cuda:0', grad_fn=<DivBackward0>), tensor(2.8856, device='cuda:0', grad_fn=<DivBackward0>), tensor(2.8383, device='cuda:0', grad_fn=<DivBackward0>), tensor(2.8535, device='cuda:0', grad_fn=<DivBackward0>), tensor(2.8561, device='cuda:0', grad_fn=<DivBackward0>), tensor(2.8549, device='cuda:0', grad_fn=<DivBackward0>), tensor(2.8402, device='cuda:0', grad_fn=<DivBackward0>), tensor(2.8443, device='cuda:0', grad_fn=<DivBackward0>), tensor(2.8932, device='cuda:0', grad_fn=<DivBackward0>), tensor(2.8783, device='cuda:0', grad_fn=<DivBackward0>), tensor(2.8988, device='cuda:0', grad_fn=<DivBackward0>), tensor(2.8547, device='cuda:0', grad_fn=<DivBackward0>), tensor(2.8448, device='cuda:0', grad_fn=<DivBackward0>), tensor(2.8251, device='cuda:0', grad_fn=<DivBackward0>), tensor(2.8393, device='cuda:0', grad_fn=<DivBackward0>), tensor(2.8421, device='cuda:0', grad_fn=<DivBackward0>), tensor(2.8534, device='cuda:0', grad_fn=<DivBackward0>), tensor(2.8425, device='cuda:0', grad_fn=<DivBackward0>), tensor(2.8244, device='cuda:0', grad_fn=<DivBackward0>), tensor(2.8310, device='cuda:0', grad_fn=<DivBackward0>), tensor(2.8245, device='cuda:0', grad_fn=<DivBackward0>), tensor(2.8169, device='cuda:0', grad_fn=<DivBackward0>), tensor(2.8187, device='cuda:0', grad_fn=<DivBackward0>), tensor(2.8231, device='cuda:0', grad_fn=<DivBackward0>), tensor(2.8250, device='cuda:0', grad_fn=<DivBackward0>), tensor(2.8316, device='cuda:0', grad_fn=<DivBackward0>), tensor(2.8181, device='cuda:0', grad_fn=<DivBackward0>), tensor(2.8455, device='cuda:0', grad_fn=<DivBackward0>), tensor(2.8249, device='cuda:0', grad_fn=<DivBackward0>), tensor(2.8176, device='cuda:0', grad_fn=<DivBackward0>), tensor(2.8343, device='cuda:0', grad_fn=<DivBackward0>), tensor(2.8269, device='cuda:0', grad_fn=<DivBackward0>), tensor(2.8132, device='cuda:0', grad_fn=<DivBackward0>), tensor(2.8182, device='cuda:0', grad_fn=<DivBackward0>), tensor(2.8355, device='cuda:0', grad_fn=<DivBackward0>), tensor(2.8318, device='cuda:0', grad_fn=<DivBackward0>), tensor(2.8003, device='cuda:0', grad_fn=<DivBackward0>), tensor(2.8224, device='cuda:0', grad_fn=<DivBackward0>), tensor(2.8276, device='cuda:0', grad_fn=<DivBackward0>), tensor(2.8113, device='cuda:0', grad_fn=<DivBackward0>), tensor(2.8104, device='cuda:0', grad_fn=<DivBackward0>), tensor(2.8014, device='cuda:0', grad_fn=<DivBackward0>), tensor(2.8493, device='cuda:0', grad_fn=<DivBackward0>), tensor(2.8382, device='cuda:0', grad_fn=<DivBackward0>), tensor(2.8158, device='cuda:0', grad_fn=<DivBackward0>), tensor(2.7976, device='cuda:0', grad_fn=<DivBackward0>), tensor(2.8050, device='cuda:0', grad_fn=<DivBackward0>), tensor(2.7970, device='cuda:0', grad_fn=<DivBackward0>), tensor(2.8052, device='cuda:0', grad_fn=<DivBackward0>), tensor(2.7810, device='cuda:0', grad_fn=<DivBackward0>), tensor(2.7907, device='cuda:0', grad_fn=<DivBackward0>), tensor(2.8109, device='cuda:0', grad_fn=<DivBackward0>), tensor(2.8282, device='cuda:0', grad_fn=<DivBackward0>), tensor(2.7935, device='cuda:0', grad_fn=<DivBackward0>), tensor(2.8079, device='cuda:0', grad_fn=<DivBackward0>), tensor(2.8223, device='cuda:0', grad_fn=<DivBackward0>), tensor(2.8028, device='cuda:0', grad_fn=<DivBackward0>), tensor(2.7871, device='cuda:0', grad_fn=<DivBackward0>), tensor(2.7793, device='cuda:0', grad_fn=<DivBackward0>), tensor(2.7959, device='cuda:0', grad_fn=<DivBackward0>), tensor(2.7945, device='cuda:0', grad_fn=<DivBackward0>), tensor(2.8202, device='cuda:0', grad_fn=<DivBackward0>), tensor(2.8346, device='cuda:0', grad_fn=<DivBackward0>), tensor(2.8214, device='cuda:0', grad_fn=<DivBackward0>), tensor(2.8328, device='cuda:0', grad_fn=<DivBackward0>), tensor(2.7848, device='cuda:0', grad_fn=<DivBackward0>), tensor(2.8352, device='cuda:0', grad_fn=<DivBackward0>), tensor(2.7919, device='cuda:0', grad_fn=<DivBackward0>), tensor(2.8221, device='cuda:0', grad_fn=<DivBackward0>), tensor(2.7890, device='cuda:0', grad_fn=<DivBackward0>), tensor(2.7906, device='cuda:0', grad_fn=<DivBackward0>), tensor(2.7785, device='cuda:0', grad_fn=<DivBackward0>), tensor(2.8189, device='cuda:0', grad_fn=<DivBackward0>), tensor(2.7707, device='cuda:0', grad_fn=<DivBackward0>), tensor(2.7890, device='cuda:0', grad_fn=<DivBackward0>), tensor(2.7988, device='cuda:0', grad_fn=<DivBackward0>), tensor(2.7750, device='cuda:0', grad_fn=<DivBackward0>), tensor(2.7778, device='cuda:0', grad_fn=<DivBackward0>), tensor(2.7307, device='cuda:0', grad_fn=<DivBackward0>), tensor(2.7755, device='cuda:0', grad_fn=<DivBackward0>), tensor(2.7816, device='cuda:0', grad_fn=<DivBackward0>), tensor(2.7615, device='cuda:0', grad_fn=<DivBackward0>), tensor(2.7844, device='cuda:0', grad_fn=<DivBackward0>), tensor(2.7844, device='cuda:0', grad_fn=<DivBackward0>), tensor(2.7766, device='cuda:0', grad_fn=<DivBackward0>), tensor(2.7604, device='cuda:0', grad_fn=<DivBackward0>), tensor(2.7364, device='cuda:0', grad_fn=<DivBackward0>), tensor(2.7643, device='cuda:0', grad_fn=<DivBackward0>), tensor(2.7557, device='cuda:0', grad_fn=<DivBackward0>), tensor(2.7738, device='cuda:0', grad_fn=<DivBackward0>), tensor(2.7422, device='cuda:0', grad_fn=<DivBackward0>), tensor(2.7513, device='cuda:0', grad_fn=<DivBackward0>), tensor(2.7543, device='cuda:0', grad_fn=<DivBackward0>), tensor(2.7582, device='cuda:0', grad_fn=<DivBackward0>), tensor(2.7269, device='cuda:0', grad_fn=<DivBackward0>), tensor(2.7549, device='cuda:0', grad_fn=<DivBackward0>), tensor(2.7255, device='cuda:0', grad_fn=<DivBackward0>), tensor(2.7710, device='cuda:0', grad_fn=<DivBackward0>), tensor(2.7285, device='cuda:0', grad_fn=<DivBackward0>), tensor(2.7530, device='cuda:0', grad_fn=<DivBackward0>), tensor(2.7351, device='cuda:0', grad_fn=<DivBackward0>), tensor(2.7693, device='cuda:0', grad_fn=<DivBackward0>), tensor(2.7389, device='cuda:0', grad_fn=<DivBackward0>), tensor(2.7341, device='cuda:0', grad_fn=<DivBackward0>), tensor(2.7427, device='cuda:0', grad_fn=<DivBackward0>), tensor(2.7554, device='cuda:0', grad_fn=<DivBackward0>), tensor(2.7487, device='cuda:0', grad_fn=<DivBackward0>), tensor(2.7727, device='cuda:0', grad_fn=<DivBackward0>), tensor(2.7337, device='cuda:0', grad_fn=<DivBackward0>), tensor(2.7362, device='cuda:0', grad_fn=<DivBackward0>), tensor(2.7638, device='cuda:0', grad_fn=<DivBackward0>), tensor(2.7133, device='cuda:0', grad_fn=<DivBackward0>), tensor(2.7310, device='cuda:0', grad_fn=<DivBackward0>), tensor(2.7131, device='cuda:0', grad_fn=<DivBackward0>), tensor(2.7366, device='cuda:0', grad_fn=<DivBackward0>), tensor(2.7179, device='cuda:0', grad_fn=<DivBackward0>), tensor(2.7292, device='cuda:0', grad_fn=<DivBackward0>), tensor(2.7428, device='cuda:0', grad_fn=<DivBackward0>), tensor(2.7415, device='cuda:0', grad_fn=<DivBackward0>), tensor(2.7409, device='cuda:0', grad_fn=<DivBackward0>), tensor(2.7233, device='cuda:0', grad_fn=<DivBackward0>), tensor(2.7318, device='cuda:0', grad_fn=<DivBackward0>), tensor(2.7305, device='cuda:0', grad_fn=<DivBackward0>), tensor(2.7597, device='cuda:0', grad_fn=<DivBackward0>), tensor(2.7301, device='cuda:0', grad_fn=<DivBackward0>), tensor(2.7348, device='cuda:0', grad_fn=<DivBackward0>), tensor(2.7274, device='cuda:0', grad_fn=<DivBackward0>), tensor(2.7250, device='cuda:0', grad_fn=<DivBackward0>), tensor(2.7443, device='cuda:0', grad_fn=<DivBackward0>), tensor(2.7241, device='cuda:0', grad_fn=<DivBackward0>), tensor(2.7141, device='cuda:0', grad_fn=<DivBackward0>), tensor(2.7220, device='cuda:0', grad_fn=<DivBackward0>), tensor(2.7230, device='cuda:0', grad_fn=<DivBackward0>), tensor(2.7138, device='cuda:0', grad_fn=<DivBackward0>), tensor(2.7421, device='cuda:0', grad_fn=<DivBackward0>), tensor(2.7257, device='cuda:0', grad_fn=<DivBackward0>), tensor(2.6978, device='cuda:0', grad_fn=<DivBackward0>), tensor(2.6755, device='cuda:0', grad_fn=<DivBackward0>), tensor(2.6808, device='cuda:0', grad_fn=<DivBackward0>), tensor(2.7001, device='cuda:0', grad_fn=<DivBackward0>), tensor(2.6964, device='cuda:0', grad_fn=<DivBackward0>), tensor(2.6890, device='cuda:0', grad_fn=<DivBackward0>), tensor(2.6686, device='cuda:0', grad_fn=<DivBackward0>), tensor(2.6760, device='cuda:0', grad_fn=<DivBackward0>), tensor(2.6683, device='cuda:0', grad_fn=<DivBackward0>), tensor(2.7025, device='cuda:0', grad_fn=<DivBackward0>), tensor(2.7058, device='cuda:0', grad_fn=<DivBackward0>), tensor(2.7097, device='cuda:0', grad_fn=<DivBackward0>), tensor(2.6685, device='cuda:0', grad_fn=<DivBackward0>), tensor(2.6475, device='cuda:0', grad_fn=<DivBackward0>), tensor(2.6479, device='cuda:0', grad_fn=<DivBackward0>), tensor(2.6851, device='cuda:0', grad_fn=<DivBackward0>), tensor(2.6824, device='cuda:0', grad_fn=<DivBackward0>), tensor(2.6932, device='cuda:0', grad_fn=<DivBackward0>), tensor(2.6478, device='cuda:0', grad_fn=<DivBackward0>), tensor(2.6532, device='cuda:0', grad_fn=<DivBackward0>), tensor(2.6262, device='cuda:0', grad_fn=<DivBackward0>), tensor(2.6340, device='cuda:0', grad_fn=<DivBackward0>), tensor(2.6518, device='cuda:0', grad_fn=<DivBackward0>), tensor(2.6670, device='cuda:0', grad_fn=<DivBackward0>), tensor(2.6402, device='cuda:0', grad_fn=<DivBackward0>), tensor(2.6259, device='cuda:0', grad_fn=<DivBackward0>), tensor(2.6480, device='cuda:0', grad_fn=<DivBackward0>), tensor(2.6560, device='cuda:0', grad_fn=<DivBackward0>), tensor(2.6549, device='cuda:0', grad_fn=<DivBackward0>), tensor(2.6548, device='cuda:0', grad_fn=<DivBackward0>), tensor(2.6307, device='cuda:0', grad_fn=<DivBackward0>), tensor(2.6264, device='cuda:0', grad_fn=<DivBackward0>), tensor(2.6231, device='cuda:0', grad_fn=<DivBackward0>), tensor(2.6519, device='cuda:0', grad_fn=<DivBackward0>), tensor(2.6389, device='cuda:0', grad_fn=<DivBackward0>), tensor(2.6742, device='cuda:0', grad_fn=<DivBackward0>), tensor(2.6875, device='cuda:0', grad_fn=<DivBackward0>), tensor(2.6618, device='cuda:0', grad_fn=<DivBackward0>), tensor(2.6713, device='cuda:0', grad_fn=<DivBackward0>), tensor(2.6480, device='cuda:0', grad_fn=<DivBackward0>), tensor(2.6700, device='cuda:0', grad_fn=<DivBackward0>), tensor(2.6397, device='cuda:0', grad_fn=<DivBackward0>), tensor(2.6365, device='cuda:0', grad_fn=<DivBackward0>), tensor(2.6569, device='cuda:0', grad_fn=<DivBackward0>), tensor(2.6560, device='cuda:0', grad_fn=<DivBackward0>), tensor(2.6091, device='cuda:0', grad_fn=<DivBackward0>), tensor(2.6371, device='cuda:0', grad_fn=<DivBackward0>), tensor(2.6238, device='cuda:0', grad_fn=<DivBackward0>), tensor(2.6012, device='cuda:0', grad_fn=<DivBackward0>), tensor(2.6361, device='cuda:0', grad_fn=<DivBackward0>), tensor(2.6176, device='cuda:0', grad_fn=<DivBackward0>), tensor(2.6196, device='cuda:0', grad_fn=<DivBackward0>), tensor(2.6467, device='cuda:0', grad_fn=<DivBackward0>), tensor(2.6413, device='cuda:0', grad_fn=<DivBackward0>), tensor(2.6254, device='cuda:0', grad_fn=<DivBackward0>), tensor(2.6093, device='cuda:0', grad_fn=<DivBackward0>), tensor(2.6324, device='cuda:0', grad_fn=<DivBackward0>), tensor(2.6479, device='cuda:0', grad_fn=<DivBackward0>), tensor(2.6339, device='cuda:0', grad_fn=<DivBackward0>), tensor(2.5930, device='cuda:0', grad_fn=<DivBackward0>), tensor(2.6209, device='cuda:0', grad_fn=<DivBackward0>), tensor(2.6171, device='cuda:0', grad_fn=<DivBackward0>), tensor(2.5904, device='cuda:0', grad_fn=<DivBackward0>), tensor(2.5987, device='cuda:0', grad_fn=<DivBackward0>), tensor(2.5974, device='cuda:0', grad_fn=<DivBackward0>), tensor(2.6400, device='cuda:0', grad_fn=<DivBackward0>), tensor(2.5817, device='cuda:0', grad_fn=<DivBackward0>), tensor(2.5550, device='cuda:0', grad_fn=<DivBackward0>), tensor(2.5920, device='cuda:0', grad_fn=<DivBackward0>), tensor(2.5894, device='cuda:0', grad_fn=<DivBackward0>), tensor(2.6344, device='cuda:0', grad_fn=<DivBackward0>), tensor(2.5635, device='cuda:0', grad_fn=<DivBackward0>), tensor(2.6036, device='cuda:0', grad_fn=<DivBackward0>), tensor(2.6062, device='cuda:0', grad_fn=<DivBackward0>), tensor(2.5427, device='cuda:0', grad_fn=<DivBackward0>), tensor(2.5794, device='cuda:0', grad_fn=<DivBackward0>), tensor(2.6048, device='cuda:0', grad_fn=<DivBackward0>), tensor(2.5861, device='cuda:0', grad_fn=<DivBackward0>), tensor(2.5733, device='cuda:0', grad_fn=<DivBackward0>), tensor(2.5733, device='cuda:0', grad_fn=<DivBackward0>), tensor(2.5870, device='cuda:0', grad_fn=<DivBackward0>), tensor(2.5818, device='cuda:0', grad_fn=<DivBackward0>), tensor(2.5713, device='cuda:0', grad_fn=<DivBackward0>), tensor(2.5894, device='cuda:0', grad_fn=<DivBackward0>), tensor(2.6472, device='cuda:0', grad_fn=<DivBackward0>), tensor(2.6352, device='cuda:0', grad_fn=<DivBackward0>), tensor(2.5972, device='cuda:0', grad_fn=<DivBackward0>), tensor(2.5839, device='cuda:0', grad_fn=<DivBackward0>), tensor(2.5585, device='cuda:0', grad_fn=<DivBackward0>), tensor(2.5663, device='cuda:0', grad_fn=<DivBackward0>), tensor(2.5376, device='cuda:0', grad_fn=<DivBackward0>), tensor(2.5587, device='cuda:0', grad_fn=<DivBackward0>), tensor(2.5492, device='cuda:0', grad_fn=<DivBackward0>), tensor(2.5533, device='cuda:0', grad_fn=<DivBackward0>), tensor(2.5697, device='cuda:0', grad_fn=<DivBackward0>), tensor(2.5842, device='cuda:0', grad_fn=<DivBackward0>), tensor(2.5627, device='cuda:0', grad_fn=<DivBackward0>), tensor(2.5309, device='cuda:0', grad_fn=<DivBackward0>), tensor(2.5555, device='cuda:0', grad_fn=<DivBackward0>), tensor(2.5306, device='cuda:0', grad_fn=<DivBackward0>), tensor(2.5477, device='cuda:0', grad_fn=<DivBackward0>), tensor(2.5279, device='cuda:0', grad_fn=<DivBackward0>), tensor(2.5254, device='cuda:0', grad_fn=<DivBackward0>), tensor(2.5298, device='cuda:0', grad_fn=<DivBackward0>), tensor(2.5589, device='cuda:0', grad_fn=<DivBackward0>), tensor(2.5712, device='cuda:0', grad_fn=<DivBackward0>), tensor(2.5374, device='cuda:0', grad_fn=<DivBackward0>), tensor(2.5102, device='cuda:0', grad_fn=<DivBackward0>), tensor(2.5315, device='cuda:0', grad_fn=<DivBackward0>), tensor(2.5267, device='cuda:0', grad_fn=<DivBackward0>), tensor(2.5321, device='cuda:0', grad_fn=<DivBackward0>), tensor(2.5198, device='cuda:0', grad_fn=<DivBackward0>), tensor(2.5128, device='cuda:0', grad_fn=<DivBackward0>), tensor(2.5149, device='cuda:0', grad_fn=<DivBackward0>), tensor(2.5375, device='cuda:0', grad_fn=<DivBackward0>), tensor(2.4951, device='cuda:0', grad_fn=<DivBackward0>), tensor(2.5078, device='cuda:0', grad_fn=<DivBackward0>), tensor(2.5015, device='cuda:0', grad_fn=<DivBackward0>), tensor(2.5251, device='cuda:0', grad_fn=<DivBackward0>), tensor(2.5040, device='cuda:0', grad_fn=<DivBackward0>), tensor(2.5214, device='cuda:0', grad_fn=<DivBackward0>), tensor(2.5753, device='cuda:0', grad_fn=<DivBackward0>), tensor(2.5415, device='cuda:0', grad_fn=<DivBackward0>), tensor(2.5928, device='cuda:0', grad_fn=<DivBackward0>)]\n"
          ]
        }
      ],
      "source": [
        "import time\n",
        "\n",
        "start = time.time()\n",
        "\n",
        "EPOCHS = 2\n",
        "losses = train_cycle(EPOCHS, train_dataloader, model, loss, optimizer)\n",
        "\n",
        "end = time.time()\n",
        "print(\"Time passed: \" + str(end - start))\n",
        "print(losses)"
      ]
    },
    {
      "cell_type": "code",
      "execution_count": 40,
      "id": "b96a1b85-6029-4854-a58d-4ba6816a99b9",
      "metadata": {
        "collapsed": true,
        "jupyter": {
          "outputs_hidden": true
        },
        "tags": [],
        "id": "b96a1b85-6029-4854-a58d-4ba6816a99b9",
        "outputId": "c51dfc3b-6d00-44f7-8447-5bd8f02c3d42",
        "colab": {
          "base_uri": "https://localhost:8080/"
        }
      },
      "outputs": [
        {
          "output_type": "stream",
          "name": "stdout",
          "text": [
            "[0.22453125, 0.2303125, 0.2203125, 0.223359375, 0.222109375, 0.220390625, 0.220546875, 0.2190625, 0.22203125, 0.225234375, 0.221796875, 0.226484375, 0.21828125, 0.22734375, 0.2284375, 0.226171875, 0.227578125, 0.218671875, 0.226015625, 0.22140625, 0.222578125, 0.224921875, 0.2253125, 0.23109375, 0.22515625, 0.221640625, 0.225078125, 0.22296875, 0.214140625, 0.22625, 0.22515625, 0.218125, 0.22640625, 0.217109375, 0.2275, 0.222421875, 0.218671875, 0.21625, 0.22140625, 0.222890625, 0.22484375, 0.2221875, 0.22203125, 0.21859375, 0.223515625, 0.221953125, 0.2240625, 0.22609375, 0.218515625, 0.2253125, 0.227421875, 0.225, 0.21859375, 0.060390625]\n"
          ]
        }
      ],
      "source": [
        "#test\n",
        "#from torchmetrics.classification import MulticlassAccuracy\n",
        "iterator = iter(test_dataloader)\n",
        "#accuracy = MulticlassAccuracy(num_classes=72).to(gpu)\n",
        "softmax = torch.nn.Softmax(dim=1)\n",
        "accuracies = []\n",
        "i = 0\n",
        "for data, label in iterator:\n",
        "    #reshape data and label from sequence_len x num_classes\n",
        "    prediction = model(data)\n",
        "    prediction = torch.stack(prediction)\n",
        "    label = torch.stack(label)\n",
        "    #compute accuracy\n",
        "    pred_arg = torch.argmax(softmax(prediction),dim=2)\n",
        "    label_arg = torch.argmax(label,dim=2)\n",
        "    #print(torch.eq(pred_arg, label_arg).size())\n",
        "    acc_list = (torch.sum(torch.eq(pred_arg, label_arg),1)/batch_size_test).tolist()\n",
        "    mean_acc = sum(acc_list)/sequence_length\n",
        "    accuracies.append(mean_acc)\n",
        "print(accuracies)"
      ]
    },
    {
      "cell_type": "code",
      "execution_count": 41,
      "id": "4ca5fda5-8841-4f0f-bacd-27f3c6ec365a",
      "metadata": {
        "id": "4ca5fda5-8841-4f0f-bacd-27f3c6ec365a",
        "outputId": "7318a107-93a1-4007-bebd-83243cef49e1",
        "colab": {
          "base_uri": "https://localhost:8080/"
        }
      },
      "outputs": [
        {
          "output_type": "stream",
          "name": "stdout",
          "text": [
            "Mean accuracy is: 0.22006799768518517\n"
          ]
        }
      ],
      "source": [
        "print(\"Mean accuracy is: \" + str(sum(accuracies)/len(accuracies)))"
      ]
    },
    {
      "cell_type": "code",
      "execution_count": 42,
      "id": "0933354f-a73b-429c-8cd3-3a3e9935205e",
      "metadata": {
        "id": "0933354f-a73b-429c-8cd3-3a3e9935205e"
      },
      "outputs": [],
      "source": [
        "# this function encoded a string as an input fitting for the NN of size (SxN)\n",
        "# * N = number of classes\n",
        "# * S = length of the string (in terms of characters)\n",
        "def generate_phrase_to_NN_input(num_classes, dictionary, device):\n",
        "    # input: a string\n",
        "    # output: a Sx72 one-hot tensor\n",
        "    def phrase_to_NN_input(phrase):\n",
        "        result = []\n",
        "        for char in phrase:\n",
        "            word_converted = torch.zeros(num_classes)\n",
        "            word_index = dictionary.loc[dictionary['data'] == char]['int_encoding'].item()\n",
        "            word_converted[word_index] = 1\n",
        "            result.append(word_converted)\n",
        "        result = torch.stack(result)\n",
        "        result = result.to(device)\n",
        "        return result\n",
        "    return phrase_to_NN_input\n",
        "phrase_to_NN_input = generate_phrase_to_NN_input(72,dictionary, gpu)"
      ]
    },
    {
      "cell_type": "code",
      "execution_count": 43,
      "id": "edd1f5fd-6114-4788-9cbf-0bcf092dfd9f",
      "metadata": {
        "id": "edd1f5fd-6114-4788-9cbf-0bcf092dfd9f"
      },
      "outputs": [],
      "source": [
        "# this function decodes a string expressed as a tensor of shape SxN with values x\\in{0,1}, to a string of length S\n",
        "def generate_NN_output_to_phrase(num_classes, dictionary, device):\n",
        "    # input: a string\n",
        "    # output: a Sx72 one-hot tensor\n",
        "    def NN_output_to_phrase(nn_output):\n",
        "        result = \"\"\n",
        "        for tensor_hot_enc in nn_output:\n",
        "            idx_word = torch.argmax(tensor_hot_enc).item()\n",
        "            char_decoded = dictionary.loc[dictionary['int_encoding'] == idx_word]['data'].item()\n",
        "            result = result + char_decoded\n",
        "        return result\n",
        "    return NN_output_to_phrase\n",
        "NN_output_to_phrase = generate_NN_output_to_phrase(72,dictionary, gpu)"
      ]
    },
    {
      "cell_type": "code",
      "execution_count": 44,
      "id": "f3a98ced-b50d-4cd0-a3fe-cc14c53b822b",
      "metadata": {
        "id": "f3a98ced-b50d-4cd0-a3fe-cc14c53b822b"
      },
      "outputs": [],
      "source": [
        "wordminusminus_encoded = phrase_to_NN_input(\"--\")\n",
        "assert wordminusminus_encoded[0][4].item() == 1.0 and wordminusminus_encoded[1][4].item() == 1.0"
      ]
    },
    {
      "cell_type": "code",
      "execution_count": 45,
      "id": "c4b5b946-7cdf-4443-bae4-effa8c835bb5",
      "metadata": {
        "id": "c4b5b946-7cdf-4443-bae4-effa8c835bb5"
      },
      "outputs": [],
      "source": [
        "wordminusminus_decoded = NN_output_to_phrase(wordminusminus_encoded)\n",
        "assert wordminusminus_decoded == \"--\""
      ]
    },
    {
      "cell_type": "code",
      "execution_count": 46,
      "id": "d76b5a50-34e5-4794-9671-e097ceefc607",
      "metadata": {
        "id": "d76b5a50-34e5-4794-9671-e097ceefc607",
        "outputId": "7c0a7880-94c0-4d20-f0a3-1b184698b4bb",
        "colab": {
          "base_uri": "https://localhost:8080/"
        }
      },
      "outputs": [
        {
          "output_type": "stream",
          "name": "stdout",
          "text": [
            " u  u  u                                   \n"
          ]
        }
      ],
      "source": [
        "phrase = \"eqweqweqwaaIII--------IIIIIaaaaaAAAAAAAAAAA\"\n",
        "phrase_encoded = phrase_to_NN_input(phrase)\n",
        "prediction = model([phrase_encoded])\n",
        "prediction_decoded = NN_output_to_phrase(prediction[0])\n",
        "print(prediction_decoded)"
      ]
    },
    {
      "cell_type": "code",
      "execution_count": null,
      "id": "1b3a4c19-f51e-4128-ac7a-c7a56707889d",
      "metadata": {
        "id": "1b3a4c19-f51e-4128-ac7a-c7a56707889d"
      },
      "outputs": [],
      "source": []
    },
    {
      "cell_type": "code",
      "execution_count": null,
      "id": "8ba586a9-53eb-4910-9176-5a78834666c9",
      "metadata": {
        "id": "8ba586a9-53eb-4910-9176-5a78834666c9"
      },
      "outputs": [],
      "source": []
    },
    {
      "cell_type": "code",
      "execution_count": null,
      "id": "3052c83b-65ec-4f6f-8f4d-9bf929d961f1",
      "metadata": {
        "id": "3052c83b-65ec-4f6f-8f4d-9bf929d961f1"
      },
      "outputs": [],
      "source": []
    },
    {
      "cell_type": "code",
      "execution_count": null,
      "id": "f29abaef-4933-4993-81c1-f09fcd7bd245",
      "metadata": {
        "id": "f29abaef-4933-4993-81c1-f09fcd7bd245"
      },
      "outputs": [],
      "source": []
    }
  ],
  "metadata": {
    "kernelspec": {
      "display_name": "Python 3",
      "name": "python3"
    },
    "language_info": {
      "codemirror_mode": {
        "name": "ipython",
        "version": 3
      },
      "file_extension": ".py",
      "mimetype": "text/x-python",
      "name": "python",
      "nbconvert_exporter": "python",
      "pygments_lexer": "ipython3",
      "version": "3.10.6"
    },
    "colab": {
      "provenance": [],
      "gpuType": "T4"
    },
    "accelerator": "GPU"
  },
  "nbformat": 4,
  "nbformat_minor": 5
}