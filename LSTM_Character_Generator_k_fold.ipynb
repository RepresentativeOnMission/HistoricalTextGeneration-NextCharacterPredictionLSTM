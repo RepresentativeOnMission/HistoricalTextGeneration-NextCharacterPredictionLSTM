{
  "cells": [
    {
      "cell_type": "code",
      "source": [
        "from google.colab import drive\n",
        "drive.mount('/content/drive')"
      ],
      "metadata": {
        "colab": {
          "base_uri": "https://localhost:8080/"
        },
        "id": "3GA2QfCcf-Yj",
        "outputId": "a9402c79-7b96-4044-fe80-2e177e5f16c7"
      },
      "id": "3GA2QfCcf-Yj",
      "execution_count": 1,
      "outputs": [
        {
          "output_type": "stream",
          "name": "stdout",
          "text": [
            "Mounted at /content/drive\n"
          ]
        }
      ]
    },
    {
      "cell_type": "code",
      "source": [
        "!pip install torchmetrics"
      ],
      "metadata": {
        "colab": {
          "base_uri": "https://localhost:8080/"
        },
        "id": "9THkDHJ5gBfC",
        "outputId": "6eddf8dc-091d-4ee8-a335-0a25ad66d31b"
      },
      "id": "9THkDHJ5gBfC",
      "execution_count": 2,
      "outputs": [
        {
          "output_type": "stream",
          "name": "stdout",
          "text": [
            "Collecting torchmetrics\n",
            "  Downloading torchmetrics-1.2.0-py3-none-any.whl (805 kB)\n",
            "\u001b[2K     \u001b[90m━━━━━━━━━━━━━━━━━━━━━━━━━━━━━━━━━━━━━━━━\u001b[0m \u001b[32m805.2/805.2 kB\u001b[0m \u001b[31m12.0 MB/s\u001b[0m eta \u001b[36m0:00:00\u001b[0m\n",
            "\u001b[?25hRequirement already satisfied: numpy>1.20.0 in /usr/local/lib/python3.10/dist-packages (from torchmetrics) (1.23.5)\n",
            "Requirement already satisfied: torch>=1.8.1 in /usr/local/lib/python3.10/dist-packages (from torchmetrics) (2.1.0+cu118)\n",
            "Collecting lightning-utilities>=0.8.0 (from torchmetrics)\n",
            "  Downloading lightning_utilities-0.9.0-py3-none-any.whl (23 kB)\n",
            "Requirement already satisfied: packaging>=17.1 in /usr/local/lib/python3.10/dist-packages (from lightning-utilities>=0.8.0->torchmetrics) (23.2)\n",
            "Requirement already satisfied: typing-extensions in /usr/local/lib/python3.10/dist-packages (from lightning-utilities>=0.8.0->torchmetrics) (4.5.0)\n",
            "Requirement already satisfied: filelock in /usr/local/lib/python3.10/dist-packages (from torch>=1.8.1->torchmetrics) (3.12.4)\n",
            "Requirement already satisfied: sympy in /usr/local/lib/python3.10/dist-packages (from torch>=1.8.1->torchmetrics) (1.12)\n",
            "Requirement already satisfied: networkx in /usr/local/lib/python3.10/dist-packages (from torch>=1.8.1->torchmetrics) (3.2)\n",
            "Requirement already satisfied: jinja2 in /usr/local/lib/python3.10/dist-packages (from torch>=1.8.1->torchmetrics) (3.1.2)\n",
            "Requirement already satisfied: fsspec in /usr/local/lib/python3.10/dist-packages (from torch>=1.8.1->torchmetrics) (2023.6.0)\n",
            "Requirement already satisfied: triton==2.1.0 in /usr/local/lib/python3.10/dist-packages (from torch>=1.8.1->torchmetrics) (2.1.0)\n",
            "Requirement already satisfied: MarkupSafe>=2.0 in /usr/local/lib/python3.10/dist-packages (from jinja2->torch>=1.8.1->torchmetrics) (2.1.3)\n",
            "Requirement already satisfied: mpmath>=0.19 in /usr/local/lib/python3.10/dist-packages (from sympy->torch>=1.8.1->torchmetrics) (1.3.0)\n",
            "Installing collected packages: lightning-utilities, torchmetrics\n",
            "Successfully installed lightning-utilities-0.9.0 torchmetrics-1.2.0\n"
          ]
        }
      ]
    },
    {
      "cell_type": "code",
      "execution_count": 3,
      "id": "1e8dfe2b-4149-4b10-8114-5403aa77627e",
      "metadata": {
        "id": "1e8dfe2b-4149-4b10-8114-5403aa77627e"
      },
      "outputs": [],
      "source": [
        "#import libraries\n",
        "import numpy as np\n",
        "import os\n",
        "import torch\n",
        "from torch import nn\n",
        "from torch.utils.data import DataLoader\n",
        "from torchvision import datasets, transforms"
      ]
    },
    {
      "cell_type": "code",
      "execution_count": 4,
      "id": "837a5b60-6479-4dcd-8da0-e3b28aeafbc3",
      "metadata": {
        "colab": {
          "base_uri": "https://localhost:8080/"
        },
        "id": "837a5b60-6479-4dcd-8da0-e3b28aeafbc3",
        "outputId": "da770137-236f-49f1-b6b4-98ad01bae7b1"
      },
      "outputs": [
        {
          "output_type": "stream",
          "name": "stdout",
          "text": [
            "Tesla T4\n"
          ]
        }
      ],
      "source": [
        "#Load the device GPU\n",
        "gpu = torch.device(\"cuda:0\")\n",
        "print(torch.cuda.get_device_name(torch.cuda.current_device()))"
      ]
    },
    {
      "cell_type": "code",
      "execution_count": 5,
      "id": "20114766-5d9c-4d14-a1d9-ffe2b1d52f81",
      "metadata": {
        "tags": [],
        "id": "20114766-5d9c-4d14-a1d9-ffe2b1d52f81"
      },
      "outputs": [],
      "source": [
        "#load the dataset\n",
        "import codecs\n",
        "dataset_t = \"\"\n",
        "with codecs.open('/content/drive/Othercomputers/Il mio computer/BarberoGenerator/dataset/dataset_barbero_sarzana.txt', encoding='utf-8') as f:\n",
        "    for character in f:\n",
        "        dataset_t = dataset_t + character"
      ]
    },
    {
      "cell_type": "code",
      "execution_count": 6,
      "id": "f58b2b63-a5ee-4522-8e3b-e0672a71f2f5",
      "metadata": {
        "tags": [],
        "colab": {
          "base_uri": "https://localhost:8080/"
        },
        "id": "f58b2b63-a5ee-4522-8e3b-e0672a71f2f5",
        "outputId": "3506dcec-5378-4ecb-dc97-7ebde71b5e57"
      },
      "outputs": [
        {
          "output_type": "stream",
          "name": "stderr",
          "text": [
            "<ipython-input-6-c0c5f10b0c7b>:11: SettingWithCopyWarning: \n",
            "A value is trying to be set on a copy of a slice from a DataFrame.\n",
            "Try using .loc[row_indexer,col_indexer] = value instead\n",
            "\n",
            "See the caveats in the documentation: https://pandas.pydata.org/pandas-docs/stable/user_guide/indexing.html#returning-a-view-versus-a-copy\n",
            "  dictionary['int_encoding'] = label_enc.fit_transform(dictionary['data'])\n"
          ]
        },
        {
          "output_type": "stream",
          "name": "stdout",
          "text": [
            "tensor([[0., 0., 0.,  ..., 0., 0., 0.],\n",
            "        [0., 0., 0.,  ..., 0., 0., 0.],\n",
            "        [0., 0., 0.,  ..., 0., 0., 0.],\n",
            "        ...,\n",
            "        [0., 0., 0.,  ..., 0., 0., 0.],\n",
            "        [1., 0., 0.,  ..., 0., 0., 0.],\n",
            "        [1., 0., 0.,  ..., 0., 0., 0.]], device='cuda:0')\n"
          ]
        }
      ],
      "source": [
        "# transform dataset from numeric to one-hot\n",
        "from sklearn.preprocessing import LabelEncoder\n",
        "from sklearn.preprocessing import OneHotEncoder\n",
        "import pandas as pd\n",
        "whole_dataset_list_of_chars = list(dataset_t)\n",
        "dataset_int = pd.DataFrame(whole_dataset_list_of_chars, columns=['data'])\n",
        "\n",
        "# create a dictionary\n",
        "label_enc = LabelEncoder()\n",
        "dictionary = dataset_int.drop_duplicates(subset=['data'])\n",
        "dictionary['int_encoding'] = label_enc.fit_transform(dictionary['data'])\n",
        "dataset_int['int_encoding'] = label_enc.fit_transform(dataset_int['data'])\n",
        "\n",
        "\n",
        "# one hot encode\n",
        "one_hot_enc = OneHotEncoder()\n",
        "# lstm uses float32 insted of float64.\n",
        "one_hot_encoded_dataset = one_hot_enc.fit_transform(dataset_int[['int_encoding']]).toarray().astype(np.float32)\n",
        "one_hot_encoded_dataset = torch.from_numpy(one_hot_encoded_dataset)\n",
        "one_hot_encoded_dataset = one_hot_encoded_dataset.to(gpu)\n",
        "print(one_hot_encoded_dataset)"
      ]
    },
    {
      "cell_type": "code",
      "execution_count": 7,
      "id": "3c6b005c-535e-455d-9ed7-12562d84dbde",
      "metadata": {
        "colab": {
          "base_uri": "https://localhost:8080/"
        },
        "id": "3c6b005c-535e-455d-9ed7-12562d84dbde",
        "outputId": "4423cdd6-ee71-45ec-d529-37711d453a4c"
      },
      "outputs": [
        {
          "output_type": "stream",
          "name": "stdout",
          "text": [
            "        data  int_encoding\n",
            "0          b            39\n",
            "1          e            42\n",
            "2          n            51\n",
            "4                        1\n",
            "6          u            58\n",
            "...      ...           ...\n",
            "1099082    -             4\n",
            "1099618    U            33\n",
            "1100751    È            64\n",
            "1101278    N            26\n",
            "1104174    V            34\n",
            "\n",
            "[72 rows x 2 columns]\n"
          ]
        }
      ],
      "source": [
        "print(dictionary)"
      ]
    },
    {
      "cell_type": "code",
      "execution_count": 8,
      "id": "d7dc00c6-f9fe-45fc-ae9d-fa7529651a71",
      "metadata": {
        "id": "d7dc00c6-f9fe-45fc-ae9d-fa7529651a71"
      },
      "outputs": [],
      "source": [
        "# check that the device set is the GPU\n",
        "assert one_hot_encoded_dataset.get_device() == 0"
      ]
    },
    {
      "cell_type": "code",
      "execution_count": 9,
      "id": "d28b0528-4984-4602-a237-29bdd620ffa5",
      "metadata": {
        "colab": {
          "base_uri": "https://localhost:8080/"
        },
        "id": "d28b0528-4984-4602-a237-29bdd620ffa5",
        "outputId": "f5cb0763-77dd-4c20-ae96-bb79b892280c"
      },
      "outputs": [
        {
          "output_type": "stream",
          "name": "stdout",
          "text": [
            "22736\n",
            "2\n"
          ]
        }
      ],
      "source": [
        "\n",
        "# ADD LABELS: turn dataset from a string \"s1,s2,...,si,si+1\" to ((s1,...,sk),(s2,...,sk+1)),...\n",
        "sequence_length = 100\n",
        "dataset = []\n",
        "for i in range(0,len(one_hot_encoded_dataset)-sequence_length,int(sequence_length/2)):\n",
        "    x = []\n",
        "    y = []\n",
        "    for j in range(sequence_length):\n",
        "        x.append(one_hot_encoded_dataset[i+j])\n",
        "        y.append(one_hot_encoded_dataset[i+j+1])\n",
        "    dataset.append((x, y))\n",
        "print(len(dataset))\n",
        "print(len(dataset[0]))"
      ]
    },
    {
      "cell_type": "code",
      "source": [
        "# We use the whole dataset as training set, bc we will use k-fold cross-validation to validate and test the models\n",
        "batch_size_train = 64\n",
        "train_dataloader_kfold = DataLoader(dataset, batch_size=batch_size_train, shuffle=False)\n",
        "iterator = iter(train_dataloader_kfold)\n",
        "data, label = next(iterator)\n",
        "a = torch.stack(data)\n",
        "print(torch.permute(a, (1,0,2)).size())"
      ],
      "metadata": {
        "colab": {
          "base_uri": "https://localhost:8080/"
        },
        "id": "-smzGezAhIY-",
        "outputId": "d9431c33-1757-441b-b3f9-52885d9f1bda"
      },
      "id": "-smzGezAhIY-",
      "execution_count": 10,
      "outputs": [
        {
          "output_type": "stream",
          "name": "stdout",
          "text": [
            "torch.Size([64, 100, 72])\n"
          ]
        }
      ]
    },
    {
      "cell_type": "code",
      "source": [
        "def print_number_of_parameters_of_model(model):\n",
        "  n_parameters = 0\n",
        "  for parameter in model.parameters():\n",
        "      n_parameters = n_parameters + sum(list(parameter.size()))\n",
        "  print(\"The model has %d parameters\" % n_parameters)"
      ],
      "metadata": {
        "id": "fk-b2jtYfnET"
      },
      "id": "fk-b2jtYfnET",
      "execution_count": 11,
      "outputs": []
    },
    {
      "cell_type": "markdown",
      "source": [
        "## Simple Model: 32 hidden units, 1 LSTM layer\n",
        "This model has 32 as the shape of the hidden units of LSTM. The total number of parameters is 792.\\\n",
        "The loss and Optimizer are respectively CrossEntropy and Adam."
      ],
      "metadata": {
        "id": "m5NUMv1Qh7T5"
      },
      "id": "m5NUMv1Qh7T5"
    },
    {
      "cell_type": "code",
      "execution_count": 143,
      "id": "586fe12b-820e-49e5-bc0a-d826cba8e0ed",
      "metadata": {
        "tags": [],
        "colab": {
          "base_uri": "https://localhost:8080/"
        },
        "id": "586fe12b-820e-49e5-bc0a-d826cba8e0ed",
        "outputId": "34179b82-2efd-4803-b74c-93b7c8046a54"
      },
      "outputs": [
        {
          "output_type": "stream",
          "name": "stdout",
          "text": [
            "The model has 792 parameters\n"
          ]
        }
      ],
      "source": [
        "# model_32: single LSTM with an hidden layer size of 32\n",
        "class NeuralNetwork(nn.Module):\n",
        "    def __init__(self, input_size, hidden_size, output_size, device):\n",
        "        super().__init__()\n",
        "        self.hidden_size = hidden_size\n",
        "        self.device = device\n",
        "        # weights and biases are initialized using the uniform distribution:\n",
        "        #      weights.uniform_(-sqrt(output_size), +sqrt(output_size))\n",
        "        self.lstm_layer = torch.nn.LSTMCell(input_size=input_size, hidden_size=hidden_size)\n",
        "        self.dense = torch.nn.Linear(in_features=hidden_size, out_features=output_size)\n",
        "\n",
        "\n",
        "    def forward(self, x, h_t_generation=None, c_t_generation=None):\n",
        "        outputs = []\n",
        "        # construct the initial hidden and cell states. Their shape is: batch_sizexhidden_size\n",
        "        h_t = torch.zeros(x.size()[1],self.hidden_size).to(self.device)\n",
        "        c_t = torch.zeros(x.size()[1],self.hidden_size).to(self.device)\n",
        "        # if we are in the GENERATION STEP, then set initial short and long term memory as the values passed as parameters\n",
        "        if(h_t_generation != None and c_t_generation != None):\n",
        "            h_t = h_t_generation\n",
        "            c_t = c_t_generation\n",
        "        # the split function collapses the sequence length, so now, instead of having (sequence_len,batch_size,input_size) inputs,\n",
        "        # you have a number equal to batch_size of (batch_size,input_size) inputs; you will feed these inputs one after another to the lstm, using\n",
        "        # the history h_t and short term memory c_t, along with the i-th input of type (batch_size,input_size)\n",
        "        for time_step in torch.split(x, split_size_or_sections=1, dim=0):\n",
        "\n",
        "            # this is needed to remove the dimension 0, which once contained the sequence length\n",
        "            time_step = torch.squeeze(time_step, 0)\n",
        "            h_t, c_t = self.lstm_layer(time_step, (h_t, c_t))\n",
        "            output = self.dense(h_t)\n",
        "            outputs.append(output)\n",
        "        # returns the output as a list of size (seq_length,batch_size,num_classes), and the short abd long term memory\n",
        "        return outputs, h_t, c_t\n",
        "input_size = 72\n",
        "output_size = input_size\n",
        "model_32 = NeuralNetwork(input_size, 32, output_size,gpu)\n",
        "model_32.to(gpu)\n",
        "print_number_of_parameters_of_model(model_32)"
      ]
    },
    {
      "cell_type": "code",
      "source": [
        "input = torch.zeros(8,1,72).to(gpu)\n",
        "result, h_t, c_t = model_32(input)\n",
        "print(len(result))\n",
        "print(len(result[0]))\n",
        "print(len(result[0][0]))"
      ],
      "metadata": {
        "colab": {
          "base_uri": "https://localhost:8080/"
        },
        "id": "nHucsetql_br",
        "outputId": "d35c34a1-3037-4b6d-f477-11b14229b0be"
      },
      "id": "nHucsetql_br",
      "execution_count": 145,
      "outputs": [
        {
          "output_type": "stream",
          "name": "stdout",
          "text": [
            "8\n",
            "1\n",
            "72\n"
          ]
        }
      ]
    },
    {
      "cell_type": "code",
      "execution_count": 81,
      "id": "ef906656-38b1-474d-bf34-361490ba4066",
      "metadata": {
        "id": "ef906656-38b1-474d-bf34-361490ba4066"
      },
      "outputs": [],
      "source": [
        "#declare loss, optimizer\n",
        "loss_32 = torch.nn.CrossEntropyLoss()\n",
        "optimizer_32 = torch.optim.Adam(model_32.parameters(), lr=0.001)"
      ]
    },
    {
      "cell_type": "markdown",
      "source": [
        "## 1024 hidden units, 1 LSTM\n",
        "This model has 1024 as the shape of the hidden units of LSTM. The total number of parameters is 18648.\n",
        "The loss and Optimizer are respectively CrossEntropy and Adam."
      ],
      "metadata": {
        "id": "6j0Xev-aiVnh"
      },
      "id": "6j0Xev-aiVnh"
    },
    {
      "cell_type": "code",
      "source": [
        "# model_1024: single LSTM with an hidden layer size of 1024\n",
        "input_size = 72\n",
        "output_size = input_size\n",
        "model_1024 = NeuralNetwork(input_size, 1024, output_size, gpu)\n",
        "model_1024.to(gpu)\n",
        "print_number_of_parameters_of_model(model_1024)"
      ],
      "metadata": {
        "id": "WjzWIrOXhvD3",
        "outputId": "b5399ce8-f4b8-4c5f-c728-de5f05ce4b8f",
        "colab": {
          "base_uri": "https://localhost:8080/"
        }
      },
      "id": "WjzWIrOXhvD3",
      "execution_count": 82,
      "outputs": [
        {
          "output_type": "stream",
          "name": "stdout",
          "text": [
            "The model has 18648 parameters\n"
          ]
        }
      ]
    },
    {
      "cell_type": "code",
      "source": [
        "#declare loss, optimizer\n",
        "loss_1024 = torch.nn.CrossEntropyLoss()\n",
        "optimizer_1024 = torch.optim.Adam(model_1024.parameters(), lr=0.001)"
      ],
      "metadata": {
        "id": "dTauHy5C-0ci"
      },
      "id": "dTauHy5C-0ci",
      "execution_count": 83,
      "outputs": []
    },
    {
      "cell_type": "markdown",
      "source": [
        "## K-Fold Cross-Validation vs Train and Test\n",
        "How can we evaluate the differences between two different models?\n",
        "* We could train and test each of them by splitting the dataset 80/20, and confront metrics. But the split could be an unfair one.\n",
        "* We can use K-Fold <strong>Cross Validation</strong>\n",
        "\n",
        "<strong>Cross Validation</strong>: We subdivide the dataset into k GROUPS.\n",
        "* one group is selected to be the test set\n",
        "* the other groups constitutes the training set\n",
        "* the model is trained and tested, and metrics are recorded\n",
        "\n",
        "In the end we trained and tested k times the same model with different training and test sets, hence we are capable to say <strong> how good this model is, if it was to be trained with this dataset </strong>\n",
        "\n",
        "After we decided which is the best model, we will <strong> use the whole dataset to train it </strong>"
      ],
      "metadata": {
        "id": "eBK-qNnbiBmj"
      },
      "id": "eBK-qNnbiBmj"
    },
    {
      "cell_type": "code",
      "execution_count": 146,
      "id": "448f29ec-1a00-44c4-a1b6-20839348436c",
      "metadata": {
        "id": "448f29ec-1a00-44c4-a1b6-20839348436c"
      },
      "outputs": [],
      "source": [
        "import time\n",
        "\n",
        "#train\n",
        "def train_cycle(EPOCHS, train_dataloader, model, loss, optimizer):\n",
        "    start_time = time.time()\n",
        "    losses = []\n",
        "    for i in range(EPOCHS):\n",
        "        iterator = iter(train_dataloader)\n",
        "        print(\"Epoch: \" + str(i))\n",
        "        for data, label in iterator:\n",
        "            # pytorch accumulate gradients at every batch, doing this you reset these gradients\n",
        "            optimizer.zero_grad()\n",
        "            # we convert a list of tensors (given as such by the dataloader) to a tensor\n",
        "            data = torch.stack(data)\n",
        "            ## THIS IS OBSOLETE, it permuted data from (seq_len,batch_size,input) to (batch_size,seq_len,input): data = torch.permute(data, (1,0,2))\n",
        "            #forward step\n",
        "            outputs, h_t, c_t = model(data)\n",
        "            loss_acc = 0\n",
        "            total_loss = 0\n",
        "            for i in range(len(outputs)):\n",
        "                total_loss = total_loss + loss(outputs[i],label[i])\n",
        "            #backward step: compute gradients (apply automatic differentiation).\n",
        "            total_loss.backward()\n",
        "            loss_acc = total_loss / len(outputs)\n",
        "            losses.append(loss_acc)\n",
        "            #update the parameters using the already computed gradients\n",
        "            optimizer.step()\n",
        "    end_time = time.time()\n",
        "    return losses, end_time - start_time"
      ]
    },
    {
      "cell_type": "code",
      "execution_count": 147,
      "id": "b96a1b85-6029-4854-a58d-4ba6816a99b9",
      "metadata": {
        "collapsed": true,
        "jupyter": {
          "outputs_hidden": true
        },
        "tags": [],
        "id": "b96a1b85-6029-4854-a58d-4ba6816a99b9"
      },
      "outputs": [],
      "source": [
        "#test\n",
        "def test_cycle(test_dataloader, model, batch_size):\n",
        "  start_time = time.time()\n",
        "  iterator = iter(test_dataloader)\n",
        "  softmax = torch.nn.Softmax(dim=1)\n",
        "  accuracies = []\n",
        "  for data, label in iterator:\n",
        "      # we convert a list of tensors (given as such by the dataloader) to a tensor\n",
        "      data = torch.stack(data)\n",
        "      ## THIS IS OBSOLETE, it permuted data from (seq_len,batch_size,input) to (batch_size,seq_len,input): data = torch.permute(data, (1,0,2))\n",
        "      #forward step\n",
        "      prediction, h_t, c_t = model(data)\n",
        "      prediction = torch.stack(prediction)\n",
        "      label = torch.stack(label)\n",
        "      #compute accuracy\n",
        "      pred_arg = torch.argmax(softmax(prediction),dim=2)\n",
        "      label_arg = torch.argmax(label,dim=2)\n",
        "      acc_list = (torch.sum(torch.eq(pred_arg, label_arg),1)/batch_size).tolist()\n",
        "      mean_acc = sum(acc_list)/len(acc_list)\n",
        "      accuracies.append(mean_acc)\n",
        "  end_time = time.time()\n",
        "  return sum(accuracies) / len(accuracies), end_time - start_time"
      ]
    },
    {
      "cell_type": "code",
      "source": [
        "from numpy import array\n",
        "from sklearn.model_selection import KFold\n",
        "import time\n",
        "\n",
        "# prepare cross validation\n",
        "def KFOLD(model, loss, optimizer, dataset, k):\n",
        "    batch_size_train = 64\n",
        "    batch_size_test = 128\n",
        "    kfold = KFold(k)\n",
        "    EPOCHS = 2\n",
        "    i = 0\n",
        "    mean_accuracy = []\n",
        "    for train, test in kfold.split(dataset):\n",
        "        # turn train and test folds to tensors that works with gpu\n",
        "        list_train = [dataset[i] for i in train.tolist()]\n",
        "        list_test = [dataset[i] for i in test.tolist()]\n",
        "        #tensor_train = torch.from_numpy(dataset[train])\n",
        "        #tensor_train = tensor_train.to(gpu)\n",
        "        #tensor_test = torch.from_numpy(dataset[test])\n",
        "        #tensor_test = tensor_test.to(gpu)\n",
        "        # create dataloaders for train and test folds\n",
        "        start_time = time.time()\n",
        "        train_dataloader = DataLoader(list_train, batch_size=batch_size_train, shuffle=False)\n",
        "        test_dataloader = DataLoader(list_test, batch_size=batch_size_test, shuffle=True)\n",
        "        # perform test and training cycle on a fold, and record the time spent on computing\n",
        "        losses, time_train = train_cycle(EPOCHS, train_dataloader, model, loss, optimizer)\n",
        "        accuracy, time_test = test_cycle(test_dataloader, model, batch_size_test)\n",
        "        mean_accuracy.append(accuracy)\n",
        "        print(\"Split %d accuracy is: %s. %s seconds required for training, %s seconds required for testing.\" % (i,str(accuracy),str(time_train),str(time_test)))\n",
        "        i = i + 1\n",
        "    return sum(mean_accuracy) / len(mean_accuracy)"
      ],
      "metadata": {
        "id": "KSufWISYiCtO"
      },
      "id": "KSufWISYiCtO",
      "execution_count": 148,
      "outputs": []
    },
    {
      "cell_type": "code",
      "source": [
        "result_32 = KFOLD(model_32, loss_32, optimizer_32, dataset, k=3)"
      ],
      "metadata": {
        "id": "FTbJ1IWvFSD8",
        "outputId": "ea1f4ec8-e277-4743-c240-e4401ff2f9a5",
        "colab": {
          "base_uri": "https://localhost:8080/"
        }
      },
      "id": "FTbJ1IWvFSD8",
      "execution_count": 110,
      "outputs": [
        {
          "output_type": "stream",
          "name": "stdout",
          "text": [
            "Epoch: 0\n",
            "Epoch: 1\n",
            "Split 0 accuracy is: 0.014414062499999998. 31.700706005096436 seconds required for training, 2.191084623336792 seconds required for testing.\n",
            "Epoch: 0\n",
            "Epoch: 1\n",
            "Split 1 accuracy is: 0.012216145833333332. 32.65013885498047 seconds required for training, 1.9105381965637207 seconds required for testing.\n",
            "Epoch: 0\n",
            "Epoch: 1\n",
            "Split 2 accuracy is: 0.012419270833333338. 31.355954885482788 seconds required for training, 2.4497454166412354 seconds required for testing.\n"
          ]
        }
      ]
    },
    {
      "cell_type": "code",
      "source": [
        "result_1024 = KFOLD(model_1024, loss_1024, optimizer_1024, dataset, k=3)\n",
        "print(result_1024)"
      ],
      "metadata": {
        "id": "WWUj_sh7jZUU",
        "colab": {
          "base_uri": "https://localhost:8080/"
        },
        "outputId": "685eb8ee-a00f-42ab-ad30-fa90753bc89d"
      },
      "id": "WWUj_sh7jZUU",
      "execution_count": 111,
      "outputs": [
        {
          "output_type": "stream",
          "name": "stdout",
          "text": [
            "Epoch: 0\n",
            "Epoch: 1\n",
            "Split 0 accuracy is: 0.21004036458333333. 44.45496702194214 seconds required for training, 3.361053705215454 seconds required for testing.\n",
            "Epoch: 0\n",
            "Epoch: 1\n",
            "Split 1 accuracy is: 0.2241614583333333. 44.993762731552124 seconds required for training, 3.5481925010681152 seconds required for testing.\n",
            "Epoch: 0\n",
            "Epoch: 1\n",
            "Split 2 accuracy is: 0.2584309895833333. 44.40905284881592 seconds required for training, 3.501713991165161 seconds required for testing.\n",
            "0.23087760416666667\n"
          ]
        }
      ]
    },
    {
      "cell_type": "code",
      "source": [
        "# generate random character from dictionary\n",
        "dic_list = dictionary['data'].tolist()\n"
      ],
      "metadata": {
        "id": "6-94W7qhDgen"
      },
      "id": "6-94W7qhDgen",
      "execution_count": 112,
      "outputs": []
    },
    {
      "cell_type": "code",
      "execution_count": 165,
      "id": "b7392af7-d2df-47ce-befb-40925d96eea0",
      "metadata": {
        "collapsed": true,
        "jupyter": {
          "outputs_hidden": true
        },
        "tags": [],
        "id": "b7392af7-d2df-47ce-befb-40925d96eea0",
        "outputId": "f184b589-b78a-462c-b09b-81e36863cd85",
        "colab": {
          "base_uri": "https://localhost:8080/"
        }
      },
      "outputs": [
        {
          "output_type": "stream",
          "name": "stdout",
          "text": [
            "Epoch: 0\n",
            "Epoch: 1\n",
            "Epoch: 2\n",
            "Epoch: 3\n",
            "Epoch: 4\n",
            "Time passed: 137.12457370758057\n",
            "([tensor(4.2835, device='cuda:0', grad_fn=<DivBackward0>), tensor(4.2406, device='cuda:0', grad_fn=<DivBackward0>), tensor(4.1688, device='cuda:0', grad_fn=<DivBackward0>), tensor(3.3646, device='cuda:0', grad_fn=<DivBackward0>), tensor(3.0834, device='cuda:0', grad_fn=<DivBackward0>), tensor(3.0909, device='cuda:0', grad_fn=<DivBackward0>), tensor(3.0415, device='cuda:0', grad_fn=<DivBackward0>), tensor(2.9677, device='cuda:0', grad_fn=<DivBackward0>), tensor(2.9563, device='cuda:0', grad_fn=<DivBackward0>), tensor(2.9469, device='cuda:0', grad_fn=<DivBackward0>), tensor(2.9334, device='cuda:0', grad_fn=<DivBackward0>), tensor(2.9349, device='cuda:0', grad_fn=<DivBackward0>), tensor(2.9348, device='cuda:0', grad_fn=<DivBackward0>), tensor(2.9362, device='cuda:0', grad_fn=<DivBackward0>), tensor(2.9461, device='cuda:0', grad_fn=<DivBackward0>), tensor(2.9304, device='cuda:0', grad_fn=<DivBackward0>), tensor(2.9535, device='cuda:0', grad_fn=<DivBackward0>), tensor(2.9235, device='cuda:0', grad_fn=<DivBackward0>), tensor(2.9210, device='cuda:0', grad_fn=<DivBackward0>), tensor(2.9387, device='cuda:0', grad_fn=<DivBackward0>), tensor(2.9214, device='cuda:0', grad_fn=<DivBackward0>), tensor(2.9114, device='cuda:0', grad_fn=<DivBackward0>), tensor(2.9036, device='cuda:0', grad_fn=<DivBackward0>), tensor(2.9264, device='cuda:0', grad_fn=<DivBackward0>), tensor(2.9253, device='cuda:0', grad_fn=<DivBackward0>), tensor(2.8997, device='cuda:0', grad_fn=<DivBackward0>), tensor(2.9213, device='cuda:0', grad_fn=<DivBackward0>), tensor(2.9261, device='cuda:0', grad_fn=<DivBackward0>), tensor(2.9044, device='cuda:0', grad_fn=<DivBackward0>), tensor(2.9087, device='cuda:0', grad_fn=<DivBackward0>), tensor(2.9068, device='cuda:0', grad_fn=<DivBackward0>), tensor(2.9760, device='cuda:0', grad_fn=<DivBackward0>), tensor(2.9314, device='cuda:0', grad_fn=<DivBackward0>), tensor(2.9179, device='cuda:0', grad_fn=<DivBackward0>), tensor(2.8924, device='cuda:0', grad_fn=<DivBackward0>), tensor(2.9070, device='cuda:0', grad_fn=<DivBackward0>), tensor(2.8926, device='cuda:0', grad_fn=<DivBackward0>), tensor(2.9042, device='cuda:0', grad_fn=<DivBackward0>), tensor(2.8684, device='cuda:0', grad_fn=<DivBackward0>), tensor(2.8878, device='cuda:0', grad_fn=<DivBackward0>), tensor(2.8987, device='cuda:0', grad_fn=<DivBackward0>), tensor(2.9177, device='cuda:0', grad_fn=<DivBackward0>), tensor(2.9006, device='cuda:0', grad_fn=<DivBackward0>), tensor(2.9012, device='cuda:0', grad_fn=<DivBackward0>), tensor(2.9186, device='cuda:0', grad_fn=<DivBackward0>), tensor(2.8946, device='cuda:0', grad_fn=<DivBackward0>), tensor(2.8867, device='cuda:0', grad_fn=<DivBackward0>), tensor(2.8821, device='cuda:0', grad_fn=<DivBackward0>), tensor(2.8996, device='cuda:0', grad_fn=<DivBackward0>), tensor(2.8903, device='cuda:0', grad_fn=<DivBackward0>), tensor(2.9271, device='cuda:0', grad_fn=<DivBackward0>), tensor(2.9373, device='cuda:0', grad_fn=<DivBackward0>), tensor(2.9212, device='cuda:0', grad_fn=<DivBackward0>), tensor(2.9382, device='cuda:0', grad_fn=<DivBackward0>), tensor(2.8949, device='cuda:0', grad_fn=<DivBackward0>), tensor(2.9446, device='cuda:0', grad_fn=<DivBackward0>), tensor(2.8968, device='cuda:0', grad_fn=<DivBackward0>), tensor(2.9231, device='cuda:0', grad_fn=<DivBackward0>), tensor(2.8736, device='cuda:0', grad_fn=<DivBackward0>), tensor(2.8726, device='cuda:0', grad_fn=<DivBackward0>), tensor(2.8630, device='cuda:0', grad_fn=<DivBackward0>), tensor(2.9154, device='cuda:0', grad_fn=<DivBackward0>), tensor(2.8537, device='cuda:0', grad_fn=<DivBackward0>), tensor(2.8739, device='cuda:0', grad_fn=<DivBackward0>), tensor(2.8680, device='cuda:0', grad_fn=<DivBackward0>), tensor(2.8600, device='cuda:0', grad_fn=<DivBackward0>), tensor(2.8479, device='cuda:0', grad_fn=<DivBackward0>), tensor(2.8002, device='cuda:0', grad_fn=<DivBackward0>), tensor(2.8503, device='cuda:0', grad_fn=<DivBackward0>), tensor(2.8476, device='cuda:0', grad_fn=<DivBackward0>), tensor(2.8351, device='cuda:0', grad_fn=<DivBackward0>), tensor(2.8358, device='cuda:0', grad_fn=<DivBackward0>), tensor(2.8417, device='cuda:0', grad_fn=<DivBackward0>), tensor(2.8261, device='cuda:0', grad_fn=<DivBackward0>), tensor(2.8186, device='cuda:0', grad_fn=<DivBackward0>), tensor(2.7827, device='cuda:0', grad_fn=<DivBackward0>), tensor(2.8015, device='cuda:0', grad_fn=<DivBackward0>), tensor(2.7942, device='cuda:0', grad_fn=<DivBackward0>), tensor(2.7963, device='cuda:0', grad_fn=<DivBackward0>), tensor(2.7575, device='cuda:0', grad_fn=<DivBackward0>), tensor(2.7642, device='cuda:0', grad_fn=<DivBackward0>), tensor(2.7634, device='cuda:0', grad_fn=<DivBackward0>), tensor(2.7644, device='cuda:0', grad_fn=<DivBackward0>), tensor(2.7415, device='cuda:0', grad_fn=<DivBackward0>), tensor(2.7487, device='cuda:0', grad_fn=<DivBackward0>), tensor(2.7207, device='cuda:0', grad_fn=<DivBackward0>), tensor(2.7514, device='cuda:0', grad_fn=<DivBackward0>), tensor(2.7047, device='cuda:0', grad_fn=<DivBackward0>), tensor(2.7335, device='cuda:0', grad_fn=<DivBackward0>), tensor(2.6913, device='cuda:0', grad_fn=<DivBackward0>), tensor(2.7385, device='cuda:0', grad_fn=<DivBackward0>), tensor(2.7182, device='cuda:0', grad_fn=<DivBackward0>), tensor(2.6899, device='cuda:0', grad_fn=<DivBackward0>), tensor(2.7068, device='cuda:0', grad_fn=<DivBackward0>), tensor(2.7107, device='cuda:0', grad_fn=<DivBackward0>), tensor(2.7177, device='cuda:0', grad_fn=<DivBackward0>), tensor(2.7265, device='cuda:0', grad_fn=<DivBackward0>), tensor(2.6696, device='cuda:0', grad_fn=<DivBackward0>), tensor(2.6722, device='cuda:0', grad_fn=<DivBackward0>), tensor(2.7176, device='cuda:0', grad_fn=<DivBackward0>), tensor(2.6431, device='cuda:0', grad_fn=<DivBackward0>), tensor(2.6660, device='cuda:0', grad_fn=<DivBackward0>), tensor(2.6381, device='cuda:0', grad_fn=<DivBackward0>), tensor(2.6563, device='cuda:0', grad_fn=<DivBackward0>), tensor(2.6179, device='cuda:0', grad_fn=<DivBackward0>), tensor(2.6319, device='cuda:0', grad_fn=<DivBackward0>), tensor(2.6578, device='cuda:0', grad_fn=<DivBackward0>), tensor(2.6697, device='cuda:0', grad_fn=<DivBackward0>), tensor(2.6647, device='cuda:0', grad_fn=<DivBackward0>), tensor(2.6274, device='cuda:0', grad_fn=<DivBackward0>), tensor(2.6462, device='cuda:0', grad_fn=<DivBackward0>), tensor(2.6351, device='cuda:0', grad_fn=<DivBackward0>), tensor(2.6848, device='cuda:0', grad_fn=<DivBackward0>), tensor(2.6136, device='cuda:0', grad_fn=<DivBackward0>), tensor(2.6315, device='cuda:0', grad_fn=<DivBackward0>), tensor(2.5963, device='cuda:0', grad_fn=<DivBackward0>), tensor(2.6102, device='cuda:0', grad_fn=<DivBackward0>), tensor(2.6331, device='cuda:0', grad_fn=<DivBackward0>), tensor(2.5857, device='cuda:0', grad_fn=<DivBackward0>), tensor(2.5603, device='cuda:0', grad_fn=<DivBackward0>), tensor(2.5702, device='cuda:0', grad_fn=<DivBackward0>), tensor(2.5805, device='cuda:0', grad_fn=<DivBackward0>), tensor(2.5890, device='cuda:0', grad_fn=<DivBackward0>), tensor(2.5939, device='cuda:0', grad_fn=<DivBackward0>), tensor(2.6066, device='cuda:0', grad_fn=<DivBackward0>), tensor(2.5467, device='cuda:0', grad_fn=<DivBackward0>), tensor(2.5353, device='cuda:0', grad_fn=<DivBackward0>), tensor(2.5336, device='cuda:0', grad_fn=<DivBackward0>), tensor(2.5508, device='cuda:0', grad_fn=<DivBackward0>), tensor(2.5316, device='cuda:0', grad_fn=<DivBackward0>), tensor(2.4984, device='cuda:0', grad_fn=<DivBackward0>), tensor(2.4943, device='cuda:0', grad_fn=<DivBackward0>), tensor(2.4880, device='cuda:0', grad_fn=<DivBackward0>), tensor(2.4735, device='cuda:0', grad_fn=<DivBackward0>), tensor(2.5274, device='cuda:0', grad_fn=<DivBackward0>), tensor(2.5017, device='cuda:0', grad_fn=<DivBackward0>), tensor(2.4937, device='cuda:0', grad_fn=<DivBackward0>), tensor(2.4637, device='cuda:0', grad_fn=<DivBackward0>), tensor(2.4532, device='cuda:0', grad_fn=<DivBackward0>), tensor(2.4300, device='cuda:0', grad_fn=<DivBackward0>), tensor(2.5026, device='cuda:0', grad_fn=<DivBackward0>), tensor(2.4928, device='cuda:0', grad_fn=<DivBackward0>), tensor(2.5274, device='cuda:0', grad_fn=<DivBackward0>), tensor(2.4466, device='cuda:0', grad_fn=<DivBackward0>), tensor(2.4581, device='cuda:0', grad_fn=<DivBackward0>), tensor(2.4301, device='cuda:0', grad_fn=<DivBackward0>), tensor(2.4469, device='cuda:0', grad_fn=<DivBackward0>), tensor(2.4440, device='cuda:0', grad_fn=<DivBackward0>), tensor(2.4282, device='cuda:0', grad_fn=<DivBackward0>), tensor(2.4315, device='cuda:0', grad_fn=<DivBackward0>), tensor(2.4040, device='cuda:0', grad_fn=<DivBackward0>), tensor(2.4251, device='cuda:0', grad_fn=<DivBackward0>), tensor(2.4367, device='cuda:0', grad_fn=<DivBackward0>), tensor(2.4258, device='cuda:0', grad_fn=<DivBackward0>), tensor(2.4224, device='cuda:0', grad_fn=<DivBackward0>), tensor(2.3925, device='cuda:0', grad_fn=<DivBackward0>), tensor(2.3902, device='cuda:0', grad_fn=<DivBackward0>), tensor(2.3804, device='cuda:0', grad_fn=<DivBackward0>), tensor(2.4192, device='cuda:0', grad_fn=<DivBackward0>), tensor(2.4185, device='cuda:0', grad_fn=<DivBackward0>), tensor(2.4239, device='cuda:0', grad_fn=<DivBackward0>), tensor(2.4488, device='cuda:0', grad_fn=<DivBackward0>), tensor(2.3899, device='cuda:0', grad_fn=<DivBackward0>), tensor(2.4398, device='cuda:0', grad_fn=<DivBackward0>), tensor(2.4177, device='cuda:0', grad_fn=<DivBackward0>), tensor(2.4172, device='cuda:0', grad_fn=<DivBackward0>), tensor(2.3822, device='cuda:0', grad_fn=<DivBackward0>), tensor(2.3720, device='cuda:0', grad_fn=<DivBackward0>), tensor(2.4095, device='cuda:0', grad_fn=<DivBackward0>), tensor(2.3557, device='cuda:0', grad_fn=<DivBackward0>), tensor(2.3609, device='cuda:0', grad_fn=<DivBackward0>), tensor(2.3715, device='cuda:0', grad_fn=<DivBackward0>), tensor(2.3539, device='cuda:0', grad_fn=<DivBackward0>), tensor(2.3501, device='cuda:0', grad_fn=<DivBackward0>), tensor(2.3520, device='cuda:0', grad_fn=<DivBackward0>), tensor(2.3629, device='cuda:0', grad_fn=<DivBackward0>), tensor(2.3481, device='cuda:0', grad_fn=<DivBackward0>), tensor(2.3536, device='cuda:0', grad_fn=<DivBackward0>), tensor(2.3374, device='cuda:0', grad_fn=<DivBackward0>), tensor(2.3890, device='cuda:0', grad_fn=<DivBackward0>), tensor(2.3259, device='cuda:0', grad_fn=<DivBackward0>), tensor(2.3736, device='cuda:0', grad_fn=<DivBackward0>), tensor(2.3498, device='cuda:0', grad_fn=<DivBackward0>), tensor(2.3746, device='cuda:0', grad_fn=<DivBackward0>), tensor(2.3137, device='cuda:0', grad_fn=<DivBackward0>), tensor(2.3543, device='cuda:0', grad_fn=<DivBackward0>), tensor(2.3332, device='cuda:0', grad_fn=<DivBackward0>), tensor(2.2921, device='cuda:0', grad_fn=<DivBackward0>), tensor(2.2922, device='cuda:0', grad_fn=<DivBackward0>), tensor(2.3127, device='cuda:0', grad_fn=<DivBackward0>), tensor(2.3360, device='cuda:0', grad_fn=<DivBackward0>), tensor(2.2968, device='cuda:0', grad_fn=<DivBackward0>), tensor(2.2437, device='cuda:0', grad_fn=<DivBackward0>), tensor(2.2930, device='cuda:0', grad_fn=<DivBackward0>), tensor(2.2736, device='cuda:0', grad_fn=<DivBackward0>), tensor(2.3631, device='cuda:0', grad_fn=<DivBackward0>), tensor(2.2486, device='cuda:0', grad_fn=<DivBackward0>), tensor(2.3101, device='cuda:0', grad_fn=<DivBackward0>), tensor(2.2765, device='cuda:0', grad_fn=<DivBackward0>), tensor(2.2454, device='cuda:0', grad_fn=<DivBackward0>), tensor(2.2522, device='cuda:0', grad_fn=<DivBackward0>), tensor(2.2648, device='cuda:0', grad_fn=<DivBackward0>), tensor(2.2811, device='cuda:0', grad_fn=<DivBackward0>), tensor(2.2307, device='cuda:0', grad_fn=<DivBackward0>), tensor(2.2236, device='cuda:0', grad_fn=<DivBackward0>), tensor(2.2908, device='cuda:0', grad_fn=<DivBackward0>), tensor(2.2532, device='cuda:0', grad_fn=<DivBackward0>), tensor(2.2569, device='cuda:0', grad_fn=<DivBackward0>), tensor(2.2901, device='cuda:0', grad_fn=<DivBackward0>), tensor(2.3274, device='cuda:0', grad_fn=<DivBackward0>), tensor(2.3574, device='cuda:0', grad_fn=<DivBackward0>), tensor(2.2803, device='cuda:0', grad_fn=<DivBackward0>), tensor(2.2849, device='cuda:0', grad_fn=<DivBackward0>), tensor(2.2294, device='cuda:0', grad_fn=<DivBackward0>), tensor(2.2622, device='cuda:0', grad_fn=<DivBackward0>), tensor(2.1890, device='cuda:0', grad_fn=<DivBackward0>), tensor(2.2293, device='cuda:0', grad_fn=<DivBackward0>), tensor(2.2211, device='cuda:0', grad_fn=<DivBackward0>), tensor(2.2225, device='cuda:0', grad_fn=<DivBackward0>), tensor(2.2334, device='cuda:0', grad_fn=<DivBackward0>), tensor(2.2303, device='cuda:0', grad_fn=<DivBackward0>), tensor(2.2330, device='cuda:0', grad_fn=<DivBackward0>), tensor(2.1840, device='cuda:0', grad_fn=<DivBackward0>), tensor(2.2152, device='cuda:0', grad_fn=<DivBackward0>), tensor(2.1713, device='cuda:0', grad_fn=<DivBackward0>), tensor(2.2135, device='cuda:0', grad_fn=<DivBackward0>), tensor(2.2145, device='cuda:0', grad_fn=<DivBackward0>), tensor(2.2090, device='cuda:0', grad_fn=<DivBackward0>), tensor(2.2659, device='cuda:0', grad_fn=<DivBackward0>), tensor(2.2336, device='cuda:0', grad_fn=<DivBackward0>), tensor(2.2632, device='cuda:0', grad_fn=<DivBackward0>), tensor(2.2009, device='cuda:0', grad_fn=<DivBackward0>), tensor(2.1971, device='cuda:0', grad_fn=<DivBackward0>), tensor(2.2125, device='cuda:0', grad_fn=<DivBackward0>), tensor(2.2139, device='cuda:0', grad_fn=<DivBackward0>), tensor(2.2065, device='cuda:0', grad_fn=<DivBackward0>), tensor(2.1872, device='cuda:0', grad_fn=<DivBackward0>), tensor(2.1784, device='cuda:0', grad_fn=<DivBackward0>), tensor(2.1666, device='cuda:0', grad_fn=<DivBackward0>), tensor(2.2043, device='cuda:0', grad_fn=<DivBackward0>), tensor(2.1651, device='cuda:0', grad_fn=<DivBackward0>), tensor(2.2174, device='cuda:0', grad_fn=<DivBackward0>), tensor(2.2779, device='cuda:0', grad_fn=<DivBackward0>), tensor(2.2609, device='cuda:0', grad_fn=<DivBackward0>), tensor(2.1819, device='cuda:0', grad_fn=<DivBackward0>), tensor(2.2306, device='cuda:0', grad_fn=<DivBackward0>), tensor(2.3287, device='cuda:0', grad_fn=<DivBackward0>), tensor(2.2651, device='cuda:0', grad_fn=<DivBackward0>), tensor(2.2673, device='cuda:0', grad_fn=<DivBackward0>), tensor(2.3033, device='cuda:0', grad_fn=<DivBackward0>), tensor(2.2844, device='cuda:0', grad_fn=<DivBackward0>), tensor(2.2914, device='cuda:0', grad_fn=<DivBackward0>), tensor(2.2419, device='cuda:0', grad_fn=<DivBackward0>), tensor(2.2828, device='cuda:0', grad_fn=<DivBackward0>), tensor(2.2700, device='cuda:0', grad_fn=<DivBackward0>), tensor(2.2521, device='cuda:0', grad_fn=<DivBackward0>), tensor(2.2423, device='cuda:0', grad_fn=<DivBackward0>), tensor(2.2305, device='cuda:0', grad_fn=<DivBackward0>), tensor(2.2435, device='cuda:0', grad_fn=<DivBackward0>), tensor(2.2374, device='cuda:0', grad_fn=<DivBackward0>), tensor(2.2229, device='cuda:0', grad_fn=<DivBackward0>), tensor(2.2634, device='cuda:0', grad_fn=<DivBackward0>), tensor(2.2519, device='cuda:0', grad_fn=<DivBackward0>), tensor(2.3091, device='cuda:0', grad_fn=<DivBackward0>), tensor(2.2270, device='cuda:0', grad_fn=<DivBackward0>), tensor(2.2135, device='cuda:0', grad_fn=<DivBackward0>), tensor(2.3193, device='cuda:0', grad_fn=<DivBackward0>), tensor(2.1884, device='cuda:0', grad_fn=<DivBackward0>), tensor(2.1897, device='cuda:0', grad_fn=<DivBackward0>), tensor(2.2204, device='cuda:0', grad_fn=<DivBackward0>), tensor(2.1852, device='cuda:0', grad_fn=<DivBackward0>), tensor(2.2112, device='cuda:0', grad_fn=<DivBackward0>), tensor(2.1744, device='cuda:0', grad_fn=<DivBackward0>), tensor(2.2161, device='cuda:0', grad_fn=<DivBackward0>), tensor(2.1462, device='cuda:0', grad_fn=<DivBackward0>), tensor(2.1174, device='cuda:0', grad_fn=<DivBackward0>), tensor(2.1676, device='cuda:0', grad_fn=<DivBackward0>), tensor(2.1408, device='cuda:0', grad_fn=<DivBackward0>), tensor(2.2322, device='cuda:0', grad_fn=<DivBackward0>), tensor(2.2124, device='cuda:0', grad_fn=<DivBackward0>), tensor(2.1382, device='cuda:0', grad_fn=<DivBackward0>), tensor(2.1584, device='cuda:0', grad_fn=<DivBackward0>), tensor(2.1238, device='cuda:0', grad_fn=<DivBackward0>), tensor(2.1454, device='cuda:0', grad_fn=<DivBackward0>), tensor(2.1410, device='cuda:0', grad_fn=<DivBackward0>), tensor(2.1328, device='cuda:0', grad_fn=<DivBackward0>), tensor(2.1731, device='cuda:0', grad_fn=<DivBackward0>), tensor(2.1203, device='cuda:0', grad_fn=<DivBackward0>), tensor(2.1543, device='cuda:0', grad_fn=<DivBackward0>), tensor(2.0963, device='cuda:0', grad_fn=<DivBackward0>), tensor(2.1063, device='cuda:0', grad_fn=<DivBackward0>), tensor(2.1579, device='cuda:0', grad_fn=<DivBackward0>), tensor(2.0965, device='cuda:0', grad_fn=<DivBackward0>), tensor(2.1050, device='cuda:0', grad_fn=<DivBackward0>), tensor(2.0995, device='cuda:0', grad_fn=<DivBackward0>), tensor(2.0777, device='cuda:0', grad_fn=<DivBackward0>), tensor(2.1339, device='cuda:0', grad_fn=<DivBackward0>), tensor(2.1044, device='cuda:0', grad_fn=<DivBackward0>), tensor(2.1399, device='cuda:0', grad_fn=<DivBackward0>), tensor(2.0741, device='cuda:0', grad_fn=<DivBackward0>), tensor(2.1109, device='cuda:0', grad_fn=<DivBackward0>), tensor(2.1236, device='cuda:0', grad_fn=<DivBackward0>), tensor(2.0881, device='cuda:0', grad_fn=<DivBackward0>), tensor(2.0996, device='cuda:0', grad_fn=<DivBackward0>), tensor(2.0926, device='cuda:0', grad_fn=<DivBackward0>), tensor(2.0771, device='cuda:0', grad_fn=<DivBackward0>), tensor(2.0968, device='cuda:0', grad_fn=<DivBackward0>), tensor(2.1313, device='cuda:0', grad_fn=<DivBackward0>), tensor(2.1299, device='cuda:0', grad_fn=<DivBackward0>), tensor(2.1113, device='cuda:0', grad_fn=<DivBackward0>), tensor(2.0680, device='cuda:0', grad_fn=<DivBackward0>), tensor(2.0732, device='cuda:0', grad_fn=<DivBackward0>), tensor(2.0896, device='cuda:0', grad_fn=<DivBackward0>), tensor(2.0671, device='cuda:0', grad_fn=<DivBackward0>), tensor(2.1041, device='cuda:0', grad_fn=<DivBackward0>), tensor(2.0711, device='cuda:0', grad_fn=<DivBackward0>), tensor(2.1142, device='cuda:0', grad_fn=<DivBackward0>), tensor(2.1021, device='cuda:0', grad_fn=<DivBackward0>), tensor(2.1050, device='cuda:0', grad_fn=<DivBackward0>), tensor(2.0606, device='cuda:0', grad_fn=<DivBackward0>), tensor(2.0541, device='cuda:0', grad_fn=<DivBackward0>), tensor(2.0622, device='cuda:0', grad_fn=<DivBackward0>), tensor(2.0427, device='cuda:0', grad_fn=<DivBackward0>), tensor(2.0774, device='cuda:0', grad_fn=<DivBackward0>), tensor(2.0723, device='cuda:0', grad_fn=<DivBackward0>), tensor(2.0756, device='cuda:0', grad_fn=<DivBackward0>), tensor(2.1400, device='cuda:0', grad_fn=<DivBackward0>), tensor(2.0672, device='cuda:0', grad_fn=<DivBackward0>), tensor(2.1192, device='cuda:0', grad_fn=<DivBackward0>), tensor(2.1158, device='cuda:0', grad_fn=<DivBackward0>), tensor(2.0894, device='cuda:0', grad_fn=<DivBackward0>), tensor(2.0349, device='cuda:0', grad_fn=<DivBackward0>), tensor(2.0642, device='cuda:0', grad_fn=<DivBackward0>), tensor(2.0927, device='cuda:0', grad_fn=<DivBackward0>), tensor(2.0536, device='cuda:0', grad_fn=<DivBackward0>), tensor(2.1730, device='cuda:0', grad_fn=<DivBackward0>), tensor(2.1718, device='cuda:0', grad_fn=<DivBackward0>), tensor(2.1508, device='cuda:0', grad_fn=<DivBackward0>), tensor(2.1226, device='cuda:0', grad_fn=<DivBackward0>), tensor(2.0647, device='cuda:0', grad_fn=<DivBackward0>), tensor(2.0909, device='cuda:0', grad_fn=<DivBackward0>), tensor(2.0705, device='cuda:0', grad_fn=<DivBackward0>), tensor(2.1087, device='cuda:0', grad_fn=<DivBackward0>), tensor(2.0867, device='cuda:0', grad_fn=<DivBackward0>), tensor(2.0538, device='cuda:0', grad_fn=<DivBackward0>), tensor(2.0324, device='cuda:0', grad_fn=<DivBackward0>), tensor(2.1216, device='cuda:0', grad_fn=<DivBackward0>), tensor(2.1204, device='cuda:0', grad_fn=<DivBackward0>), tensor(2.0983, device='cuda:0', grad_fn=<DivBackward0>), tensor(2.1595, device='cuda:0', grad_fn=<DivBackward0>), tensor(2.0707, device='cuda:0', grad_fn=<DivBackward0>), tensor(2.0675, device='cuda:0', grad_fn=<DivBackward0>), tensor(2.0600, device='cuda:0', grad_fn=<DivBackward0>), tensor(2.0563, device='cuda:0', grad_fn=<DivBackward0>), tensor(2.0606, device='cuda:0', grad_fn=<DivBackward0>), tensor(2.0893, device='cuda:0', grad_fn=<DivBackward0>), tensor(2.0626, device='cuda:0', grad_fn=<DivBackward0>), tensor(2.0998, device='cuda:0', grad_fn=<DivBackward0>), tensor(2.1150, device='cuda:0', grad_fn=<DivBackward0>), tensor(2.1050, device='cuda:0', grad_fn=<DivBackward0>), tensor(2.0372, device='cuda:0', grad_fn=<DivBackward0>), tensor(2.0521, device='cuda:0', grad_fn=<DivBackward0>), tensor(2.0455, device='cuda:0', grad_fn=<DivBackward0>), tensor(2.0918, device='cuda:0', grad_fn=<DivBackward0>), tensor(2.0843, device='cuda:0', grad_fn=<DivBackward0>), tensor(2.0757, device='cuda:0', grad_fn=<DivBackward0>), tensor(2.0401, device='cuda:0', grad_fn=<DivBackward0>), tensor(2.0154, device='cuda:0', grad_fn=<DivBackward0>), tensor(2.0513, device='cuda:0', grad_fn=<DivBackward0>), tensor(1.9991, device='cuda:0', grad_fn=<DivBackward0>), tensor(2.0599, device='cuda:0', grad_fn=<DivBackward0>), tensor(2.0865, device='cuda:0', grad_fn=<DivBackward0>), tensor(1.9690, device='cuda:0', grad_fn=<DivBackward0>), tensor(2.0489, device='cuda:0', grad_fn=<DivBackward0>), tensor(2.0451, device='cuda:0', grad_fn=<DivBackward0>), tensor(2.0752, device='cuda:0', grad_fn=<DivBackward0>), tensor(2.0657, device='cuda:0', grad_fn=<DivBackward0>), tensor(2.0263, device='cuda:0', grad_fn=<DivBackward0>), tensor(2.0956, device='cuda:0', grad_fn=<DivBackward0>), tensor(2.1260, device='cuda:0', grad_fn=<DivBackward0>), tensor(2.0987, device='cuda:0', grad_fn=<DivBackward0>), tensor(2.1171, device='cuda:0', grad_fn=<DivBackward0>), tensor(2.0967, device='cuda:0', grad_fn=<DivBackward0>), tensor(2.1115, device='cuda:0', grad_fn=<DivBackward0>), tensor(2.0869, device='cuda:0', grad_fn=<DivBackward0>), tensor(2.0739, device='cuda:0', grad_fn=<DivBackward0>), tensor(2.0950, device='cuda:0', grad_fn=<DivBackward0>), tensor(2.0530, device='cuda:0', grad_fn=<DivBackward0>), tensor(2.0752, device='cuda:0', grad_fn=<DivBackward0>), tensor(2.0790, device='cuda:0', grad_fn=<DivBackward0>), tensor(2.0560, device='cuda:0', grad_fn=<DivBackward0>), tensor(2.1127, device='cuda:0', grad_fn=<DivBackward0>), tensor(2.1107, device='cuda:0', grad_fn=<DivBackward0>), tensor(2.1355, device='cuda:0', grad_fn=<DivBackward0>), tensor(2.0976, device='cuda:0', grad_fn=<DivBackward0>), tensor(2.1481, device='cuda:0', grad_fn=<DivBackward0>), tensor(2.1230, device='cuda:0', grad_fn=<DivBackward0>), tensor(2.1599, device='cuda:0', grad_fn=<DivBackward0>), tensor(2.1125, device='cuda:0', grad_fn=<DivBackward0>), tensor(2.1384, device='cuda:0', grad_fn=<DivBackward0>), tensor(2.0994, device='cuda:0', grad_fn=<DivBackward0>), tensor(2.1002, device='cuda:0', grad_fn=<DivBackward0>), tensor(2.1659, device='cuda:0', grad_fn=<DivBackward0>), tensor(2.1044, device='cuda:0', grad_fn=<DivBackward0>), tensor(2.1131, device='cuda:0', grad_fn=<DivBackward0>), tensor(2.0395, device='cuda:0', grad_fn=<DivBackward0>), tensor(2.0868, device='cuda:0', grad_fn=<DivBackward0>), tensor(2.1176, device='cuda:0', grad_fn=<DivBackward0>), tensor(2.1322, device='cuda:0', grad_fn=<DivBackward0>), tensor(2.1534, device='cuda:0', grad_fn=<DivBackward0>), tensor(2.0912, device='cuda:0', grad_fn=<DivBackward0>), tensor(2.0777, device='cuda:0', grad_fn=<DivBackward0>), tensor(2.1088, device='cuda:0', grad_fn=<DivBackward0>), tensor(2.0931, device='cuda:0', grad_fn=<DivBackward0>), tensor(2.0791, device='cuda:0', grad_fn=<DivBackward0>), tensor(2.0617, device='cuda:0', grad_fn=<DivBackward0>), tensor(2.0666, device='cuda:0', grad_fn=<DivBackward0>), tensor(2.0722, device='cuda:0', grad_fn=<DivBackward0>), tensor(2.0152, device='cuda:0', grad_fn=<DivBackward0>), tensor(2.0616, device='cuda:0', grad_fn=<DivBackward0>), tensor(2.0790, device='cuda:0', grad_fn=<DivBackward0>), tensor(2.0715, device='cuda:0', grad_fn=<DivBackward0>), tensor(2.0129, device='cuda:0', grad_fn=<DivBackward0>), tensor(2.0457, device='cuda:0', grad_fn=<DivBackward0>), tensor(2.0514, device='cuda:0', grad_fn=<DivBackward0>), tensor(2.0982, device='cuda:0', grad_fn=<DivBackward0>), tensor(2.0819, device='cuda:0', grad_fn=<DivBackward0>), tensor(2.0758, device='cuda:0', grad_fn=<DivBackward0>), tensor(2.0287, device='cuda:0', grad_fn=<DivBackward0>), tensor(2.0554, device='cuda:0', grad_fn=<DivBackward0>), tensor(2.0733, device='cuda:0', grad_fn=<DivBackward0>), tensor(2.0385, device='cuda:0', grad_fn=<DivBackward0>), tensor(2.0536, device='cuda:0', grad_fn=<DivBackward0>), tensor(2.0422, device='cuda:0', grad_fn=<DivBackward0>), tensor(2.0184, device='cuda:0', grad_fn=<DivBackward0>), tensor(2.0446, device='cuda:0', grad_fn=<DivBackward0>), tensor(2.0272, device='cuda:0', grad_fn=<DivBackward0>), tensor(2.0149, device='cuda:0', grad_fn=<DivBackward0>), tensor(2.0335, device='cuda:0', grad_fn=<DivBackward0>), tensor(2.0354, device='cuda:0', grad_fn=<DivBackward0>), tensor(2.0053, device='cuda:0', grad_fn=<DivBackward0>), tensor(2.0212, device='cuda:0', grad_fn=<DivBackward0>), tensor(2.0043, device='cuda:0', grad_fn=<DivBackward0>), tensor(2.0333, device='cuda:0', grad_fn=<DivBackward0>), tensor(2.0695, device='cuda:0', grad_fn=<DivBackward0>), tensor(2.0034, device='cuda:0', grad_fn=<DivBackward0>), tensor(2.1064, device='cuda:0', grad_fn=<DivBackward0>), tensor(2.0093, device='cuda:0', grad_fn=<DivBackward0>), tensor(2.0161, device='cuda:0', grad_fn=<DivBackward0>), tensor(2.0513, device='cuda:0', grad_fn=<DivBackward0>), tensor(2.0740, device='cuda:0', grad_fn=<DivBackward0>), tensor(2.0101, device='cuda:0', grad_fn=<DivBackward0>), tensor(2.0091, device='cuda:0', grad_fn=<DivBackward0>), tensor(2.0303, device='cuda:0', grad_fn=<DivBackward0>), tensor(2.0485, device='cuda:0', grad_fn=<DivBackward0>), tensor(2.0093, device='cuda:0', grad_fn=<DivBackward0>), tensor(2.0323, device='cuda:0', grad_fn=<DivBackward0>), tensor(2.0289, device='cuda:0', grad_fn=<DivBackward0>), tensor(2.0132, device='cuda:0', grad_fn=<DivBackward0>), tensor(2.0249, device='cuda:0', grad_fn=<DivBackward0>), tensor(2.0217, device='cuda:0', grad_fn=<DivBackward0>), tensor(2.0231, device='cuda:0', grad_fn=<DivBackward0>), tensor(1.9855, device='cuda:0', grad_fn=<DivBackward0>), tensor(1.9860, device='cuda:0', grad_fn=<DivBackward0>), tensor(2.0359, device='cuda:0', grad_fn=<DivBackward0>), tensor(1.9858, device='cuda:0', grad_fn=<DivBackward0>), tensor(2.0414, device='cuda:0', grad_fn=<DivBackward0>), tensor(2.0560, device='cuda:0', grad_fn=<DivBackward0>), tensor(2.0258, device='cuda:0', grad_fn=<DivBackward0>), tensor(2.0099, device='cuda:0', grad_fn=<DivBackward0>), tensor(2.0250, device='cuda:0', grad_fn=<DivBackward0>), tensor(2.0081, device='cuda:0', grad_fn=<DivBackward0>), tensor(1.9932, device='cuda:0', grad_fn=<DivBackward0>), tensor(1.9890, device='cuda:0', grad_fn=<DivBackward0>), tensor(2.0096, device='cuda:0', grad_fn=<DivBackward0>), tensor(2.0168, device='cuda:0', grad_fn=<DivBackward0>), tensor(2.0050, device='cuda:0', grad_fn=<DivBackward0>), tensor(1.9910, device='cuda:0', grad_fn=<DivBackward0>), tensor(1.9806, device='cuda:0', grad_fn=<DivBackward0>), tensor(1.9800, device='cuda:0', grad_fn=<DivBackward0>), tensor(2.0541, device='cuda:0', grad_fn=<DivBackward0>), tensor(1.9604, device='cuda:0', grad_fn=<DivBackward0>), tensor(2.0163, device='cuda:0', grad_fn=<DivBackward0>), tensor(2.0099, device='cuda:0', grad_fn=<DivBackward0>), tensor(1.9906, device='cuda:0', grad_fn=<DivBackward0>), tensor(1.9735, device='cuda:0', grad_fn=<DivBackward0>), tensor(1.9856, device='cuda:0', grad_fn=<DivBackward0>), tensor(1.9782, device='cuda:0', grad_fn=<DivBackward0>), tensor(1.9513, device='cuda:0', grad_fn=<DivBackward0>), tensor(1.9625, device='cuda:0', grad_fn=<DivBackward0>), tensor(1.9947, device='cuda:0', grad_fn=<DivBackward0>), tensor(1.9852, device='cuda:0', grad_fn=<DivBackward0>), tensor(1.9938, device='cuda:0', grad_fn=<DivBackward0>), tensor(2.0561, device='cuda:0', grad_fn=<DivBackward0>), tensor(2.0077, device='cuda:0', grad_fn=<DivBackward0>), tensor(2.1429, device='cuda:0', grad_fn=<DivBackward0>), tensor(1.9975, device='cuda:0', grad_fn=<DivBackward0>), tensor(2.0307, device='cuda:0', grad_fn=<DivBackward0>), tensor(1.9619, device='cuda:0', grad_fn=<DivBackward0>), tensor(2.0104, device='cuda:0', grad_fn=<DivBackward0>), tensor(1.9397, device='cuda:0', grad_fn=<DivBackward0>), tensor(1.9816, device='cuda:0', grad_fn=<DivBackward0>), tensor(1.9670, device='cuda:0', grad_fn=<DivBackward0>), tensor(1.9872, device='cuda:0', grad_fn=<DivBackward0>), tensor(1.9997, device='cuda:0', grad_fn=<DivBackward0>), tensor(2.0179, device='cuda:0', grad_fn=<DivBackward0>), tensor(2.0128, device='cuda:0', grad_fn=<DivBackward0>), tensor(1.9312, device='cuda:0', grad_fn=<DivBackward0>), tensor(1.9774, device='cuda:0', grad_fn=<DivBackward0>), tensor(1.9528, device='cuda:0', grad_fn=<DivBackward0>), tensor(1.9907, device='cuda:0', grad_fn=<DivBackward0>), tensor(2.0140, device='cuda:0', grad_fn=<DivBackward0>), tensor(1.9847, device='cuda:0', grad_fn=<DivBackward0>), tensor(1.9995, device='cuda:0', grad_fn=<DivBackward0>), tensor(2.0073, device='cuda:0', grad_fn=<DivBackward0>), tensor(1.9863, device='cuda:0', grad_fn=<DivBackward0>), tensor(1.9558, device='cuda:0', grad_fn=<DivBackward0>), tensor(1.9345, device='cuda:0', grad_fn=<DivBackward0>), tensor(1.9541, device='cuda:0', grad_fn=<DivBackward0>), tensor(1.9959, device='cuda:0', grad_fn=<DivBackward0>), tensor(1.9544, device='cuda:0', grad_fn=<DivBackward0>), tensor(1.9479, device='cuda:0', grad_fn=<DivBackward0>), tensor(1.9500, device='cuda:0', grad_fn=<DivBackward0>), tensor(1.9433, device='cuda:0', grad_fn=<DivBackward0>), tensor(1.9568, device='cuda:0', grad_fn=<DivBackward0>), tensor(1.9449, device='cuda:0', grad_fn=<DivBackward0>), tensor(1.9591, device='cuda:0', grad_fn=<DivBackward0>), tensor(1.9590, device='cuda:0', grad_fn=<DivBackward0>), tensor(1.9748, device='cuda:0', grad_fn=<DivBackward0>), tensor(1.9038, device='cuda:0', grad_fn=<DivBackward0>), tensor(1.9641, device='cuda:0', grad_fn=<DivBackward0>), tensor(2.0400, device='cuda:0', grad_fn=<DivBackward0>), tensor(2.0270, device='cuda:0', grad_fn=<DivBackward0>), tensor(2.0313, device='cuda:0', grad_fn=<DivBackward0>), tensor(2.0952, device='cuda:0', grad_fn=<DivBackward0>), tensor(2.0534, device='cuda:0', grad_fn=<DivBackward0>), tensor(2.0790, device='cuda:0', grad_fn=<DivBackward0>), tensor(2.0201, device='cuda:0', grad_fn=<DivBackward0>), tensor(2.0719, device='cuda:0', grad_fn=<DivBackward0>), tensor(2.0655, device='cuda:0', grad_fn=<DivBackward0>), tensor(2.0392, device='cuda:0', grad_fn=<DivBackward0>), tensor(2.0035, device='cuda:0', grad_fn=<DivBackward0>), tensor(1.9972, device='cuda:0', grad_fn=<DivBackward0>), tensor(2.0152, device='cuda:0', grad_fn=<DivBackward0>), tensor(2.0176, device='cuda:0', grad_fn=<DivBackward0>), tensor(2.0200, device='cuda:0', grad_fn=<DivBackward0>), tensor(2.0554, device='cuda:0', grad_fn=<DivBackward0>), tensor(2.0505, device='cuda:0', grad_fn=<DivBackward0>), tensor(2.1053, device='cuda:0', grad_fn=<DivBackward0>), tensor(2.0159, device='cuda:0', grad_fn=<DivBackward0>), tensor(2.0063, device='cuda:0', grad_fn=<DivBackward0>), tensor(2.1391, device='cuda:0', grad_fn=<DivBackward0>), tensor(1.9941, device='cuda:0', grad_fn=<DivBackward0>), tensor(2.0088, device='cuda:0', grad_fn=<DivBackward0>), tensor(2.0439, device='cuda:0', grad_fn=<DivBackward0>), tensor(2.0086, device='cuda:0', grad_fn=<DivBackward0>), tensor(2.0270, device='cuda:0', grad_fn=<DivBackward0>), tensor(1.9928, device='cuda:0', grad_fn=<DivBackward0>), tensor(2.0265, device='cuda:0', grad_fn=<DivBackward0>), tensor(1.9725, device='cuda:0', grad_fn=<DivBackward0>), tensor(1.9349, device='cuda:0', grad_fn=<DivBackward0>), tensor(1.9878, device='cuda:0', grad_fn=<DivBackward0>), tensor(1.9536, device='cuda:0', grad_fn=<DivBackward0>), tensor(2.0518, device='cuda:0', grad_fn=<DivBackward0>), tensor(2.0203, device='cuda:0', grad_fn=<DivBackward0>), tensor(1.9538, device='cuda:0', grad_fn=<DivBackward0>), tensor(1.9776, device='cuda:0', grad_fn=<DivBackward0>), tensor(1.9391, device='cuda:0', grad_fn=<DivBackward0>), tensor(1.9514, device='cuda:0', grad_fn=<DivBackward0>), tensor(1.9903, device='cuda:0', grad_fn=<DivBackward0>), tensor(1.9706, device='cuda:0', grad_fn=<DivBackward0>), tensor(1.9893, device='cuda:0', grad_fn=<DivBackward0>), tensor(1.9466, device='cuda:0', grad_fn=<DivBackward0>), tensor(1.9847, device='cuda:0', grad_fn=<DivBackward0>), tensor(1.9373, device='cuda:0', grad_fn=<DivBackward0>), tensor(1.9283, device='cuda:0', grad_fn=<DivBackward0>), tensor(1.9843, device='cuda:0', grad_fn=<DivBackward0>), tensor(1.9411, device='cuda:0', grad_fn=<DivBackward0>), tensor(1.9572, device='cuda:0', grad_fn=<DivBackward0>), tensor(1.9446, device='cuda:0', grad_fn=<DivBackward0>), tensor(1.8998, device='cuda:0', grad_fn=<DivBackward0>), tensor(1.9621, device='cuda:0', grad_fn=<DivBackward0>), tensor(1.9303, device='cuda:0', grad_fn=<DivBackward0>), tensor(1.9892, device='cuda:0', grad_fn=<DivBackward0>), tensor(1.9026, device='cuda:0', grad_fn=<DivBackward0>), tensor(1.9420, device='cuda:0', grad_fn=<DivBackward0>), tensor(1.9393, device='cuda:0', grad_fn=<DivBackward0>), tensor(1.9339, device='cuda:0', grad_fn=<DivBackward0>), tensor(1.9212, device='cuda:0', grad_fn=<DivBackward0>), tensor(1.9057, device='cuda:0', grad_fn=<DivBackward0>), tensor(1.9166, device='cuda:0', grad_fn=<DivBackward0>), tensor(1.9208, device='cuda:0', grad_fn=<DivBackward0>), tensor(1.9598, device='cuda:0', grad_fn=<DivBackward0>), tensor(1.9623, device='cuda:0', grad_fn=<DivBackward0>), tensor(1.9405, device='cuda:0', grad_fn=<DivBackward0>), tensor(1.8793, device='cuda:0', grad_fn=<DivBackward0>), tensor(1.9065, device='cuda:0', grad_fn=<DivBackward0>), tensor(1.9224, device='cuda:0', grad_fn=<DivBackward0>), tensor(1.8973, device='cuda:0', grad_fn=<DivBackward0>), tensor(1.9076, device='cuda:0', grad_fn=<DivBackward0>), tensor(1.9085, device='cuda:0', grad_fn=<DivBackward0>), tensor(1.9266, device='cuda:0', grad_fn=<DivBackward0>), tensor(1.9008, device='cuda:0', grad_fn=<DivBackward0>), tensor(1.9278, device='cuda:0', grad_fn=<DivBackward0>), tensor(1.8813, device='cuda:0', grad_fn=<DivBackward0>), tensor(1.8826, device='cuda:0', grad_fn=<DivBackward0>), tensor(1.9123, device='cuda:0', grad_fn=<DivBackward0>), tensor(1.8703, device='cuda:0', grad_fn=<DivBackward0>), tensor(1.9312, device='cuda:0', grad_fn=<DivBackward0>), tensor(1.9010, device='cuda:0', grad_fn=<DivBackward0>), tensor(1.8884, device='cuda:0', grad_fn=<DivBackward0>), tensor(1.9949, device='cuda:0', grad_fn=<DivBackward0>), tensor(1.9013, device='cuda:0', grad_fn=<DivBackward0>), tensor(1.9166, device='cuda:0', grad_fn=<DivBackward0>), tensor(1.9404, device='cuda:0', grad_fn=<DivBackward0>), tensor(1.9062, device='cuda:0', grad_fn=<DivBackward0>), tensor(1.8926, device='cuda:0', grad_fn=<DivBackward0>), tensor(1.8890, device='cuda:0', grad_fn=<DivBackward0>), tensor(1.9085, device='cuda:0', grad_fn=<DivBackward0>), tensor(1.8910, device='cuda:0', grad_fn=<DivBackward0>), tensor(1.9957, device='cuda:0', grad_fn=<DivBackward0>), tensor(2.0006, device='cuda:0', grad_fn=<DivBackward0>), tensor(1.9792, device='cuda:0', grad_fn=<DivBackward0>), tensor(1.9313, device='cuda:0', grad_fn=<DivBackward0>), tensor(1.8771, device='cuda:0', grad_fn=<DivBackward0>), tensor(1.9015, device='cuda:0', grad_fn=<DivBackward0>), tensor(1.9077, device='cuda:0', grad_fn=<DivBackward0>), tensor(1.9241, device='cuda:0', grad_fn=<DivBackward0>), tensor(1.9134, device='cuda:0', grad_fn=<DivBackward0>), tensor(1.8781, device='cuda:0', grad_fn=<DivBackward0>), tensor(1.8482, device='cuda:0', grad_fn=<DivBackward0>), tensor(1.9676, device='cuda:0', grad_fn=<DivBackward0>), tensor(1.9921, device='cuda:0', grad_fn=<DivBackward0>), tensor(1.9217, device='cuda:0', grad_fn=<DivBackward0>), tensor(2.0156, device='cuda:0', grad_fn=<DivBackward0>), tensor(1.9271, device='cuda:0', grad_fn=<DivBackward0>), tensor(1.9102, device='cuda:0', grad_fn=<DivBackward0>), tensor(1.8940, device='cuda:0', grad_fn=<DivBackward0>), tensor(1.8893, device='cuda:0', grad_fn=<DivBackward0>), tensor(1.8922, device='cuda:0', grad_fn=<DivBackward0>), tensor(1.9341, device='cuda:0', grad_fn=<DivBackward0>), tensor(1.9151, device='cuda:0', grad_fn=<DivBackward0>), tensor(1.9254, device='cuda:0', grad_fn=<DivBackward0>), tensor(1.9688, device='cuda:0', grad_fn=<DivBackward0>), tensor(1.9634, device='cuda:0', grad_fn=<DivBackward0>), tensor(1.8814, device='cuda:0', grad_fn=<DivBackward0>), tensor(1.8839, device='cuda:0', grad_fn=<DivBackward0>), tensor(1.8787, device='cuda:0', grad_fn=<DivBackward0>), tensor(1.9364, device='cuda:0', grad_fn=<DivBackward0>), tensor(1.9368, device='cuda:0', grad_fn=<DivBackward0>), tensor(1.9389, device='cuda:0', grad_fn=<DivBackward0>), tensor(1.8858, device='cuda:0', grad_fn=<DivBackward0>), tensor(1.8636, device='cuda:0', grad_fn=<DivBackward0>), tensor(1.8902, device='cuda:0', grad_fn=<DivBackward0>), tensor(1.8364, device='cuda:0', grad_fn=<DivBackward0>), tensor(1.9064, device='cuda:0', grad_fn=<DivBackward0>), tensor(1.9227, device='cuda:0', grad_fn=<DivBackward0>), tensor(1.8155, device='cuda:0', grad_fn=<DivBackward0>), tensor(1.8917, device='cuda:0', grad_fn=<DivBackward0>), tensor(1.8903, device='cuda:0', grad_fn=<DivBackward0>), tensor(1.9268, device='cuda:0', grad_fn=<DivBackward0>), tensor(1.9115, device='cuda:0', grad_fn=<DivBackward0>), tensor(1.8564, device='cuda:0', grad_fn=<DivBackward0>), tensor(1.9538, device='cuda:0', grad_fn=<DivBackward0>), tensor(1.9986, device='cuda:0', grad_fn=<DivBackward0>), tensor(1.9393, device='cuda:0', grad_fn=<DivBackward0>), tensor(1.9491, device='cuda:0', grad_fn=<DivBackward0>), tensor(1.9584, device='cuda:0', grad_fn=<DivBackward0>), tensor(1.9641, device='cuda:0', grad_fn=<DivBackward0>), tensor(1.9249, device='cuda:0', grad_fn=<DivBackward0>), tensor(1.9187, device='cuda:0', grad_fn=<DivBackward0>), tensor(1.9330, device='cuda:0', grad_fn=<DivBackward0>), tensor(1.8979, device='cuda:0', grad_fn=<DivBackward0>), tensor(1.9250, device='cuda:0', grad_fn=<DivBackward0>), tensor(1.9360, device='cuda:0', grad_fn=<DivBackward0>), tensor(1.9156, device='cuda:0', grad_fn=<DivBackward0>), tensor(1.9481, device='cuda:0', grad_fn=<DivBackward0>), tensor(1.9770, device='cuda:0', grad_fn=<DivBackward0>), tensor(1.9696, device='cuda:0', grad_fn=<DivBackward0>), tensor(1.9468, device='cuda:0', grad_fn=<DivBackward0>), tensor(2.0054, device='cuda:0', grad_fn=<DivBackward0>), tensor(1.9678, device='cuda:0', grad_fn=<DivBackward0>), tensor(2.0193, device='cuda:0', grad_fn=<DivBackward0>), tensor(1.9579, device='cuda:0', grad_fn=<DivBackward0>), tensor(1.9802, device='cuda:0', grad_fn=<DivBackward0>), tensor(1.9664, device='cuda:0', grad_fn=<DivBackward0>), tensor(1.9516, device='cuda:0', grad_fn=<DivBackward0>), tensor(2.0248, device='cuda:0', grad_fn=<DivBackward0>), tensor(1.9581, device='cuda:0', grad_fn=<DivBackward0>), tensor(1.9691, device='cuda:0', grad_fn=<DivBackward0>), tensor(1.9010, device='cuda:0', grad_fn=<DivBackward0>), tensor(1.9224, device='cuda:0', grad_fn=<DivBackward0>), tensor(1.9607, device='cuda:0', grad_fn=<DivBackward0>), tensor(1.9801, device='cuda:0', grad_fn=<DivBackward0>), tensor(1.9962, device='cuda:0', grad_fn=<DivBackward0>), tensor(1.9493, device='cuda:0', grad_fn=<DivBackward0>), tensor(1.9476, device='cuda:0', grad_fn=<DivBackward0>), tensor(1.9522, device='cuda:0', grad_fn=<DivBackward0>), tensor(1.9697, device='cuda:0', grad_fn=<DivBackward0>), tensor(1.9256, device='cuda:0', grad_fn=<DivBackward0>), tensor(1.8961, device='cuda:0', grad_fn=<DivBackward0>), tensor(1.9174, device='cuda:0', grad_fn=<DivBackward0>), tensor(1.9281, device='cuda:0', grad_fn=<DivBackward0>), tensor(1.8711, device='cuda:0', grad_fn=<DivBackward0>), tensor(1.9263, device='cuda:0', grad_fn=<DivBackward0>), tensor(1.9523, device='cuda:0', grad_fn=<DivBackward0>), tensor(1.9299, device='cuda:0', grad_fn=<DivBackward0>), tensor(1.8848, device='cuda:0', grad_fn=<DivBackward0>), tensor(1.9247, device='cuda:0', grad_fn=<DivBackward0>), tensor(1.9293, device='cuda:0', grad_fn=<DivBackward0>), tensor(1.9586, device='cuda:0', grad_fn=<DivBackward0>), tensor(1.9449, device='cuda:0', grad_fn=<DivBackward0>), tensor(1.9191, device='cuda:0', grad_fn=<DivBackward0>), tensor(1.8909, device='cuda:0', grad_fn=<DivBackward0>), tensor(1.9192, device='cuda:0', grad_fn=<DivBackward0>), tensor(1.9409, device='cuda:0', grad_fn=<DivBackward0>), tensor(1.9115, device='cuda:0', grad_fn=<DivBackward0>), tensor(1.9077, device='cuda:0', grad_fn=<DivBackward0>), tensor(1.9269, device='cuda:0', grad_fn=<DivBackward0>), tensor(1.8973, device='cuda:0', grad_fn=<DivBackward0>), tensor(1.9381, device='cuda:0', grad_fn=<DivBackward0>), tensor(1.8957, device='cuda:0', grad_fn=<DivBackward0>), tensor(1.8807, device='cuda:0', grad_fn=<DivBackward0>), tensor(1.9021, device='cuda:0', grad_fn=<DivBackward0>), tensor(1.8826, device='cuda:0', grad_fn=<DivBackward0>), tensor(1.8707, device='cuda:0', grad_fn=<DivBackward0>), tensor(1.9075, device='cuda:0', grad_fn=<DivBackward0>), tensor(1.8572, device='cuda:0', grad_fn=<DivBackward0>), tensor(1.8979, device='cuda:0', grad_fn=<DivBackward0>), tensor(1.9605, device='cuda:0', grad_fn=<DivBackward0>), tensor(1.8343, device='cuda:0', grad_fn=<DivBackward0>), tensor(1.9762, device='cuda:0', grad_fn=<DivBackward0>), tensor(1.8558, device='cuda:0', grad_fn=<DivBackward0>), tensor(1.8559, device='cuda:0', grad_fn=<DivBackward0>), tensor(1.9121, device='cuda:0', grad_fn=<DivBackward0>), tensor(1.9509, device='cuda:0', grad_fn=<DivBackward0>), tensor(1.8577, device='cuda:0', grad_fn=<DivBackward0>), tensor(1.8666, device='cuda:0', grad_fn=<DivBackward0>), tensor(1.8742, device='cuda:0', grad_fn=<DivBackward0>), tensor(1.8984, device='cuda:0', grad_fn=<DivBackward0>), tensor(1.8598, device='cuda:0', grad_fn=<DivBackward0>), tensor(1.8902, device='cuda:0', grad_fn=<DivBackward0>), tensor(1.8690, device='cuda:0', grad_fn=<DivBackward0>), tensor(1.8904, device='cuda:0', grad_fn=<DivBackward0>), tensor(1.8871, device='cuda:0', grad_fn=<DivBackward0>), tensor(1.8947, device='cuda:0', grad_fn=<DivBackward0>), tensor(1.9337, device='cuda:0', grad_fn=<DivBackward0>), tensor(1.8242, device='cuda:0', grad_fn=<DivBackward0>), tensor(1.8544, device='cuda:0', grad_fn=<DivBackward0>), tensor(1.8972, device='cuda:0', grad_fn=<DivBackward0>), tensor(1.8509, device='cuda:0', grad_fn=<DivBackward0>), tensor(1.8909, device='cuda:0', grad_fn=<DivBackward0>), tensor(1.8984, device='cuda:0', grad_fn=<DivBackward0>), tensor(1.8765, device='cuda:0', grad_fn=<DivBackward0>), tensor(1.8545, device='cuda:0', grad_fn=<DivBackward0>), tensor(1.9018, device='cuda:0', grad_fn=<DivBackward0>), tensor(1.8479, device='cuda:0', grad_fn=<DivBackward0>), tensor(1.8698, device='cuda:0', grad_fn=<DivBackward0>), tensor(1.8283, device='cuda:0', grad_fn=<DivBackward0>), tensor(1.8654, device='cuda:0', grad_fn=<DivBackward0>), tensor(1.8655, device='cuda:0', grad_fn=<DivBackward0>), tensor(1.8987, device='cuda:0', grad_fn=<DivBackward0>), tensor(1.8611, device='cuda:0', grad_fn=<DivBackward0>), tensor(1.8476, device='cuda:0', grad_fn=<DivBackward0>), tensor(1.8415, device='cuda:0', grad_fn=<DivBackward0>), tensor(1.8967, device='cuda:0', grad_fn=<DivBackward0>), tensor(1.8381, device='cuda:0', grad_fn=<DivBackward0>), tensor(1.8832, device='cuda:0', grad_fn=<DivBackward0>), tensor(1.8772, device='cuda:0', grad_fn=<DivBackward0>), tensor(1.8524, device='cuda:0', grad_fn=<DivBackward0>), tensor(1.8401, device='cuda:0', grad_fn=<DivBackward0>), tensor(1.8407, device='cuda:0', grad_fn=<DivBackward0>), tensor(1.8338, device='cuda:0', grad_fn=<DivBackward0>), tensor(1.7982, device='cuda:0', grad_fn=<DivBackward0>), tensor(1.8218, device='cuda:0', grad_fn=<DivBackward0>), tensor(1.8695, device='cuda:0', grad_fn=<DivBackward0>), tensor(1.8193, device='cuda:0', grad_fn=<DivBackward0>), tensor(1.8524, device='cuda:0', grad_fn=<DivBackward0>), tensor(1.9161, device='cuda:0', grad_fn=<DivBackward0>), tensor(1.8615, device='cuda:0', grad_fn=<DivBackward0>), tensor(2.0391, device='cuda:0', grad_fn=<DivBackward0>), tensor(1.8420, device='cuda:0', grad_fn=<DivBackward0>), tensor(1.8943, device='cuda:0', grad_fn=<DivBackward0>), tensor(1.8248, device='cuda:0', grad_fn=<DivBackward0>), tensor(1.8537, device='cuda:0', grad_fn=<DivBackward0>), tensor(1.8075, device='cuda:0', grad_fn=<DivBackward0>), tensor(1.8615, device='cuda:0', grad_fn=<DivBackward0>), tensor(1.8290, device='cuda:0', grad_fn=<DivBackward0>), tensor(1.8525, device='cuda:0', grad_fn=<DivBackward0>), tensor(1.8566, device='cuda:0', grad_fn=<DivBackward0>), tensor(1.9016, device='cuda:0', grad_fn=<DivBackward0>), tensor(1.9058, device='cuda:0', grad_fn=<DivBackward0>), tensor(1.8052, device='cuda:0', grad_fn=<DivBackward0>), tensor(1.8348, device='cuda:0', grad_fn=<DivBackward0>), tensor(1.8341, device='cuda:0', grad_fn=<DivBackward0>), tensor(1.8770, device='cuda:0', grad_fn=<DivBackward0>), tensor(1.9040, device='cuda:0', grad_fn=<DivBackward0>), tensor(1.8735, device='cuda:0', grad_fn=<DivBackward0>), tensor(1.8863, device='cuda:0', grad_fn=<DivBackward0>), tensor(1.8780, device='cuda:0', grad_fn=<DivBackward0>), tensor(1.8430, device='cuda:0', grad_fn=<DivBackward0>), tensor(1.8247, device='cuda:0', grad_fn=<DivBackward0>), tensor(1.8027, device='cuda:0', grad_fn=<DivBackward0>), tensor(1.8131, device='cuda:0', grad_fn=<DivBackward0>), tensor(1.8735, device='cuda:0', grad_fn=<DivBackward0>), tensor(1.8386, device='cuda:0', grad_fn=<DivBackward0>), tensor(1.8357, device='cuda:0', grad_fn=<DivBackward0>), tensor(1.8250, device='cuda:0', grad_fn=<DivBackward0>), tensor(1.8201, device='cuda:0', grad_fn=<DivBackward0>), tensor(1.8319, device='cuda:0', grad_fn=<DivBackward0>), tensor(1.8312, device='cuda:0', grad_fn=<DivBackward0>), tensor(1.8480, device='cuda:0', grad_fn=<DivBackward0>), tensor(1.8516, device='cuda:0', grad_fn=<DivBackward0>), tensor(1.8645, device='cuda:0', grad_fn=<DivBackward0>), tensor(1.7663, device='cuda:0', grad_fn=<DivBackward0>), tensor(1.8465, device='cuda:0', grad_fn=<DivBackward0>), tensor(1.8945, device='cuda:0', grad_fn=<DivBackward0>), tensor(1.9105, device='cuda:0', grad_fn=<DivBackward0>), tensor(1.9162, device='cuda:0', grad_fn=<DivBackward0>), tensor(1.9655, device='cuda:0', grad_fn=<DivBackward0>), tensor(1.9200, device='cuda:0', grad_fn=<DivBackward0>), tensor(1.9358, device='cuda:0', grad_fn=<DivBackward0>), tensor(1.8936, device='cuda:0', grad_fn=<DivBackward0>), tensor(1.9493, device='cuda:0', grad_fn=<DivBackward0>), tensor(1.9366, device='cuda:0', grad_fn=<DivBackward0>), tensor(1.8991, device='cuda:0', grad_fn=<DivBackward0>), tensor(1.8662, device='cuda:0', grad_fn=<DivBackward0>), tensor(1.8618, device='cuda:0', grad_fn=<DivBackward0>), tensor(1.8832, device='cuda:0', grad_fn=<DivBackward0>), tensor(1.8933, device='cuda:0', grad_fn=<DivBackward0>), tensor(1.8721, device='cuda:0', grad_fn=<DivBackward0>), tensor(1.9092, device='cuda:0', grad_fn=<DivBackward0>), tensor(1.9201, device='cuda:0', grad_fn=<DivBackward0>), tensor(1.9626, device='cuda:0', grad_fn=<DivBackward0>), tensor(1.8765, device='cuda:0', grad_fn=<DivBackward0>), tensor(1.8807, device='cuda:0', grad_fn=<DivBackward0>), tensor(2.0190, device='cuda:0', grad_fn=<DivBackward0>), tensor(1.8706, device='cuda:0', grad_fn=<DivBackward0>), tensor(1.8766, device='cuda:0', grad_fn=<DivBackward0>), tensor(1.9207, device='cuda:0', grad_fn=<DivBackward0>), tensor(1.8811, device='cuda:0', grad_fn=<DivBackward0>), tensor(1.9030, device='cuda:0', grad_fn=<DivBackward0>), tensor(1.8836, device='cuda:0', grad_fn=<DivBackward0>), tensor(1.8996, device='cuda:0', grad_fn=<DivBackward0>), tensor(1.8506, device='cuda:0', grad_fn=<DivBackward0>), tensor(1.7974, device='cuda:0', grad_fn=<DivBackward0>), tensor(1.8691, device='cuda:0', grad_fn=<DivBackward0>), tensor(1.8276, device='cuda:0', grad_fn=<DivBackward0>), tensor(1.9309, device='cuda:0', grad_fn=<DivBackward0>), tensor(1.8998, device='cuda:0', grad_fn=<DivBackward0>), tensor(1.8340, device='cuda:0', grad_fn=<DivBackward0>), tensor(1.8609, device='cuda:0', grad_fn=<DivBackward0>), tensor(1.8166, device='cuda:0', grad_fn=<DivBackward0>), tensor(1.8211, device='cuda:0', grad_fn=<DivBackward0>), tensor(1.8575, device='cuda:0', grad_fn=<DivBackward0>), tensor(1.8477, device='cuda:0', grad_fn=<DivBackward0>), tensor(1.8547, device='cuda:0', grad_fn=<DivBackward0>), tensor(1.8427, device='cuda:0', grad_fn=<DivBackward0>), tensor(1.8610, device='cuda:0', grad_fn=<DivBackward0>), tensor(1.8206, device='cuda:0', grad_fn=<DivBackward0>), tensor(1.8082, device='cuda:0', grad_fn=<DivBackward0>), tensor(1.8803, device='cuda:0', grad_fn=<DivBackward0>), tensor(1.8337, device='cuda:0', grad_fn=<DivBackward0>), tensor(1.8420, device='cuda:0', grad_fn=<DivBackward0>), tensor(1.8408, device='cuda:0', grad_fn=<DivBackward0>), tensor(1.7712, device='cuda:0', grad_fn=<DivBackward0>), tensor(1.8468, device='cuda:0', grad_fn=<DivBackward0>), tensor(1.8067, device='cuda:0', grad_fn=<DivBackward0>), tensor(1.8665, device='cuda:0', grad_fn=<DivBackward0>), tensor(1.7886, device='cuda:0', grad_fn=<DivBackward0>), tensor(1.8401, device='cuda:0', grad_fn=<DivBackward0>), tensor(1.8119, device='cuda:0', grad_fn=<DivBackward0>), tensor(1.8179, device='cuda:0', grad_fn=<DivBackward0>), tensor(1.7766, device='cuda:0', grad_fn=<DivBackward0>), tensor(1.7826, device='cuda:0', grad_fn=<DivBackward0>), tensor(1.8119, device='cuda:0', grad_fn=<DivBackward0>), tensor(1.7958, device='cuda:0', grad_fn=<DivBackward0>), tensor(1.8476, device='cuda:0', grad_fn=<DivBackward0>), tensor(1.8546, device='cuda:0', grad_fn=<DivBackward0>), tensor(1.8064, device='cuda:0', grad_fn=<DivBackward0>), tensor(1.7477, device='cuda:0', grad_fn=<DivBackward0>), tensor(1.7932, device='cuda:0', grad_fn=<DivBackward0>), tensor(1.8028, device='cuda:0', grad_fn=<DivBackward0>), tensor(1.7845, device='cuda:0', grad_fn=<DivBackward0>), tensor(1.7790, device='cuda:0', grad_fn=<DivBackward0>), tensor(1.7839, device='cuda:0', grad_fn=<DivBackward0>), tensor(1.7984, device='cuda:0', grad_fn=<DivBackward0>), tensor(1.7616, device='cuda:0', grad_fn=<DivBackward0>), tensor(1.8021, device='cuda:0', grad_fn=<DivBackward0>), tensor(1.7503, device='cuda:0', grad_fn=<DivBackward0>), tensor(1.7591, device='cuda:0', grad_fn=<DivBackward0>), tensor(1.7903, device='cuda:0', grad_fn=<DivBackward0>), tensor(1.7434, device='cuda:0', grad_fn=<DivBackward0>), tensor(1.8131, device='cuda:0', grad_fn=<DivBackward0>), tensor(1.7807, device='cuda:0', grad_fn=<DivBackward0>), tensor(1.7583, device='cuda:0', grad_fn=<DivBackward0>), tensor(1.8832, device='cuda:0', grad_fn=<DivBackward0>), tensor(1.7907, device='cuda:0', grad_fn=<DivBackward0>), tensor(1.7835, device='cuda:0', grad_fn=<DivBackward0>), tensor(1.7955, device='cuda:0', grad_fn=<DivBackward0>), tensor(1.7963, device='cuda:0', grad_fn=<DivBackward0>), tensor(1.7787, device='cuda:0', grad_fn=<DivBackward0>), tensor(1.7693, device='cuda:0', grad_fn=<DivBackward0>), tensor(1.7772, device='cuda:0', grad_fn=<DivBackward0>), tensor(1.7679, device='cuda:0', grad_fn=<DivBackward0>), tensor(1.8849, device='cuda:0', grad_fn=<DivBackward0>), tensor(1.9001, device='cuda:0', grad_fn=<DivBackward0>), tensor(1.8748, device='cuda:0', grad_fn=<DivBackward0>), tensor(1.8091, device='cuda:0', grad_fn=<DivBackward0>), tensor(1.7452, device='cuda:0', grad_fn=<DivBackward0>), tensor(1.7840, device='cuda:0', grad_fn=<DivBackward0>), tensor(1.7840, device='cuda:0', grad_fn=<DivBackward0>), tensor(1.8045, device='cuda:0', grad_fn=<DivBackward0>), tensor(1.7964, device='cuda:0', grad_fn=<DivBackward0>), tensor(1.7540, device='cuda:0', grad_fn=<DivBackward0>), tensor(1.7243, device='cuda:0', grad_fn=<DivBackward0>), tensor(1.8519, device='cuda:0', grad_fn=<DivBackward0>), tensor(1.8912, device='cuda:0', grad_fn=<DivBackward0>), tensor(1.8028, device='cuda:0', grad_fn=<DivBackward0>), tensor(1.9008, device='cuda:0', grad_fn=<DivBackward0>), tensor(1.8241, device='cuda:0', grad_fn=<DivBackward0>), tensor(1.7932, device='cuda:0', grad_fn=<DivBackward0>), tensor(1.7727, device='cuda:0', grad_fn=<DivBackward0>), tensor(1.7586, device='cuda:0', grad_fn=<DivBackward0>), tensor(1.7557, device='cuda:0', grad_fn=<DivBackward0>), tensor(1.8146, device='cuda:0', grad_fn=<DivBackward0>), tensor(1.7786, device='cuda:0', grad_fn=<DivBackward0>), tensor(1.8001, device='cuda:0', grad_fn=<DivBackward0>), tensor(1.8522, device='cuda:0', grad_fn=<DivBackward0>), tensor(1.8322, device='cuda:0', grad_fn=<DivBackward0>), tensor(1.7585, device='cuda:0', grad_fn=<DivBackward0>), tensor(1.7689, device='cuda:0', grad_fn=<DivBackward0>), tensor(1.7647, device='cuda:0', grad_fn=<DivBackward0>), tensor(1.8066, device='cuda:0', grad_fn=<DivBackward0>), tensor(1.8129, device='cuda:0', grad_fn=<DivBackward0>), tensor(1.8389, device='cuda:0', grad_fn=<DivBackward0>), tensor(1.7722, device='cuda:0', grad_fn=<DivBackward0>), tensor(1.7545, device='cuda:0', grad_fn=<DivBackward0>), tensor(1.7732, device='cuda:0', grad_fn=<DivBackward0>), tensor(1.7228, device='cuda:0', grad_fn=<DivBackward0>), tensor(1.7668, device='cuda:0', grad_fn=<DivBackward0>), tensor(1.8062, device='cuda:0', grad_fn=<DivBackward0>), tensor(1.7105, device='cuda:0', grad_fn=<DivBackward0>), tensor(1.7617, device='cuda:0', grad_fn=<DivBackward0>), tensor(1.7628, device='cuda:0', grad_fn=<DivBackward0>), tensor(1.8040, device='cuda:0', grad_fn=<DivBackward0>), tensor(1.8024, device='cuda:0', grad_fn=<DivBackward0>), tensor(1.7342, device='cuda:0', grad_fn=<DivBackward0>), tensor(1.8477, device='cuda:0', grad_fn=<DivBackward0>), tensor(1.8964, device='cuda:0', grad_fn=<DivBackward0>), tensor(1.8244, device='cuda:0', grad_fn=<DivBackward0>), tensor(1.8264, device='cuda:0', grad_fn=<DivBackward0>), tensor(1.8413, device='cuda:0', grad_fn=<DivBackward0>), tensor(1.8587, device='cuda:0', grad_fn=<DivBackward0>), tensor(1.8001, device='cuda:0', grad_fn=<DivBackward0>), tensor(1.8010, device='cuda:0', grad_fn=<DivBackward0>), tensor(1.8171, device='cuda:0', grad_fn=<DivBackward0>), tensor(1.7843, device='cuda:0', grad_fn=<DivBackward0>), tensor(1.7997, device='cuda:0', grad_fn=<DivBackward0>), tensor(1.8176, device='cuda:0', grad_fn=<DivBackward0>), tensor(1.7916, device='cuda:0', grad_fn=<DivBackward0>), tensor(1.8348, device='cuda:0', grad_fn=<DivBackward0>), tensor(1.8417, device='cuda:0', grad_fn=<DivBackward0>), tensor(1.8353, device='cuda:0', grad_fn=<DivBackward0>), tensor(1.8217, device='cuda:0', grad_fn=<DivBackward0>), tensor(1.8952, device='cuda:0', grad_fn=<DivBackward0>), tensor(1.8504, device='cuda:0', grad_fn=<DivBackward0>), tensor(1.9052, device='cuda:0', grad_fn=<DivBackward0>), tensor(1.8143, device='cuda:0', grad_fn=<DivBackward0>), tensor(1.8790, device='cuda:0', grad_fn=<DivBackward0>), tensor(1.8494, device='cuda:0', grad_fn=<DivBackward0>), tensor(1.8240, device='cuda:0', grad_fn=<DivBackward0>), tensor(1.9223, device='cuda:0', grad_fn=<DivBackward0>), tensor(1.8282, device='cuda:0', grad_fn=<DivBackward0>), tensor(1.8493, device='cuda:0', grad_fn=<DivBackward0>), tensor(1.7587, device='cuda:0', grad_fn=<DivBackward0>), tensor(1.7807, device='cuda:0', grad_fn=<DivBackward0>), tensor(1.8287, device='cuda:0', grad_fn=<DivBackward0>), tensor(1.8555, device='cuda:0', grad_fn=<DivBackward0>), tensor(1.8557, device='cuda:0', grad_fn=<DivBackward0>), tensor(1.8362, device='cuda:0', grad_fn=<DivBackward0>), tensor(1.8399, device='cuda:0', grad_fn=<DivBackward0>), tensor(1.8229, device='cuda:0', grad_fn=<DivBackward0>), tensor(1.8659, device='cuda:0', grad_fn=<DivBackward0>), tensor(1.8164, device='cuda:0', grad_fn=<DivBackward0>), tensor(1.7761, device='cuda:0', grad_fn=<DivBackward0>), tensor(1.7979, device='cuda:0', grad_fn=<DivBackward0>), tensor(1.8166, device='cuda:0', grad_fn=<DivBackward0>), tensor(1.7637, device='cuda:0', grad_fn=<DivBackward0>), tensor(1.7801, device='cuda:0', grad_fn=<DivBackward0>), tensor(1.8327, device='cuda:0', grad_fn=<DivBackward0>), tensor(1.8278, device='cuda:0', grad_fn=<DivBackward0>), tensor(1.7679, device='cuda:0', grad_fn=<DivBackward0>), tensor(1.8135, device='cuda:0', grad_fn=<DivBackward0>), tensor(1.8188, device='cuda:0', grad_fn=<DivBackward0>), tensor(1.8302, device='cuda:0', grad_fn=<DivBackward0>), tensor(1.8259, device='cuda:0', grad_fn=<DivBackward0>), tensor(1.7712, device='cuda:0', grad_fn=<DivBackward0>), tensor(1.7694, device='cuda:0', grad_fn=<DivBackward0>), tensor(1.7939, device='cuda:0', grad_fn=<DivBackward0>), tensor(1.8371, device='cuda:0', grad_fn=<DivBackward0>), tensor(1.8039, device='cuda:0', grad_fn=<DivBackward0>), tensor(1.7829, device='cuda:0', grad_fn=<DivBackward0>), tensor(1.8328, device='cuda:0', grad_fn=<DivBackward0>), tensor(1.7938, device='cuda:0', grad_fn=<DivBackward0>), tensor(1.8296, device='cuda:0', grad_fn=<DivBackward0>), tensor(1.7873, device='cuda:0', grad_fn=<DivBackward0>), tensor(1.7555, device='cuda:0', grad_fn=<DivBackward0>), tensor(1.7803, device='cuda:0', grad_fn=<DivBackward0>), tensor(1.7555, device='cuda:0', grad_fn=<DivBackward0>), tensor(1.7507, device='cuda:0', grad_fn=<DivBackward0>), tensor(1.8039, device='cuda:0', grad_fn=<DivBackward0>), tensor(1.7438, device='cuda:0', grad_fn=<DivBackward0>), tensor(1.7936, device='cuda:0', grad_fn=<DivBackward0>), tensor(1.8598, device='cuda:0', grad_fn=<DivBackward0>), tensor(1.6964, device='cuda:0', grad_fn=<DivBackward0>), tensor(1.8563, device='cuda:0', grad_fn=<DivBackward0>), tensor(1.7081, device='cuda:0', grad_fn=<DivBackward0>), tensor(1.7060, device='cuda:0', grad_fn=<DivBackward0>), tensor(1.7800, device='cuda:0', grad_fn=<DivBackward0>), tensor(1.8216, device='cuda:0', grad_fn=<DivBackward0>), tensor(1.7206, device='cuda:0', grad_fn=<DivBackward0>), tensor(1.7345, device='cuda:0', grad_fn=<DivBackward0>), tensor(1.7358, device='cuda:0', grad_fn=<DivBackward0>), tensor(1.7834, device='cuda:0', grad_fn=<DivBackward0>), tensor(1.7350, device='cuda:0', grad_fn=<DivBackward0>), tensor(1.7591, device='cuda:0', grad_fn=<DivBackward0>), tensor(1.7393, device='cuda:0', grad_fn=<DivBackward0>), tensor(1.7731, device='cuda:0', grad_fn=<DivBackward0>), tensor(1.7556, device='cuda:0', grad_fn=<DivBackward0>), tensor(1.7688, device='cuda:0', grad_fn=<DivBackward0>), tensor(1.7944, device='cuda:0', grad_fn=<DivBackward0>), tensor(1.6930, device='cuda:0', grad_fn=<DivBackward0>), tensor(1.7067, device='cuda:0', grad_fn=<DivBackward0>), tensor(1.7500, device='cuda:0', grad_fn=<DivBackward0>), tensor(1.7260, device='cuda:0', grad_fn=<DivBackward0>), tensor(1.7390, device='cuda:0', grad_fn=<DivBackward0>), tensor(1.7390, device='cuda:0', grad_fn=<DivBackward0>), tensor(1.7215, device='cuda:0', grad_fn=<DivBackward0>), tensor(1.7093, device='cuda:0', grad_fn=<DivBackward0>), tensor(1.7707, device='cuda:0', grad_fn=<DivBackward0>), tensor(1.6957, device='cuda:0', grad_fn=<DivBackward0>), tensor(1.7140, device='cuda:0', grad_fn=<DivBackward0>), tensor(1.6644, device='cuda:0', grad_fn=<DivBackward0>), tensor(1.7173, device='cuda:0', grad_fn=<DivBackward0>), tensor(1.7226, device='cuda:0', grad_fn=<DivBackward0>), tensor(1.7821, device='cuda:0', grad_fn=<DivBackward0>), tensor(1.7348, device='cuda:0', grad_fn=<DivBackward0>), tensor(1.7049, device='cuda:0', grad_fn=<DivBackward0>), tensor(1.6842, device='cuda:0', grad_fn=<DivBackward0>), tensor(1.7584, device='cuda:0', grad_fn=<DivBackward0>), tensor(1.6811, device='cuda:0', grad_fn=<DivBackward0>), tensor(1.7251, device='cuda:0', grad_fn=<DivBackward0>), tensor(1.7355, device='cuda:0', grad_fn=<DivBackward0>), tensor(1.7083, device='cuda:0', grad_fn=<DivBackward0>), tensor(1.6907, device='cuda:0', grad_fn=<DivBackward0>), tensor(1.6870, device='cuda:0', grad_fn=<DivBackward0>), tensor(1.6838, device='cuda:0', grad_fn=<DivBackward0>), tensor(1.6464, device='cuda:0', grad_fn=<DivBackward0>), tensor(1.6746, device='cuda:0', grad_fn=<DivBackward0>), tensor(1.7392, device='cuda:0', grad_fn=<DivBackward0>), tensor(1.6624, device='cuda:0', grad_fn=<DivBackward0>), tensor(1.6994, device='cuda:0', grad_fn=<DivBackward0>), tensor(1.7669, device='cuda:0', grad_fn=<DivBackward0>), tensor(1.7004, device='cuda:0', grad_fn=<DivBackward0>), tensor(1.9271, device='cuda:0', grad_fn=<DivBackward0>), tensor(1.7056, device='cuda:0', grad_fn=<DivBackward0>), tensor(1.7536, device='cuda:0', grad_fn=<DivBackward0>), tensor(1.6771, device='cuda:0', grad_fn=<DivBackward0>), tensor(1.7015, device='cuda:0', grad_fn=<DivBackward0>), tensor(1.6770, device='cuda:0', grad_fn=<DivBackward0>), tensor(1.7311, device='cuda:0', grad_fn=<DivBackward0>), tensor(1.6925, device='cuda:0', grad_fn=<DivBackward0>), tensor(1.7093, device='cuda:0', grad_fn=<DivBackward0>), tensor(1.7075, device='cuda:0', grad_fn=<DivBackward0>), tensor(1.7802, device='cuda:0', grad_fn=<DivBackward0>), tensor(1.7786, device='cuda:0', grad_fn=<DivBackward0>), tensor(1.6679, device='cuda:0', grad_fn=<DivBackward0>), tensor(1.6964, device='cuda:0', grad_fn=<DivBackward0>), tensor(1.6979, device='cuda:0', grad_fn=<DivBackward0>), tensor(1.7443, device='cuda:0', grad_fn=<DivBackward0>), tensor(1.7969, device='cuda:0', grad_fn=<DivBackward0>), tensor(1.7415, device='cuda:0', grad_fn=<DivBackward0>), tensor(1.7544, device='cuda:0', grad_fn=<DivBackward0>), tensor(1.7308, device='cuda:0', grad_fn=<DivBackward0>), tensor(1.6973, device='cuda:0', grad_fn=<DivBackward0>), tensor(1.6912, device='cuda:0', grad_fn=<DivBackward0>), tensor(1.6708, device='cuda:0', grad_fn=<DivBackward0>), tensor(1.6650, device='cuda:0', grad_fn=<DivBackward0>), tensor(1.7332, device='cuda:0', grad_fn=<DivBackward0>), tensor(1.6965, device='cuda:0', grad_fn=<DivBackward0>), tensor(1.7124, device='cuda:0', grad_fn=<DivBackward0>), tensor(1.6841, device='cuda:0', grad_fn=<DivBackward0>), tensor(1.6997, device='cuda:0', grad_fn=<DivBackward0>), tensor(1.6957, device='cuda:0', grad_fn=<DivBackward0>), tensor(1.6993, device='cuda:0', grad_fn=<DivBackward0>), tensor(1.7214, device='cuda:0', grad_fn=<DivBackward0>), tensor(1.7184, device='cuda:0', grad_fn=<DivBackward0>), tensor(1.7337, device='cuda:0', grad_fn=<DivBackward0>), tensor(1.6260, device='cuda:0', grad_fn=<DivBackward0>), tensor(1.7202, device='cuda:0', grad_fn=<DivBackward0>), tensor(1.7448, device='cuda:0', grad_fn=<DivBackward0>), tensor(1.7735, device='cuda:0', grad_fn=<DivBackward0>), tensor(1.7920, device='cuda:0', grad_fn=<DivBackward0>), tensor(1.8464, device='cuda:0', grad_fn=<DivBackward0>), tensor(1.7830, device='cuda:0', grad_fn=<DivBackward0>), tensor(1.7918, device='cuda:0', grad_fn=<DivBackward0>), tensor(1.7391, device='cuda:0', grad_fn=<DivBackward0>), tensor(1.8150, device='cuda:0', grad_fn=<DivBackward0>), tensor(1.8035, device='cuda:0', grad_fn=<DivBackward0>), tensor(1.7374, device='cuda:0', grad_fn=<DivBackward0>), tensor(1.7101, device='cuda:0', grad_fn=<DivBackward0>), tensor(1.7288, device='cuda:0', grad_fn=<DivBackward0>), tensor(1.7427, device='cuda:0', grad_fn=<DivBackward0>), tensor(1.7671, device='cuda:0', grad_fn=<DivBackward0>), tensor(1.7334, device='cuda:0', grad_fn=<DivBackward0>), tensor(1.7548, device='cuda:0', grad_fn=<DivBackward0>), tensor(1.7694, device='cuda:0', grad_fn=<DivBackward0>), tensor(1.8201, device='cuda:0', grad_fn=<DivBackward0>), tensor(1.7284, device='cuda:0', grad_fn=<DivBackward0>), tensor(1.7507, device='cuda:0', grad_fn=<DivBackward0>), tensor(1.8966, device='cuda:0', grad_fn=<DivBackward0>), tensor(1.7449, device='cuda:0', grad_fn=<DivBackward0>), tensor(1.7531, device='cuda:0', grad_fn=<DivBackward0>), tensor(1.7882, device='cuda:0', grad_fn=<DivBackward0>), tensor(1.7536, device='cuda:0', grad_fn=<DivBackward0>), tensor(1.7872, device='cuda:0', grad_fn=<DivBackward0>), tensor(1.7520, device='cuda:0', grad_fn=<DivBackward0>), tensor(1.7574, device='cuda:0', grad_fn=<DivBackward0>), tensor(1.7406, device='cuda:0', grad_fn=<DivBackward0>), tensor(1.6534, device='cuda:0', grad_fn=<DivBackward0>), tensor(1.7483, device='cuda:0', grad_fn=<DivBackward0>), tensor(1.7006, device='cuda:0', grad_fn=<DivBackward0>), tensor(1.8350, device='cuda:0', grad_fn=<DivBackward0>), tensor(1.7691, device='cuda:0', grad_fn=<DivBackward0>), tensor(1.6994, device='cuda:0', grad_fn=<DivBackward0>), tensor(1.7368, device='cuda:0', grad_fn=<DivBackward0>), tensor(1.6941, device='cuda:0', grad_fn=<DivBackward0>), tensor(1.6899, device='cuda:0', grad_fn=<DivBackward0>), tensor(1.7139, device='cuda:0', grad_fn=<DivBackward0>), tensor(1.7192, device='cuda:0', grad_fn=<DivBackward0>), tensor(1.7489, device='cuda:0', grad_fn=<DivBackward0>), tensor(1.7324, device='cuda:0', grad_fn=<DivBackward0>), tensor(1.7378, device='cuda:0', grad_fn=<DivBackward0>), tensor(1.7044, device='cuda:0', grad_fn=<DivBackward0>), tensor(1.6960, device='cuda:0', grad_fn=<DivBackward0>), tensor(1.7671, device='cuda:0', grad_fn=<DivBackward0>), tensor(1.7210, device='cuda:0', grad_fn=<DivBackward0>), tensor(1.7283, device='cuda:0', grad_fn=<DivBackward0>), tensor(1.7449, device='cuda:0', grad_fn=<DivBackward0>), tensor(1.6492, device='cuda:0', grad_fn=<DivBackward0>), tensor(1.7174, device='cuda:0', grad_fn=<DivBackward0>), tensor(1.6752, device='cuda:0', grad_fn=<DivBackward0>), tensor(1.7621, device='cuda:0', grad_fn=<DivBackward0>), tensor(1.6885, device='cuda:0', grad_fn=<DivBackward0>), tensor(1.7333, device='cuda:0', grad_fn=<DivBackward0>), tensor(1.6867, device='cuda:0', grad_fn=<DivBackward0>), tensor(1.6947, device='cuda:0', grad_fn=<DivBackward0>), tensor(1.6499, device='cuda:0', grad_fn=<DivBackward0>), tensor(1.6621, device='cuda:0', grad_fn=<DivBackward0>), tensor(1.6826, device='cuda:0', grad_fn=<DivBackward0>), tensor(1.6620, device='cuda:0', grad_fn=<DivBackward0>), tensor(1.7192, device='cuda:0', grad_fn=<DivBackward0>), tensor(1.7142, device='cuda:0', grad_fn=<DivBackward0>), tensor(1.6665, device='cuda:0', grad_fn=<DivBackward0>), tensor(1.6114, device='cuda:0', grad_fn=<DivBackward0>), tensor(1.6757, device='cuda:0', grad_fn=<DivBackward0>), tensor(1.6739, device='cuda:0', grad_fn=<DivBackward0>), tensor(1.6617, device='cuda:0', grad_fn=<DivBackward0>), tensor(1.6497, device='cuda:0', grad_fn=<DivBackward0>), tensor(1.6432, device='cuda:0', grad_fn=<DivBackward0>), tensor(1.6506, device='cuda:0', grad_fn=<DivBackward0>), tensor(1.6302, device='cuda:0', grad_fn=<DivBackward0>), tensor(1.6746, device='cuda:0', grad_fn=<DivBackward0>), tensor(1.6092, device='cuda:0', grad_fn=<DivBackward0>), tensor(1.6241, device='cuda:0', grad_fn=<DivBackward0>), tensor(1.6670, device='cuda:0', grad_fn=<DivBackward0>), tensor(1.6197, device='cuda:0', grad_fn=<DivBackward0>), tensor(1.6990, device='cuda:0', grad_fn=<DivBackward0>), tensor(1.6510, device='cuda:0', grad_fn=<DivBackward0>), tensor(1.6337, device='cuda:0', grad_fn=<DivBackward0>), tensor(1.7811, device='cuda:0', grad_fn=<DivBackward0>), tensor(1.6687, device='cuda:0', grad_fn=<DivBackward0>), tensor(1.6503, device='cuda:0', grad_fn=<DivBackward0>), tensor(1.6717, device='cuda:0', grad_fn=<DivBackward0>), tensor(1.6711, device='cuda:0', grad_fn=<DivBackward0>), tensor(1.6627, device='cuda:0', grad_fn=<DivBackward0>), tensor(1.6431, device='cuda:0', grad_fn=<DivBackward0>), tensor(1.6392, device='cuda:0', grad_fn=<DivBackward0>), tensor(1.6271, device='cuda:0', grad_fn=<DivBackward0>), tensor(1.7483, device='cuda:0', grad_fn=<DivBackward0>), tensor(1.7855, device='cuda:0', grad_fn=<DivBackward0>), tensor(1.7484, device='cuda:0', grad_fn=<DivBackward0>), tensor(1.6752, device='cuda:0', grad_fn=<DivBackward0>), tensor(1.6078, device='cuda:0', grad_fn=<DivBackward0>), tensor(1.6552, device='cuda:0', grad_fn=<DivBackward0>), tensor(1.6403, device='cuda:0', grad_fn=<DivBackward0>), tensor(1.6906, device='cuda:0', grad_fn=<DivBackward0>), tensor(1.6538, device='cuda:0', grad_fn=<DivBackward0>), tensor(1.6300, device='cuda:0', grad_fn=<DivBackward0>), tensor(1.5860, device='cuda:0', grad_fn=<DivBackward0>), tensor(1.7160, device='cuda:0', grad_fn=<DivBackward0>), tensor(1.7728, device='cuda:0', grad_fn=<DivBackward0>), tensor(1.6784, device='cuda:0', grad_fn=<DivBackward0>), tensor(1.7763, device='cuda:0', grad_fn=<DivBackward0>), tensor(1.7037, device='cuda:0', grad_fn=<DivBackward0>), tensor(1.6713, device='cuda:0', grad_fn=<DivBackward0>), tensor(1.6368, device='cuda:0', grad_fn=<DivBackward0>), tensor(1.6153, device='cuda:0', grad_fn=<DivBackward0>), tensor(1.6123, device='cuda:0', grad_fn=<DivBackward0>), tensor(1.6932, device='cuda:0', grad_fn=<DivBackward0>), tensor(1.6524, device='cuda:0', grad_fn=<DivBackward0>), tensor(1.6672, device='cuda:0', grad_fn=<DivBackward0>), tensor(1.7189, device='cuda:0', grad_fn=<DivBackward0>), tensor(1.7063, device='cuda:0', grad_fn=<DivBackward0>), tensor(1.6158, device='cuda:0', grad_fn=<DivBackward0>), tensor(1.6129, device='cuda:0', grad_fn=<DivBackward0>), tensor(1.6144, device='cuda:0', grad_fn=<DivBackward0>), tensor(1.6705, device='cuda:0', grad_fn=<DivBackward0>), tensor(1.6797, device='cuda:0', grad_fn=<DivBackward0>), tensor(1.7020, device='cuda:0', grad_fn=<DivBackward0>), tensor(1.6478, device='cuda:0', grad_fn=<DivBackward0>), tensor(1.6367, device='cuda:0', grad_fn=<DivBackward0>), tensor(1.6522, device='cuda:0', grad_fn=<DivBackward0>), tensor(1.5935, device='cuda:0', grad_fn=<DivBackward0>), tensor(1.6480, device='cuda:0', grad_fn=<DivBackward0>), tensor(1.6835, device='cuda:0', grad_fn=<DivBackward0>), tensor(1.5856, device='cuda:0', grad_fn=<DivBackward0>), tensor(1.6402, device='cuda:0', grad_fn=<DivBackward0>), tensor(1.6362, device='cuda:0', grad_fn=<DivBackward0>), tensor(1.6806, device='cuda:0', grad_fn=<DivBackward0>), tensor(1.6784, device='cuda:0', grad_fn=<DivBackward0>), tensor(1.6137, device='cuda:0', grad_fn=<DivBackward0>), tensor(1.7231, device='cuda:0', grad_fn=<DivBackward0>), tensor(1.7547, device='cuda:0', grad_fn=<DivBackward0>), tensor(1.6961, device='cuda:0', grad_fn=<DivBackward0>), tensor(1.7082, device='cuda:0', grad_fn=<DivBackward0>), tensor(1.7199, device='cuda:0', grad_fn=<DivBackward0>), tensor(1.7377, device='cuda:0', grad_fn=<DivBackward0>), tensor(1.6626, device='cuda:0', grad_fn=<DivBackward0>), tensor(1.6773, device='cuda:0', grad_fn=<DivBackward0>), tensor(1.6870, device='cuda:0', grad_fn=<DivBackward0>), tensor(1.6632, device='cuda:0', grad_fn=<DivBackward0>), tensor(1.6680, device='cuda:0', grad_fn=<DivBackward0>), tensor(1.7002, device='cuda:0', grad_fn=<DivBackward0>), tensor(1.6643, device='cuda:0', grad_fn=<DivBackward0>), tensor(1.7146, device='cuda:0', grad_fn=<DivBackward0>), tensor(1.7099, device='cuda:0', grad_fn=<DivBackward0>), tensor(1.6979, device='cuda:0', grad_fn=<DivBackward0>), tensor(1.7034, device='cuda:0', grad_fn=<DivBackward0>), tensor(1.7798, device='cuda:0', grad_fn=<DivBackward0>), tensor(1.7214, device='cuda:0', grad_fn=<DivBackward0>), tensor(1.7776, device='cuda:0', grad_fn=<DivBackward0>), tensor(1.6766, device='cuda:0', grad_fn=<DivBackward0>), tensor(1.7261, device='cuda:0', grad_fn=<DivBackward0>), tensor(1.7061, device='cuda:0', grad_fn=<DivBackward0>), tensor(1.6707, device='cuda:0', grad_fn=<DivBackward0>), tensor(1.8014, device='cuda:0', grad_fn=<DivBackward0>), tensor(1.6967, device='cuda:0', grad_fn=<DivBackward0>), tensor(1.7310, device='cuda:0', grad_fn=<DivBackward0>), tensor(1.6221, device='cuda:0', grad_fn=<DivBackward0>), tensor(1.6503, device='cuda:0', grad_fn=<DivBackward0>), tensor(1.7058, device='cuda:0', grad_fn=<DivBackward0>), tensor(1.7235, device='cuda:0', grad_fn=<DivBackward0>), tensor(1.7124, device='cuda:0', grad_fn=<DivBackward0>), tensor(1.7328, device='cuda:0', grad_fn=<DivBackward0>), tensor(1.7322, device='cuda:0', grad_fn=<DivBackward0>), tensor(1.6840, device='cuda:0', grad_fn=<DivBackward0>), tensor(1.7567, device='cuda:0', grad_fn=<DivBackward0>), tensor(1.6864, device='cuda:0', grad_fn=<DivBackward0>), tensor(1.6442, device='cuda:0', grad_fn=<DivBackward0>), tensor(1.6719, device='cuda:0', grad_fn=<DivBackward0>), tensor(1.7010, device='cuda:0', grad_fn=<DivBackward0>), tensor(1.6453, device='cuda:0', grad_fn=<DivBackward0>), tensor(1.6663, device='cuda:0', grad_fn=<DivBackward0>), tensor(1.7071, device='cuda:0', grad_fn=<DivBackward0>), tensor(1.7290, device='cuda:0', grad_fn=<DivBackward0>), tensor(1.6562, device='cuda:0', grad_fn=<DivBackward0>), tensor(1.6918, device='cuda:0', grad_fn=<DivBackward0>), tensor(1.7008, device='cuda:0', grad_fn=<DivBackward0>), tensor(1.7083, device='cuda:0', grad_fn=<DivBackward0>), tensor(1.6968, device='cuda:0', grad_fn=<DivBackward0>), tensor(1.6340, device='cuda:0', grad_fn=<DivBackward0>), tensor(1.6606, device='cuda:0', grad_fn=<DivBackward0>), tensor(1.6852, device='cuda:0', grad_fn=<DivBackward0>), tensor(1.7436, device='cuda:0', grad_fn=<DivBackward0>), tensor(1.6917, device='cuda:0', grad_fn=<DivBackward0>), tensor(1.6807, device='cuda:0', grad_fn=<DivBackward0>), tensor(1.7261, device='cuda:0', grad_fn=<DivBackward0>), tensor(1.6882, device='cuda:0', grad_fn=<DivBackward0>), tensor(1.7315, device='cuda:0', grad_fn=<DivBackward0>), tensor(1.6901, device='cuda:0', grad_fn=<DivBackward0>), tensor(1.6486, device='cuda:0', grad_fn=<DivBackward0>), tensor(1.6779, device='cuda:0', grad_fn=<DivBackward0>), tensor(1.6395, device='cuda:0', grad_fn=<DivBackward0>), tensor(1.6346, device='cuda:0', grad_fn=<DivBackward0>), tensor(1.6983, device='cuda:0', grad_fn=<DivBackward0>), tensor(1.6282, device='cuda:0', grad_fn=<DivBackward0>), tensor(1.7029, device='cuda:0', grad_fn=<DivBackward0>), tensor(1.7572, device='cuda:0', grad_fn=<DivBackward0>), tensor(1.5758, device='cuda:0', grad_fn=<DivBackward0>), tensor(1.7404, device='cuda:0', grad_fn=<DivBackward0>), tensor(1.5695, device='cuda:0', grad_fn=<DivBackward0>), tensor(1.5641, device='cuda:0', grad_fn=<DivBackward0>), tensor(1.6679, device='cuda:0', grad_fn=<DivBackward0>), tensor(1.6864, device='cuda:0', grad_fn=<DivBackward0>), tensor(1.5972, device='cuda:0', grad_fn=<DivBackward0>), tensor(1.6194, device='cuda:0', grad_fn=<DivBackward0>), tensor(1.6051, device='cuda:0', grad_fn=<DivBackward0>), tensor(1.6804, device='cuda:0', grad_fn=<DivBackward0>), tensor(1.6234, device='cuda:0', grad_fn=<DivBackward0>), tensor(1.6453, device='cuda:0', grad_fn=<DivBackward0>), tensor(1.6230, device='cuda:0', grad_fn=<DivBackward0>), tensor(1.6674, device='cuda:0', grad_fn=<DivBackward0>), tensor(1.6258, device='cuda:0', grad_fn=<DivBackward0>), tensor(1.6571, device='cuda:0', grad_fn=<DivBackward0>), tensor(1.6872, device='cuda:0', grad_fn=<DivBackward0>), tensor(1.5728, device='cuda:0', grad_fn=<DivBackward0>), tensor(1.5928, device='cuda:0', grad_fn=<DivBackward0>), tensor(1.6321, device='cuda:0', grad_fn=<DivBackward0>), tensor(1.6080, device='cuda:0', grad_fn=<DivBackward0>), tensor(1.6069, device='cuda:0', grad_fn=<DivBackward0>), tensor(1.6097, device='cuda:0', grad_fn=<DivBackward0>), tensor(1.6058, device='cuda:0', grad_fn=<DivBackward0>), tensor(1.5924, device='cuda:0', grad_fn=<DivBackward0>), tensor(1.6664, device='cuda:0', grad_fn=<DivBackward0>), tensor(1.5632, device='cuda:0', grad_fn=<DivBackward0>), tensor(1.5984, device='cuda:0', grad_fn=<DivBackward0>), tensor(1.5466, device='cuda:0', grad_fn=<DivBackward0>), tensor(1.5925, device='cuda:0', grad_fn=<DivBackward0>), tensor(1.6015, device='cuda:0', grad_fn=<DivBackward0>), tensor(1.6755, device='cuda:0', grad_fn=<DivBackward0>), tensor(1.6194, device='cuda:0', grad_fn=<DivBackward0>), tensor(1.5916, device='cuda:0', grad_fn=<DivBackward0>), tensor(1.5551, device='cuda:0', grad_fn=<DivBackward0>), tensor(1.6162, device='cuda:0', grad_fn=<DivBackward0>), tensor(1.5605, device='cuda:0', grad_fn=<DivBackward0>), tensor(1.5991, device='cuda:0', grad_fn=<DivBackward0>), tensor(1.6087, device='cuda:0', grad_fn=<DivBackward0>), tensor(1.5927, device='cuda:0', grad_fn=<DivBackward0>), tensor(1.5751, device='cuda:0', grad_fn=<DivBackward0>), tensor(1.5580, device='cuda:0', grad_fn=<DivBackward0>), tensor(1.5572, device='cuda:0', grad_fn=<DivBackward0>), tensor(1.5292, device='cuda:0', grad_fn=<DivBackward0>), tensor(1.5633, device='cuda:0', grad_fn=<DivBackward0>), tensor(1.6306, device='cuda:0', grad_fn=<DivBackward0>), tensor(1.5282, device='cuda:0', grad_fn=<DivBackward0>), tensor(1.5593, device='cuda:0', grad_fn=<DivBackward0>), tensor(1.6347, device='cuda:0', grad_fn=<DivBackward0>), tensor(1.5589, device='cuda:0', grad_fn=<DivBackward0>), tensor(1.8217, device='cuda:0', grad_fn=<DivBackward0>), tensor(1.5841, device='cuda:0', grad_fn=<DivBackward0>), tensor(1.6326, device='cuda:0', grad_fn=<DivBackward0>), tensor(1.5479, device='cuda:0', grad_fn=<DivBackward0>), tensor(1.5819, device='cuda:0', grad_fn=<DivBackward0>), tensor(1.5774, device='cuda:0', grad_fn=<DivBackward0>), tensor(1.6266, device='cuda:0', grad_fn=<DivBackward0>), tensor(1.5746, device='cuda:0', grad_fn=<DivBackward0>), tensor(1.5908, device='cuda:0', grad_fn=<DivBackward0>), tensor(1.5951, device='cuda:0', grad_fn=<DivBackward0>), tensor(1.6701, device='cuda:0', grad_fn=<DivBackward0>), tensor(1.6801, device='cuda:0', grad_fn=<DivBackward0>), tensor(1.5642, device='cuda:0', grad_fn=<DivBackward0>), tensor(1.5770, device='cuda:0', grad_fn=<DivBackward0>), tensor(1.5937, device='cuda:0', grad_fn=<DivBackward0>), tensor(1.6230, device='cuda:0', grad_fn=<DivBackward0>), tensor(1.6996, device='cuda:0', grad_fn=<DivBackward0>), tensor(1.6368, device='cuda:0', grad_fn=<DivBackward0>), tensor(1.6488, device='cuda:0', grad_fn=<DivBackward0>), tensor(1.6092, device='cuda:0', grad_fn=<DivBackward0>), tensor(1.5732, device='cuda:0', grad_fn=<DivBackward0>), tensor(1.5795, device='cuda:0', grad_fn=<DivBackward0>), tensor(1.5748, device='cuda:0', grad_fn=<DivBackward0>), tensor(1.5393, device='cuda:0', grad_fn=<DivBackward0>), tensor(1.6313, device='cuda:0', grad_fn=<DivBackward0>), tensor(1.5765, device='cuda:0', grad_fn=<DivBackward0>), tensor(1.6055, device='cuda:0', grad_fn=<DivBackward0>), tensor(1.5708, device='cuda:0', grad_fn=<DivBackward0>), tensor(1.5998, device='cuda:0', grad_fn=<DivBackward0>), tensor(1.5824, device='cuda:0', grad_fn=<DivBackward0>), tensor(1.5775, device='cuda:0', grad_fn=<DivBackward0>), tensor(1.6006, device='cuda:0', grad_fn=<DivBackward0>), tensor(1.6080, device='cuda:0', grad_fn=<DivBackward0>), tensor(1.6188, device='cuda:0', grad_fn=<DivBackward0>), tensor(1.4995, device='cuda:0', grad_fn=<DivBackward0>), tensor(1.6110, device='cuda:0', grad_fn=<DivBackward0>), tensor(1.6263, device='cuda:0', grad_fn=<DivBackward0>), tensor(1.6527, device='cuda:0', grad_fn=<DivBackward0>), tensor(1.6933, device='cuda:0', grad_fn=<DivBackward0>), tensor(1.7378, device='cuda:0', grad_fn=<DivBackward0>), tensor(1.6699, device='cuda:0', grad_fn=<DivBackward0>), tensor(1.6621, device='cuda:0', grad_fn=<DivBackward0>), tensor(1.6109, device='cuda:0', grad_fn=<DivBackward0>), tensor(1.6862, device='cuda:0', grad_fn=<DivBackward0>), tensor(1.6897, device='cuda:0', grad_fn=<DivBackward0>), tensor(1.6165, device='cuda:0', grad_fn=<DivBackward0>), tensor(1.5812, device='cuda:0', grad_fn=<DivBackward0>), tensor(1.6093, device='cuda:0', grad_fn=<DivBackward0>), tensor(1.6236, device='cuda:0', grad_fn=<DivBackward0>), tensor(1.6550, device='cuda:0', grad_fn=<DivBackward0>), tensor(1.6113, device='cuda:0', grad_fn=<DivBackward0>), tensor(1.6259, device='cuda:0', grad_fn=<DivBackward0>), tensor(1.6485, device='cuda:0', grad_fn=<DivBackward0>), tensor(1.6979, device='cuda:0', grad_fn=<DivBackward0>), tensor(1.6080, device='cuda:0', grad_fn=<DivBackward0>), tensor(1.6465, device='cuda:0', grad_fn=<DivBackward0>), tensor(1.7865, device='cuda:0', grad_fn=<DivBackward0>), tensor(1.6508, device='cuda:0', grad_fn=<DivBackward0>), tensor(1.6597, device='cuda:0', grad_fn=<DivBackward0>), tensor(1.6882, device='cuda:0', grad_fn=<DivBackward0>), tensor(1.6410, device='cuda:0', grad_fn=<DivBackward0>), tensor(1.6891, device='cuda:0', grad_fn=<DivBackward0>), tensor(1.6508, device='cuda:0', grad_fn=<DivBackward0>), tensor(1.6380, device='cuda:0', grad_fn=<DivBackward0>), tensor(1.6121, device='cuda:0', grad_fn=<DivBackward0>), tensor(1.5272, device='cuda:0', grad_fn=<DivBackward0>), tensor(1.6385, device='cuda:0', grad_fn=<DivBackward0>), tensor(1.5974, device='cuda:0', grad_fn=<DivBackward0>), tensor(1.7233, device='cuda:0', grad_fn=<DivBackward0>), tensor(1.6554, device='cuda:0', grad_fn=<DivBackward0>), tensor(1.5807, device='cuda:0', grad_fn=<DivBackward0>), tensor(1.6189, device='cuda:0', grad_fn=<DivBackward0>), tensor(1.5888, device='cuda:0', grad_fn=<DivBackward0>), tensor(1.5712, device='cuda:0', grad_fn=<DivBackward0>), tensor(1.5774, device='cuda:0', grad_fn=<DivBackward0>)], 137.08608675003052)\n"
          ]
        }
      ],
      "source": [
        "# train the model\n",
        "import time\n",
        "\n",
        "start = time.time()\n",
        "\n",
        "EPOCHS = 5\n",
        "model_1024_trained = NeuralNetwork(input_size, 1024, output_size, gpu)\n",
        "model_1024_trained.to(gpu)\n",
        "loss = torch.nn.CrossEntropyLoss()\n",
        "optimizer = torch.optim.Adam(model_1024_trained.parameters(), lr=0.001)\n",
        "train_threshold = int(len(dataset)*0.8)\n",
        "train_dataloader = DataLoader(dataset[:train_threshold], batch_size=64, shuffle=False)\n",
        "losses = train_cycle(EPOCHS, train_dataloader, model_1024_trained, loss, optimizer)\n",
        "\n",
        "\n",
        "end = time.time()\n",
        "print(\"Time passed: \" + str(end - start))\n",
        "print(losses)"
      ]
    },
    {
      "cell_type": "code",
      "execution_count": 166,
      "id": "4ca5fda5-8841-4f0f-bacd-27f3c6ec365a",
      "metadata": {
        "id": "4ca5fda5-8841-4f0f-bacd-27f3c6ec365a",
        "outputId": "589f15da-3224-4528-8c48-26fbf7ac41a1",
        "colab": {
          "base_uri": "https://localhost:8080/"
        }
      },
      "outputs": [
        {
          "output_type": "stream",
          "name": "stdout",
          "text": [
            "Mean accuracy is: 1.6516249248716568\n"
          ]
        }
      ],
      "source": [
        "# Compute the accuracy of the model using the test set\n",
        "test_dataloader = DataLoader(dataset[train_threshold:], batch_size=64, shuffle=True)\n",
        "accuracies = test_cycle(test_dataloader, model, batch_size=64)\n",
        "\n",
        "\n",
        "print(\"Mean accuracy is: \" + str(sum(accuracies)/len(accuracies)))"
      ]
    },
    {
      "cell_type": "code",
      "source": [
        "print(accuracies)"
      ],
      "metadata": {
        "colab": {
          "base_uri": "https://localhost:8080/"
        },
        "id": "8GMp4PO6SC4n",
        "outputId": "4d2cf92b-b67d-4e89-92c3-dec396856766"
      },
      "id": "8GMp4PO6SC4n",
      "execution_count": 167,
      "outputs": [
        {
          "output_type": "stream",
          "name": "stdout",
          "text": [
            "(0.24312282986111125, 3.060127019882202)\n"
          ]
        }
      ]
    },
    {
      "cell_type": "code",
      "execution_count": 168,
      "id": "0933354f-a73b-429c-8cd3-3a3e9935205e",
      "metadata": {
        "id": "0933354f-a73b-429c-8cd3-3a3e9935205e"
      },
      "outputs": [],
      "source": [
        "# this function encoded a string as an input fitting for the NN of size (SxN)\n",
        "# * N = number of classes\n",
        "# * S = length of the string (in terms of characters)\n",
        "def generate_phrase_to_NN_input(num_classes, dictionary, device):\n",
        "    # input: a string\n",
        "    # output: a Sx72 one-hot tensor\n",
        "    def phrase_to_NN_input(phrase):\n",
        "        result = []\n",
        "        for char in phrase:\n",
        "            word_converted = torch.zeros(num_classes)\n",
        "            word_index = dictionary.loc[dictionary['data'] == char]['int_encoding'].item()\n",
        "            word_converted[word_index] = 1\n",
        "            result.append(word_converted)\n",
        "        result = torch.stack(result)\n",
        "        result = result.to(device)\n",
        "        return result\n",
        "    return phrase_to_NN_input\n",
        "phrase_to_NN_input = generate_phrase_to_NN_input(72,dictionary, gpu)"
      ]
    },
    {
      "cell_type": "code",
      "execution_count": 169,
      "id": "edd1f5fd-6114-4788-9cbf-0bcf092dfd9f",
      "metadata": {
        "id": "edd1f5fd-6114-4788-9cbf-0bcf092dfd9f"
      },
      "outputs": [],
      "source": [
        "# this function decodes a string expressed as a tensor of shape SxN with values x\\in{0,1}, to a string of length S\n",
        "def generate_NN_output_to_phrase(num_classes, dictionary, device):\n",
        "    # input: a string\n",
        "    # output: a Sx72 one-hot tensor\n",
        "    def NN_output_to_phrase(nn_output):\n",
        "        result = \"\"\n",
        "        for tensor_hot_enc in nn_output:\n",
        "            idx_word = torch.argmax(tensor_hot_enc).item()\n",
        "            char_decoded = dictionary.loc[dictionary['int_encoding'] == idx_word]['data'].item()\n",
        "            result = result + char_decoded\n",
        "        return result\n",
        "    return NN_output_to_phrase\n",
        "NN_output_to_phrase = generate_NN_output_to_phrase(72,dictionary, gpu)"
      ]
    },
    {
      "cell_type": "code",
      "execution_count": 170,
      "id": "f3a98ced-b50d-4cd0-a3fe-cc14c53b822b",
      "metadata": {
        "id": "f3a98ced-b50d-4cd0-a3fe-cc14c53b822b"
      },
      "outputs": [],
      "source": [
        "wordminusminus_encoded = phrase_to_NN_input(\"--\")\n",
        "assert wordminusminus_encoded[0][4].item() == 1.0 and wordminusminus_encoded[1][4].item() == 1.0"
      ]
    },
    {
      "cell_type": "code",
      "execution_count": 171,
      "id": "c4b5b946-7cdf-4443-bae4-effa8c835bb5",
      "metadata": {
        "id": "c4b5b946-7cdf-4443-bae4-effa8c835bb5"
      },
      "outputs": [],
      "source": [
        "wordminusminus_decoded = NN_output_to_phrase(wordminusminus_encoded)\n",
        "assert wordminusminus_decoded == \"--\""
      ]
    },
    {
      "cell_type": "code",
      "execution_count": 176,
      "id": "d76b5a50-34e5-4794-9671-e097ceefc607",
      "metadata": {
        "id": "d76b5a50-34e5-4794-9671-e097ceefc607",
        "outputId": "9616cbdb-87ab-4651-b335-3b2ebb7ff64f",
        "colab": {
          "base_uri": "https://localhost:8080/"
        }
      },
      "outputs": [
        {
          "output_type": "stream",
          "name": "stdout",
          "text": [
            "torch.Size([64, 72])\n",
            "torch.Size([64, 1, 72])\n",
            "o  p830 iln  cott a o du satcrcl\n",
            "uaniaa\n",
            "dilet\n",
            "da\n",
            "srrra\n",
            "dil\n",
            "sord\n",
            "\n"
          ]
        }
      ],
      "source": [
        "phrase = \"nel 1976, una carovana si mise in marcia verso le terre del nord\"\n",
        "phrase_encoded = phrase_to_NN_input(phrase)\n",
        "print(phrase_encoded.shape)\n",
        "phrase_encoded = phrase_encoded[:,None,:]\n",
        "print(phrase_encoded.shape)\n",
        "prediction, h_t, c_t = model_1024_trained(phrase_encoded)\n",
        "prediction_decoded = NN_output_to_phrase(prediction)\n",
        "print(prediction_decoded)"
      ]
    },
    {
      "cell_type": "markdown",
      "source": [
        "## Text Generation Algorithm\n",
        "We want to generate text starting from a single character input. Given a LSTM model M, we give it in input $x_0$ and get as output the tuple ($y_0$,$h_0$), we then proceed by feeding $x_1 = y_0$ to M as input: $(y_1,h_1) = M(x_1)$ and then keep going for k times."
      ],
      "metadata": {
        "id": "81T2S8dgU4U6"
      },
      "id": "81T2S8dgU4U6"
    },
    {
      "cell_type": "code",
      "execution_count": 205,
      "id": "8ba586a9-53eb-4910-9176-5a78834666c9",
      "metadata": {
        "id": "8ba586a9-53eb-4910-9176-5a78834666c9"
      },
      "outputs": [],
      "source": [
        "def text_generation(n, model,device):\n",
        "    # initialize a tensor representing a string with one random character\n",
        "    initial_character = torch.zeros(1,1,72).to(device)\n",
        "    import random\n",
        "    random_value = random.randint(0,71)\n",
        "    assert 1 <= random_value and random_value <= 72\n",
        "    initial_character[0][0][random_value] = 1\n",
        "    # initialize tensors of the short and long term memory. The shape is (batch_size=1, num_classes=72)\n",
        "    h_t = torch.zeros(1, model.hidden_size).to(device)\n",
        "    c_t = torch.zeros(1, model.hidden_size).to(device)\n",
        "    # generate the i-th character, using the (i-1)-th short and long term memories\n",
        "    generated_string = NN_output_to_phrase(initial_character)\n",
        "    prediction = initial_character\n",
        "    for i in range(n):\n",
        "        prediction, h_t, c_t = model(prediction, h_t, c_t)\n",
        "        # prediction output is given as a list with one tensor of shape (1,72) inside.\n",
        "        # The following line transforms it into a tensor of shape (1,1,72)\n",
        "        prediction = prediction[0][None,:]\n",
        "        predicted_character = NN_output_to_phrase(prediction)\n",
        "        generated_string = generated_string + predicted_character\n",
        "    return generated_string"
      ]
    },
    {
      "cell_type": "code",
      "execution_count": 206,
      "id": "3052c83b-65ec-4f6f-8f4d-9bf929d961f1",
      "metadata": {
        "id": "3052c83b-65ec-4f6f-8f4d-9bf929d961f1",
        "colab": {
          "base_uri": "https://localhost:8080/"
        },
        "outputId": "6c1d04a7-f950-44d7-e09a-159af93c8a0d"
      },
      "outputs": [
        {
          "output_type": "stream",
          "name": "stdout",
          "text": [
            "torch.Size([1, 1, 72])\n",
            "torch.Size([1, 1, 72])\n",
            "torch.Size([1, 1, 72])\n",
            "torch.Size([1, 1, 72])\n",
            "torch.Size([1, 1, 72])\n",
            "torch.Size([1, 1, 72])\n",
            "torch.Size([1, 1, 72])\n",
            "torch.Size([1, 1, 72])\n",
            "torch.Size([1, 1, 72])\n",
            "torch.Size([1, 1, 72])\n",
            "torch.Size([1, 1, 72])\n",
            "torch.Size([1, 1, 72])\n",
            "torch.Size([1, 1, 72])\n",
            "torch.Size([1, 1, 72])\n",
            "torch.Size([1, 1, 72])\n",
            "torch.Size([1, 1, 72])\n",
            "torch.Size([1, 1, 72])\n",
            "torch.Size([1, 1, 72])\n",
            "torch.Size([1, 1, 72])\n",
            "torch.Size([1, 1, 72])\n",
            "torch.Size([1, 1, 72])\n",
            "torch.Size([1, 1, 72])\n",
            "torch.Size([1, 1, 72])\n",
            "torch.Size([1, 1, 72])\n",
            "torch.Size([1, 1, 72])\n",
            "torch.Size([1, 1, 72])\n",
            "torch.Size([1, 1, 72])\n",
            "torch.Size([1, 1, 72])\n",
            "torch.Size([1, 1, 72])\n",
            "torch.Size([1, 1, 72])\n",
            "torch.Size([1, 1, 72])\n",
            "torch.Size([1, 1, 72])\n",
            "torch.Size([1, 1, 72])\n",
            "torch.Size([1, 1, 72])\n",
            "torch.Size([1, 1, 72])\n",
            "torch.Size([1, 1, 72])\n",
            "torch.Size([1, 1, 72])\n",
            "torch.Size([1, 1, 72])\n",
            "torch.Size([1, 1, 72])\n",
            "torch.Size([1, 1, 72])\n",
            "torch.Size([1, 1, 72])\n",
            "torch.Size([1, 1, 72])\n",
            "torch.Size([1, 1, 72])\n",
            "torch.Size([1, 1, 72])\n",
            "torch.Size([1, 1, 72])\n",
            "torch.Size([1, 1, 72])\n",
            "torch.Size([1, 1, 72])\n",
            "torch.Size([1, 1, 72])\n",
            "torch.Size([1, 1, 72])\n",
            "torch.Size([1, 1, 72])\n",
            "torch.Size([1, 1, 72])\n",
            "torch.Size([1, 1, 72])\n",
            "torch.Size([1, 1, 72])\n",
            "torch.Size([1, 1, 72])\n",
            "torch.Size([1, 1, 72])\n",
            "torch.Size([1, 1, 72])\n",
            "torch.Size([1, 1, 72])\n",
            "torch.Size([1, 1, 72])\n",
            "torch.Size([1, 1, 72])\n",
            "torch.Size([1, 1, 72])\n",
            "torch.Size([1, 1, 72])\n",
            "torch.Size([1, 1, 72])\n",
            "torch.Size([1, 1, 72])\n",
            "torch.Size([1, 1, 72])\n",
            "torch.Size([1, 1, 72])\n",
            "torch.Size([1, 1, 72])\n",
            "torch.Size([1, 1, 72])\n",
            "torch.Size([1, 1, 72])\n",
            "torch.Size([1, 1, 72])\n",
            "torch.Size([1, 1, 72])\n",
            "torch.Size([1, 1, 72])\n",
            "torch.Size([1, 1, 72])\n",
            "torch.Size([1, 1, 72])\n",
            "torch.Size([1, 1, 72])\n",
            "torch.Size([1, 1, 72])\n",
            "torch.Size([1, 1, 72])\n",
            "torch.Size([1, 1, 72])\n",
            "torch.Size([1, 1, 72])\n",
            "torch.Size([1, 1, 72])\n",
            "torch.Size([1, 1, 72])\n",
            "torch.Size([1, 1, 72])\n",
            "torch.Size([1, 1, 72])\n",
            "torch.Size([1, 1, 72])\n",
            "torch.Size([1, 1, 72])\n",
            "torch.Size([1, 1, 72])\n",
            "torch.Size([1, 1, 72])\n",
            "torch.Size([1, 1, 72])\n",
            "torch.Size([1, 1, 72])\n",
            "torch.Size([1, 1, 72])\n",
            "torch.Size([1, 1, 72])\n",
            "torch.Size([1, 1, 72])\n",
            "torch.Size([1, 1, 72])\n",
            "torch.Size([1, 1, 72])\n",
            "torch.Size([1, 1, 72])\n",
            "torch.Size([1, 1, 72])\n",
            "torch.Size([1, 1, 72])\n",
            "torch.Size([1, 1, 72])\n",
            "torch.Size([1, 1, 72])\n",
            "torch.Size([1, 1, 72])\n",
            "torch.Size([1, 1, 72])\n",
            "Bieiiiiiiiiiiiiiiiiiiiiiiiiiiiiiiiiiiiiiiiiiiiiiiiiiiiiiiiiiiiiiiiiiiiiiiiiiiiiiiiiiiiiiiiiiiiiiiiiii\n"
          ]
        }
      ],
      "source": [
        "# n is the length of the generated text\n",
        "n = 100\n",
        "model = model_1024_trained\n",
        "generated_string = text_generation(n, model, gpu)\n",
        "print(generated_string)"
      ]
    },
    {
      "cell_type": "code",
      "execution_count": null,
      "id": "711424b6-f454-4104-a5d9-4aaf07dff976",
      "metadata": {
        "id": "711424b6-f454-4104-a5d9-4aaf07dff976"
      },
      "outputs": [],
      "source": [
        "iterator = iter(test_dataloader)\n",
        "data, label = next(iterator)\n",
        "prediction = torch.stack(model(data))\n",
        "data_arg = torch.argmax(softmax(prediction).reshape(100,72),dim=1)\n",
        "label_arg = torch.argmax(torch.stack(label).reshape(100,72),dim=1)\n",
        "sum(torch.eq(data_arg, label_arg).tolist())/100"
      ]
    },
    {
      "cell_type": "code",
      "execution_count": null,
      "id": "1d896b35-c1df-4e11-ba67-e447cc56a858",
      "metadata": {
        "id": "1d896b35-c1df-4e11-ba67-e447cc56a858"
      },
      "outputs": [],
      "source": [
        "37.65237474441528"
      ]
    },
    {
      "cell_type": "code",
      "execution_count": null,
      "id": "4747ae41-9ad7-445a-aff3-16cf86eee6b4",
      "metadata": {
        "id": "4747ae41-9ad7-445a-aff3-16cf86eee6b4",
        "outputId": "05ac5f77-0c40-42c9-d2b9-c4456b5d6c15"
      },
      "outputs": [
        {
          "name": "stdout",
          "output_type": "stream",
          "text": [
            "tensor([[1, 2],\n",
            "        [2, 3]])\n"
          ]
        }
      ],
      "source": [
        "a = torch.tensor([[1,2],[2,3]])\n",
        "print(a)"
      ]
    },
    {
      "cell_type": "code",
      "execution_count": null,
      "id": "7570f972-8951-44e7-9957-1e7dfd78df77",
      "metadata": {
        "id": "7570f972-8951-44e7-9957-1e7dfd78df77"
      },
      "outputs": [],
      "source": [
        "import torch\n",
        "a = torch.tensor([2.0], requires_grad=True)\n",
        "b = torch.tensor([3.0], requires_grad=True)\n",
        "\n",
        "c = 0\n",
        "for i in range(3):\n",
        "    c = c + a\n",
        "    print(c)\n",
        "\n",
        "c = c + torch.log(b)"
      ]
    },
    {
      "cell_type": "code",
      "execution_count": null,
      "id": "8684f5bc-1489-40ad-8cc2-860c279bb1fe",
      "metadata": {
        "id": "8684f5bc-1489-40ad-8cc2-860c279bb1fe"
      },
      "outputs": [],
      "source": [
        "c.backward()"
      ]
    },
    {
      "cell_type": "code",
      "execution_count": null,
      "id": "09bf2ee8-73f0-4f14-8600-1c8717c2aff6",
      "metadata": {
        "id": "09bf2ee8-73f0-4f14-8600-1c8717c2aff6",
        "outputId": "213d945b-6f5f-4782-b0ed-7927a08fa08c"
      },
      "outputs": [
        {
          "name": "stdout",
          "output_type": "stream",
          "text": [
            "tensor([3.])\n",
            "tensor([0.3333])\n"
          ]
        }
      ],
      "source": [
        "print(a.grad)\n",
        "print(b.grad)"
      ]
    },
    {
      "cell_type": "code",
      "execution_count": null,
      "id": "bb2664bb-648f-4fd6-828e-a0662835455e",
      "metadata": {
        "id": "bb2664bb-648f-4fd6-828e-a0662835455e",
        "outputId": "00ee394f-595b-450f-b4a4-3ad954546f2a"
      },
      "outputs": [
        {
          "name": "stdout",
          "output_type": "stream",
          "text": [
            "tf.Tensor(2.0, shape=(), dtype=float32)\n",
            "tf.Tensor(4.0, shape=(), dtype=float32)\n",
            "tf.Tensor(6.0, shape=(), dtype=float32)\n"
          ]
        }
      ],
      "source": [
        "import numpy as np\n",
        "import tensorflow as tf\n",
        "\n",
        "\n",
        "a = tf.Variable(2.0)\n",
        "b = tf.Variable(3.0)\n",
        "\n",
        "with tf.GradientTape() as tape:\n",
        "    c = 0\n",
        "    for i in range(3):\n",
        "        c = c + a\n",
        "        print(c)\n",
        "\n",
        "    c = c + tf.math.log(b)"
      ]
    },
    {
      "cell_type": "code",
      "execution_count": null,
      "id": "e551091d-c108-4f86-a501-8edb76297de4",
      "metadata": {
        "id": "e551091d-c108-4f86-a501-8edb76297de4",
        "outputId": "138d9e78-1c0b-4fc5-ea6a-da7d7a2fed82"
      },
      "outputs": [
        {
          "data": {
            "text/plain": [
              "[<tf.Tensor: shape=(), dtype=float32, numpy=3.0>,\n",
              " <tf.Tensor: shape=(), dtype=float32, numpy=0.33333334>]"
            ]
          },
          "execution_count": 27,
          "metadata": {},
          "output_type": "execute_result"
        }
      ],
      "source": [
        "dy_da = tape.gradient(c, [a,b])\n",
        "dy_da"
      ]
    },
    {
      "cell_type": "code",
      "execution_count": null,
      "id": "9f71d4ea-1743-4598-81db-d75c13eb932e",
      "metadata": {
        "id": "9f71d4ea-1743-4598-81db-d75c13eb932e",
        "outputId": "daf930d8-c0fa-4bf1-c82c-58ecd74f9935"
      },
      "outputs": [
        {
          "name": "stdout",
          "output_type": "stream",
          "text": [
            "tf.Tensor(7.0986123, shape=(), dtype=float32)\n"
          ]
        }
      ],
      "source": [
        "print(c)"
      ]
    },
    {
      "cell_type": "code",
      "execution_count": null,
      "id": "d268f1f2-31a2-4615-b5b9-0226ac2dbd78",
      "metadata": {
        "id": "d268f1f2-31a2-4615-b5b9-0226ac2dbd78",
        "outputId": "9aba31af-0987-4a49-9c21-7efd4c435ce2"
      },
      "outputs": [
        {
          "name": "stdout",
          "output_type": "stream",
          "text": [
            "  data  int_encoding\n",
            "0    a             0\n",
            "1    b             1\n",
            "2    c             2\n",
            "3    c             2\n",
            "4    a             0\n"
          ]
        }
      ],
      "source": [
        "from sklearn.preprocessing import OneHotEncoder\n",
        "from sklearn.preprocessing import LabelEncoder\n",
        "import pandas as pd\n",
        "\n",
        "data = ('a','b','c','c','a')\n",
        "dictionary = pd.DataFrame(data, columns=['data'])\n",
        "\n",
        "dictionary['int_encoding'] = labelencoder.fit_transform(dictionary['data'])\n",
        "print(dictionary)"
      ]
    },
    {
      "cell_type": "code",
      "execution_count": null,
      "id": "cc175409-57af-405c-ad38-7067c4328edf",
      "metadata": {
        "id": "cc175409-57af-405c-ad38-7067c4328edf",
        "outputId": "48f370af-783b-46d6-f3f5-f030dcf6dbed"
      },
      "outputs": [
        {
          "name": "stdout",
          "output_type": "stream",
          "text": [
            "   int_encoding\n",
            "0             0\n",
            "1             1\n",
            "2             2\n",
            "3             2\n",
            "4             0\n",
            "[[1. 0. 0.]\n",
            " [0. 1. 0.]\n",
            " [0. 0. 1.]\n",
            " [0. 0. 1.]\n",
            " [1. 0. 0.]]\n"
          ]
        }
      ],
      "source": [
        "one_hot_enc = OneHotEncoder()\n",
        "one_hot = one_hot_enc.fit_transform(dictionary[['int_encoding']]).toarray()\n",
        "print(dictionary[['int_encoding']])\n",
        "print(one_hot)"
      ]
    },
    {
      "cell_type": "code",
      "execution_count": null,
      "id": "2be69b90-b292-45d3-99f6-a44e8958b7d8",
      "metadata": {
        "id": "2be69b90-b292-45d3-99f6-a44e8958b7d8"
      },
      "outputs": [],
      "source": [
        "import torch\n",
        "mat = torch.empty(5,100).to(gpu)\n",
        "for i in range(0, 1000000):\n",
        "    mat = torch.mm(mat, torch.transpose(mat,0,1))"
      ]
    },
    {
      "cell_type": "code",
      "execution_count": null,
      "id": "c79497b9-91d0-4a01-9182-890cf48bd002",
      "metadata": {
        "id": "c79497b9-91d0-4a01-9182-890cf48bd002",
        "outputId": "eb603177-125e-4c8c-83b8-269956b9c84e"
      },
      "outputs": [
        {
          "name": "stdout",
          "output_type": "stream",
          "text": [
            "tensor([[6.6648e-10, 1.1040e-05, 2.6081e+20],\n",
            "        [2.0975e-07, 2.1876e-04, 4.3921e-05]])\n",
            "tensor([[6.6648e-10, 2.0975e-07],\n",
            "        [1.1040e-05, 2.1876e-04],\n",
            "        [2.6081e+20, 4.3921e-05]])\n",
            "tensor([[       inf, 1.1455e+16],\n",
            "        [1.1455e+16, 4.9784e-08]])\n"
          ]
        }
      ],
      "source": [
        "mat = torch.empty(2,3)\n",
        "a = torch.transpose(mat,0,1)\n",
        "print(mat)\n",
        "print(a)\n",
        "print(torch.mm(mat,a))"
      ]
    },
    {
      "cell_type": "code",
      "execution_count": null,
      "id": "fb623997-50f2-4101-b5a2-868ad99c05f8",
      "metadata": {
        "id": "fb623997-50f2-4101-b5a2-868ad99c05f8",
        "outputId": "9a9e3e40-5436-488c-84da-4fc2e313834b"
      },
      "outputs": [
        {
          "data": {
            "text/plain": [
              "2"
            ]
          },
          "execution_count": 61,
          "metadata": {},
          "output_type": "execute_result"
        }
      ],
      "source": [
        "a = torch.arange(10).reshape(5,2)\n",
        "a\n",
        "torch.split(a,1)\n",
        "a.size(1)"
      ]
    },
    {
      "cell_type": "code",
      "execution_count": null,
      "id": "b437d3c0-c0af-4056-9f97-df3f1b08f17f",
      "metadata": {
        "id": "b437d3c0-c0af-4056-9f97-df3f1b08f17f",
        "outputId": "c9b40576-8ad2-4e89-979f-fb09557a2cca"
      },
      "outputs": [
        {
          "name": "stdout",
          "output_type": "stream",
          "text": [
            "torch.Size([2, 1, 2])\n"
          ]
        },
        {
          "data": {
            "text/plain": [
              "tensor([[[-0.1867, -0.5635]],\n",
              "\n",
              "        [[-0.5525, -0.4179]]])"
            ]
          },
          "execution_count": 132,
          "metadata": {},
          "output_type": "execute_result"
        }
      ],
      "source": [
        "a = torch.stack([torch.randn((1,2)),torch.randn((1,2))])\n",
        "print(a.size())\n",
        "a"
      ]
    },
    {
      "cell_type": "code",
      "execution_count": null,
      "id": "ae95d04e-70c2-43cb-a1e1-d779812b9e3e",
      "metadata": {
        "tags": [],
        "id": "ae95d04e-70c2-43cb-a1e1-d779812b9e3e",
        "outputId": "f3e13702-4ee7-4042-dac4-5d74aa16266c"
      },
      "outputs": [
        {
          "name": "stdout",
          "output_type": "stream",
          "text": [
            "100\n",
            "128\n",
            "72\n"
          ]
        },
        {
          "ename": "IndexError",
          "evalue": "Dimension out of range (expected to be in range of [-3, 2], but got 3)",
          "output_type": "error",
          "traceback": [
            "\u001b[1;31m---------------------------------------------------------------------------\u001b[0m",
            "\u001b[1;31mIndexError\u001b[0m                                Traceback (most recent call last)",
            "Cell \u001b[1;32mIn [97], line 6\u001b[0m\n\u001b[0;32m      4\u001b[0m \u001b[38;5;28mprint\u001b[39m(b\u001b[38;5;241m.\u001b[39msize(\u001b[38;5;241m1\u001b[39m))\n\u001b[0;32m      5\u001b[0m \u001b[38;5;28mprint\u001b[39m(b\u001b[38;5;241m.\u001b[39msize(\u001b[38;5;241m2\u001b[39m))\n\u001b[1;32m----> 6\u001b[0m \u001b[38;5;28mprint\u001b[39m(\u001b[43mb\u001b[49m\u001b[38;5;241;43m.\u001b[39;49m\u001b[43msize\u001b[49m\u001b[43m(\u001b[49m\u001b[38;5;241;43m3\u001b[39;49m\u001b[43m)\u001b[49m)\n",
            "\u001b[1;31mIndexError\u001b[0m: Dimension out of range (expected to be in range of [-3, 2], but got 3)"
          ]
        }
      ],
      "source": [
        "a = next(iter(train_dataloader))\n",
        "b = torch.stack(a[0])\n",
        "print(b.size(0))\n",
        "print(b.size(1))\n",
        "print(b.size(2))"
      ]
    },
    {
      "cell_type": "code",
      "execution_count": null,
      "id": "81b26756-03eb-4d3e-be09-e191cebf1602",
      "metadata": {
        "id": "81b26756-03eb-4d3e-be09-e191cebf1602",
        "outputId": "5b34649f-8fa5-4051-c6d2-d3c71c095957"
      },
      "outputs": [
        {
          "ename": "AttributeError",
          "evalue": "'list' object has no attribute 'softmax'",
          "output_type": "error",
          "traceback": [
            "\u001b[1;31m---------------------------------------------------------------------------\u001b[0m",
            "\u001b[1;31mAttributeError\u001b[0m                            Traceback (most recent call last)",
            "Cell \u001b[1;32mIn [91], line 5\u001b[0m\n\u001b[0;32m      3\u001b[0m pred \u001b[38;5;241m=\u001b[39m [torch\u001b[38;5;241m.\u001b[39mFloatTensor([\u001b[38;5;241m10\u001b[39m,\u001b[38;5;241m20\u001b[39m]),torch\u001b[38;5;241m.\u001b[39mFloatTensor([\u001b[38;5;241m20\u001b[39m,\u001b[38;5;241m10\u001b[39m])]\n\u001b[0;32m      4\u001b[0m softmax \u001b[38;5;241m=\u001b[39m torch\u001b[38;5;241m.\u001b[39mnn\u001b[38;5;241m.\u001b[39mSoftmax(dim\u001b[38;5;241m=\u001b[39m\u001b[38;5;241m0\u001b[39m)\n\u001b[1;32m----> 5\u001b[0m label \u001b[38;5;241m=\u001b[39m torch\u001b[38;5;241m.\u001b[39mFloatTensor([[\u001b[43msoftmax\u001b[49m\u001b[43m(\u001b[49m\u001b[43mpred\u001b[49m\u001b[43m)\u001b[49m[\u001b[38;5;241m0\u001b[39m][\u001b[38;5;241m0\u001b[39m],softmax(pred)[\u001b[38;5;241m0\u001b[39m][\u001b[38;5;241m1\u001b[39m]],[softmax(pred)[\u001b[38;5;241m1\u001b[39m][\u001b[38;5;241m0\u001b[39m],softmax(pred)[\u001b[38;5;241m1\u001b[39m][\u001b[38;5;241m1\u001b[39m]]])\n\u001b[0;32m      6\u001b[0m \u001b[38;5;28mprint\u001b[39m(pred\u001b[38;5;241m.\u001b[39msize())\n\u001b[0;32m      7\u001b[0m loss(pred,label)\n",
            "File \u001b[1;32mD:\\Programmi\\Anaconda\\envs\\pytorch\\lib\\site-packages\\torch\\nn\\modules\\module.py:1130\u001b[0m, in \u001b[0;36mModule._call_impl\u001b[1;34m(self, *input, **kwargs)\u001b[0m\n\u001b[0;32m   1126\u001b[0m \u001b[38;5;66;03m# If we don't have any hooks, we want to skip the rest of the logic in\u001b[39;00m\n\u001b[0;32m   1127\u001b[0m \u001b[38;5;66;03m# this function, and just call forward.\u001b[39;00m\n\u001b[0;32m   1128\u001b[0m \u001b[38;5;28;01mif\u001b[39;00m \u001b[38;5;129;01mnot\u001b[39;00m (\u001b[38;5;28mself\u001b[39m\u001b[38;5;241m.\u001b[39m_backward_hooks \u001b[38;5;129;01mor\u001b[39;00m \u001b[38;5;28mself\u001b[39m\u001b[38;5;241m.\u001b[39m_forward_hooks \u001b[38;5;129;01mor\u001b[39;00m \u001b[38;5;28mself\u001b[39m\u001b[38;5;241m.\u001b[39m_forward_pre_hooks \u001b[38;5;129;01mor\u001b[39;00m _global_backward_hooks\n\u001b[0;32m   1129\u001b[0m         \u001b[38;5;129;01mor\u001b[39;00m _global_forward_hooks \u001b[38;5;129;01mor\u001b[39;00m _global_forward_pre_hooks):\n\u001b[1;32m-> 1130\u001b[0m     \u001b[38;5;28;01mreturn\u001b[39;00m forward_call(\u001b[38;5;241m*\u001b[39m\u001b[38;5;28minput\u001b[39m, \u001b[38;5;241m*\u001b[39m\u001b[38;5;241m*\u001b[39mkwargs)\n\u001b[0;32m   1131\u001b[0m \u001b[38;5;66;03m# Do not call functions when jit is used\u001b[39;00m\n\u001b[0;32m   1132\u001b[0m full_backward_hooks, non_full_backward_hooks \u001b[38;5;241m=\u001b[39m [], []\n",
            "File \u001b[1;32mD:\\Programmi\\Anaconda\\envs\\pytorch\\lib\\site-packages\\torch\\nn\\modules\\activation.py:1376\u001b[0m, in \u001b[0;36mSoftmax.forward\u001b[1;34m(self, input)\u001b[0m\n\u001b[0;32m   1375\u001b[0m \u001b[38;5;28;01mdef\u001b[39;00m \u001b[38;5;21mforward\u001b[39m(\u001b[38;5;28mself\u001b[39m, \u001b[38;5;28minput\u001b[39m: Tensor) \u001b[38;5;241m-\u001b[39m\u001b[38;5;241m>\u001b[39m Tensor:\n\u001b[1;32m-> 1376\u001b[0m     \u001b[38;5;28;01mreturn\u001b[39;00m \u001b[43mF\u001b[49m\u001b[38;5;241;43m.\u001b[39;49m\u001b[43msoftmax\u001b[49m\u001b[43m(\u001b[49m\u001b[38;5;28;43minput\u001b[39;49m\u001b[43m,\u001b[49m\u001b[43m \u001b[49m\u001b[38;5;28;43mself\u001b[39;49m\u001b[38;5;241;43m.\u001b[39;49m\u001b[43mdim\u001b[49m\u001b[43m,\u001b[49m\u001b[43m \u001b[49m\u001b[43m_stacklevel\u001b[49m\u001b[38;5;241;43m=\u001b[39;49m\u001b[38;5;241;43m5\u001b[39;49m\u001b[43m)\u001b[49m\n",
            "File \u001b[1;32mD:\\Programmi\\Anaconda\\envs\\pytorch\\lib\\site-packages\\torch\\nn\\functional.py:1834\u001b[0m, in \u001b[0;36msoftmax\u001b[1;34m(input, dim, _stacklevel, dtype)\u001b[0m\n\u001b[0;32m   1832\u001b[0m     dim \u001b[38;5;241m=\u001b[39m _get_softmax_dim(\u001b[38;5;124m\"\u001b[39m\u001b[38;5;124msoftmax\u001b[39m\u001b[38;5;124m\"\u001b[39m, \u001b[38;5;28minput\u001b[39m\u001b[38;5;241m.\u001b[39mdim(), _stacklevel)\n\u001b[0;32m   1833\u001b[0m \u001b[38;5;28;01mif\u001b[39;00m dtype \u001b[38;5;129;01mis\u001b[39;00m \u001b[38;5;28;01mNone\u001b[39;00m:\n\u001b[1;32m-> 1834\u001b[0m     ret \u001b[38;5;241m=\u001b[39m \u001b[38;5;28;43minput\u001b[39;49m\u001b[38;5;241;43m.\u001b[39;49m\u001b[43msoftmax\u001b[49m(dim)\n\u001b[0;32m   1835\u001b[0m \u001b[38;5;28;01melse\u001b[39;00m:\n\u001b[0;32m   1836\u001b[0m     ret \u001b[38;5;241m=\u001b[39m \u001b[38;5;28minput\u001b[39m\u001b[38;5;241m.\u001b[39msoftmax(dim, dtype\u001b[38;5;241m=\u001b[39mdtype)\n",
            "\u001b[1;31mAttributeError\u001b[0m: 'list' object has no attribute 'softmax'"
          ]
        }
      ],
      "source": [
        "loss = torch.nn.CrossEntropyLoss()\n",
        "# pred=(a,c),(a,a), label=(a,b),(c,c)\n",
        "pred = [torch.FloatTensor([10,20]),torch.FloatTensor([20,10])\n",
        "softmax = torch.nn.Softmax(dim=0)\n",
        "label = torch.FloatTensor([[softmax(pred)[0][0],softmax(pred)[0][1]],[softmax(pred)[1][0],softmax(pred)[1][1]]])\n",
        "print(pred.size())\n",
        "loss(pred,label)"
      ]
    },
    {
      "cell_type": "code",
      "execution_count": null,
      "id": "9d0d1d66-d815-4641-8394-f61d51f43974",
      "metadata": {
        "id": "9d0d1d66-d815-4641-8394-f61d51f43974",
        "outputId": "925453e1-baf8-4c8c-c94c-cc9fcfc3a52a"
      },
      "outputs": [
        {
          "data": {
            "text/plain": [
              "tensor([6.])"
            ]
          },
          "execution_count": 106,
          "metadata": {},
          "output_type": "execute_result"
        }
      ],
      "source": [
        "x = torch.ones(1, requires_grad=True)\n",
        "y = x**2\n",
        "z = x**3\n",
        "w = x**3\n",
        "z.backward()\n",
        "w.backward()\n",
        "x.grad"
      ]
    },
    {
      "cell_type": "code",
      "execution_count": null,
      "id": "e53b4bbf-6021-4c27-b87c-d7b797353bb7",
      "metadata": {
        "id": "e53b4bbf-6021-4c27-b87c-d7b797353bb7",
        "outputId": "8cf80410-f298-45ef-b2ad-07d73f3d7793"
      },
      "outputs": [
        {
          "ename": "AssertionError",
          "evalue": "",
          "output_type": "error",
          "traceback": [
            "\u001b[1;31m---------------------------------------------------------------------------\u001b[0m",
            "\u001b[1;31mAssertionError\u001b[0m                            Traceback (most recent call last)",
            "Cell \u001b[1;32mIn [17], line 4\u001b[0m\n\u001b[0;32m      2\u001b[0m target \u001b[38;5;241m=\u001b[39m tensor([\u001b[38;5;241m0\u001b[39m, \u001b[38;5;241m1\u001b[39m, \u001b[38;5;241m2\u001b[39m, \u001b[38;5;241m3\u001b[39m])\n\u001b[0;32m      3\u001b[0m preds \u001b[38;5;241m=\u001b[39m tensor([\u001b[38;5;241m0\u001b[39m, \u001b[38;5;241m2\u001b[39m, \u001b[38;5;241m1\u001b[39m, \u001b[38;5;241m3\u001b[39m])\n\u001b[1;32m----> 4\u001b[0m accuracy \u001b[38;5;241m=\u001b[39m \u001b[43mtorchmetrics\u001b[49m\u001b[38;5;241;43m.\u001b[39;49m\u001b[43mAccuracy\u001b[49m\u001b[43m(\u001b[49m\u001b[43mtask\u001b[49m\u001b[38;5;241;43m=\u001b[39;49m\u001b[38;5;124;43m\"\u001b[39;49m\u001b[38;5;124;43mmulticlass\u001b[39;49m\u001b[38;5;124;43m\"\u001b[39;49m\u001b[43m,\u001b[49m\u001b[43m \u001b[49m\u001b[43mnum_classes\u001b[49m\u001b[38;5;241;43m=\u001b[39;49m\u001b[38;5;241;43m4\u001b[39;49m\u001b[43m)\u001b[49m\n\u001b[0;32m      5\u001b[0m accuracy(preds, target)\n",
            "File \u001b[1;32mD:\\Programmi\\Anaconda\\envs\\pytorch\\lib\\site-packages\\torchmetrics\\classification\\accuracy.py:490\u001b[0m, in \u001b[0;36mAccuracy.__new__\u001b[1;34m(cls, threshold, num_classes, average, mdmc_average, ignore_index, top_k, multiclass, subset_accuracy, task, num_labels, multidim_average, validate_args, **kwargs)\u001b[0m\n\u001b[0;32m    488\u001b[0m \u001b[38;5;28;01mif\u001b[39;00m task \u001b[38;5;241m==\u001b[39m \u001b[38;5;124m\"\u001b[39m\u001b[38;5;124mmulticlass\u001b[39m\u001b[38;5;124m\"\u001b[39m:\n\u001b[0;32m    489\u001b[0m     \u001b[38;5;28;01massert\u001b[39;00m \u001b[38;5;28misinstance\u001b[39m(num_classes, \u001b[38;5;28mint\u001b[39m)\n\u001b[1;32m--> 490\u001b[0m     \u001b[38;5;28;01massert\u001b[39;00m \u001b[38;5;28misinstance\u001b[39m(top_k, \u001b[38;5;28mint\u001b[39m)\n\u001b[0;32m    491\u001b[0m     \u001b[38;5;28;01mreturn\u001b[39;00m MulticlassAccuracy(num_classes, top_k, average, \u001b[38;5;241m*\u001b[39m\u001b[38;5;241m*\u001b[39mkwargs)\n\u001b[0;32m    492\u001b[0m \u001b[38;5;28;01mif\u001b[39;00m task \u001b[38;5;241m==\u001b[39m \u001b[38;5;124m\"\u001b[39m\u001b[38;5;124mmultilabel\u001b[39m\u001b[38;5;124m\"\u001b[39m:\n",
            "\u001b[1;31mAssertionError\u001b[0m: "
          ]
        }
      ],
      "source": [
        "from torch import tensor\n",
        "target = tensor([0, 1, 2, 3])\n",
        "preds = tensor([0, 2, 1, 3])\n",
        "accuracy = torchmetrics.Accuracy(task=\"multiclass\", num_classes=4)\n",
        "accuracy(preds, target)"
      ]
    },
    {
      "cell_type": "code",
      "execution_count": null,
      "id": "4a94f05d-8a65-4e46-af34-13c6c7de5229",
      "metadata": {
        "id": "4a94f05d-8a65-4e46-af34-13c6c7de5229"
      },
      "outputs": [],
      "source": [
        "y = torch.tensor([\n",
        "     [\n",
        "       [1, 0, 0],\n",
        "       [1, 0, 0]\n",
        "     ],\n",
        "     [\n",
        "       [0, 1, 0],\n",
        "       [0, 0, 1]\n",
        "     ],\n",
        "     [\n",
        "       [0, 0, 1],\n",
        "       [0, 0, 1]\n",
        "     ]\n",
        "   ])"
      ]
    },
    {
      "cell_type": "code",
      "execution_count": null,
      "id": "73572edf-58fa-4377-a1de-63edd46e23ce",
      "metadata": {
        "id": "73572edf-58fa-4377-a1de-63edd46e23ce",
        "outputId": "0f5853c3-3379-479c-85fb-c3fbd34e68b0"
      },
      "outputs": [
        {
          "data": {
            "text/plain": [
              "torch.Size([3, 2, 3])"
            ]
          },
          "execution_count": 128,
          "metadata": {},
          "output_type": "execute_result"
        }
      ],
      "source": [
        "y.size()"
      ]
    },
    {
      "cell_type": "code",
      "execution_count": null,
      "id": "9f3b11e1-caf8-4666-adb9-c5edb2444d78",
      "metadata": {
        "id": "9f3b11e1-caf8-4666-adb9-c5edb2444d78",
        "outputId": "46fb6d68-ae0c-4ef2-f2ad-395bbc6808e2"
      },
      "outputs": [
        {
          "data": {
            "text/plain": [
              "tensor([[0, 0],\n",
              "        [1, 2],\n",
              "        [2, 2]])"
            ]
          },
          "execution_count": 129,
          "metadata": {},
          "output_type": "execute_result"
        }
      ],
      "source": [
        "torch.argmax(y.float(),dim=2)"
      ]
    },
    {
      "cell_type": "code",
      "execution_count": null,
      "id": "a41635f7-8e0e-4a9b-a393-ba0ae1f05974",
      "metadata": {
        "id": "a41635f7-8e0e-4a9b-a393-ba0ae1f05974",
        "outputId": "ddf72c4d-a94f-4237-91e7-5b27ecb170e5"
      },
      "outputs": [
        {
          "name": "stdout",
          "output_type": "stream",
          "text": [
            "        data  int_encoding\n",
            "0          b            39\n",
            "1          e            42\n",
            "2          n            51\n",
            "4                        1\n",
            "6          u            58\n",
            "...      ...           ...\n",
            "1099082    -             4\n",
            "1099618    U            33\n",
            "1100751    È            64\n",
            "1101278    N            26\n",
            "1104174    V            34\n",
            "\n",
            "[72 rows x 2 columns]\n",
            "72\n",
            "39\n"
          ]
        }
      ],
      "source": [
        "print(dictionary)\n",
        "print(len(dictionary))\n",
        "a = dictionary.loc[dictionary['data'] == 'b']['int_encoding']\n",
        "print(a[0])"
      ]
    },
    {
      "cell_type": "markdown",
      "id": "1d88a0ea-e6fc-40f2-8f7f-180d66d65557",
      "metadata": {
        "id": "1d88a0ea-e6fc-40f2-8f7f-180d66d65557"
      },
      "source": [
        "##"
      ]
    },
    {
      "cell_type": "code",
      "execution_count": null,
      "id": "b017161f-557e-4242-b603-f587262a76d3",
      "metadata": {
        "id": "b017161f-557e-4242-b603-f587262a76d3"
      },
      "outputs": [],
      "source": []
    }
  ],
  "metadata": {
    "kernelspec": {
      "display_name": "Python 3",
      "name": "python3"
    },
    "language_info": {
      "codemirror_mode": {
        "name": "ipython",
        "version": 3
      },
      "file_extension": ".py",
      "mimetype": "text/x-python",
      "name": "python",
      "nbconvert_exporter": "python",
      "pygments_lexer": "ipython3",
      "version": "3.10.6"
    },
    "colab": {
      "provenance": [],
      "gpuType": "T4"
    },
    "accelerator": "GPU"
  },
  "nbformat": 4,
  "nbformat_minor": 5
}