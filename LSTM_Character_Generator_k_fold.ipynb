{
  "cells": [
    {
      "cell_type": "code",
      "source": [
        "from google.colab import drive\n",
        "drive.mount('/content/drive')"
      ],
      "metadata": {
        "colab": {
          "base_uri": "https://localhost:8080/"
        },
        "id": "3GA2QfCcf-Yj",
        "outputId": "e0982f0c-ee28-4754-8784-d2f833b2f787"
      },
      "id": "3GA2QfCcf-Yj",
      "execution_count": 1,
      "outputs": [
        {
          "output_type": "stream",
          "name": "stdout",
          "text": [
            "Drive already mounted at /content/drive; to attempt to forcibly remount, call drive.mount(\"/content/drive\", force_remount=True).\n"
          ]
        }
      ]
    },
    {
      "cell_type": "code",
      "source": [
        "!pip install torchmetrics"
      ],
      "metadata": {
        "colab": {
          "base_uri": "https://localhost:8080/"
        },
        "id": "9THkDHJ5gBfC",
        "outputId": "8ea133ca-bc50-4a2f-8d1b-bafc3cfb8051"
      },
      "id": "9THkDHJ5gBfC",
      "execution_count": 2,
      "outputs": [
        {
          "output_type": "stream",
          "name": "stdout",
          "text": [
            "Requirement already satisfied: torchmetrics in /usr/local/lib/python3.10/dist-packages (1.2.0)\n",
            "Requirement already satisfied: numpy>1.20.0 in /usr/local/lib/python3.10/dist-packages (from torchmetrics) (1.23.5)\n",
            "Requirement already satisfied: torch>=1.8.1 in /usr/local/lib/python3.10/dist-packages (from torchmetrics) (2.1.0+cu118)\n",
            "Requirement already satisfied: lightning-utilities>=0.8.0 in /usr/local/lib/python3.10/dist-packages (from torchmetrics) (0.9.0)\n",
            "Requirement already satisfied: packaging>=17.1 in /usr/local/lib/python3.10/dist-packages (from lightning-utilities>=0.8.0->torchmetrics) (23.2)\n",
            "Requirement already satisfied: typing-extensions in /usr/local/lib/python3.10/dist-packages (from lightning-utilities>=0.8.0->torchmetrics) (4.5.0)\n",
            "Requirement already satisfied: filelock in /usr/local/lib/python3.10/dist-packages (from torch>=1.8.1->torchmetrics) (3.12.4)\n",
            "Requirement already satisfied: sympy in /usr/local/lib/python3.10/dist-packages (from torch>=1.8.1->torchmetrics) (1.12)\n",
            "Requirement already satisfied: networkx in /usr/local/lib/python3.10/dist-packages (from torch>=1.8.1->torchmetrics) (3.2)\n",
            "Requirement already satisfied: jinja2 in /usr/local/lib/python3.10/dist-packages (from torch>=1.8.1->torchmetrics) (3.1.2)\n",
            "Requirement already satisfied: fsspec in /usr/local/lib/python3.10/dist-packages (from torch>=1.8.1->torchmetrics) (2023.6.0)\n",
            "Requirement already satisfied: triton==2.1.0 in /usr/local/lib/python3.10/dist-packages (from torch>=1.8.1->torchmetrics) (2.1.0)\n",
            "Requirement already satisfied: MarkupSafe>=2.0 in /usr/local/lib/python3.10/dist-packages (from jinja2->torch>=1.8.1->torchmetrics) (2.1.3)\n",
            "Requirement already satisfied: mpmath>=0.19 in /usr/local/lib/python3.10/dist-packages (from sympy->torch>=1.8.1->torchmetrics) (1.3.0)\n"
          ]
        }
      ]
    },
    {
      "cell_type": "code",
      "execution_count": 3,
      "id": "1e8dfe2b-4149-4b10-8114-5403aa77627e",
      "metadata": {
        "id": "1e8dfe2b-4149-4b10-8114-5403aa77627e"
      },
      "outputs": [],
      "source": [
        "#import libraries\n",
        "import numpy as np\n",
        "import os\n",
        "import torch\n",
        "from torch import nn\n",
        "from torch.utils.data import DataLoader\n",
        "from torchvision import datasets, transforms"
      ]
    },
    {
      "cell_type": "code",
      "execution_count": 4,
      "id": "837a5b60-6479-4dcd-8da0-e3b28aeafbc3",
      "metadata": {
        "colab": {
          "base_uri": "https://localhost:8080/"
        },
        "id": "837a5b60-6479-4dcd-8da0-e3b28aeafbc3",
        "outputId": "5212303d-6d58-453a-bfb1-5f8751aceb38"
      },
      "outputs": [
        {
          "output_type": "stream",
          "name": "stdout",
          "text": [
            "Tesla T4\n"
          ]
        }
      ],
      "source": [
        "#Load the device GPU\n",
        "gpu = torch.device(\"cuda:0\")\n",
        "print(torch.cuda.get_device_name(torch.cuda.current_device()))"
      ]
    },
    {
      "cell_type": "code",
      "execution_count": 5,
      "id": "20114766-5d9c-4d14-a1d9-ffe2b1d52f81",
      "metadata": {
        "tags": [],
        "id": "20114766-5d9c-4d14-a1d9-ffe2b1d52f81"
      },
      "outputs": [],
      "source": [
        "#load the dataset\n",
        "import codecs\n",
        "dataset_t = \"\"\n",
        "with codecs.open('/content/drive/Othercomputers/Il mio computer/BarberoGenerator/dataset/dataset_barbero_sarzana.txt', encoding='utf-8') as f:\n",
        "    for character in f:\n",
        "        dataset_t = dataset_t + character"
      ]
    },
    {
      "cell_type": "code",
      "execution_count": 6,
      "id": "f58b2b63-a5ee-4522-8e3b-e0672a71f2f5",
      "metadata": {
        "tags": [],
        "colab": {
          "base_uri": "https://localhost:8080/"
        },
        "id": "f58b2b63-a5ee-4522-8e3b-e0672a71f2f5",
        "outputId": "c5192206-06af-47de-83d9-4bb9a2d10407"
      },
      "outputs": [
        {
          "output_type": "stream",
          "name": "stderr",
          "text": [
            "<ipython-input-6-c0c5f10b0c7b>:11: SettingWithCopyWarning: \n",
            "A value is trying to be set on a copy of a slice from a DataFrame.\n",
            "Try using .loc[row_indexer,col_indexer] = value instead\n",
            "\n",
            "See the caveats in the documentation: https://pandas.pydata.org/pandas-docs/stable/user_guide/indexing.html#returning-a-view-versus-a-copy\n",
            "  dictionary['int_encoding'] = label_enc.fit_transform(dictionary['data'])\n"
          ]
        },
        {
          "output_type": "stream",
          "name": "stdout",
          "text": [
            "tensor([[0., 0., 0.,  ..., 0., 0., 0.],\n",
            "        [0., 0., 0.,  ..., 0., 0., 0.],\n",
            "        [0., 0., 0.,  ..., 0., 0., 0.],\n",
            "        ...,\n",
            "        [0., 0., 0.,  ..., 0., 0., 0.],\n",
            "        [1., 0., 0.,  ..., 0., 0., 0.],\n",
            "        [1., 0., 0.,  ..., 0., 0., 0.]], device='cuda:0')\n"
          ]
        }
      ],
      "source": [
        "# transform dataset from numeric to one-hot\n",
        "from sklearn.preprocessing import LabelEncoder\n",
        "from sklearn.preprocessing import OneHotEncoder\n",
        "import pandas as pd\n",
        "whole_dataset_list_of_chars = list(dataset_t)\n",
        "dataset_int = pd.DataFrame(whole_dataset_list_of_chars, columns=['data'])\n",
        "\n",
        "# create a dictionary\n",
        "label_enc = LabelEncoder()\n",
        "dictionary = dataset_int.drop_duplicates(subset=['data'])\n",
        "dictionary['int_encoding'] = label_enc.fit_transform(dictionary['data'])\n",
        "dataset_int['int_encoding'] = label_enc.fit_transform(dataset_int['data'])\n",
        "\n",
        "\n",
        "# one hot encode\n",
        "one_hot_enc = OneHotEncoder()\n",
        "# lstm uses float32 insted of float64.\n",
        "one_hot_encoded_dataset = one_hot_enc.fit_transform(dataset_int[['int_encoding']]).toarray().astype(np.float32)\n",
        "one_hot_encoded_dataset = torch.from_numpy(one_hot_encoded_dataset)\n",
        "one_hot_encoded_dataset = one_hot_encoded_dataset.to(gpu)\n",
        "print(one_hot_encoded_dataset)"
      ]
    },
    {
      "cell_type": "code",
      "execution_count": 7,
      "id": "3c6b005c-535e-455d-9ed7-12562d84dbde",
      "metadata": {
        "colab": {
          "base_uri": "https://localhost:8080/"
        },
        "id": "3c6b005c-535e-455d-9ed7-12562d84dbde",
        "outputId": "a567a783-349f-4fcc-9c4a-f3c8430f7b99"
      },
      "outputs": [
        {
          "output_type": "stream",
          "name": "stdout",
          "text": [
            "        data  int_encoding\n",
            "0          b            39\n",
            "1          e            42\n",
            "2          n            51\n",
            "4                        1\n",
            "6          u            58\n",
            "...      ...           ...\n",
            "1099082    -             4\n",
            "1099618    U            33\n",
            "1100751    È            64\n",
            "1101278    N            26\n",
            "1104174    V            34\n",
            "\n",
            "[72 rows x 2 columns]\n"
          ]
        }
      ],
      "source": [
        "print(dictionary)"
      ]
    },
    {
      "cell_type": "code",
      "execution_count": 8,
      "id": "d7dc00c6-f9fe-45fc-ae9d-fa7529651a71",
      "metadata": {
        "id": "d7dc00c6-f9fe-45fc-ae9d-fa7529651a71"
      },
      "outputs": [],
      "source": [
        "# check that the device set is the GPU\n",
        "assert one_hot_encoded_dataset.get_device() == 0"
      ]
    },
    {
      "cell_type": "code",
      "execution_count": 9,
      "id": "d28b0528-4984-4602-a237-29bdd620ffa5",
      "metadata": {
        "colab": {
          "base_uri": "https://localhost:8080/"
        },
        "id": "d28b0528-4984-4602-a237-29bdd620ffa5",
        "outputId": "d7e0d05d-1032-46b3-d4c2-29e27911654b"
      },
      "outputs": [
        {
          "output_type": "stream",
          "name": "stdout",
          "text": [
            "22736\n",
            "2\n"
          ]
        }
      ],
      "source": [
        "\n",
        "# ADD LABELS: turn dataset from a string \"s1,s2,...,si,si+1\" to ((s1,...,sk),(s2,...,sk+1)),...\n",
        "sequence_length = 100\n",
        "dataset = []\n",
        "for i in range(0,len(one_hot_encoded_dataset)-sequence_length,int(sequence_length/2)):\n",
        "    x = []\n",
        "    y = []\n",
        "    for j in range(sequence_length):\n",
        "        x.append(one_hot_encoded_dataset[i+j])\n",
        "        y.append(one_hot_encoded_dataset[i+j+1])\n",
        "    dataset.append((x, y))\n",
        "print(len(dataset))\n",
        "print(len(dataset[0]))"
      ]
    },
    {
      "cell_type": "code",
      "source": [
        "# We use the whole dataset as training set, bc we will use k-fold cross-validation to validate and test the models\n",
        "batch_size_train = 64\n",
        "train_dataloader_kfold = DataLoader(dataset, batch_size=batch_size_train, shuffle=False)\n",
        "iterator = iter(train_dataloader_kfold)\n",
        "data, label = next(iterator)\n",
        "a = torch.stack(data)\n",
        "print(torch.permute(a, (1,0,2)).size())"
      ],
      "metadata": {
        "colab": {
          "base_uri": "https://localhost:8080/"
        },
        "id": "-smzGezAhIY-",
        "outputId": "bdfc8d81-09da-4ba1-b003-9f2254df56ab"
      },
      "id": "-smzGezAhIY-",
      "execution_count": 10,
      "outputs": [
        {
          "output_type": "stream",
          "name": "stdout",
          "text": [
            "torch.Size([64, 100, 72])\n"
          ]
        }
      ]
    },
    {
      "cell_type": "code",
      "source": [
        "def print_number_of_parameters_of_model(model):\n",
        "  n_parameters = 0\n",
        "  for parameter in model.parameters():\n",
        "      n_parameters = n_parameters + sum(list(parameter.size()))\n",
        "  print(\"The model has %d parameters\" % n_parameters)"
      ],
      "metadata": {
        "id": "fk-b2jtYfnET"
      },
      "id": "fk-b2jtYfnET",
      "execution_count": 11,
      "outputs": []
    },
    {
      "cell_type": "markdown",
      "source": [
        "## Simple Model: 32 hidden units, 1 LSTM layer\n",
        "This model has 32 as the shape of the hidden units of LSTM. The total number of parameters is 792.\\\n",
        "The loss and Optimizer are respectively CrossEntropy and Adam."
      ],
      "metadata": {
        "id": "m5NUMv1Qh7T5"
      },
      "id": "m5NUMv1Qh7T5"
    },
    {
      "cell_type": "code",
      "execution_count": 12,
      "id": "586fe12b-820e-49e5-bc0a-d826cba8e0ed",
      "metadata": {
        "tags": [],
        "colab": {
          "base_uri": "https://localhost:8080/"
        },
        "id": "586fe12b-820e-49e5-bc0a-d826cba8e0ed",
        "outputId": "78f6be00-920c-4d59-f01c-addc06d5bb9c"
      },
      "outputs": [
        {
          "output_type": "stream",
          "name": "stdout",
          "text": [
            "The model has 792 parameters\n"
          ]
        }
      ],
      "source": [
        "# model_32: single LSTM with an hidden layer size of 32\n",
        "class NeuralNetwork(nn.Module):\n",
        "    def __init__(self, input_size, hidden_size, output_size, device):\n",
        "        super().__init__()\n",
        "        self.hidden_size = hidden_size\n",
        "        self.device = device\n",
        "        # weights and biases are initialized using the uniform distribution:\n",
        "        #      weights.uniform_(-sqrt(output_size), +sqrt(output_size))\n",
        "        self.lstm_layer = torch.nn.LSTMCell(input_size=input_size, hidden_size=hidden_size)\n",
        "        self.dense = torch.nn.Linear(in_features=hidden_size, out_features=output_size)\n",
        "\n",
        "    def forward(self, x):\n",
        "        outputs = []\n",
        "        # construct the initial hidden and cell states\n",
        "        h_t = torch.zeros(x.size()[0],self.hidden_size).to(self.device)\n",
        "        c_t = torch.zeros(x.size()[0],self.hidden_size).to(self.device)\n",
        "        # the split function collapses the batch dimension, so now, instead of having (batch_size,sequence_len,input_size) inputs,\n",
        "        # you have a number equal to batch_size of (batch_size,input_size) inputs; you will feed these inputs one after another to the lstm, using\n",
        "        # the history h_t and short term memory c_t, along with the i-th input of type (batch_size,input_size)\n",
        "        for time_step in torch.split(x, split_size_or_sections=1, dim=1):\n",
        "            # this is needed to remove a dimension that wasn't removed by split\n",
        "            time_step = torch.squeeze(time_step)\n",
        "            h_t, c_t = self.lstm_layer(time_step, (h_t, c_t))\n",
        "            output = self.dense(h_t)\n",
        "            outputs.append(output)\n",
        "        # len(outputs) = batch_size. We convert outputs to a tensor by concatenating all tensors inside it\n",
        "        #outputs = torch.stack(outputs)\n",
        "        #print(outputs.size())\n",
        "        return outputs\n",
        "input_size = 72\n",
        "output_size = input_size\n",
        "model_32 = NeuralNetwork(input_size, 32, output_size,gpu)\n",
        "model_32.to(gpu)\n",
        "print_number_of_parameters_of_model(model_32)"
      ]
    },
    {
      "cell_type": "code",
      "execution_count": 13,
      "id": "ef906656-38b1-474d-bf34-361490ba4066",
      "metadata": {
        "id": "ef906656-38b1-474d-bf34-361490ba4066"
      },
      "outputs": [],
      "source": [
        "#declare loss, optimizer\n",
        "loss_32 = torch.nn.CrossEntropyLoss()\n",
        "optimizer_32 = torch.optim.Adam(model_32.parameters(), lr=0.001)"
      ]
    },
    {
      "cell_type": "markdown",
      "source": [
        "## 1024 hidden units, 1 LSTM\n",
        "This model has 1024 as the shape of the hidden units of LSTM. The total number of parameters is 18648.\n",
        "The loss and Optimizer are respectively CrossEntropy and Adam."
      ],
      "metadata": {
        "id": "6j0Xev-aiVnh"
      },
      "id": "6j0Xev-aiVnh"
    },
    {
      "cell_type": "code",
      "source": [
        "# model_1024: single LSTM with an hidden layer size of 1024\n",
        "input_size = 72\n",
        "output_size = input_size\n",
        "model_1024 = NeuralNetwork(input_size, 1024, output_size, gpu)\n",
        "model_1024.to(gpu)\n",
        "print_number_of_parameters_of_model(model_1024)"
      ],
      "metadata": {
        "id": "WjzWIrOXhvD3",
        "outputId": "326c8b7b-8bfd-43a5-acf5-35e93761af3c",
        "colab": {
          "base_uri": "https://localhost:8080/"
        }
      },
      "id": "WjzWIrOXhvD3",
      "execution_count": 14,
      "outputs": [
        {
          "output_type": "stream",
          "name": "stdout",
          "text": [
            "The model has 18648 parameters\n"
          ]
        }
      ]
    },
    {
      "cell_type": "code",
      "source": [
        "#declare loss, optimizer\n",
        "loss_1024 = torch.nn.CrossEntropyLoss()\n",
        "optimizer_1024 = torch.optim.Adam(model_1024.parameters(), lr=0.001)"
      ],
      "metadata": {
        "id": "dTauHy5C-0ci"
      },
      "id": "dTauHy5C-0ci",
      "execution_count": 15,
      "outputs": []
    },
    {
      "cell_type": "markdown",
      "source": [
        "## K-Fold Cross-Validation vs Train and Test\n",
        "How can we evaluate the differences between two different models?\n",
        "* We could train and test each of them by splitting the dataset 80/20, and confront metrics. But the split could be an unfair one.\n",
        "* We can use K-Fold <strong>Cross Validation</strong>\n",
        "\n",
        "<strong>Cross Validation</strong>: We subdivide the dataset into k GROUPS.\n",
        "* one group is selected to be the test set\n",
        "* the other groups constitutes the training set\n",
        "* the model is trained and tested, and metrics are recorded\n",
        "\n",
        "In the end we trained and tested k times the same model with different training and test sets, hence we are capable to say <strong> how good this model is, if it was to be trained with this dataset </strong>\n",
        "\n",
        "After we decided which is the best model, we will <strong> use the whole dataset to train it </strong>"
      ],
      "metadata": {
        "id": "eBK-qNnbiBmj"
      },
      "id": "eBK-qNnbiBmj"
    },
    {
      "cell_type": "code",
      "execution_count": 31,
      "id": "448f29ec-1a00-44c4-a1b6-20839348436c",
      "metadata": {
        "id": "448f29ec-1a00-44c4-a1b6-20839348436c"
      },
      "outputs": [],
      "source": [
        "import time\n",
        "\n",
        "#train\n",
        "def train_cycle(EPOCHS, train_dataloader, model, loss, optimizer):\n",
        "    start_time = time.time()\n",
        "    losses = []\n",
        "    for i in range(EPOCHS):\n",
        "        iterator = iter(train_dataloader)\n",
        "        print(\"Epoch: \" + str(i))\n",
        "        for data, label in iterator:\n",
        "            # pytorch accumulate gradients at every batch, doing this you reset these gradients\n",
        "            optimizer.zero_grad()\n",
        "            # we convert a list of tensors (given as such by the dataloader) to a tensor\n",
        "            data = torch.stack(data)\n",
        "            # convert the tensor given in shape (sequence_len,batch_size,num_classes) to (batch_size,sequence_len,num_classes)\n",
        "            data = torch.permute(data, (1,0,2))\n",
        "            #forward step\n",
        "            outputs = model(data)\n",
        "            loss_acc = 0\n",
        "            total_loss = 0\n",
        "            for i in range(len(outputs)):\n",
        "                total_loss = total_loss + loss(outputs[i],label[i])\n",
        "            #backward step: compute gradients (apply automatic differentiation).\n",
        "            total_loss.backward()\n",
        "            loss_acc = total_loss / len(outputs)\n",
        "            losses.append(loss_acc)\n",
        "            #update the parameters using the already computed gradients\n",
        "            optimizer.step()\n",
        "    end_time = time.time()\n",
        "    return losses, end_time - start_time"
      ]
    },
    {
      "cell_type": "code",
      "execution_count": 49,
      "id": "b96a1b85-6029-4854-a58d-4ba6816a99b9",
      "metadata": {
        "collapsed": true,
        "jupyter": {
          "outputs_hidden": true
        },
        "tags": [],
        "id": "b96a1b85-6029-4854-a58d-4ba6816a99b9"
      },
      "outputs": [],
      "source": [
        "#test\n",
        "def test_cycle(test_dataloader, model, batch_size):\n",
        "  start_time = time.time()\n",
        "  iterator = iter(test_dataloader)\n",
        "  softmax = torch.nn.Softmax(dim=1)\n",
        "  accuracies = []\n",
        "  for data, label in iterator:\n",
        "      # we convert a list of tensors (given as such by the dataloader) to a tensor\n",
        "      data = torch.stack(data)\n",
        "      # convert the tensor given in shape (sequence_len,batch_size,num_classes) to (batch_size,sequence_len,num_classes)\n",
        "      data = torch.permute(data, (1,0,2))\n",
        "      #forward step\n",
        "      prediction = model(data)\n",
        "      prediction = torch.stack(prediction)\n",
        "      label = torch.stack(label)\n",
        "      #compute accuracy\n",
        "      pred_arg = torch.argmax(softmax(prediction),dim=2)\n",
        "      label_arg = torch.argmax(label,dim=2)\n",
        "      acc_list = (torch.sum(torch.eq(pred_arg, label_arg),1)/batch_size).tolist()\n",
        "      mean_acc = sum(acc_list)/len(acc_list)\n",
        "      accuracies.append(mean_acc)\n",
        "  end_time = time.time()\n",
        "  return sum(accuracies) / len(accuracies), end_time - start_time"
      ]
    },
    {
      "cell_type": "code",
      "source": [
        "from numpy import array\n",
        "from sklearn.model_selection import KFold\n",
        "import time\n",
        "\n",
        "# prepare cross validation\n",
        "def KFOLD(model, loss, optimizer, dataset, k):\n",
        "    batch_size_train = 64\n",
        "    batch_size_test = 128\n",
        "    kfold = KFold(k)\n",
        "    EPOCHS = 2\n",
        "    i = 0\n",
        "    mean_accuracy = []\n",
        "    for train, test in kfold.split(dataset):\n",
        "        # turn train and test folds to tensors that works with gpu\n",
        "        list_train = [dataset[i] for i in train.tolist()]\n",
        "        list_test = [dataset[i] for i in test.tolist()]\n",
        "        #tensor_train = torch.from_numpy(dataset[train])\n",
        "        #tensor_train = tensor_train.to(gpu)\n",
        "        #tensor_test = torch.from_numpy(dataset[test])\n",
        "        #tensor_test = tensor_test.to(gpu)\n",
        "        # create dataloaders for train and test folds\n",
        "        start_time = time.time()\n",
        "        train_dataloader = DataLoader(list_train, batch_size=batch_size_train, shuffle=False)\n",
        "        test_dataloader = DataLoader(list_test, batch_size=batch_size_test, shuffle=True)\n",
        "        # perform test and training cycle on a fold, and record the time spent on computing\n",
        "        losses, time_train = train_cycle(EPOCHS, train_dataloader, model, loss, optimizer)\n",
        "        accuracy, time_test = test_cycle(test_dataloader, model, batch_size_test)\n",
        "        mean_accuracy.append(accuracy)\n",
        "        print(\"Split %d accuracy is: %s. %s seconds required for training, %s seconds required for testing.\" % (i,str(accuracy),str(time_train),str(time_test)))\n",
        "        i = i + 1\n",
        "    return sum(mean_accuracy) / len(mean_accuracy)"
      ],
      "metadata": {
        "id": "KSufWISYiCtO"
      },
      "id": "KSufWISYiCtO",
      "execution_count": 33,
      "outputs": []
    },
    {
      "cell_type": "code",
      "source": [
        "result_32 = KFOLD(model_32, loss_32, optimizer_32, dataset, k=3)"
      ],
      "metadata": {
        "id": "FTbJ1IWvFSD8",
        "outputId": "f364a615-a475-45ba-f2ef-8c0218c82cb0",
        "colab": {
          "base_uri": "https://localhost:8080/"
        }
      },
      "id": "FTbJ1IWvFSD8",
      "execution_count": 34,
      "outputs": [
        {
          "output_type": "stream",
          "name": "stdout",
          "text": [
            "0.00013113021850585938\n",
            "\n",
            "Epoch: 0\n",
            "Epoch: 1\n",
            "Split 0 accuracy is: 0.2462044270833333. 32.370535135269165 seconds required for training, 3.5931806564331055 seconds required for testing.\n",
            "0.0003056526184082031\n",
            "\n",
            "Epoch: 0\n",
            "Epoch: 1\n",
            "Split 1 accuracy is: 0.24925520833333334. 32.59132218360901 seconds required for training, 1.9677457809448242 seconds required for testing.\n",
            "0.0002052783966064453\n",
            "\n",
            "Epoch: 0\n",
            "Epoch: 1\n",
            "Split 2 accuracy is: 0.23403515625000007. 32.94490122795105 seconds required for training, 2.386234760284424 seconds required for testing.\n"
          ]
        }
      ]
    },
    {
      "cell_type": "code",
      "source": [
        "result_1024 = KFOLD(model_1024, loss_1024, optimizer_1024, dataset, k=3)\n",
        "print(result_1024)"
      ],
      "metadata": {
        "id": "WWUj_sh7jZUU",
        "colab": {
          "base_uri": "https://localhost:8080/"
        },
        "outputId": "3393f200-5d44-4516-ce00-4d9dee6b511d"
      },
      "id": "WWUj_sh7jZUU",
      "execution_count": 35,
      "outputs": [
        {
          "output_type": "stream",
          "name": "stdout",
          "text": [
            "0.00011372566223144531\n",
            "\n",
            "Epoch: 0\n",
            "Epoch: 1\n",
            "Split 0 accuracy is: 0.20838151041666655. 44.18349885940552 seconds required for training, 3.6154592037200928 seconds required for testing.\n",
            "0.0002970695495605469\n",
            "\n",
            "Epoch: 0\n",
            "Epoch: 1\n",
            "Split 1 accuracy is: 0.23048307291666667. 45.57931423187256 seconds required for training, 3.489776372909546 seconds required for testing.\n",
            "0.0002658367156982422\n",
            "\n",
            "Epoch: 0\n",
            "Epoch: 1\n",
            "Split 2 accuracy is: 0.2672591145833334. 44.99214291572571 seconds required for training, 3.778024911880493 seconds required for testing.\n",
            "0.2353745659722222\n"
          ]
        }
      ]
    },
    {
      "cell_type": "code",
      "source": [
        "# generate random character from dictionary\n",
        "dic_list = dictionary['data'].tolist()\n"
      ],
      "metadata": {
        "id": "6-94W7qhDgen"
      },
      "id": "6-94W7qhDgen",
      "execution_count": 36,
      "outputs": []
    },
    {
      "cell_type": "code",
      "execution_count": 44,
      "id": "b7392af7-d2df-47ce-befb-40925d96eea0",
      "metadata": {
        "collapsed": true,
        "jupyter": {
          "outputs_hidden": true
        },
        "tags": [],
        "id": "b7392af7-d2df-47ce-befb-40925d96eea0",
        "outputId": "8732c0fa-2977-4046-ae66-feb3ef4aed8d",
        "colab": {
          "base_uri": "https://localhost:8080/"
        }
      },
      "outputs": [
        {
          "output_type": "stream",
          "name": "stdout",
          "text": [
            "Epoch: 0\n",
            "Epoch: 1\n",
            "Epoch: 2\n",
            "Epoch: 3\n",
            "Epoch: 4\n",
            "Time passed: 134.7096288204193\n",
            "([tensor(4.2716, device='cuda:0', grad_fn=<DivBackward0>), tensor(4.2261, device='cuda:0', grad_fn=<DivBackward0>), tensor(4.1463, device='cuda:0', grad_fn=<DivBackward0>), tensor(3.3238, device='cuda:0', grad_fn=<DivBackward0>), tensor(3.1072, device='cuda:0', grad_fn=<DivBackward0>), tensor(3.0995, device='cuda:0', grad_fn=<DivBackward0>), tensor(3.0584, device='cuda:0', grad_fn=<DivBackward0>), tensor(2.9864, device='cuda:0', grad_fn=<DivBackward0>), tensor(2.9454, device='cuda:0', grad_fn=<DivBackward0>), tensor(2.9428, device='cuda:0', grad_fn=<DivBackward0>), tensor(2.9441, device='cuda:0', grad_fn=<DivBackward0>), tensor(2.9441, device='cuda:0', grad_fn=<DivBackward0>), tensor(2.9304, device='cuda:0', grad_fn=<DivBackward0>), tensor(2.9228, device='cuda:0', grad_fn=<DivBackward0>), tensor(2.9385, device='cuda:0', grad_fn=<DivBackward0>), tensor(2.9293, device='cuda:0', grad_fn=<DivBackward0>), tensor(2.9494, device='cuda:0', grad_fn=<DivBackward0>), tensor(2.9195, device='cuda:0', grad_fn=<DivBackward0>), tensor(2.9119, device='cuda:0', grad_fn=<DivBackward0>), tensor(2.9235, device='cuda:0', grad_fn=<DivBackward0>), tensor(2.9131, device='cuda:0', grad_fn=<DivBackward0>), tensor(2.9087, device='cuda:0', grad_fn=<DivBackward0>), tensor(2.9019, device='cuda:0', grad_fn=<DivBackward0>), tensor(2.9244, device='cuda:0', grad_fn=<DivBackward0>), tensor(2.9207, device='cuda:0', grad_fn=<DivBackward0>), tensor(2.8902, device='cuda:0', grad_fn=<DivBackward0>), tensor(2.9090, device='cuda:0', grad_fn=<DivBackward0>), tensor(2.9218, device='cuda:0', grad_fn=<DivBackward0>), tensor(2.8990, device='cuda:0', grad_fn=<DivBackward0>), tensor(2.9039, device='cuda:0', grad_fn=<DivBackward0>), tensor(2.9025, device='cuda:0', grad_fn=<DivBackward0>), tensor(2.9709, device='cuda:0', grad_fn=<DivBackward0>), tensor(2.9259, device='cuda:0', grad_fn=<DivBackward0>), tensor(2.9144, device='cuda:0', grad_fn=<DivBackward0>), tensor(2.8827, device='cuda:0', grad_fn=<DivBackward0>), tensor(2.9018, device='cuda:0', grad_fn=<DivBackward0>), tensor(2.8808, device='cuda:0', grad_fn=<DivBackward0>), tensor(2.8994, device='cuda:0', grad_fn=<DivBackward0>), tensor(2.8652, device='cuda:0', grad_fn=<DivBackward0>), tensor(2.8802, device='cuda:0', grad_fn=<DivBackward0>), tensor(2.8914, device='cuda:0', grad_fn=<DivBackward0>), tensor(2.9160, device='cuda:0', grad_fn=<DivBackward0>), tensor(2.8968, device='cuda:0', grad_fn=<DivBackward0>), tensor(2.8966, device='cuda:0', grad_fn=<DivBackward0>), tensor(2.9086, device='cuda:0', grad_fn=<DivBackward0>), tensor(2.8858, device='cuda:0', grad_fn=<DivBackward0>), tensor(2.8788, device='cuda:0', grad_fn=<DivBackward0>), tensor(2.8728, device='cuda:0', grad_fn=<DivBackward0>), tensor(2.8908, device='cuda:0', grad_fn=<DivBackward0>), tensor(2.8847, device='cuda:0', grad_fn=<DivBackward0>), tensor(2.9173, device='cuda:0', grad_fn=<DivBackward0>), tensor(2.9343, device='cuda:0', grad_fn=<DivBackward0>), tensor(2.9153, device='cuda:0', grad_fn=<DivBackward0>), tensor(2.9286, device='cuda:0', grad_fn=<DivBackward0>), tensor(2.8846, device='cuda:0', grad_fn=<DivBackward0>), tensor(2.9367, device='cuda:0', grad_fn=<DivBackward0>), tensor(2.8873, device='cuda:0', grad_fn=<DivBackward0>), tensor(2.9154, device='cuda:0', grad_fn=<DivBackward0>), tensor(2.8674, device='cuda:0', grad_fn=<DivBackward0>), tensor(2.8638, device='cuda:0', grad_fn=<DivBackward0>), tensor(2.8540, device='cuda:0', grad_fn=<DivBackward0>), tensor(2.9036, device='cuda:0', grad_fn=<DivBackward0>), tensor(2.8422, device='cuda:0', grad_fn=<DivBackward0>), tensor(2.8638, device='cuda:0', grad_fn=<DivBackward0>), tensor(2.8588, device='cuda:0', grad_fn=<DivBackward0>), tensor(2.8504, device='cuda:0', grad_fn=<DivBackward0>), tensor(2.8330, device='cuda:0', grad_fn=<DivBackward0>), tensor(2.7844, device='cuda:0', grad_fn=<DivBackward0>), tensor(2.8326, device='cuda:0', grad_fn=<DivBackward0>), tensor(2.8281, device='cuda:0', grad_fn=<DivBackward0>), tensor(2.8160, device='cuda:0', grad_fn=<DivBackward0>), tensor(2.8171, device='cuda:0', grad_fn=<DivBackward0>), tensor(2.8229, device='cuda:0', grad_fn=<DivBackward0>), tensor(2.8043, device='cuda:0', grad_fn=<DivBackward0>), tensor(2.7945, device='cuda:0', grad_fn=<DivBackward0>), tensor(2.7583, device='cuda:0', grad_fn=<DivBackward0>), tensor(2.7751, device='cuda:0', grad_fn=<DivBackward0>), tensor(2.7670, device='cuda:0', grad_fn=<DivBackward0>), tensor(2.7717, device='cuda:0', grad_fn=<DivBackward0>), tensor(2.7298, device='cuda:0', grad_fn=<DivBackward0>), tensor(2.7450, device='cuda:0', grad_fn=<DivBackward0>), tensor(2.7366, device='cuda:0', grad_fn=<DivBackward0>), tensor(2.7346, device='cuda:0', grad_fn=<DivBackward0>), tensor(2.7074, device='cuda:0', grad_fn=<DivBackward0>), tensor(2.7147, device='cuda:0', grad_fn=<DivBackward0>), tensor(2.6826, device='cuda:0', grad_fn=<DivBackward0>), tensor(2.7177, device='cuda:0', grad_fn=<DivBackward0>), tensor(2.6634, device='cuda:0', grad_fn=<DivBackward0>), tensor(2.6872, device='cuda:0', grad_fn=<DivBackward0>), tensor(2.6551, device='cuda:0', grad_fn=<DivBackward0>), tensor(2.6962, device='cuda:0', grad_fn=<DivBackward0>), tensor(2.6795, device='cuda:0', grad_fn=<DivBackward0>), tensor(2.6458, device='cuda:0', grad_fn=<DivBackward0>), tensor(2.6708, device='cuda:0', grad_fn=<DivBackward0>), tensor(2.6733, device='cuda:0', grad_fn=<DivBackward0>), tensor(2.6856, device='cuda:0', grad_fn=<DivBackward0>), tensor(2.6892, device='cuda:0', grad_fn=<DivBackward0>), tensor(2.6343, device='cuda:0', grad_fn=<DivBackward0>), tensor(2.6374, device='cuda:0', grad_fn=<DivBackward0>), tensor(2.6775, device='cuda:0', grad_fn=<DivBackward0>), tensor(2.6046, device='cuda:0', grad_fn=<DivBackward0>), tensor(2.6290, device='cuda:0', grad_fn=<DivBackward0>), tensor(2.5922, device='cuda:0', grad_fn=<DivBackward0>), tensor(2.6200, device='cuda:0', grad_fn=<DivBackward0>), tensor(2.5825, device='cuda:0', grad_fn=<DivBackward0>), tensor(2.5932, device='cuda:0', grad_fn=<DivBackward0>), tensor(2.6197, device='cuda:0', grad_fn=<DivBackward0>), tensor(2.6279, device='cuda:0', grad_fn=<DivBackward0>), tensor(2.6330, device='cuda:0', grad_fn=<DivBackward0>), tensor(2.5868, device='cuda:0', grad_fn=<DivBackward0>), tensor(2.6088, device='cuda:0', grad_fn=<DivBackward0>), tensor(2.5948, device='cuda:0', grad_fn=<DivBackward0>), tensor(2.6470, device='cuda:0', grad_fn=<DivBackward0>), tensor(2.5676, device='cuda:0', grad_fn=<DivBackward0>), tensor(2.5849, device='cuda:0', grad_fn=<DivBackward0>), tensor(2.5545, device='cuda:0', grad_fn=<DivBackward0>), tensor(2.5579, device='cuda:0', grad_fn=<DivBackward0>), tensor(2.5913, device='cuda:0', grad_fn=<DivBackward0>), tensor(2.5388, device='cuda:0', grad_fn=<DivBackward0>), tensor(2.5206, device='cuda:0', grad_fn=<DivBackward0>), tensor(2.5162, device='cuda:0', grad_fn=<DivBackward0>), tensor(2.5321, device='cuda:0', grad_fn=<DivBackward0>), tensor(2.5385, device='cuda:0', grad_fn=<DivBackward0>), tensor(2.5366, device='cuda:0', grad_fn=<DivBackward0>), tensor(2.5509, device='cuda:0', grad_fn=<DivBackward0>), tensor(2.4937, device='cuda:0', grad_fn=<DivBackward0>), tensor(2.4803, device='cuda:0', grad_fn=<DivBackward0>), tensor(2.4781, device='cuda:0', grad_fn=<DivBackward0>), tensor(2.5155, device='cuda:0', grad_fn=<DivBackward0>), tensor(2.5421, device='cuda:0', grad_fn=<DivBackward0>), tensor(2.4538, device='cuda:0', grad_fn=<DivBackward0>), tensor(2.4891, device='cuda:0', grad_fn=<DivBackward0>), tensor(2.4447, device='cuda:0', grad_fn=<DivBackward0>), tensor(2.4479, device='cuda:0', grad_fn=<DivBackward0>), tensor(2.4850, device='cuda:0', grad_fn=<DivBackward0>), tensor(2.4698, device='cuda:0', grad_fn=<DivBackward0>), tensor(2.4823, device='cuda:0', grad_fn=<DivBackward0>), tensor(2.4331, device='cuda:0', grad_fn=<DivBackward0>), tensor(2.4105, device='cuda:0', grad_fn=<DivBackward0>), tensor(2.3975, device='cuda:0', grad_fn=<DivBackward0>), tensor(2.4709, device='cuda:0', grad_fn=<DivBackward0>), tensor(2.4479, device='cuda:0', grad_fn=<DivBackward0>), tensor(2.4714, device='cuda:0', grad_fn=<DivBackward0>), tensor(2.3854, device='cuda:0', grad_fn=<DivBackward0>), tensor(2.3802, device='cuda:0', grad_fn=<DivBackward0>), tensor(2.3717, device='cuda:0', grad_fn=<DivBackward0>), tensor(2.3666, device='cuda:0', grad_fn=<DivBackward0>), tensor(2.3872, device='cuda:0', grad_fn=<DivBackward0>), tensor(2.3755, device='cuda:0', grad_fn=<DivBackward0>), tensor(2.3912, device='cuda:0', grad_fn=<DivBackward0>), tensor(2.4075, device='cuda:0', grad_fn=<DivBackward0>), tensor(2.4225, device='cuda:0', grad_fn=<DivBackward0>), tensor(2.3898, device='cuda:0', grad_fn=<DivBackward0>), tensor(2.3957, device='cuda:0', grad_fn=<DivBackward0>), tensor(2.3863, device='cuda:0', grad_fn=<DivBackward0>), tensor(2.3553, device='cuda:0', grad_fn=<DivBackward0>), tensor(2.3666, device='cuda:0', grad_fn=<DivBackward0>), tensor(2.3352, device='cuda:0', grad_fn=<DivBackward0>), tensor(2.3772, device='cuda:0', grad_fn=<DivBackward0>), tensor(2.3884, device='cuda:0', grad_fn=<DivBackward0>), tensor(2.3751, device='cuda:0', grad_fn=<DivBackward0>), tensor(2.4155, device='cuda:0', grad_fn=<DivBackward0>), tensor(2.3584, device='cuda:0', grad_fn=<DivBackward0>), tensor(2.3870, device='cuda:0', grad_fn=<DivBackward0>), tensor(2.3582, device='cuda:0', grad_fn=<DivBackward0>), tensor(2.3894, device='cuda:0', grad_fn=<DivBackward0>), tensor(2.3424, device='cuda:0', grad_fn=<DivBackward0>), tensor(2.3291, device='cuda:0', grad_fn=<DivBackward0>), tensor(2.3548, device='cuda:0', grad_fn=<DivBackward0>), tensor(2.3204, device='cuda:0', grad_fn=<DivBackward0>), tensor(2.3043, device='cuda:0', grad_fn=<DivBackward0>), tensor(2.3295, device='cuda:0', grad_fn=<DivBackward0>), tensor(2.3052, device='cuda:0', grad_fn=<DivBackward0>), tensor(2.3081, device='cuda:0', grad_fn=<DivBackward0>), tensor(2.3147, device='cuda:0', grad_fn=<DivBackward0>), tensor(2.3090, device='cuda:0', grad_fn=<DivBackward0>), tensor(2.2956, device='cuda:0', grad_fn=<DivBackward0>), tensor(2.3273, device='cuda:0', grad_fn=<DivBackward0>), tensor(2.2965, device='cuda:0', grad_fn=<DivBackward0>), tensor(2.3274, device='cuda:0', grad_fn=<DivBackward0>), tensor(2.2983, device='cuda:0', grad_fn=<DivBackward0>), tensor(2.3251, device='cuda:0', grad_fn=<DivBackward0>), tensor(2.3069, device='cuda:0', grad_fn=<DivBackward0>), tensor(2.3215, device='cuda:0', grad_fn=<DivBackward0>), tensor(2.2662, device='cuda:0', grad_fn=<DivBackward0>), tensor(2.3140, device='cuda:0', grad_fn=<DivBackward0>), tensor(2.2766, device='cuda:0', grad_fn=<DivBackward0>), tensor(2.2415, device='cuda:0', grad_fn=<DivBackward0>), tensor(2.2539, device='cuda:0', grad_fn=<DivBackward0>), tensor(2.2634, device='cuda:0', grad_fn=<DivBackward0>), tensor(2.2963, device='cuda:0', grad_fn=<DivBackward0>), tensor(2.2416, device='cuda:0', grad_fn=<DivBackward0>), tensor(2.2164, device='cuda:0', grad_fn=<DivBackward0>), tensor(2.2273, device='cuda:0', grad_fn=<DivBackward0>), tensor(2.2321, device='cuda:0', grad_fn=<DivBackward0>), tensor(2.3141, device='cuda:0', grad_fn=<DivBackward0>), tensor(2.1997, device='cuda:0', grad_fn=<DivBackward0>), tensor(2.2540, device='cuda:0', grad_fn=<DivBackward0>), tensor(2.2416, device='cuda:0', grad_fn=<DivBackward0>), tensor(2.1890, device='cuda:0', grad_fn=<DivBackward0>), tensor(2.2082, device='cuda:0', grad_fn=<DivBackward0>), tensor(2.2342, device='cuda:0', grad_fn=<DivBackward0>), tensor(2.2234, device='cuda:0', grad_fn=<DivBackward0>), tensor(2.1961, device='cuda:0', grad_fn=<DivBackward0>), tensor(2.1862, device='cuda:0', grad_fn=<DivBackward0>), tensor(2.2272, device='cuda:0', grad_fn=<DivBackward0>), tensor(2.2146, device='cuda:0', grad_fn=<DivBackward0>), tensor(2.2164, device='cuda:0', grad_fn=<DivBackward0>), tensor(2.2502, device='cuda:0', grad_fn=<DivBackward0>), tensor(2.2745, device='cuda:0', grad_fn=<DivBackward0>), tensor(2.3174, device='cuda:0', grad_fn=<DivBackward0>), tensor(2.2397, device='cuda:0', grad_fn=<DivBackward0>), tensor(2.2562, device='cuda:0', grad_fn=<DivBackward0>), tensor(2.1909, device='cuda:0', grad_fn=<DivBackward0>), tensor(2.2335, device='cuda:0', grad_fn=<DivBackward0>), tensor(2.1494, device='cuda:0', grad_fn=<DivBackward0>), tensor(2.1971, device='cuda:0', grad_fn=<DivBackward0>), tensor(2.1831, device='cuda:0', grad_fn=<DivBackward0>), tensor(2.1869, device='cuda:0', grad_fn=<DivBackward0>), tensor(2.2027, device='cuda:0', grad_fn=<DivBackward0>), tensor(2.1948, device='cuda:0', grad_fn=<DivBackward0>), tensor(2.2075, device='cuda:0', grad_fn=<DivBackward0>), tensor(2.1502, device='cuda:0', grad_fn=<DivBackward0>), tensor(2.1864, device='cuda:0', grad_fn=<DivBackward0>), tensor(2.1340, device='cuda:0', grad_fn=<DivBackward0>), tensor(2.1812, device='cuda:0', grad_fn=<DivBackward0>), tensor(2.1823, device='cuda:0', grad_fn=<DivBackward0>), tensor(2.1427, device='cuda:0', grad_fn=<DivBackward0>), tensor(2.1772, device='cuda:0', grad_fn=<DivBackward0>), tensor(2.1929, device='cuda:0', grad_fn=<DivBackward0>), tensor(2.1875, device='cuda:0', grad_fn=<DivBackward0>), tensor(2.1566, device='cuda:0', grad_fn=<DivBackward0>), tensor(2.1336, device='cuda:0', grad_fn=<DivBackward0>), tensor(2.1728, device='cuda:0', grad_fn=<DivBackward0>), tensor(2.1909, device='cuda:0', grad_fn=<DivBackward0>), tensor(2.1421, device='cuda:0', grad_fn=<DivBackward0>), tensor(2.1414, device='cuda:0', grad_fn=<DivBackward0>), tensor(2.1317, device='cuda:0', grad_fn=<DivBackward0>), tensor(2.1179, device='cuda:0', grad_fn=<DivBackward0>), tensor(2.1526, device='cuda:0', grad_fn=<DivBackward0>), tensor(2.1121, device='cuda:0', grad_fn=<DivBackward0>), tensor(2.1414, device='cuda:0', grad_fn=<DivBackward0>), tensor(2.1205, device='cuda:0', grad_fn=<DivBackward0>), tensor(2.1521, device='cuda:0', grad_fn=<DivBackward0>), tensor(2.1244, device='cuda:0', grad_fn=<DivBackward0>), tensor(2.1685, device='cuda:0', grad_fn=<DivBackward0>), tensor(2.2413, device='cuda:0', grad_fn=<DivBackward0>), tensor(2.2146, device='cuda:0', grad_fn=<DivBackward0>), tensor(2.2107, device='cuda:0', grad_fn=<DivBackward0>), tensor(2.2513, device='cuda:0', grad_fn=<DivBackward0>), tensor(2.2107, device='cuda:0', grad_fn=<DivBackward0>), tensor(2.2379, device='cuda:0', grad_fn=<DivBackward0>), tensor(2.1869, device='cuda:0', grad_fn=<DivBackward0>), tensor(2.2139, device='cuda:0', grad_fn=<DivBackward0>), tensor(2.2217, device='cuda:0', grad_fn=<DivBackward0>), tensor(2.1873, device='cuda:0', grad_fn=<DivBackward0>), tensor(2.1730, device='cuda:0', grad_fn=<DivBackward0>), tensor(2.1697, device='cuda:0', grad_fn=<DivBackward0>), tensor(2.1839, device='cuda:0', grad_fn=<DivBackward0>), tensor(2.1852, device='cuda:0', grad_fn=<DivBackward0>), tensor(2.1688, device='cuda:0', grad_fn=<DivBackward0>), tensor(2.2144, device='cuda:0', grad_fn=<DivBackward0>), tensor(2.1949, device='cuda:0', grad_fn=<DivBackward0>), tensor(2.2520, device='cuda:0', grad_fn=<DivBackward0>), tensor(2.1709, device='cuda:0', grad_fn=<DivBackward0>), tensor(2.1598, device='cuda:0', grad_fn=<DivBackward0>), tensor(2.2833, device='cuda:0', grad_fn=<DivBackward0>), tensor(2.1419, device='cuda:0', grad_fn=<DivBackward0>), tensor(2.1393, device='cuda:0', grad_fn=<DivBackward0>), tensor(2.1744, device='cuda:0', grad_fn=<DivBackward0>), tensor(2.1494, device='cuda:0', grad_fn=<DivBackward0>), tensor(2.1675, device='cuda:0', grad_fn=<DivBackward0>), tensor(2.1305, device='cuda:0', grad_fn=<DivBackward0>), tensor(2.1763, device='cuda:0', grad_fn=<DivBackward0>), tensor(2.1303, device='cuda:0', grad_fn=<DivBackward0>), tensor(2.0727, device='cuda:0', grad_fn=<DivBackward0>), tensor(2.1298, device='cuda:0', grad_fn=<DivBackward0>), tensor(2.1075, device='cuda:0', grad_fn=<DivBackward0>), tensor(2.1995, device='cuda:0', grad_fn=<DivBackward0>), tensor(2.1827, device='cuda:0', grad_fn=<DivBackward0>), tensor(2.0983, device='cuda:0', grad_fn=<DivBackward0>), tensor(2.1286, device='cuda:0', grad_fn=<DivBackward0>), tensor(2.0835, device='cuda:0', grad_fn=<DivBackward0>), tensor(2.1168, device='cuda:0', grad_fn=<DivBackward0>), tensor(2.1073, device='cuda:0', grad_fn=<DivBackward0>), tensor(2.1030, device='cuda:0', grad_fn=<DivBackward0>), tensor(2.1384, device='cuda:0', grad_fn=<DivBackward0>), tensor(2.0875, device='cuda:0', grad_fn=<DivBackward0>), tensor(2.1291, device='cuda:0', grad_fn=<DivBackward0>), tensor(2.0617, device='cuda:0', grad_fn=<DivBackward0>), tensor(2.0681, device='cuda:0', grad_fn=<DivBackward0>), tensor(2.1287, device='cuda:0', grad_fn=<DivBackward0>), tensor(2.0661, device='cuda:0', grad_fn=<DivBackward0>), tensor(2.0776, device='cuda:0', grad_fn=<DivBackward0>), tensor(2.0614, device='cuda:0', grad_fn=<DivBackward0>), tensor(2.0346, device='cuda:0', grad_fn=<DivBackward0>), tensor(2.0817, device='cuda:0', grad_fn=<DivBackward0>), tensor(2.0618, device='cuda:0', grad_fn=<DivBackward0>), tensor(2.0997, device='cuda:0', grad_fn=<DivBackward0>), tensor(2.0376, device='cuda:0', grad_fn=<DivBackward0>), tensor(2.0691, device='cuda:0', grad_fn=<DivBackward0>), tensor(2.0820, device='cuda:0', grad_fn=<DivBackward0>), tensor(2.0455, device='cuda:0', grad_fn=<DivBackward0>), tensor(2.0530, device='cuda:0', grad_fn=<DivBackward0>), tensor(2.0518, device='cuda:0', grad_fn=<DivBackward0>), tensor(2.0360, device='cuda:0', grad_fn=<DivBackward0>), tensor(2.0523, device='cuda:0', grad_fn=<DivBackward0>), tensor(2.0813, device='cuda:0', grad_fn=<DivBackward0>), tensor(2.0898, device='cuda:0', grad_fn=<DivBackward0>), tensor(2.0725, device='cuda:0', grad_fn=<DivBackward0>), tensor(2.0335, device='cuda:0', grad_fn=<DivBackward0>), tensor(2.0413, device='cuda:0', grad_fn=<DivBackward0>), tensor(2.0499, device='cuda:0', grad_fn=<DivBackward0>), tensor(2.0262, device='cuda:0', grad_fn=<DivBackward0>), tensor(2.0624, device='cuda:0', grad_fn=<DivBackward0>), tensor(2.0359, device='cuda:0', grad_fn=<DivBackward0>), tensor(2.0639, device='cuda:0', grad_fn=<DivBackward0>), tensor(2.0567, device='cuda:0', grad_fn=<DivBackward0>), tensor(2.0551, device='cuda:0', grad_fn=<DivBackward0>), tensor(2.0188, device='cuda:0', grad_fn=<DivBackward0>), tensor(2.0181, device='cuda:0', grad_fn=<DivBackward0>), tensor(2.0275, device='cuda:0', grad_fn=<DivBackward0>), tensor(1.9946, device='cuda:0', grad_fn=<DivBackward0>), tensor(2.0408, device='cuda:0', grad_fn=<DivBackward0>), tensor(2.0253, device='cuda:0', grad_fn=<DivBackward0>), tensor(2.0248, device='cuda:0', grad_fn=<DivBackward0>), tensor(2.0960, device='cuda:0', grad_fn=<DivBackward0>), tensor(2.0262, device='cuda:0', grad_fn=<DivBackward0>), tensor(2.0571, device='cuda:0', grad_fn=<DivBackward0>), tensor(2.0658, device='cuda:0', grad_fn=<DivBackward0>), tensor(2.0422, device='cuda:0', grad_fn=<DivBackward0>), tensor(1.9952, device='cuda:0', grad_fn=<DivBackward0>), tensor(2.0136, device='cuda:0', grad_fn=<DivBackward0>), tensor(2.0466, device='cuda:0', grad_fn=<DivBackward0>), tensor(2.0191, device='cuda:0', grad_fn=<DivBackward0>), tensor(2.1250, device='cuda:0', grad_fn=<DivBackward0>), tensor(2.1413, device='cuda:0', grad_fn=<DivBackward0>), tensor(2.1083, device='cuda:0', grad_fn=<DivBackward0>), tensor(2.0721, device='cuda:0', grad_fn=<DivBackward0>), tensor(2.0315, device='cuda:0', grad_fn=<DivBackward0>), tensor(2.0329, device='cuda:0', grad_fn=<DivBackward0>), tensor(2.0376, device='cuda:0', grad_fn=<DivBackward0>), tensor(2.0546, device='cuda:0', grad_fn=<DivBackward0>), tensor(2.0493, device='cuda:0', grad_fn=<DivBackward0>), tensor(2.0112, device='cuda:0', grad_fn=<DivBackward0>), tensor(1.9799, device='cuda:0', grad_fn=<DivBackward0>), tensor(2.0816, device='cuda:0', grad_fn=<DivBackward0>), tensor(2.0938, device='cuda:0', grad_fn=<DivBackward0>), tensor(2.0602, device='cuda:0', grad_fn=<DivBackward0>), tensor(2.1204, device='cuda:0', grad_fn=<DivBackward0>), tensor(2.0368, device='cuda:0', grad_fn=<DivBackward0>), tensor(2.0336, device='cuda:0', grad_fn=<DivBackward0>), tensor(2.0142, device='cuda:0', grad_fn=<DivBackward0>), tensor(2.0120, device='cuda:0', grad_fn=<DivBackward0>), tensor(2.0180, device='cuda:0', grad_fn=<DivBackward0>), tensor(2.0439, device='cuda:0', grad_fn=<DivBackward0>), tensor(2.0280, device='cuda:0', grad_fn=<DivBackward0>), tensor(2.0499, device='cuda:0', grad_fn=<DivBackward0>), tensor(2.0795, device='cuda:0', grad_fn=<DivBackward0>), tensor(2.0634, device='cuda:0', grad_fn=<DivBackward0>), tensor(1.9929, device='cuda:0', grad_fn=<DivBackward0>), tensor(2.0088, device='cuda:0', grad_fn=<DivBackward0>), tensor(2.0082, device='cuda:0', grad_fn=<DivBackward0>), tensor(2.0624, device='cuda:0', grad_fn=<DivBackward0>), tensor(2.0511, device='cuda:0', grad_fn=<DivBackward0>), tensor(2.0486, device='cuda:0', grad_fn=<DivBackward0>), tensor(1.9959, device='cuda:0', grad_fn=<DivBackward0>), tensor(1.9884, device='cuda:0', grad_fn=<DivBackward0>), tensor(1.9940, device='cuda:0', grad_fn=<DivBackward0>), tensor(1.9726, device='cuda:0', grad_fn=<DivBackward0>), tensor(2.0196, device='cuda:0', grad_fn=<DivBackward0>), tensor(2.0380, device='cuda:0', grad_fn=<DivBackward0>), tensor(1.9296, device='cuda:0', grad_fn=<DivBackward0>), tensor(1.9965, device='cuda:0', grad_fn=<DivBackward0>), tensor(2.0023, device='cuda:0', grad_fn=<DivBackward0>), tensor(2.0340, device='cuda:0', grad_fn=<DivBackward0>), tensor(2.0190, device='cuda:0', grad_fn=<DivBackward0>), tensor(1.9832, device='cuda:0', grad_fn=<DivBackward0>), tensor(2.0619, device='cuda:0', grad_fn=<DivBackward0>), tensor(2.0994, device='cuda:0', grad_fn=<DivBackward0>), tensor(2.0695, device='cuda:0', grad_fn=<DivBackward0>), tensor(2.0759, device='cuda:0', grad_fn=<DivBackward0>), tensor(2.0602, device='cuda:0', grad_fn=<DivBackward0>), tensor(2.0824, device='cuda:0', grad_fn=<DivBackward0>), tensor(2.0547, device='cuda:0', grad_fn=<DivBackward0>), tensor(2.0286, device='cuda:0', grad_fn=<DivBackward0>), tensor(2.0491, device='cuda:0', grad_fn=<DivBackward0>), tensor(2.0188, device='cuda:0', grad_fn=<DivBackward0>), tensor(2.0405, device='cuda:0', grad_fn=<DivBackward0>), tensor(2.0394, device='cuda:0', grad_fn=<DivBackward0>), tensor(2.0146, device='cuda:0', grad_fn=<DivBackward0>), tensor(2.0690, device='cuda:0', grad_fn=<DivBackward0>), tensor(2.0703, device='cuda:0', grad_fn=<DivBackward0>), tensor(2.0834, device='cuda:0', grad_fn=<DivBackward0>), tensor(2.0470, device='cuda:0', grad_fn=<DivBackward0>), tensor(2.1132, device='cuda:0', grad_fn=<DivBackward0>), tensor(2.0713, device='cuda:0', grad_fn=<DivBackward0>), tensor(2.1244, device='cuda:0', grad_fn=<DivBackward0>), tensor(2.0661, device='cuda:0', grad_fn=<DivBackward0>), tensor(2.0895, device='cuda:0', grad_fn=<DivBackward0>), tensor(2.0542, device='cuda:0', grad_fn=<DivBackward0>), tensor(2.0377, device='cuda:0', grad_fn=<DivBackward0>), tensor(2.1212, device='cuda:0', grad_fn=<DivBackward0>), tensor(2.0545, device='cuda:0', grad_fn=<DivBackward0>), tensor(2.0594, device='cuda:0', grad_fn=<DivBackward0>), tensor(2.0010, device='cuda:0', grad_fn=<DivBackward0>), tensor(2.0286, device='cuda:0', grad_fn=<DivBackward0>), tensor(2.0661, device='cuda:0', grad_fn=<DivBackward0>), tensor(2.0737, device='cuda:0', grad_fn=<DivBackward0>), tensor(2.0943, device='cuda:0', grad_fn=<DivBackward0>), tensor(2.0493, device='cuda:0', grad_fn=<DivBackward0>), tensor(2.0307, device='cuda:0', grad_fn=<DivBackward0>), tensor(2.0536, device='cuda:0', grad_fn=<DivBackward0>), tensor(2.0612, device='cuda:0', grad_fn=<DivBackward0>), tensor(2.0282, device='cuda:0', grad_fn=<DivBackward0>), tensor(2.0033, device='cuda:0', grad_fn=<DivBackward0>), tensor(2.0198, device='cuda:0', grad_fn=<DivBackward0>), tensor(2.0155, device='cuda:0', grad_fn=<DivBackward0>), tensor(1.9611, device='cuda:0', grad_fn=<DivBackward0>), tensor(2.0097, device='cuda:0', grad_fn=<DivBackward0>), tensor(2.0391, device='cuda:0', grad_fn=<DivBackward0>), tensor(2.0285, device='cuda:0', grad_fn=<DivBackward0>), tensor(1.9688, device='cuda:0', grad_fn=<DivBackward0>), tensor(2.0047, device='cuda:0', grad_fn=<DivBackward0>), tensor(2.0055, device='cuda:0', grad_fn=<DivBackward0>), tensor(2.0497, device='cuda:0', grad_fn=<DivBackward0>), tensor(2.0378, device='cuda:0', grad_fn=<DivBackward0>), tensor(2.0190, device='cuda:0', grad_fn=<DivBackward0>), tensor(1.9832, device='cuda:0', grad_fn=<DivBackward0>), tensor(2.0138, device='cuda:0', grad_fn=<DivBackward0>), tensor(2.0286, device='cuda:0', grad_fn=<DivBackward0>), tensor(1.9865, device='cuda:0', grad_fn=<DivBackward0>), tensor(2.0022, device='cuda:0', grad_fn=<DivBackward0>), tensor(2.0066, device='cuda:0', grad_fn=<DivBackward0>), tensor(1.9897, device='cuda:0', grad_fn=<DivBackward0>), tensor(2.0034, device='cuda:0', grad_fn=<DivBackward0>), tensor(1.9881, device='cuda:0', grad_fn=<DivBackward0>), tensor(1.9652, device='cuda:0', grad_fn=<DivBackward0>), tensor(1.9864, device='cuda:0', grad_fn=<DivBackward0>), tensor(1.9950, device='cuda:0', grad_fn=<DivBackward0>), tensor(1.9564, device='cuda:0', grad_fn=<DivBackward0>), tensor(1.9809, device='cuda:0', grad_fn=<DivBackward0>), tensor(1.9401, device='cuda:0', grad_fn=<DivBackward0>), tensor(2.0037, device='cuda:0', grad_fn=<DivBackward0>), tensor(2.0346, device='cuda:0', grad_fn=<DivBackward0>), tensor(1.9552, device='cuda:0', grad_fn=<DivBackward0>), tensor(2.0784, device='cuda:0', grad_fn=<DivBackward0>), tensor(1.9626, device='cuda:0', grad_fn=<DivBackward0>), tensor(1.9672, device='cuda:0', grad_fn=<DivBackward0>), tensor(2.0155, device='cuda:0', grad_fn=<DivBackward0>), tensor(2.0410, device='cuda:0', grad_fn=<DivBackward0>), tensor(1.9671, device='cuda:0', grad_fn=<DivBackward0>), tensor(1.9640, device='cuda:0', grad_fn=<DivBackward0>), tensor(1.9799, device='cuda:0', grad_fn=<DivBackward0>), tensor(1.9958, device='cuda:0', grad_fn=<DivBackward0>), tensor(1.9557, device='cuda:0', grad_fn=<DivBackward0>), tensor(1.9839, device='cuda:0', grad_fn=<DivBackward0>), tensor(1.9775, device='cuda:0', grad_fn=<DivBackward0>), tensor(1.9746, device='cuda:0', grad_fn=<DivBackward0>), tensor(1.9781, device='cuda:0', grad_fn=<DivBackward0>), tensor(1.9813, device='cuda:0', grad_fn=<DivBackward0>), tensor(1.9870, device='cuda:0', grad_fn=<DivBackward0>), tensor(1.9335, device='cuda:0', grad_fn=<DivBackward0>), tensor(1.9246, device='cuda:0', grad_fn=<DivBackward0>), tensor(1.9870, device='cuda:0', grad_fn=<DivBackward0>), tensor(1.9351, device='cuda:0', grad_fn=<DivBackward0>), tensor(1.9886, device='cuda:0', grad_fn=<DivBackward0>), tensor(1.9890, device='cuda:0', grad_fn=<DivBackward0>), tensor(1.9557, device='cuda:0', grad_fn=<DivBackward0>), tensor(1.9464, device='cuda:0', grad_fn=<DivBackward0>), tensor(1.9816, device='cuda:0', grad_fn=<DivBackward0>), tensor(1.9504, device='cuda:0', grad_fn=<DivBackward0>), tensor(1.9406, device='cuda:0', grad_fn=<DivBackward0>), tensor(1.9118, device='cuda:0', grad_fn=<DivBackward0>), tensor(1.9654, device='cuda:0', grad_fn=<DivBackward0>), tensor(1.9536, device='cuda:0', grad_fn=<DivBackward0>), tensor(1.9645, device='cuda:0', grad_fn=<DivBackward0>), tensor(1.9325, device='cuda:0', grad_fn=<DivBackward0>), tensor(1.9286, device='cuda:0', grad_fn=<DivBackward0>), tensor(1.9241, device='cuda:0', grad_fn=<DivBackward0>), tensor(1.9931, device='cuda:0', grad_fn=<DivBackward0>), tensor(1.9087, device='cuda:0', grad_fn=<DivBackward0>), tensor(1.9620, device='cuda:0', grad_fn=<DivBackward0>), tensor(1.9535, device='cuda:0', grad_fn=<DivBackward0>), tensor(1.9287, device='cuda:0', grad_fn=<DivBackward0>), tensor(1.9185, device='cuda:0', grad_fn=<DivBackward0>), tensor(1.9171, device='cuda:0', grad_fn=<DivBackward0>), tensor(1.9302, device='cuda:0', grad_fn=<DivBackward0>), tensor(1.8855, device='cuda:0', grad_fn=<DivBackward0>), tensor(1.8908, device='cuda:0', grad_fn=<DivBackward0>), tensor(1.9488, device='cuda:0', grad_fn=<DivBackward0>), tensor(1.9167, device='cuda:0', grad_fn=<DivBackward0>), tensor(1.9364, device='cuda:0', grad_fn=<DivBackward0>), tensor(1.9906, device='cuda:0', grad_fn=<DivBackward0>), tensor(1.9341, device='cuda:0', grad_fn=<DivBackward0>), tensor(2.0975, device='cuda:0', grad_fn=<DivBackward0>), tensor(1.9283, device='cuda:0', grad_fn=<DivBackward0>), tensor(1.9715, device='cuda:0', grad_fn=<DivBackward0>), tensor(1.9135, device='cuda:0', grad_fn=<DivBackward0>), tensor(1.9509, device='cuda:0', grad_fn=<DivBackward0>), tensor(1.8899, device='cuda:0', grad_fn=<DivBackward0>), tensor(1.9290, device='cuda:0', grad_fn=<DivBackward0>), tensor(1.9060, device='cuda:0', grad_fn=<DivBackward0>), tensor(1.9354, device='cuda:0', grad_fn=<DivBackward0>), tensor(1.9349, device='cuda:0', grad_fn=<DivBackward0>), tensor(1.9711, device='cuda:0', grad_fn=<DivBackward0>), tensor(1.9602, device='cuda:0', grad_fn=<DivBackward0>), tensor(1.8687, device='cuda:0', grad_fn=<DivBackward0>), tensor(1.9157, device='cuda:0', grad_fn=<DivBackward0>), tensor(1.8864, device='cuda:0', grad_fn=<DivBackward0>), tensor(1.9384, device='cuda:0', grad_fn=<DivBackward0>), tensor(1.9627, device='cuda:0', grad_fn=<DivBackward0>), tensor(1.9355, device='cuda:0', grad_fn=<DivBackward0>), tensor(1.9453, device='cuda:0', grad_fn=<DivBackward0>), tensor(1.9447, device='cuda:0', grad_fn=<DivBackward0>), tensor(1.9201, device='cuda:0', grad_fn=<DivBackward0>), tensor(1.9013, device='cuda:0', grad_fn=<DivBackward0>), tensor(1.8748, device='cuda:0', grad_fn=<DivBackward0>), tensor(1.8947, device='cuda:0', grad_fn=<DivBackward0>), tensor(1.9384, device='cuda:0', grad_fn=<DivBackward0>), tensor(1.8931, device='cuda:0', grad_fn=<DivBackward0>), tensor(1.8833, device='cuda:0', grad_fn=<DivBackward0>), tensor(1.8814, device='cuda:0', grad_fn=<DivBackward0>), tensor(1.8796, device='cuda:0', grad_fn=<DivBackward0>), tensor(1.8920, device='cuda:0', grad_fn=<DivBackward0>), tensor(1.8839, device='cuda:0', grad_fn=<DivBackward0>), tensor(1.8927, device='cuda:0', grad_fn=<DivBackward0>), tensor(1.9031, device='cuda:0', grad_fn=<DivBackward0>), tensor(1.9079, device='cuda:0', grad_fn=<DivBackward0>), tensor(1.8296, device='cuda:0', grad_fn=<DivBackward0>), tensor(1.8990, device='cuda:0', grad_fn=<DivBackward0>), tensor(1.9811, device='cuda:0', grad_fn=<DivBackward0>), tensor(1.9768, device='cuda:0', grad_fn=<DivBackward0>), tensor(1.9754, device='cuda:0', grad_fn=<DivBackward0>), tensor(2.0282, device='cuda:0', grad_fn=<DivBackward0>), tensor(1.9944, device='cuda:0', grad_fn=<DivBackward0>), tensor(2.0093, device='cuda:0', grad_fn=<DivBackward0>), tensor(1.9681, device='cuda:0', grad_fn=<DivBackward0>), tensor(2.0241, device='cuda:0', grad_fn=<DivBackward0>), tensor(2.0119, device='cuda:0', grad_fn=<DivBackward0>), tensor(1.9724, device='cuda:0', grad_fn=<DivBackward0>), tensor(1.9328, device='cuda:0', grad_fn=<DivBackward0>), tensor(1.9395, device='cuda:0', grad_fn=<DivBackward0>), tensor(1.9564, device='cuda:0', grad_fn=<DivBackward0>), tensor(1.9527, device='cuda:0', grad_fn=<DivBackward0>), tensor(1.9424, device='cuda:0', grad_fn=<DivBackward0>), tensor(1.9817, device='cuda:0', grad_fn=<DivBackward0>), tensor(1.9799, device='cuda:0', grad_fn=<DivBackward0>), tensor(2.0355, device='cuda:0', grad_fn=<DivBackward0>), tensor(1.9517, device='cuda:0', grad_fn=<DivBackward0>), tensor(1.9410, device='cuda:0', grad_fn=<DivBackward0>), tensor(2.0803, device='cuda:0', grad_fn=<DivBackward0>), tensor(1.9369, device='cuda:0', grad_fn=<DivBackward0>), tensor(1.9433, device='cuda:0', grad_fn=<DivBackward0>), tensor(1.9867, device='cuda:0', grad_fn=<DivBackward0>), tensor(1.9565, device='cuda:0', grad_fn=<DivBackward0>), tensor(1.9668, device='cuda:0', grad_fn=<DivBackward0>), tensor(1.9368, device='cuda:0', grad_fn=<DivBackward0>), tensor(1.9746, device='cuda:0', grad_fn=<DivBackward0>), tensor(1.9199, device='cuda:0', grad_fn=<DivBackward0>), tensor(1.8604, device='cuda:0', grad_fn=<DivBackward0>), tensor(1.9305, device='cuda:0', grad_fn=<DivBackward0>), tensor(1.8930, device='cuda:0', grad_fn=<DivBackward0>), tensor(1.9984, device='cuda:0', grad_fn=<DivBackward0>), tensor(1.9543, device='cuda:0', grad_fn=<DivBackward0>), tensor(1.8905, device='cuda:0', grad_fn=<DivBackward0>), tensor(1.9165, device='cuda:0', grad_fn=<DivBackward0>), tensor(1.8791, device='cuda:0', grad_fn=<DivBackward0>), tensor(1.8882, device='cuda:0', grad_fn=<DivBackward0>), tensor(1.9291, device='cuda:0', grad_fn=<DivBackward0>), tensor(1.9056, device='cuda:0', grad_fn=<DivBackward0>), tensor(1.9228, device='cuda:0', grad_fn=<DivBackward0>), tensor(1.8977, device='cuda:0', grad_fn=<DivBackward0>), tensor(1.9210, device='cuda:0', grad_fn=<DivBackward0>), tensor(1.8780, device='cuda:0', grad_fn=<DivBackward0>), tensor(1.8727, device='cuda:0', grad_fn=<DivBackward0>), tensor(1.9288, device='cuda:0', grad_fn=<DivBackward0>), tensor(1.8917, device='cuda:0', grad_fn=<DivBackward0>), tensor(1.9014, device='cuda:0', grad_fn=<DivBackward0>), tensor(1.8886, device='cuda:0', grad_fn=<DivBackward0>), tensor(1.8225, device='cuda:0', grad_fn=<DivBackward0>), tensor(1.9037, device='cuda:0', grad_fn=<DivBackward0>), tensor(1.8654, device='cuda:0', grad_fn=<DivBackward0>), tensor(1.9345, device='cuda:0', grad_fn=<DivBackward0>), tensor(1.8498, device='cuda:0', grad_fn=<DivBackward0>), tensor(1.8852, device='cuda:0', grad_fn=<DivBackward0>), tensor(1.8798, device='cuda:0', grad_fn=<DivBackward0>), tensor(1.8643, device='cuda:0', grad_fn=<DivBackward0>), tensor(1.8562, device='cuda:0', grad_fn=<DivBackward0>), tensor(1.8496, device='cuda:0', grad_fn=<DivBackward0>), tensor(1.8600, device='cuda:0', grad_fn=<DivBackward0>), tensor(1.8541, device='cuda:0', grad_fn=<DivBackward0>), tensor(1.8990, device='cuda:0', grad_fn=<DivBackward0>), tensor(1.8935, device='cuda:0', grad_fn=<DivBackward0>), tensor(1.8745, device='cuda:0', grad_fn=<DivBackward0>), tensor(1.8100, device='cuda:0', grad_fn=<DivBackward0>), tensor(1.8428, device='cuda:0', grad_fn=<DivBackward0>), tensor(1.8565, device='cuda:0', grad_fn=<DivBackward0>), tensor(1.8330, device='cuda:0', grad_fn=<DivBackward0>), tensor(1.8413, device='cuda:0', grad_fn=<DivBackward0>), tensor(1.8500, device='cuda:0', grad_fn=<DivBackward0>), tensor(1.8548, device='cuda:0', grad_fn=<DivBackward0>), tensor(1.8315, device='cuda:0', grad_fn=<DivBackward0>), tensor(1.8570, device='cuda:0', grad_fn=<DivBackward0>), tensor(1.8083, device='cuda:0', grad_fn=<DivBackward0>), tensor(1.8136, device='cuda:0', grad_fn=<DivBackward0>), tensor(1.8428, device='cuda:0', grad_fn=<DivBackward0>), tensor(1.8076, device='cuda:0', grad_fn=<DivBackward0>), tensor(1.8719, device='cuda:0', grad_fn=<DivBackward0>), tensor(1.8403, device='cuda:0', grad_fn=<DivBackward0>), tensor(1.8153, device='cuda:0', grad_fn=<DivBackward0>), tensor(1.9334, device='cuda:0', grad_fn=<DivBackward0>), tensor(1.8434, device='cuda:0', grad_fn=<DivBackward0>), tensor(1.8426, device='cuda:0', grad_fn=<DivBackward0>), tensor(1.8667, device='cuda:0', grad_fn=<DivBackward0>), tensor(1.8507, device='cuda:0', grad_fn=<DivBackward0>), tensor(1.8234, device='cuda:0', grad_fn=<DivBackward0>), tensor(1.8186, device='cuda:0', grad_fn=<DivBackward0>), tensor(1.8422, device='cuda:0', grad_fn=<DivBackward0>), tensor(1.8246, device='cuda:0', grad_fn=<DivBackward0>), tensor(1.9372, device='cuda:0', grad_fn=<DivBackward0>), tensor(1.9550, device='cuda:0', grad_fn=<DivBackward0>), tensor(1.9116, device='cuda:0', grad_fn=<DivBackward0>), tensor(1.8664, device='cuda:0', grad_fn=<DivBackward0>), tensor(1.8068, device='cuda:0', grad_fn=<DivBackward0>), tensor(1.8415, device='cuda:0', grad_fn=<DivBackward0>), tensor(1.8329, device='cuda:0', grad_fn=<DivBackward0>), tensor(1.8618, device='cuda:0', grad_fn=<DivBackward0>), tensor(1.8453, device='cuda:0', grad_fn=<DivBackward0>), tensor(1.8129, device='cuda:0', grad_fn=<DivBackward0>), tensor(1.7863, device='cuda:0', grad_fn=<DivBackward0>), tensor(1.9015, device='cuda:0', grad_fn=<DivBackward0>), tensor(1.9373, device='cuda:0', grad_fn=<DivBackward0>), tensor(1.8714, device='cuda:0', grad_fn=<DivBackward0>), tensor(1.9530, device='cuda:0', grad_fn=<DivBackward0>), tensor(1.8741, device='cuda:0', grad_fn=<DivBackward0>), tensor(1.8408, device='cuda:0', grad_fn=<DivBackward0>), tensor(1.8373, device='cuda:0', grad_fn=<DivBackward0>), tensor(1.8230, device='cuda:0', grad_fn=<DivBackward0>), tensor(1.8180, device='cuda:0', grad_fn=<DivBackward0>), tensor(1.8676, device='cuda:0', grad_fn=<DivBackward0>), tensor(1.8466, device='cuda:0', grad_fn=<DivBackward0>), tensor(1.8557, device='cuda:0', grad_fn=<DivBackward0>), tensor(1.9019, device='cuda:0', grad_fn=<DivBackward0>), tensor(1.8885, device='cuda:0', grad_fn=<DivBackward0>), tensor(1.8155, device='cuda:0', grad_fn=<DivBackward0>), tensor(1.8122, device='cuda:0', grad_fn=<DivBackward0>), tensor(1.8100, device='cuda:0', grad_fn=<DivBackward0>), tensor(1.8707, device='cuda:0', grad_fn=<DivBackward0>), tensor(1.8635, device='cuda:0', grad_fn=<DivBackward0>), tensor(1.8711, device='cuda:0', grad_fn=<DivBackward0>), tensor(1.8151, device='cuda:0', grad_fn=<DivBackward0>), tensor(1.8044, device='cuda:0', grad_fn=<DivBackward0>), tensor(1.8225, device='cuda:0', grad_fn=<DivBackward0>), tensor(1.7699, device='cuda:0', grad_fn=<DivBackward0>), tensor(1.8310, device='cuda:0', grad_fn=<DivBackward0>), tensor(1.8521, device='cuda:0', grad_fn=<DivBackward0>), tensor(1.7546, device='cuda:0', grad_fn=<DivBackward0>), tensor(1.8274, device='cuda:0', grad_fn=<DivBackward0>), tensor(1.8110, device='cuda:0', grad_fn=<DivBackward0>), tensor(1.8518, device='cuda:0', grad_fn=<DivBackward0>), tensor(1.8575, device='cuda:0', grad_fn=<DivBackward0>), tensor(1.7901, device='cuda:0', grad_fn=<DivBackward0>), tensor(1.9001, device='cuda:0', grad_fn=<DivBackward0>), tensor(1.9454, device='cuda:0', grad_fn=<DivBackward0>), tensor(1.8760, device='cuda:0', grad_fn=<DivBackward0>), tensor(1.8834, device='cuda:0', grad_fn=<DivBackward0>), tensor(1.8965, device='cuda:0', grad_fn=<DivBackward0>), tensor(1.9058, device='cuda:0', grad_fn=<DivBackward0>), tensor(1.8591, device='cuda:0', grad_fn=<DivBackward0>), tensor(1.8502, device='cuda:0', grad_fn=<DivBackward0>), tensor(1.8717, device='cuda:0', grad_fn=<DivBackward0>), tensor(1.8405, device='cuda:0', grad_fn=<DivBackward0>), tensor(1.8545, device='cuda:0', grad_fn=<DivBackward0>), tensor(1.8769, device='cuda:0', grad_fn=<DivBackward0>), tensor(1.8478, device='cuda:0', grad_fn=<DivBackward0>), tensor(1.8808, device='cuda:0', grad_fn=<DivBackward0>), tensor(1.8928, device='cuda:0', grad_fn=<DivBackward0>), tensor(1.8921, device='cuda:0', grad_fn=<DivBackward0>), tensor(1.8698, device='cuda:0', grad_fn=<DivBackward0>), tensor(1.9452, device='cuda:0', grad_fn=<DivBackward0>), tensor(1.9000, device='cuda:0', grad_fn=<DivBackward0>), tensor(1.9568, device='cuda:0', grad_fn=<DivBackward0>), tensor(1.8843, device='cuda:0', grad_fn=<DivBackward0>), tensor(1.9026, device='cuda:0', grad_fn=<DivBackward0>), tensor(1.8775, device='cuda:0', grad_fn=<DivBackward0>), tensor(1.8638, device='cuda:0', grad_fn=<DivBackward0>), tensor(1.9471, device='cuda:0', grad_fn=<DivBackward0>), tensor(1.8841, device='cuda:0', grad_fn=<DivBackward0>), tensor(1.8839, device='cuda:0', grad_fn=<DivBackward0>), tensor(1.8297, device='cuda:0', grad_fn=<DivBackward0>), tensor(1.8479, device='cuda:0', grad_fn=<DivBackward0>), tensor(1.8716, device='cuda:0', grad_fn=<DivBackward0>), tensor(1.8870, device='cuda:0', grad_fn=<DivBackward0>), tensor(1.9140, device='cuda:0', grad_fn=<DivBackward0>), tensor(1.8927, device='cuda:0', grad_fn=<DivBackward0>), tensor(1.8733, device='cuda:0', grad_fn=<DivBackward0>), tensor(1.8778, device='cuda:0', grad_fn=<DivBackward0>), tensor(1.9075, device='cuda:0', grad_fn=<DivBackward0>), tensor(1.8496, device='cuda:0', grad_fn=<DivBackward0>), tensor(1.8305, device='cuda:0', grad_fn=<DivBackward0>), tensor(1.8448, device='cuda:0', grad_fn=<DivBackward0>), tensor(1.8445, device='cuda:0', grad_fn=<DivBackward0>), tensor(1.8024, device='cuda:0', grad_fn=<DivBackward0>), tensor(1.8329, device='cuda:0', grad_fn=<DivBackward0>), tensor(1.8720, device='cuda:0', grad_fn=<DivBackward0>), tensor(1.8703, device='cuda:0', grad_fn=<DivBackward0>), tensor(1.8090, device='cuda:0', grad_fn=<DivBackward0>), tensor(1.8459, device='cuda:0', grad_fn=<DivBackward0>), tensor(1.8591, device='cuda:0', grad_fn=<DivBackward0>), tensor(1.8875, device='cuda:0', grad_fn=<DivBackward0>), tensor(1.8664, device='cuda:0', grad_fn=<DivBackward0>), tensor(1.8290, device='cuda:0', grad_fn=<DivBackward0>), tensor(1.8078, device='cuda:0', grad_fn=<DivBackward0>), tensor(1.8483, device='cuda:0', grad_fn=<DivBackward0>), tensor(1.8814, device='cuda:0', grad_fn=<DivBackward0>), tensor(1.8418, device='cuda:0', grad_fn=<DivBackward0>), tensor(1.8288, device='cuda:0', grad_fn=<DivBackward0>), tensor(1.8650, device='cuda:0', grad_fn=<DivBackward0>), tensor(1.8387, device='cuda:0', grad_fn=<DivBackward0>), tensor(1.8759, device='cuda:0', grad_fn=<DivBackward0>), tensor(1.8288, device='cuda:0', grad_fn=<DivBackward0>), tensor(1.7948, device='cuda:0', grad_fn=<DivBackward0>), tensor(1.8326, device='cuda:0', grad_fn=<DivBackward0>), tensor(1.8050, device='cuda:0', grad_fn=<DivBackward0>), tensor(1.8002, device='cuda:0', grad_fn=<DivBackward0>), tensor(1.8403, device='cuda:0', grad_fn=<DivBackward0>), tensor(1.7695, device='cuda:0', grad_fn=<DivBackward0>), tensor(1.8269, device='cuda:0', grad_fn=<DivBackward0>), tensor(1.8954, device='cuda:0', grad_fn=<DivBackward0>), tensor(1.7584, device='cuda:0', grad_fn=<DivBackward0>), tensor(1.9187, device='cuda:0', grad_fn=<DivBackward0>), tensor(1.7761, device='cuda:0', grad_fn=<DivBackward0>), tensor(1.7681, device='cuda:0', grad_fn=<DivBackward0>), tensor(1.8346, device='cuda:0', grad_fn=<DivBackward0>), tensor(1.8789, device='cuda:0', grad_fn=<DivBackward0>), tensor(1.7772, device='cuda:0', grad_fn=<DivBackward0>), tensor(1.7849, device='cuda:0', grad_fn=<DivBackward0>), tensor(1.8015, device='cuda:0', grad_fn=<DivBackward0>), tensor(1.8177, device='cuda:0', grad_fn=<DivBackward0>), tensor(1.7829, device='cuda:0', grad_fn=<DivBackward0>), tensor(1.8111, device='cuda:0', grad_fn=<DivBackward0>), tensor(1.7909, device='cuda:0', grad_fn=<DivBackward0>), tensor(1.8164, device='cuda:0', grad_fn=<DivBackward0>), tensor(1.8045, device='cuda:0', grad_fn=<DivBackward0>), tensor(1.8156, device='cuda:0', grad_fn=<DivBackward0>), tensor(1.8365, device='cuda:0', grad_fn=<DivBackward0>), tensor(1.7438, device='cuda:0', grad_fn=<DivBackward0>), tensor(1.7506, device='cuda:0', grad_fn=<DivBackward0>), tensor(1.7962, device='cuda:0', grad_fn=<DivBackward0>), tensor(1.7696, device='cuda:0', grad_fn=<DivBackward0>), tensor(1.7873, device='cuda:0', grad_fn=<DivBackward0>), tensor(1.7961, device='cuda:0', grad_fn=<DivBackward0>), tensor(1.7684, device='cuda:0', grad_fn=<DivBackward0>), tensor(1.7568, device='cuda:0', grad_fn=<DivBackward0>), tensor(1.8109, device='cuda:0', grad_fn=<DivBackward0>), tensor(1.7574, device='cuda:0', grad_fn=<DivBackward0>), tensor(1.7624, device='cuda:0', grad_fn=<DivBackward0>), tensor(1.7123, device='cuda:0', grad_fn=<DivBackward0>), tensor(1.7792, device='cuda:0', grad_fn=<DivBackward0>), tensor(1.7749, device='cuda:0', grad_fn=<DivBackward0>), tensor(1.8159, device='cuda:0', grad_fn=<DivBackward0>), tensor(1.7697, device='cuda:0', grad_fn=<DivBackward0>), tensor(1.7609, device='cuda:0', grad_fn=<DivBackward0>), tensor(1.7495, device='cuda:0', grad_fn=<DivBackward0>), tensor(1.8069, device='cuda:0', grad_fn=<DivBackward0>), tensor(1.7410, device='cuda:0', grad_fn=<DivBackward0>), tensor(1.7990, device='cuda:0', grad_fn=<DivBackward0>), tensor(1.7895, device='cuda:0', grad_fn=<DivBackward0>), tensor(1.7693, device='cuda:0', grad_fn=<DivBackward0>), tensor(1.7472, device='cuda:0', grad_fn=<DivBackward0>), tensor(1.7397, device='cuda:0', grad_fn=<DivBackward0>), tensor(1.7488, device='cuda:0', grad_fn=<DivBackward0>), tensor(1.7092, device='cuda:0', grad_fn=<DivBackward0>), tensor(1.7217, device='cuda:0', grad_fn=<DivBackward0>), tensor(1.7814, device='cuda:0', grad_fn=<DivBackward0>), tensor(1.7388, device='cuda:0', grad_fn=<DivBackward0>), tensor(1.7698, device='cuda:0', grad_fn=<DivBackward0>), tensor(1.8319, device='cuda:0', grad_fn=<DivBackward0>), tensor(1.7472, device='cuda:0', grad_fn=<DivBackward0>), tensor(1.9690, device='cuda:0', grad_fn=<DivBackward0>), tensor(1.7573, device='cuda:0', grad_fn=<DivBackward0>), tensor(1.8076, device='cuda:0', grad_fn=<DivBackward0>), tensor(1.7486, device='cuda:0', grad_fn=<DivBackward0>), tensor(1.7748, device='cuda:0', grad_fn=<DivBackward0>), tensor(1.7370, device='cuda:0', grad_fn=<DivBackward0>), tensor(1.7791, device='cuda:0', grad_fn=<DivBackward0>), tensor(1.7417, device='cuda:0', grad_fn=<DivBackward0>), tensor(1.7594, device='cuda:0', grad_fn=<DivBackward0>), tensor(1.7606, device='cuda:0', grad_fn=<DivBackward0>), tensor(1.8321, device='cuda:0', grad_fn=<DivBackward0>), tensor(1.8152, device='cuda:0', grad_fn=<DivBackward0>), tensor(1.7194, device='cuda:0', grad_fn=<DivBackward0>), tensor(1.7443, device='cuda:0', grad_fn=<DivBackward0>), tensor(1.7440, device='cuda:0', grad_fn=<DivBackward0>), tensor(1.7872, device='cuda:0', grad_fn=<DivBackward0>), tensor(1.8348, device='cuda:0', grad_fn=<DivBackward0>), tensor(1.7969, device='cuda:0', grad_fn=<DivBackward0>), tensor(1.7922, device='cuda:0', grad_fn=<DivBackward0>), tensor(1.7798, device='cuda:0', grad_fn=<DivBackward0>), tensor(1.7494, device='cuda:0', grad_fn=<DivBackward0>), tensor(1.7517, device='cuda:0', grad_fn=<DivBackward0>), tensor(1.7268, device='cuda:0', grad_fn=<DivBackward0>), tensor(1.7237, device='cuda:0', grad_fn=<DivBackward0>), tensor(1.7870, device='cuda:0', grad_fn=<DivBackward0>), tensor(1.7461, device='cuda:0', grad_fn=<DivBackward0>), tensor(1.7522, device='cuda:0', grad_fn=<DivBackward0>), tensor(1.7261, device='cuda:0', grad_fn=<DivBackward0>), tensor(1.7389, device='cuda:0', grad_fn=<DivBackward0>), tensor(1.7516, device='cuda:0', grad_fn=<DivBackward0>), tensor(1.7429, device='cuda:0', grad_fn=<DivBackward0>), tensor(1.7517, device='cuda:0', grad_fn=<DivBackward0>), tensor(1.7568, device='cuda:0', grad_fn=<DivBackward0>), tensor(1.7800, device='cuda:0', grad_fn=<DivBackward0>), tensor(1.6678, device='cuda:0', grad_fn=<DivBackward0>), tensor(1.7585, device='cuda:0', grad_fn=<DivBackward0>), tensor(1.7988, device='cuda:0', grad_fn=<DivBackward0>), tensor(1.8412, device='cuda:0', grad_fn=<DivBackward0>), tensor(1.8399, device='cuda:0', grad_fn=<DivBackward0>), tensor(1.8882, device='cuda:0', grad_fn=<DivBackward0>), tensor(1.8338, device='cuda:0', grad_fn=<DivBackward0>), tensor(1.8510, device='cuda:0', grad_fn=<DivBackward0>), tensor(1.8058, device='cuda:0', grad_fn=<DivBackward0>), tensor(1.8782, device='cuda:0', grad_fn=<DivBackward0>), tensor(1.8456, device='cuda:0', grad_fn=<DivBackward0>), tensor(1.8010, device='cuda:0', grad_fn=<DivBackward0>), tensor(1.7776, device='cuda:0', grad_fn=<DivBackward0>), tensor(1.7805, device='cuda:0', grad_fn=<DivBackward0>), tensor(1.7929, device='cuda:0', grad_fn=<DivBackward0>), tensor(1.8084, device='cuda:0', grad_fn=<DivBackward0>), tensor(1.7720, device='cuda:0', grad_fn=<DivBackward0>), tensor(1.8055, device='cuda:0', grad_fn=<DivBackward0>), tensor(1.8207, device='cuda:0', grad_fn=<DivBackward0>), tensor(1.8670, device='cuda:0', grad_fn=<DivBackward0>), tensor(1.7789, device='cuda:0', grad_fn=<DivBackward0>), tensor(1.7959, device='cuda:0', grad_fn=<DivBackward0>), tensor(1.9362, device='cuda:0', grad_fn=<DivBackward0>), tensor(1.7988, device='cuda:0', grad_fn=<DivBackward0>), tensor(1.8013, device='cuda:0', grad_fn=<DivBackward0>), tensor(1.8409, device='cuda:0', grad_fn=<DivBackward0>), tensor(1.8108, device='cuda:0', grad_fn=<DivBackward0>), tensor(1.8331, device='cuda:0', grad_fn=<DivBackward0>), tensor(1.8013, device='cuda:0', grad_fn=<DivBackward0>), tensor(1.8251, device='cuda:0', grad_fn=<DivBackward0>), tensor(1.7728, device='cuda:0', grad_fn=<DivBackward0>), tensor(1.7032, device='cuda:0', grad_fn=<DivBackward0>), tensor(1.7893, device='cuda:0', grad_fn=<DivBackward0>), tensor(1.7536, device='cuda:0', grad_fn=<DivBackward0>), tensor(1.8598, device='cuda:0', grad_fn=<DivBackward0>), tensor(1.8198, device='cuda:0', grad_fn=<DivBackward0>), tensor(1.7460, device='cuda:0', grad_fn=<DivBackward0>), tensor(1.7841, device='cuda:0', grad_fn=<DivBackward0>), tensor(1.7437, device='cuda:0', grad_fn=<DivBackward0>), tensor(1.7336, device='cuda:0', grad_fn=<DivBackward0>), tensor(1.7817, device='cuda:0', grad_fn=<DivBackward0>), tensor(1.7724, device='cuda:0', grad_fn=<DivBackward0>), tensor(1.7847, device='cuda:0', grad_fn=<DivBackward0>), tensor(1.7704, device='cuda:0', grad_fn=<DivBackward0>), tensor(1.7746, device='cuda:0', grad_fn=<DivBackward0>), tensor(1.7427, device='cuda:0', grad_fn=<DivBackward0>), tensor(1.7376, device='cuda:0', grad_fn=<DivBackward0>), tensor(1.8045, device='cuda:0', grad_fn=<DivBackward0>), tensor(1.7658, device='cuda:0', grad_fn=<DivBackward0>), tensor(1.7706, device='cuda:0', grad_fn=<DivBackward0>), tensor(1.7734, device='cuda:0', grad_fn=<DivBackward0>), tensor(1.6870, device='cuda:0', grad_fn=<DivBackward0>), tensor(1.7688, device='cuda:0', grad_fn=<DivBackward0>), tensor(1.7215, device='cuda:0', grad_fn=<DivBackward0>), tensor(1.8015, device='cuda:0', grad_fn=<DivBackward0>), tensor(1.7199, device='cuda:0', grad_fn=<DivBackward0>), tensor(1.7614, device='cuda:0', grad_fn=<DivBackward0>), tensor(1.7420, device='cuda:0', grad_fn=<DivBackward0>), tensor(1.7440, device='cuda:0', grad_fn=<DivBackward0>), tensor(1.7108, device='cuda:0', grad_fn=<DivBackward0>), tensor(1.7084, device='cuda:0', grad_fn=<DivBackward0>), tensor(1.7268, device='cuda:0', grad_fn=<DivBackward0>), tensor(1.7025, device='cuda:0', grad_fn=<DivBackward0>), tensor(1.7612, device='cuda:0', grad_fn=<DivBackward0>), tensor(1.7591, device='cuda:0', grad_fn=<DivBackward0>), tensor(1.7113, device='cuda:0', grad_fn=<DivBackward0>), tensor(1.6548, device='cuda:0', grad_fn=<DivBackward0>), tensor(1.7240, device='cuda:0', grad_fn=<DivBackward0>), tensor(1.7249, device='cuda:0', grad_fn=<DivBackward0>), tensor(1.7032, device='cuda:0', grad_fn=<DivBackward0>), tensor(1.6931, device='cuda:0', grad_fn=<DivBackward0>), tensor(1.6990, device='cuda:0', grad_fn=<DivBackward0>), tensor(1.7011, device='cuda:0', grad_fn=<DivBackward0>), tensor(1.6749, device='cuda:0', grad_fn=<DivBackward0>), tensor(1.7125, device='cuda:0', grad_fn=<DivBackward0>), tensor(1.6570, device='cuda:0', grad_fn=<DivBackward0>), tensor(1.6693, device='cuda:0', grad_fn=<DivBackward0>), tensor(1.7122, device='cuda:0', grad_fn=<DivBackward0>), tensor(1.6693, device='cuda:0', grad_fn=<DivBackward0>), tensor(1.7411, device='cuda:0', grad_fn=<DivBackward0>), tensor(1.7011, device='cuda:0', grad_fn=<DivBackward0>), tensor(1.6714, device='cuda:0', grad_fn=<DivBackward0>), tensor(1.8069, device='cuda:0', grad_fn=<DivBackward0>), tensor(1.7076, device='cuda:0', grad_fn=<DivBackward0>), tensor(1.6821, device='cuda:0', grad_fn=<DivBackward0>), tensor(1.7166, device='cuda:0', grad_fn=<DivBackward0>), tensor(1.6997, device='cuda:0', grad_fn=<DivBackward0>), tensor(1.6939, device='cuda:0', grad_fn=<DivBackward0>), tensor(1.6729, device='cuda:0', grad_fn=<DivBackward0>), tensor(1.6765, device='cuda:0', grad_fn=<DivBackward0>), tensor(1.6765, device='cuda:0', grad_fn=<DivBackward0>), tensor(1.7857, device='cuda:0', grad_fn=<DivBackward0>), tensor(1.8103, device='cuda:0', grad_fn=<DivBackward0>), tensor(1.7794, device='cuda:0', grad_fn=<DivBackward0>), tensor(1.7207, device='cuda:0', grad_fn=<DivBackward0>), tensor(1.6560, device='cuda:0', grad_fn=<DivBackward0>), tensor(1.6989, device='cuda:0', grad_fn=<DivBackward0>), tensor(1.6813, device='cuda:0', grad_fn=<DivBackward0>), tensor(1.7310, device='cuda:0', grad_fn=<DivBackward0>), tensor(1.6952, device='cuda:0', grad_fn=<DivBackward0>), tensor(1.6695, device='cuda:0', grad_fn=<DivBackward0>), tensor(1.6313, device='cuda:0', grad_fn=<DivBackward0>), tensor(1.7525, device='cuda:0', grad_fn=<DivBackward0>), tensor(1.8132, device='cuda:0', grad_fn=<DivBackward0>), tensor(1.7212, device='cuda:0', grad_fn=<DivBackward0>), tensor(1.8252, device='cuda:0', grad_fn=<DivBackward0>), tensor(1.7498, device='cuda:0', grad_fn=<DivBackward0>), tensor(1.7117, device='cuda:0', grad_fn=<DivBackward0>), tensor(1.6897, device='cuda:0', grad_fn=<DivBackward0>), tensor(1.6703, device='cuda:0', grad_fn=<DivBackward0>), tensor(1.6655, device='cuda:0', grad_fn=<DivBackward0>), tensor(1.7421, device='cuda:0', grad_fn=<DivBackward0>), tensor(1.7069, device='cuda:0', grad_fn=<DivBackward0>), tensor(1.7114, device='cuda:0', grad_fn=<DivBackward0>), tensor(1.7641, device='cuda:0', grad_fn=<DivBackward0>), tensor(1.7392, device='cuda:0', grad_fn=<DivBackward0>), tensor(1.6647, device='cuda:0', grad_fn=<DivBackward0>), tensor(1.6623, device='cuda:0', grad_fn=<DivBackward0>), tensor(1.6541, device='cuda:0', grad_fn=<DivBackward0>), tensor(1.7221, device='cuda:0', grad_fn=<DivBackward0>), tensor(1.7287, device='cuda:0', grad_fn=<DivBackward0>), tensor(1.7416, device='cuda:0', grad_fn=<DivBackward0>), tensor(1.6821, device='cuda:0', grad_fn=<DivBackward0>), tensor(1.6767, device='cuda:0', grad_fn=<DivBackward0>), tensor(1.6906, device='cuda:0', grad_fn=<DivBackward0>), tensor(1.6318, device='cuda:0', grad_fn=<DivBackward0>), tensor(1.6769, device='cuda:0', grad_fn=<DivBackward0>), tensor(1.7230, device='cuda:0', grad_fn=<DivBackward0>), tensor(1.6146, device='cuda:0', grad_fn=<DivBackward0>), tensor(1.6831, device='cuda:0', grad_fn=<DivBackward0>), tensor(1.6862, device='cuda:0', grad_fn=<DivBackward0>), tensor(1.7278, device='cuda:0', grad_fn=<DivBackward0>), tensor(1.7216, device='cuda:0', grad_fn=<DivBackward0>), tensor(1.6550, device='cuda:0', grad_fn=<DivBackward0>), tensor(1.7705, device='cuda:0', grad_fn=<DivBackward0>), tensor(1.8082, device='cuda:0', grad_fn=<DivBackward0>), tensor(1.7309, device='cuda:0', grad_fn=<DivBackward0>), tensor(1.7611, device='cuda:0', grad_fn=<DivBackward0>), tensor(1.7644, device='cuda:0', grad_fn=<DivBackward0>), tensor(1.7795, device='cuda:0', grad_fn=<DivBackward0>), tensor(1.7027, device='cuda:0', grad_fn=<DivBackward0>), tensor(1.7119, device='cuda:0', grad_fn=<DivBackward0>), tensor(1.7388, device='cuda:0', grad_fn=<DivBackward0>), tensor(1.7080, device='cuda:0', grad_fn=<DivBackward0>), tensor(1.7131, device='cuda:0', grad_fn=<DivBackward0>), tensor(1.7449, device='cuda:0', grad_fn=<DivBackward0>), tensor(1.7056, device='cuda:0', grad_fn=<DivBackward0>), tensor(1.7560, device='cuda:0', grad_fn=<DivBackward0>), tensor(1.7566, device='cuda:0', grad_fn=<DivBackward0>), tensor(1.7443, device='cuda:0', grad_fn=<DivBackward0>), tensor(1.7337, device='cuda:0', grad_fn=<DivBackward0>), tensor(1.8043, device='cuda:0', grad_fn=<DivBackward0>), tensor(1.7518, device='cuda:0', grad_fn=<DivBackward0>), tensor(1.8222, device='cuda:0', grad_fn=<DivBackward0>), tensor(1.7210, device='cuda:0', grad_fn=<DivBackward0>), tensor(1.7640, device='cuda:0', grad_fn=<DivBackward0>), tensor(1.7402, device='cuda:0', grad_fn=<DivBackward0>), tensor(1.7164, device='cuda:0', grad_fn=<DivBackward0>), tensor(1.8296, device='cuda:0', grad_fn=<DivBackward0>), tensor(1.7434, device='cuda:0', grad_fn=<DivBackward0>), tensor(1.7654, device='cuda:0', grad_fn=<DivBackward0>), tensor(1.6652, device='cuda:0', grad_fn=<DivBackward0>), tensor(1.6978, device='cuda:0', grad_fn=<DivBackward0>), tensor(1.7356, device='cuda:0', grad_fn=<DivBackward0>), tensor(1.7572, device='cuda:0', grad_fn=<DivBackward0>), tensor(1.7556, device='cuda:0', grad_fn=<DivBackward0>), tensor(1.7710, device='cuda:0', grad_fn=<DivBackward0>), tensor(1.7601, device='cuda:0', grad_fn=<DivBackward0>), tensor(1.7370, device='cuda:0', grad_fn=<DivBackward0>), tensor(1.7923, device='cuda:0', grad_fn=<DivBackward0>), tensor(1.7223, device='cuda:0', grad_fn=<DivBackward0>), tensor(1.6897, device='cuda:0', grad_fn=<DivBackward0>), tensor(1.7116, device='cuda:0', grad_fn=<DivBackward0>), tensor(1.7239, device='cuda:0', grad_fn=<DivBackward0>), tensor(1.6913, device='cuda:0', grad_fn=<DivBackward0>), tensor(1.7004, device='cuda:0', grad_fn=<DivBackward0>), tensor(1.7425, device='cuda:0', grad_fn=<DivBackward0>), tensor(1.7652, device='cuda:0', grad_fn=<DivBackward0>), tensor(1.6816, device='cuda:0', grad_fn=<DivBackward0>), tensor(1.7256, device='cuda:0', grad_fn=<DivBackward0>), tensor(1.7387, device='cuda:0', grad_fn=<DivBackward0>), tensor(1.7622, device='cuda:0', grad_fn=<DivBackward0>), tensor(1.7374, device='cuda:0', grad_fn=<DivBackward0>), tensor(1.6751, device='cuda:0', grad_fn=<DivBackward0>), tensor(1.6817, device='cuda:0', grad_fn=<DivBackward0>), tensor(1.7226, device='cuda:0', grad_fn=<DivBackward0>), tensor(1.7652, device='cuda:0', grad_fn=<DivBackward0>), tensor(1.7266, device='cuda:0', grad_fn=<DivBackward0>), tensor(1.7201, device='cuda:0', grad_fn=<DivBackward0>), tensor(1.7602, device='cuda:0', grad_fn=<DivBackward0>), tensor(1.7245, device='cuda:0', grad_fn=<DivBackward0>), tensor(1.7587, device='cuda:0', grad_fn=<DivBackward0>), tensor(1.7202, device='cuda:0', grad_fn=<DivBackward0>), tensor(1.6692, device='cuda:0', grad_fn=<DivBackward0>), tensor(1.7081, device='cuda:0', grad_fn=<DivBackward0>), tensor(1.6708, device='cuda:0', grad_fn=<DivBackward0>), tensor(1.6699, device='cuda:0', grad_fn=<DivBackward0>), tensor(1.7190, device='cuda:0', grad_fn=<DivBackward0>), tensor(1.6560, device='cuda:0', grad_fn=<DivBackward0>), tensor(1.7213, device='cuda:0', grad_fn=<DivBackward0>), tensor(1.7843, device='cuda:0', grad_fn=<DivBackward0>), tensor(1.6098, device='cuda:0', grad_fn=<DivBackward0>), tensor(1.7890, device='cuda:0', grad_fn=<DivBackward0>), tensor(1.6297, device='cuda:0', grad_fn=<DivBackward0>), tensor(1.6149, device='cuda:0', grad_fn=<DivBackward0>), tensor(1.6997, device='cuda:0', grad_fn=<DivBackward0>), tensor(1.7418, device='cuda:0', grad_fn=<DivBackward0>), tensor(1.6375, device='cuda:0', grad_fn=<DivBackward0>), tensor(1.6449, device='cuda:0', grad_fn=<DivBackward0>), tensor(1.6512, device='cuda:0', grad_fn=<DivBackward0>), tensor(1.6973, device='cuda:0', grad_fn=<DivBackward0>), tensor(1.6541, device='cuda:0', grad_fn=<DivBackward0>), tensor(1.6721, device='cuda:0', grad_fn=<DivBackward0>), tensor(1.6586, device='cuda:0', grad_fn=<DivBackward0>), tensor(1.6960, device='cuda:0', grad_fn=<DivBackward0>), tensor(1.6713, device='cuda:0', grad_fn=<DivBackward0>), tensor(1.6852, device='cuda:0', grad_fn=<DivBackward0>), tensor(1.7185, device='cuda:0', grad_fn=<DivBackward0>), tensor(1.6053, device='cuda:0', grad_fn=<DivBackward0>), tensor(1.6198, device='cuda:0', grad_fn=<DivBackward0>), tensor(1.6622, device='cuda:0', grad_fn=<DivBackward0>), tensor(1.6364, device='cuda:0', grad_fn=<DivBackward0>), tensor(1.6411, device='cuda:0', grad_fn=<DivBackward0>), tensor(1.6450, device='cuda:0', grad_fn=<DivBackward0>), tensor(1.6319, device='cuda:0', grad_fn=<DivBackward0>), tensor(1.6200, device='cuda:0', grad_fn=<DivBackward0>), tensor(1.6809, device='cuda:0', grad_fn=<DivBackward0>), tensor(1.6111, device='cuda:0', grad_fn=<DivBackward0>), tensor(1.6271, device='cuda:0', grad_fn=<DivBackward0>), tensor(1.5730, device='cuda:0', grad_fn=<DivBackward0>), tensor(1.6324, device='cuda:0', grad_fn=<DivBackward0>), tensor(1.6419, device='cuda:0', grad_fn=<DivBackward0>), tensor(1.7027, device='cuda:0', grad_fn=<DivBackward0>), tensor(1.6442, device='cuda:0', grad_fn=<DivBackward0>), tensor(1.6265, device='cuda:0', grad_fn=<DivBackward0>), tensor(1.5940, device='cuda:0', grad_fn=<DivBackward0>), tensor(1.6611, device='cuda:0', grad_fn=<DivBackward0>), tensor(1.5985, device='cuda:0', grad_fn=<DivBackward0>), tensor(1.6380, device='cuda:0', grad_fn=<DivBackward0>), tensor(1.6532, device='cuda:0', grad_fn=<DivBackward0>), tensor(1.6378, device='cuda:0', grad_fn=<DivBackward0>), tensor(1.6108, device='cuda:0', grad_fn=<DivBackward0>), tensor(1.5892, device='cuda:0', grad_fn=<DivBackward0>), tensor(1.5954, device='cuda:0', grad_fn=<DivBackward0>), tensor(1.5607, device='cuda:0', grad_fn=<DivBackward0>), tensor(1.5886, device='cuda:0', grad_fn=<DivBackward0>), tensor(1.6560, device='cuda:0', grad_fn=<DivBackward0>), tensor(1.5730, device='cuda:0', grad_fn=<DivBackward0>), tensor(1.6061, device='cuda:0', grad_fn=<DivBackward0>), tensor(1.6819, device='cuda:0', grad_fn=<DivBackward0>), tensor(1.5887, device='cuda:0', grad_fn=<DivBackward0>), tensor(1.8531, device='cuda:0', grad_fn=<DivBackward0>), tensor(1.6192, device='cuda:0', grad_fn=<DivBackward0>), tensor(1.6602, device='cuda:0', grad_fn=<DivBackward0>), tensor(1.5931, device='cuda:0', grad_fn=<DivBackward0>), tensor(1.6157, device='cuda:0', grad_fn=<DivBackward0>), tensor(1.6063, device='cuda:0', grad_fn=<DivBackward0>), tensor(1.6576, device='cuda:0', grad_fn=<DivBackward0>), tensor(1.6038, device='cuda:0', grad_fn=<DivBackward0>), tensor(1.6263, device='cuda:0', grad_fn=<DivBackward0>), tensor(1.6186, device='cuda:0', grad_fn=<DivBackward0>), tensor(1.7060, device='cuda:0', grad_fn=<DivBackward0>), tensor(1.6949, device='cuda:0', grad_fn=<DivBackward0>), tensor(1.5895, device='cuda:0', grad_fn=<DivBackward0>), tensor(1.6049, device='cuda:0', grad_fn=<DivBackward0>), tensor(1.6252, device='cuda:0', grad_fn=<DivBackward0>), tensor(1.6598, device='cuda:0', grad_fn=<DivBackward0>), tensor(1.7163, device='cuda:0', grad_fn=<DivBackward0>), tensor(1.6642, device='cuda:0', grad_fn=<DivBackward0>), tensor(1.6687, device='cuda:0', grad_fn=<DivBackward0>), tensor(1.6471, device='cuda:0', grad_fn=<DivBackward0>), tensor(1.6012, device='cuda:0', grad_fn=<DivBackward0>), tensor(1.6188, device='cuda:0', grad_fn=<DivBackward0>), tensor(1.5977, device='cuda:0', grad_fn=<DivBackward0>), tensor(1.5643, device='cuda:0', grad_fn=<DivBackward0>), tensor(1.6535, device='cuda:0', grad_fn=<DivBackward0>), tensor(1.6040, device='cuda:0', grad_fn=<DivBackward0>), tensor(1.6209, device='cuda:0', grad_fn=<DivBackward0>), tensor(1.6012, device='cuda:0', grad_fn=<DivBackward0>), tensor(1.6159, device='cuda:0', grad_fn=<DivBackward0>), tensor(1.6150, device='cuda:0', grad_fn=<DivBackward0>), tensor(1.6078, device='cuda:0', grad_fn=<DivBackward0>), tensor(1.6201, device='cuda:0', grad_fn=<DivBackward0>), tensor(1.6282, device='cuda:0', grad_fn=<DivBackward0>), tensor(1.6516, device='cuda:0', grad_fn=<DivBackward0>), tensor(1.5175, device='cuda:0', grad_fn=<DivBackward0>), tensor(1.6440, device='cuda:0', grad_fn=<DivBackward0>), tensor(1.6537, device='cuda:0', grad_fn=<DivBackward0>), tensor(1.6896, device='cuda:0', grad_fn=<DivBackward0>), tensor(1.7125, device='cuda:0', grad_fn=<DivBackward0>), tensor(1.7709, device='cuda:0', grad_fn=<DivBackward0>), tensor(1.6993, device='cuda:0', grad_fn=<DivBackward0>), tensor(1.7080, device='cuda:0', grad_fn=<DivBackward0>), tensor(1.6547, device='cuda:0', grad_fn=<DivBackward0>), tensor(1.7226, device='cuda:0', grad_fn=<DivBackward0>), tensor(1.7109, device='cuda:0', grad_fn=<DivBackward0>), tensor(1.6525, device='cuda:0', grad_fn=<DivBackward0>), tensor(1.6276, device='cuda:0', grad_fn=<DivBackward0>), tensor(1.6475, device='cuda:0', grad_fn=<DivBackward0>), tensor(1.6536, device='cuda:0', grad_fn=<DivBackward0>), tensor(1.6764, device='cuda:0', grad_fn=<DivBackward0>), tensor(1.6462, device='cuda:0', grad_fn=<DivBackward0>), tensor(1.6568, device='cuda:0', grad_fn=<DivBackward0>), tensor(1.6786, device='cuda:0', grad_fn=<DivBackward0>), tensor(1.7272, device='cuda:0', grad_fn=<DivBackward0>), tensor(1.6329, device='cuda:0', grad_fn=<DivBackward0>), tensor(1.6724, device='cuda:0', grad_fn=<DivBackward0>), tensor(1.8080, device='cuda:0', grad_fn=<DivBackward0>), tensor(1.6714, device='cuda:0', grad_fn=<DivBackward0>), tensor(1.6860, device='cuda:0', grad_fn=<DivBackward0>), tensor(1.7230, device='cuda:0', grad_fn=<DivBackward0>), tensor(1.6775, device='cuda:0', grad_fn=<DivBackward0>), tensor(1.7092, device='cuda:0', grad_fn=<DivBackward0>), tensor(1.6796, device='cuda:0', grad_fn=<DivBackward0>), tensor(1.6814, device='cuda:0', grad_fn=<DivBackward0>), tensor(1.6425, device='cuda:0', grad_fn=<DivBackward0>), tensor(1.5615, device='cuda:0', grad_fn=<DivBackward0>), tensor(1.6535, device='cuda:0', grad_fn=<DivBackward0>), tensor(1.6247, device='cuda:0', grad_fn=<DivBackward0>), tensor(1.7487, device='cuda:0', grad_fn=<DivBackward0>), tensor(1.6742, device='cuda:0', grad_fn=<DivBackward0>), tensor(1.6106, device='cuda:0', grad_fn=<DivBackward0>), tensor(1.6488, device='cuda:0', grad_fn=<DivBackward0>), tensor(1.6110, device='cuda:0', grad_fn=<DivBackward0>), tensor(1.6037, device='cuda:0', grad_fn=<DivBackward0>), tensor(1.6223, device='cuda:0', grad_fn=<DivBackward0>), tensor(1.6326, device='cuda:0', grad_fn=<DivBackward0>), tensor(1.6675, device='cuda:0', grad_fn=<DivBackward0>), tensor(1.6490, device='cuda:0', grad_fn=<DivBackward0>), tensor(1.6537, device='cuda:0', grad_fn=<DivBackward0>), tensor(1.6269, device='cuda:0', grad_fn=<DivBackward0>), tensor(1.6165, device='cuda:0', grad_fn=<DivBackward0>), tensor(1.6967, device='cuda:0', grad_fn=<DivBackward0>), tensor(1.6526, device='cuda:0', grad_fn=<DivBackward0>), tensor(1.6478, device='cuda:0', grad_fn=<DivBackward0>), tensor(1.6744, device='cuda:0', grad_fn=<DivBackward0>), tensor(1.5625, device='cuda:0', grad_fn=<DivBackward0>), tensor(1.6486, device='cuda:0', grad_fn=<DivBackward0>), tensor(1.5900, device='cuda:0', grad_fn=<DivBackward0>), tensor(1.7020, device='cuda:0', grad_fn=<DivBackward0>), tensor(1.6198, device='cuda:0', grad_fn=<DivBackward0>), tensor(1.6539, device='cuda:0', grad_fn=<DivBackward0>), tensor(1.6241, device='cuda:0', grad_fn=<DivBackward0>), tensor(1.6264, device='cuda:0', grad_fn=<DivBackward0>), tensor(1.5908, device='cuda:0', grad_fn=<DivBackward0>), tensor(1.5931, device='cuda:0', grad_fn=<DivBackward0>), tensor(1.6082, device='cuda:0', grad_fn=<DivBackward0>), tensor(1.5781, device='cuda:0', grad_fn=<DivBackward0>), tensor(1.6351, device='cuda:0', grad_fn=<DivBackward0>), tensor(1.6379, device='cuda:0', grad_fn=<DivBackward0>), tensor(1.5890, device='cuda:0', grad_fn=<DivBackward0>), tensor(1.5362, device='cuda:0', grad_fn=<DivBackward0>), tensor(1.6114, device='cuda:0', grad_fn=<DivBackward0>), tensor(1.5993, device='cuda:0', grad_fn=<DivBackward0>), tensor(1.5804, device='cuda:0', grad_fn=<DivBackward0>), tensor(1.5856, device='cuda:0', grad_fn=<DivBackward0>), tensor(1.5746, device='cuda:0', grad_fn=<DivBackward0>), tensor(1.5621, device='cuda:0', grad_fn=<DivBackward0>), tensor(1.5525, device='cuda:0', grad_fn=<DivBackward0>), tensor(1.5880, device='cuda:0', grad_fn=<DivBackward0>), tensor(1.5199, device='cuda:0', grad_fn=<DivBackward0>), tensor(1.5498, device='cuda:0', grad_fn=<DivBackward0>), tensor(1.5923, device='cuda:0', grad_fn=<DivBackward0>), tensor(1.5519, device='cuda:0', grad_fn=<DivBackward0>), tensor(1.6234, device='cuda:0', grad_fn=<DivBackward0>), tensor(1.5922, device='cuda:0', grad_fn=<DivBackward0>), tensor(1.5647, device='cuda:0', grad_fn=<DivBackward0>), tensor(1.6974, device='cuda:0', grad_fn=<DivBackward0>), tensor(1.5992, device='cuda:0', grad_fn=<DivBackward0>), tensor(1.5574, device='cuda:0', grad_fn=<DivBackward0>), tensor(1.5983, device='cuda:0', grad_fn=<DivBackward0>), tensor(1.5939, device='cuda:0', grad_fn=<DivBackward0>), tensor(1.5917, device='cuda:0', grad_fn=<DivBackward0>), tensor(1.5735, device='cuda:0', grad_fn=<DivBackward0>), tensor(1.5620, device='cuda:0', grad_fn=<DivBackward0>), tensor(1.5436, device='cuda:0', grad_fn=<DivBackward0>), tensor(1.6670, device='cuda:0', grad_fn=<DivBackward0>), tensor(1.6990, device='cuda:0', grad_fn=<DivBackward0>), tensor(1.6665, device='cuda:0', grad_fn=<DivBackward0>), tensor(1.6021, device='cuda:0', grad_fn=<DivBackward0>), tensor(1.5298, device='cuda:0', grad_fn=<DivBackward0>), tensor(1.5812, device='cuda:0', grad_fn=<DivBackward0>), tensor(1.5607, device='cuda:0', grad_fn=<DivBackward0>), tensor(1.6258, device='cuda:0', grad_fn=<DivBackward0>), tensor(1.5799, device='cuda:0', grad_fn=<DivBackward0>), tensor(1.5585, device='cuda:0', grad_fn=<DivBackward0>), tensor(1.5089, device='cuda:0', grad_fn=<DivBackward0>), tensor(1.6301, device='cuda:0', grad_fn=<DivBackward0>), tensor(1.7019, device='cuda:0', grad_fn=<DivBackward0>), tensor(1.5977, device='cuda:0', grad_fn=<DivBackward0>), tensor(1.7052, device='cuda:0', grad_fn=<DivBackward0>), tensor(1.6283, device='cuda:0', grad_fn=<DivBackward0>), tensor(1.6007, device='cuda:0', grad_fn=<DivBackward0>), tensor(1.5572, device='cuda:0', grad_fn=<DivBackward0>), tensor(1.5367, device='cuda:0', grad_fn=<DivBackward0>), tensor(1.5276, device='cuda:0', grad_fn=<DivBackward0>), tensor(1.6273, device='cuda:0', grad_fn=<DivBackward0>), tensor(1.5927, device='cuda:0', grad_fn=<DivBackward0>), tensor(1.5864, device='cuda:0', grad_fn=<DivBackward0>), tensor(1.6328, device='cuda:0', grad_fn=<DivBackward0>), tensor(1.6174, device='cuda:0', grad_fn=<DivBackward0>), tensor(1.5399, device='cuda:0', grad_fn=<DivBackward0>), tensor(1.5303, device='cuda:0', grad_fn=<DivBackward0>), tensor(1.5188, device='cuda:0', grad_fn=<DivBackward0>), tensor(1.5818, device='cuda:0', grad_fn=<DivBackward0>), tensor(1.6007, device='cuda:0', grad_fn=<DivBackward0>), tensor(1.6227, device='cuda:0', grad_fn=<DivBackward0>), tensor(1.5608, device='cuda:0', grad_fn=<DivBackward0>), tensor(1.5631, device='cuda:0', grad_fn=<DivBackward0>), tensor(1.5723, device='cuda:0', grad_fn=<DivBackward0>), tensor(1.5098, device='cuda:0', grad_fn=<DivBackward0>), tensor(1.5491, device='cuda:0', grad_fn=<DivBackward0>), tensor(1.6049, device='cuda:0', grad_fn=<DivBackward0>), tensor(1.4939, device='cuda:0', grad_fn=<DivBackward0>), tensor(1.5570, device='cuda:0', grad_fn=<DivBackward0>), tensor(1.5678, device='cuda:0', grad_fn=<DivBackward0>), tensor(1.6141, device='cuda:0', grad_fn=<DivBackward0>), tensor(1.5914, device='cuda:0', grad_fn=<DivBackward0>), tensor(1.5300, device='cuda:0', grad_fn=<DivBackward0>), tensor(1.6501, device='cuda:0', grad_fn=<DivBackward0>), tensor(1.6810, device='cuda:0', grad_fn=<DivBackward0>), tensor(1.6024, device='cuda:0', grad_fn=<DivBackward0>), tensor(1.6556, device='cuda:0', grad_fn=<DivBackward0>), tensor(1.6514, device='cuda:0', grad_fn=<DivBackward0>), tensor(1.6594, device='cuda:0', grad_fn=<DivBackward0>), tensor(1.5759, device='cuda:0', grad_fn=<DivBackward0>), tensor(1.5978, device='cuda:0', grad_fn=<DivBackward0>), tensor(1.6203, device='cuda:0', grad_fn=<DivBackward0>), tensor(1.5990, device='cuda:0', grad_fn=<DivBackward0>), tensor(1.5964, device='cuda:0', grad_fn=<DivBackward0>), tensor(1.6353, device='cuda:0', grad_fn=<DivBackward0>), tensor(1.5916, device='cuda:0', grad_fn=<DivBackward0>), tensor(1.6502, device='cuda:0', grad_fn=<DivBackward0>), tensor(1.6333, device='cuda:0', grad_fn=<DivBackward0>), tensor(1.6166, device='cuda:0', grad_fn=<DivBackward0>), tensor(1.6140, device='cuda:0', grad_fn=<DivBackward0>), tensor(1.6878, device='cuda:0', grad_fn=<DivBackward0>), tensor(1.6153, device='cuda:0', grad_fn=<DivBackward0>), tensor(1.6988, device='cuda:0', grad_fn=<DivBackward0>), tensor(1.5809, device='cuda:0', grad_fn=<DivBackward0>), tensor(1.6274, device='cuda:0', grad_fn=<DivBackward0>), tensor(1.6204, device='cuda:0', grad_fn=<DivBackward0>), tensor(1.5769, device='cuda:0', grad_fn=<DivBackward0>), tensor(1.7257, device='cuda:0', grad_fn=<DivBackward0>), tensor(1.6258, device='cuda:0', grad_fn=<DivBackward0>), tensor(1.6528, device='cuda:0', grad_fn=<DivBackward0>), tensor(1.5224, device='cuda:0', grad_fn=<DivBackward0>), tensor(1.5544, device='cuda:0', grad_fn=<DivBackward0>), tensor(1.6154, device='cuda:0', grad_fn=<DivBackward0>), tensor(1.6214, device='cuda:0', grad_fn=<DivBackward0>), tensor(1.6177, device='cuda:0', grad_fn=<DivBackward0>), tensor(1.6656, device='cuda:0', grad_fn=<DivBackward0>), tensor(1.6566, device='cuda:0', grad_fn=<DivBackward0>), tensor(1.6115, device='cuda:0', grad_fn=<DivBackward0>), tensor(1.6763, device='cuda:0', grad_fn=<DivBackward0>), tensor(1.6150, device='cuda:0', grad_fn=<DivBackward0>), tensor(1.5621, device='cuda:0', grad_fn=<DivBackward0>), tensor(1.5992, device='cuda:0', grad_fn=<DivBackward0>), tensor(1.6168, device='cuda:0', grad_fn=<DivBackward0>), tensor(1.5822, device='cuda:0', grad_fn=<DivBackward0>), tensor(1.6014, device='cuda:0', grad_fn=<DivBackward0>), tensor(1.6303, device='cuda:0', grad_fn=<DivBackward0>), tensor(1.6700, device='cuda:0', grad_fn=<DivBackward0>), tensor(1.5908, device='cuda:0', grad_fn=<DivBackward0>), tensor(1.6230, device='cuda:0', grad_fn=<DivBackward0>), tensor(1.6320, device='cuda:0', grad_fn=<DivBackward0>), tensor(1.6507, device='cuda:0', grad_fn=<DivBackward0>), tensor(1.6198, device='cuda:0', grad_fn=<DivBackward0>), tensor(1.5405, device='cuda:0', grad_fn=<DivBackward0>), tensor(1.5793, device='cuda:0', grad_fn=<DivBackward0>), tensor(1.6304, device='cuda:0', grad_fn=<DivBackward0>), tensor(1.6762, device='cuda:0', grad_fn=<DivBackward0>), tensor(1.6190, device='cuda:0', grad_fn=<DivBackward0>), tensor(1.6209, device='cuda:0', grad_fn=<DivBackward0>), tensor(1.6456, device='cuda:0', grad_fn=<DivBackward0>), tensor(1.6122, device='cuda:0', grad_fn=<DivBackward0>), tensor(1.6501, device='cuda:0', grad_fn=<DivBackward0>), tensor(1.6206, device='cuda:0', grad_fn=<DivBackward0>), tensor(1.5654, device='cuda:0', grad_fn=<DivBackward0>), tensor(1.6052, device='cuda:0', grad_fn=<DivBackward0>), tensor(1.5648, device='cuda:0', grad_fn=<DivBackward0>), tensor(1.5613, device='cuda:0', grad_fn=<DivBackward0>), tensor(1.6164, device='cuda:0', grad_fn=<DivBackward0>), tensor(1.5600, device='cuda:0', grad_fn=<DivBackward0>), tensor(1.6405, device='cuda:0', grad_fn=<DivBackward0>), tensor(1.6855, device='cuda:0', grad_fn=<DivBackward0>), tensor(1.4918, device='cuda:0', grad_fn=<DivBackward0>), tensor(1.6680, device='cuda:0', grad_fn=<DivBackward0>), tensor(1.4951, device='cuda:0', grad_fn=<DivBackward0>), tensor(1.4765, device='cuda:0', grad_fn=<DivBackward0>), tensor(1.5812, device='cuda:0', grad_fn=<DivBackward0>), tensor(1.6092, device='cuda:0', grad_fn=<DivBackward0>), tensor(1.5104, device='cuda:0', grad_fn=<DivBackward0>), tensor(1.5249, device='cuda:0', grad_fn=<DivBackward0>), tensor(1.5292, device='cuda:0', grad_fn=<DivBackward0>), tensor(1.5879, device='cuda:0', grad_fn=<DivBackward0>), tensor(1.5423, device='cuda:0', grad_fn=<DivBackward0>), tensor(1.5527, device='cuda:0', grad_fn=<DivBackward0>), tensor(1.5373, device='cuda:0', grad_fn=<DivBackward0>), tensor(1.5933, device='cuda:0', grad_fn=<DivBackward0>), tensor(1.5547, device='cuda:0', grad_fn=<DivBackward0>), tensor(1.5716, device='cuda:0', grad_fn=<DivBackward0>), tensor(1.6187, device='cuda:0', grad_fn=<DivBackward0>), tensor(1.4917, device='cuda:0', grad_fn=<DivBackward0>), tensor(1.5096, device='cuda:0', grad_fn=<DivBackward0>), tensor(1.5569, device='cuda:0', grad_fn=<DivBackward0>), tensor(1.5302, device='cuda:0', grad_fn=<DivBackward0>), tensor(1.5215, device='cuda:0', grad_fn=<DivBackward0>), tensor(1.5373, device='cuda:0', grad_fn=<DivBackward0>), tensor(1.5329, device='cuda:0', grad_fn=<DivBackward0>), tensor(1.5177, device='cuda:0', grad_fn=<DivBackward0>), tensor(1.5836, device='cuda:0', grad_fn=<DivBackward0>), tensor(1.4839, device='cuda:0', grad_fn=<DivBackward0>), tensor(1.5192, device='cuda:0', grad_fn=<DivBackward0>), tensor(1.4575, device='cuda:0', grad_fn=<DivBackward0>), tensor(1.5251, device='cuda:0', grad_fn=<DivBackward0>), tensor(1.5336, device='cuda:0', grad_fn=<DivBackward0>), tensor(1.6002, device='cuda:0', grad_fn=<DivBackward0>), tensor(1.5406, device='cuda:0', grad_fn=<DivBackward0>), tensor(1.5127, device='cuda:0', grad_fn=<DivBackward0>), tensor(1.4769, device='cuda:0', grad_fn=<DivBackward0>), tensor(1.5342, device='cuda:0', grad_fn=<DivBackward0>), tensor(1.4777, device='cuda:0', grad_fn=<DivBackward0>), tensor(1.5203, device='cuda:0', grad_fn=<DivBackward0>), tensor(1.5305, device='cuda:0', grad_fn=<DivBackward0>), tensor(1.5180, device='cuda:0', grad_fn=<DivBackward0>), tensor(1.5041, device='cuda:0', grad_fn=<DivBackward0>), tensor(1.4612, device='cuda:0', grad_fn=<DivBackward0>), tensor(1.4704, device='cuda:0', grad_fn=<DivBackward0>), tensor(1.4459, device='cuda:0', grad_fn=<DivBackward0>), tensor(1.4739, device='cuda:0', grad_fn=<DivBackward0>), tensor(1.5520, device='cuda:0', grad_fn=<DivBackward0>), tensor(1.4462, device='cuda:0', grad_fn=<DivBackward0>), tensor(1.4642, device='cuda:0', grad_fn=<DivBackward0>), tensor(1.5530, device='cuda:0', grad_fn=<DivBackward0>), tensor(1.4501, device='cuda:0', grad_fn=<DivBackward0>), tensor(1.7408, device='cuda:0', grad_fn=<DivBackward0>), tensor(1.5014, device='cuda:0', grad_fn=<DivBackward0>), tensor(1.5401, device='cuda:0', grad_fn=<DivBackward0>), tensor(1.4672, device='cuda:0', grad_fn=<DivBackward0>), tensor(1.4951, device='cuda:0', grad_fn=<DivBackward0>), tensor(1.5022, device='cuda:0', grad_fn=<DivBackward0>), tensor(1.5486, device='cuda:0', grad_fn=<DivBackward0>), tensor(1.4922, device='cuda:0', grad_fn=<DivBackward0>), tensor(1.5224, device='cuda:0', grad_fn=<DivBackward0>), tensor(1.5247, device='cuda:0', grad_fn=<DivBackward0>), tensor(1.6017, device='cuda:0', grad_fn=<DivBackward0>), tensor(1.5966, device='cuda:0', grad_fn=<DivBackward0>), tensor(1.4913, device='cuda:0', grad_fn=<DivBackward0>), tensor(1.4859, device='cuda:0', grad_fn=<DivBackward0>), tensor(1.5173, device='cuda:0', grad_fn=<DivBackward0>), tensor(1.5578, device='cuda:0', grad_fn=<DivBackward0>), tensor(1.6151, device='cuda:0', grad_fn=<DivBackward0>), tensor(1.5661, device='cuda:0', grad_fn=<DivBackward0>), tensor(1.5703, device='cuda:0', grad_fn=<DivBackward0>), tensor(1.5262, device='cuda:0', grad_fn=<DivBackward0>), tensor(1.4814, device='cuda:0', grad_fn=<DivBackward0>), tensor(1.5152, device='cuda:0', grad_fn=<DivBackward0>), tensor(1.4996, device='cuda:0', grad_fn=<DivBackward0>), tensor(1.4493, device='cuda:0', grad_fn=<DivBackward0>), tensor(1.5414, device='cuda:0', grad_fn=<DivBackward0>), tensor(1.4894, device='cuda:0', grad_fn=<DivBackward0>), tensor(1.5154, device='cuda:0', grad_fn=<DivBackward0>), tensor(1.5014, device='cuda:0', grad_fn=<DivBackward0>), tensor(1.5194, device='cuda:0', grad_fn=<DivBackward0>), tensor(1.5006, device='cuda:0', grad_fn=<DivBackward0>), tensor(1.4997, device='cuda:0', grad_fn=<DivBackward0>), tensor(1.5023, device='cuda:0', grad_fn=<DivBackward0>), tensor(1.5214, device='cuda:0', grad_fn=<DivBackward0>), tensor(1.5430, device='cuda:0', grad_fn=<DivBackward0>), tensor(1.3990, device='cuda:0', grad_fn=<DivBackward0>), tensor(1.5384, device='cuda:0', grad_fn=<DivBackward0>), tensor(1.5415, device='cuda:0', grad_fn=<DivBackward0>), tensor(1.5664, device='cuda:0', grad_fn=<DivBackward0>), tensor(1.5936, device='cuda:0', grad_fn=<DivBackward0>), tensor(1.6497, device='cuda:0', grad_fn=<DivBackward0>), tensor(1.5726, device='cuda:0', grad_fn=<DivBackward0>), tensor(1.5895, device='cuda:0', grad_fn=<DivBackward0>), tensor(1.5355, device='cuda:0', grad_fn=<DivBackward0>), tensor(1.5758, device='cuda:0', grad_fn=<DivBackward0>), tensor(1.6028, device='cuda:0', grad_fn=<DivBackward0>), tensor(1.5302, device='cuda:0', grad_fn=<DivBackward0>), tensor(1.4937, device='cuda:0', grad_fn=<DivBackward0>), tensor(1.5240, device='cuda:0', grad_fn=<DivBackward0>), tensor(1.5305, device='cuda:0', grad_fn=<DivBackward0>), tensor(1.5661, device='cuda:0', grad_fn=<DivBackward0>), tensor(1.5363, device='cuda:0', grad_fn=<DivBackward0>), tensor(1.5385, device='cuda:0', grad_fn=<DivBackward0>), tensor(1.5612, device='cuda:0', grad_fn=<DivBackward0>), tensor(1.6082, device='cuda:0', grad_fn=<DivBackward0>), tensor(1.5186, device='cuda:0', grad_fn=<DivBackward0>), tensor(1.5684, device='cuda:0', grad_fn=<DivBackward0>), tensor(1.7024, device='cuda:0', grad_fn=<DivBackward0>), tensor(1.5786, device='cuda:0', grad_fn=<DivBackward0>), tensor(1.5936, device='cuda:0', grad_fn=<DivBackward0>), tensor(1.6188, device='cuda:0', grad_fn=<DivBackward0>), tensor(1.5499, device='cuda:0', grad_fn=<DivBackward0>), tensor(1.6101, device='cuda:0', grad_fn=<DivBackward0>), tensor(1.5927, device='cuda:0', grad_fn=<DivBackward0>), tensor(1.5772, device='cuda:0', grad_fn=<DivBackward0>), tensor(1.5049, device='cuda:0', grad_fn=<DivBackward0>), tensor(1.4447, device='cuda:0', grad_fn=<DivBackward0>), tensor(1.5448, device='cuda:0', grad_fn=<DivBackward0>), tensor(1.5177, device='cuda:0', grad_fn=<DivBackward0>), tensor(1.6437, device='cuda:0', grad_fn=<DivBackward0>), tensor(1.5694, device='cuda:0', grad_fn=<DivBackward0>), tensor(1.4970, device='cuda:0', grad_fn=<DivBackward0>), tensor(1.5373, device='cuda:0', grad_fn=<DivBackward0>), tensor(1.4996, device='cuda:0', grad_fn=<DivBackward0>), tensor(1.4838, device='cuda:0', grad_fn=<DivBackward0>), tensor(1.4776, device='cuda:0', grad_fn=<DivBackward0>)], 134.65103125572205)\n"
          ]
        }
      ],
      "source": [
        "# train the model\n",
        "import time\n",
        "\n",
        "start = time.time()\n",
        "\n",
        "EPOCHS = 5\n",
        "model = NeuralNetwork(input_size, 1024, output_size, gpu)\n",
        "model.to(gpu)\n",
        "loss = torch.nn.CrossEntropyLoss()\n",
        "optimizer = torch.optim.Adam(model.parameters(), lr=0.001)\n",
        "train_threshold = int(len(dataset)*0.8)\n",
        "train_dataloader = DataLoader(dataset[:train_threshold], batch_size=64, shuffle=False)\n",
        "losses = train_cycle(EPOCHS, train_dataloader, model, loss, optimizer)\n",
        "\n",
        "\n",
        "end = time.time()\n",
        "print(\"Time passed: \" + str(end - start))\n",
        "print(losses)"
      ]
    },
    {
      "cell_type": "code",
      "execution_count": 50,
      "id": "4ca5fda5-8841-4f0f-bacd-27f3c6ec365a",
      "metadata": {
        "id": "4ca5fda5-8841-4f0f-bacd-27f3c6ec365a",
        "outputId": "0356cb05-926e-445e-f547-adadbb96dc2f",
        "colab": {
          "base_uri": "https://localhost:8080/"
        }
      },
      "outputs": [
        {
          "output_type": "stream",
          "name": "stdout",
          "text": [
            "Mean accuracy is: 1.336129805246989\n"
          ]
        }
      ],
      "source": [
        "# Compute the accuracy of the model using the test set\n",
        "test_dataloader = DataLoader(dataset[train_threshold:], batch_size=64, shuffle=True)\n",
        "accuracies = test_cycle(test_dataloader, model, batch_size=64)\n",
        "\n",
        "\n",
        "print(\"Mean accuracy is: \" + str(sum(accuracies)/len(accuracies)))"
      ]
    },
    {
      "cell_type": "code",
      "source": [
        "print(accuracies)"
      ],
      "metadata": {
        "colab": {
          "base_uri": "https://localhost:8080/"
        },
        "id": "8GMp4PO6SC4n",
        "outputId": "ada66690-6e9f-475c-d1f0-676434b93729"
      },
      "id": "8GMp4PO6SC4n",
      "execution_count": 46,
      "outputs": [
        {
          "output_type": "stream",
          "name": "stdout",
          "text": [
            "(0.2543489583333334, 3.139968156814575)\n"
          ]
        }
      ]
    },
    {
      "cell_type": "code",
      "execution_count": null,
      "id": "0933354f-a73b-429c-8cd3-3a3e9935205e",
      "metadata": {
        "id": "0933354f-a73b-429c-8cd3-3a3e9935205e"
      },
      "outputs": [],
      "source": [
        "# this function encoded a string as an input fitting for the NN of size (SxN)\n",
        "# * N = number of classes\n",
        "# * S = length of the string (in terms of characters)\n",
        "def generate_phrase_to_NN_input(num_classes, dictionary, device):\n",
        "    # input: a string\n",
        "    # output: a Sx72 one-hot tensor\n",
        "    def phrase_to_NN_input(phrase):\n",
        "        result = []\n",
        "        for char in phrase:\n",
        "            word_converted = torch.zeros(num_classes)\n",
        "            word_index = dictionary.loc[dictionary['data'] == char]['int_encoding'].item()\n",
        "            word_converted[word_index] = 1\n",
        "            result.append(word_converted)\n",
        "        result = torch.stack(result)\n",
        "        result = result.to(device)\n",
        "        return result\n",
        "    return phrase_to_NN_input\n",
        "phrase_to_NN_input = generate_phrase_to_NN_input(72,dictionary, gpu)"
      ]
    },
    {
      "cell_type": "code",
      "execution_count": null,
      "id": "edd1f5fd-6114-4788-9cbf-0bcf092dfd9f",
      "metadata": {
        "id": "edd1f5fd-6114-4788-9cbf-0bcf092dfd9f"
      },
      "outputs": [],
      "source": [
        "# this function decodes a string expressed as a tensor of shape SxN with values x\\in{0,1}, to a string of length S\n",
        "def generate_NN_output_to_phrase(num_classes, dictionary, device):\n",
        "    # input: a string\n",
        "    # output: a Sx72 one-hot tensor\n",
        "    def NN_output_to_phrase(nn_output):\n",
        "        result = \"\"\n",
        "        for tensor_hot_enc in nn_output:\n",
        "            idx_word = torch.argmax(tensor_hot_enc).item()\n",
        "            char_decoded = dictionary.loc[dictionary['int_encoding'] == idx_word]['data'].item()\n",
        "            result = result + char_decoded\n",
        "        return result\n",
        "    return NN_output_to_phrase\n",
        "NN_output_to_phrase = generate_NN_output_to_phrase(72,dictionary, gpu)"
      ]
    },
    {
      "cell_type": "code",
      "execution_count": null,
      "id": "f3a98ced-b50d-4cd0-a3fe-cc14c53b822b",
      "metadata": {
        "id": "f3a98ced-b50d-4cd0-a3fe-cc14c53b822b"
      },
      "outputs": [],
      "source": [
        "wordminusminus_encoded = phrase_to_NN_input(\"--\")\n",
        "assert wordminusminus_encoded[0][4].item() == 1.0 and wordminusminus_encoded[1][4].item() == 1.0"
      ]
    },
    {
      "cell_type": "code",
      "execution_count": null,
      "id": "c4b5b946-7cdf-4443-bae4-effa8c835bb5",
      "metadata": {
        "id": "c4b5b946-7cdf-4443-bae4-effa8c835bb5"
      },
      "outputs": [],
      "source": [
        "wordminusminus_decoded = NN_output_to_phrase(wordminusminus_encoded)\n",
        "assert wordminusminus_decoded == \"--\""
      ]
    },
    {
      "cell_type": "code",
      "execution_count": null,
      "id": "d76b5a50-34e5-4794-9671-e097ceefc607",
      "metadata": {
        "id": "d76b5a50-34e5-4794-9671-e097ceefc607",
        "outputId": "3902426c-d87f-4cb6-ec50-6150044968e2",
        "colab": {
          "base_uri": "https://localhost:8080/"
        }
      },
      "outputs": [
        {
          "output_type": "stream",
          "name": "stdout",
          "text": [
            "ìììì\n"
          ]
        }
      ],
      "source": [
        "phrase = \"eqwe\"\n",
        "phrase_encoded = phrase_to_NN_input(phrase)\n",
        "phrase_encoded = phrase_encoded[:,None,:]\n",
        "prediction = model_32(phrase_encoded)\n",
        "prediction_decoded = NN_output_to_phrase(prediction[0])\n",
        "print(prediction_decoded)"
      ]
    },
    {
      "cell_type": "markdown",
      "source": [
        "## Text Generation Algorithm\n",
        "We want to generate text starting from a single character input. Given a LSTM model M, we give it in input $x_0$ and get as output the tuple ($y_0$,$h_0$), we then proceed by feeding $x_1 = y_0$ to M as input: $(y_1,h_1) = M(x_1)$ and then keep going for k times."
      ],
      "metadata": {
        "id": "81T2S8dgU4U6"
      },
      "id": "81T2S8dgU4U6"
    },
    {
      "cell_type": "code",
      "execution_count": null,
      "id": "8ba586a9-53eb-4910-9176-5a78834666c9",
      "metadata": {
        "id": "8ba586a9-53eb-4910-9176-5a78834666c9"
      },
      "outputs": [],
      "source": []
    },
    {
      "cell_type": "code",
      "execution_count": null,
      "id": "3052c83b-65ec-4f6f-8f4d-9bf929d961f1",
      "metadata": {
        "id": "3052c83b-65ec-4f6f-8f4d-9bf929d961f1"
      },
      "outputs": [],
      "source": []
    },
    {
      "cell_type": "code",
      "execution_count": null,
      "id": "f29abaef-4933-4993-81c1-f09fcd7bd245",
      "metadata": {
        "id": "f29abaef-4933-4993-81c1-f09fcd7bd245"
      },
      "outputs": [],
      "source": []
    },
    {
      "cell_type": "code",
      "execution_count": null,
      "id": "711424b6-f454-4104-a5d9-4aaf07dff976",
      "metadata": {
        "id": "711424b6-f454-4104-a5d9-4aaf07dff976"
      },
      "outputs": [],
      "source": [
        "iterator = iter(test_dataloader)\n",
        "data, label = next(iterator)\n",
        "prediction = torch.stack(model(data))\n",
        "data_arg = torch.argmax(softmax(prediction).reshape(100,72),dim=1)\n",
        "label_arg = torch.argmax(torch.stack(label).reshape(100,72),dim=1)\n",
        "sum(torch.eq(data_arg, label_arg).tolist())/100"
      ]
    },
    {
      "cell_type": "code",
      "execution_count": null,
      "id": "1d896b35-c1df-4e11-ba67-e447cc56a858",
      "metadata": {
        "id": "1d896b35-c1df-4e11-ba67-e447cc56a858"
      },
      "outputs": [],
      "source": [
        "37.65237474441528"
      ]
    },
    {
      "cell_type": "code",
      "execution_count": null,
      "id": "4747ae41-9ad7-445a-aff3-16cf86eee6b4",
      "metadata": {
        "id": "4747ae41-9ad7-445a-aff3-16cf86eee6b4",
        "outputId": "05ac5f77-0c40-42c9-d2b9-c4456b5d6c15"
      },
      "outputs": [
        {
          "name": "stdout",
          "output_type": "stream",
          "text": [
            "tensor([[1, 2],\n",
            "        [2, 3]])\n"
          ]
        }
      ],
      "source": [
        "a = torch.tensor([[1,2],[2,3]])\n",
        "print(a)"
      ]
    },
    {
      "cell_type": "code",
      "execution_count": null,
      "id": "7570f972-8951-44e7-9957-1e7dfd78df77",
      "metadata": {
        "id": "7570f972-8951-44e7-9957-1e7dfd78df77"
      },
      "outputs": [],
      "source": [
        "import torch\n",
        "a = torch.tensor([2.0], requires_grad=True)\n",
        "b = torch.tensor([3.0], requires_grad=True)\n",
        "\n",
        "c = 0\n",
        "for i in range(3):\n",
        "    c = c + a\n",
        "    print(c)\n",
        "\n",
        "c = c + torch.log(b)"
      ]
    },
    {
      "cell_type": "code",
      "execution_count": null,
      "id": "8684f5bc-1489-40ad-8cc2-860c279bb1fe",
      "metadata": {
        "id": "8684f5bc-1489-40ad-8cc2-860c279bb1fe"
      },
      "outputs": [],
      "source": [
        "c.backward()"
      ]
    },
    {
      "cell_type": "code",
      "execution_count": null,
      "id": "09bf2ee8-73f0-4f14-8600-1c8717c2aff6",
      "metadata": {
        "id": "09bf2ee8-73f0-4f14-8600-1c8717c2aff6",
        "outputId": "213d945b-6f5f-4782-b0ed-7927a08fa08c"
      },
      "outputs": [
        {
          "name": "stdout",
          "output_type": "stream",
          "text": [
            "tensor([3.])\n",
            "tensor([0.3333])\n"
          ]
        }
      ],
      "source": [
        "print(a.grad)\n",
        "print(b.grad)"
      ]
    },
    {
      "cell_type": "code",
      "execution_count": null,
      "id": "bb2664bb-648f-4fd6-828e-a0662835455e",
      "metadata": {
        "id": "bb2664bb-648f-4fd6-828e-a0662835455e",
        "outputId": "00ee394f-595b-450f-b4a4-3ad954546f2a"
      },
      "outputs": [
        {
          "name": "stdout",
          "output_type": "stream",
          "text": [
            "tf.Tensor(2.0, shape=(), dtype=float32)\n",
            "tf.Tensor(4.0, shape=(), dtype=float32)\n",
            "tf.Tensor(6.0, shape=(), dtype=float32)\n"
          ]
        }
      ],
      "source": [
        "import numpy as np\n",
        "import tensorflow as tf\n",
        "\n",
        "\n",
        "a = tf.Variable(2.0)\n",
        "b = tf.Variable(3.0)\n",
        "\n",
        "with tf.GradientTape() as tape:\n",
        "    c = 0\n",
        "    for i in range(3):\n",
        "        c = c + a\n",
        "        print(c)\n",
        "\n",
        "    c = c + tf.math.log(b)"
      ]
    },
    {
      "cell_type": "code",
      "execution_count": null,
      "id": "e551091d-c108-4f86-a501-8edb76297de4",
      "metadata": {
        "id": "e551091d-c108-4f86-a501-8edb76297de4",
        "outputId": "138d9e78-1c0b-4fc5-ea6a-da7d7a2fed82"
      },
      "outputs": [
        {
          "data": {
            "text/plain": [
              "[<tf.Tensor: shape=(), dtype=float32, numpy=3.0>,\n",
              " <tf.Tensor: shape=(), dtype=float32, numpy=0.33333334>]"
            ]
          },
          "execution_count": 27,
          "metadata": {},
          "output_type": "execute_result"
        }
      ],
      "source": [
        "dy_da = tape.gradient(c, [a,b])\n",
        "dy_da"
      ]
    },
    {
      "cell_type": "code",
      "execution_count": null,
      "id": "9f71d4ea-1743-4598-81db-d75c13eb932e",
      "metadata": {
        "id": "9f71d4ea-1743-4598-81db-d75c13eb932e",
        "outputId": "daf930d8-c0fa-4bf1-c82c-58ecd74f9935"
      },
      "outputs": [
        {
          "name": "stdout",
          "output_type": "stream",
          "text": [
            "tf.Tensor(7.0986123, shape=(), dtype=float32)\n"
          ]
        }
      ],
      "source": [
        "print(c)"
      ]
    },
    {
      "cell_type": "code",
      "execution_count": null,
      "id": "d268f1f2-31a2-4615-b5b9-0226ac2dbd78",
      "metadata": {
        "id": "d268f1f2-31a2-4615-b5b9-0226ac2dbd78",
        "outputId": "9aba31af-0987-4a49-9c21-7efd4c435ce2"
      },
      "outputs": [
        {
          "name": "stdout",
          "output_type": "stream",
          "text": [
            "  data  int_encoding\n",
            "0    a             0\n",
            "1    b             1\n",
            "2    c             2\n",
            "3    c             2\n",
            "4    a             0\n"
          ]
        }
      ],
      "source": [
        "from sklearn.preprocessing import OneHotEncoder\n",
        "from sklearn.preprocessing import LabelEncoder\n",
        "import pandas as pd\n",
        "\n",
        "data = ('a','b','c','c','a')\n",
        "dictionary = pd.DataFrame(data, columns=['data'])\n",
        "\n",
        "dictionary['int_encoding'] = labelencoder.fit_transform(dictionary['data'])\n",
        "print(dictionary)"
      ]
    },
    {
      "cell_type": "code",
      "execution_count": null,
      "id": "cc175409-57af-405c-ad38-7067c4328edf",
      "metadata": {
        "id": "cc175409-57af-405c-ad38-7067c4328edf",
        "outputId": "48f370af-783b-46d6-f3f5-f030dcf6dbed"
      },
      "outputs": [
        {
          "name": "stdout",
          "output_type": "stream",
          "text": [
            "   int_encoding\n",
            "0             0\n",
            "1             1\n",
            "2             2\n",
            "3             2\n",
            "4             0\n",
            "[[1. 0. 0.]\n",
            " [0. 1. 0.]\n",
            " [0. 0. 1.]\n",
            " [0. 0. 1.]\n",
            " [1. 0. 0.]]\n"
          ]
        }
      ],
      "source": [
        "one_hot_enc = OneHotEncoder()\n",
        "one_hot = one_hot_enc.fit_transform(dictionary[['int_encoding']]).toarray()\n",
        "print(dictionary[['int_encoding']])\n",
        "print(one_hot)"
      ]
    },
    {
      "cell_type": "code",
      "execution_count": null,
      "id": "2be69b90-b292-45d3-99f6-a44e8958b7d8",
      "metadata": {
        "id": "2be69b90-b292-45d3-99f6-a44e8958b7d8"
      },
      "outputs": [],
      "source": [
        "import torch\n",
        "mat = torch.empty(5,100).to(gpu)\n",
        "for i in range(0, 1000000):\n",
        "    mat = torch.mm(mat, torch.transpose(mat,0,1))"
      ]
    },
    {
      "cell_type": "code",
      "execution_count": null,
      "id": "c79497b9-91d0-4a01-9182-890cf48bd002",
      "metadata": {
        "id": "c79497b9-91d0-4a01-9182-890cf48bd002",
        "outputId": "eb603177-125e-4c8c-83b8-269956b9c84e"
      },
      "outputs": [
        {
          "name": "stdout",
          "output_type": "stream",
          "text": [
            "tensor([[6.6648e-10, 1.1040e-05, 2.6081e+20],\n",
            "        [2.0975e-07, 2.1876e-04, 4.3921e-05]])\n",
            "tensor([[6.6648e-10, 2.0975e-07],\n",
            "        [1.1040e-05, 2.1876e-04],\n",
            "        [2.6081e+20, 4.3921e-05]])\n",
            "tensor([[       inf, 1.1455e+16],\n",
            "        [1.1455e+16, 4.9784e-08]])\n"
          ]
        }
      ],
      "source": [
        "mat = torch.empty(2,3)\n",
        "a = torch.transpose(mat,0,1)\n",
        "print(mat)\n",
        "print(a)\n",
        "print(torch.mm(mat,a))"
      ]
    },
    {
      "cell_type": "code",
      "execution_count": null,
      "id": "fb623997-50f2-4101-b5a2-868ad99c05f8",
      "metadata": {
        "id": "fb623997-50f2-4101-b5a2-868ad99c05f8",
        "outputId": "9a9e3e40-5436-488c-84da-4fc2e313834b"
      },
      "outputs": [
        {
          "data": {
            "text/plain": [
              "2"
            ]
          },
          "execution_count": 61,
          "metadata": {},
          "output_type": "execute_result"
        }
      ],
      "source": [
        "a = torch.arange(10).reshape(5,2)\n",
        "a\n",
        "torch.split(a,1)\n",
        "a.size(1)"
      ]
    },
    {
      "cell_type": "code",
      "execution_count": null,
      "id": "b437d3c0-c0af-4056-9f97-df3f1b08f17f",
      "metadata": {
        "id": "b437d3c0-c0af-4056-9f97-df3f1b08f17f",
        "outputId": "c9b40576-8ad2-4e89-979f-fb09557a2cca"
      },
      "outputs": [
        {
          "name": "stdout",
          "output_type": "stream",
          "text": [
            "torch.Size([2, 1, 2])\n"
          ]
        },
        {
          "data": {
            "text/plain": [
              "tensor([[[-0.1867, -0.5635]],\n",
              "\n",
              "        [[-0.5525, -0.4179]]])"
            ]
          },
          "execution_count": 132,
          "metadata": {},
          "output_type": "execute_result"
        }
      ],
      "source": [
        "a = torch.stack([torch.randn((1,2)),torch.randn((1,2))])\n",
        "print(a.size())\n",
        "a"
      ]
    },
    {
      "cell_type": "code",
      "execution_count": null,
      "id": "ae95d04e-70c2-43cb-a1e1-d779812b9e3e",
      "metadata": {
        "tags": [],
        "id": "ae95d04e-70c2-43cb-a1e1-d779812b9e3e",
        "outputId": "f3e13702-4ee7-4042-dac4-5d74aa16266c"
      },
      "outputs": [
        {
          "name": "stdout",
          "output_type": "stream",
          "text": [
            "100\n",
            "128\n",
            "72\n"
          ]
        },
        {
          "ename": "IndexError",
          "evalue": "Dimension out of range (expected to be in range of [-3, 2], but got 3)",
          "output_type": "error",
          "traceback": [
            "\u001b[1;31m---------------------------------------------------------------------------\u001b[0m",
            "\u001b[1;31mIndexError\u001b[0m                                Traceback (most recent call last)",
            "Cell \u001b[1;32mIn [97], line 6\u001b[0m\n\u001b[0;32m      4\u001b[0m \u001b[38;5;28mprint\u001b[39m(b\u001b[38;5;241m.\u001b[39msize(\u001b[38;5;241m1\u001b[39m))\n\u001b[0;32m      5\u001b[0m \u001b[38;5;28mprint\u001b[39m(b\u001b[38;5;241m.\u001b[39msize(\u001b[38;5;241m2\u001b[39m))\n\u001b[1;32m----> 6\u001b[0m \u001b[38;5;28mprint\u001b[39m(\u001b[43mb\u001b[49m\u001b[38;5;241;43m.\u001b[39;49m\u001b[43msize\u001b[49m\u001b[43m(\u001b[49m\u001b[38;5;241;43m3\u001b[39;49m\u001b[43m)\u001b[49m)\n",
            "\u001b[1;31mIndexError\u001b[0m: Dimension out of range (expected to be in range of [-3, 2], but got 3)"
          ]
        }
      ],
      "source": [
        "a = next(iter(train_dataloader))\n",
        "b = torch.stack(a[0])\n",
        "print(b.size(0))\n",
        "print(b.size(1))\n",
        "print(b.size(2))"
      ]
    },
    {
      "cell_type": "code",
      "execution_count": null,
      "id": "81b26756-03eb-4d3e-be09-e191cebf1602",
      "metadata": {
        "id": "81b26756-03eb-4d3e-be09-e191cebf1602",
        "outputId": "5b34649f-8fa5-4051-c6d2-d3c71c095957"
      },
      "outputs": [
        {
          "ename": "AttributeError",
          "evalue": "'list' object has no attribute 'softmax'",
          "output_type": "error",
          "traceback": [
            "\u001b[1;31m---------------------------------------------------------------------------\u001b[0m",
            "\u001b[1;31mAttributeError\u001b[0m                            Traceback (most recent call last)",
            "Cell \u001b[1;32mIn [91], line 5\u001b[0m\n\u001b[0;32m      3\u001b[0m pred \u001b[38;5;241m=\u001b[39m [torch\u001b[38;5;241m.\u001b[39mFloatTensor([\u001b[38;5;241m10\u001b[39m,\u001b[38;5;241m20\u001b[39m]),torch\u001b[38;5;241m.\u001b[39mFloatTensor([\u001b[38;5;241m20\u001b[39m,\u001b[38;5;241m10\u001b[39m])]\n\u001b[0;32m      4\u001b[0m softmax \u001b[38;5;241m=\u001b[39m torch\u001b[38;5;241m.\u001b[39mnn\u001b[38;5;241m.\u001b[39mSoftmax(dim\u001b[38;5;241m=\u001b[39m\u001b[38;5;241m0\u001b[39m)\n\u001b[1;32m----> 5\u001b[0m label \u001b[38;5;241m=\u001b[39m torch\u001b[38;5;241m.\u001b[39mFloatTensor([[\u001b[43msoftmax\u001b[49m\u001b[43m(\u001b[49m\u001b[43mpred\u001b[49m\u001b[43m)\u001b[49m[\u001b[38;5;241m0\u001b[39m][\u001b[38;5;241m0\u001b[39m],softmax(pred)[\u001b[38;5;241m0\u001b[39m][\u001b[38;5;241m1\u001b[39m]],[softmax(pred)[\u001b[38;5;241m1\u001b[39m][\u001b[38;5;241m0\u001b[39m],softmax(pred)[\u001b[38;5;241m1\u001b[39m][\u001b[38;5;241m1\u001b[39m]]])\n\u001b[0;32m      6\u001b[0m \u001b[38;5;28mprint\u001b[39m(pred\u001b[38;5;241m.\u001b[39msize())\n\u001b[0;32m      7\u001b[0m loss(pred,label)\n",
            "File \u001b[1;32mD:\\Programmi\\Anaconda\\envs\\pytorch\\lib\\site-packages\\torch\\nn\\modules\\module.py:1130\u001b[0m, in \u001b[0;36mModule._call_impl\u001b[1;34m(self, *input, **kwargs)\u001b[0m\n\u001b[0;32m   1126\u001b[0m \u001b[38;5;66;03m# If we don't have any hooks, we want to skip the rest of the logic in\u001b[39;00m\n\u001b[0;32m   1127\u001b[0m \u001b[38;5;66;03m# this function, and just call forward.\u001b[39;00m\n\u001b[0;32m   1128\u001b[0m \u001b[38;5;28;01mif\u001b[39;00m \u001b[38;5;129;01mnot\u001b[39;00m (\u001b[38;5;28mself\u001b[39m\u001b[38;5;241m.\u001b[39m_backward_hooks \u001b[38;5;129;01mor\u001b[39;00m \u001b[38;5;28mself\u001b[39m\u001b[38;5;241m.\u001b[39m_forward_hooks \u001b[38;5;129;01mor\u001b[39;00m \u001b[38;5;28mself\u001b[39m\u001b[38;5;241m.\u001b[39m_forward_pre_hooks \u001b[38;5;129;01mor\u001b[39;00m _global_backward_hooks\n\u001b[0;32m   1129\u001b[0m         \u001b[38;5;129;01mor\u001b[39;00m _global_forward_hooks \u001b[38;5;129;01mor\u001b[39;00m _global_forward_pre_hooks):\n\u001b[1;32m-> 1130\u001b[0m     \u001b[38;5;28;01mreturn\u001b[39;00m forward_call(\u001b[38;5;241m*\u001b[39m\u001b[38;5;28minput\u001b[39m, \u001b[38;5;241m*\u001b[39m\u001b[38;5;241m*\u001b[39mkwargs)\n\u001b[0;32m   1131\u001b[0m \u001b[38;5;66;03m# Do not call functions when jit is used\u001b[39;00m\n\u001b[0;32m   1132\u001b[0m full_backward_hooks, non_full_backward_hooks \u001b[38;5;241m=\u001b[39m [], []\n",
            "File \u001b[1;32mD:\\Programmi\\Anaconda\\envs\\pytorch\\lib\\site-packages\\torch\\nn\\modules\\activation.py:1376\u001b[0m, in \u001b[0;36mSoftmax.forward\u001b[1;34m(self, input)\u001b[0m\n\u001b[0;32m   1375\u001b[0m \u001b[38;5;28;01mdef\u001b[39;00m \u001b[38;5;21mforward\u001b[39m(\u001b[38;5;28mself\u001b[39m, \u001b[38;5;28minput\u001b[39m: Tensor) \u001b[38;5;241m-\u001b[39m\u001b[38;5;241m>\u001b[39m Tensor:\n\u001b[1;32m-> 1376\u001b[0m     \u001b[38;5;28;01mreturn\u001b[39;00m \u001b[43mF\u001b[49m\u001b[38;5;241;43m.\u001b[39;49m\u001b[43msoftmax\u001b[49m\u001b[43m(\u001b[49m\u001b[38;5;28;43minput\u001b[39;49m\u001b[43m,\u001b[49m\u001b[43m \u001b[49m\u001b[38;5;28;43mself\u001b[39;49m\u001b[38;5;241;43m.\u001b[39;49m\u001b[43mdim\u001b[49m\u001b[43m,\u001b[49m\u001b[43m \u001b[49m\u001b[43m_stacklevel\u001b[49m\u001b[38;5;241;43m=\u001b[39;49m\u001b[38;5;241;43m5\u001b[39;49m\u001b[43m)\u001b[49m\n",
            "File \u001b[1;32mD:\\Programmi\\Anaconda\\envs\\pytorch\\lib\\site-packages\\torch\\nn\\functional.py:1834\u001b[0m, in \u001b[0;36msoftmax\u001b[1;34m(input, dim, _stacklevel, dtype)\u001b[0m\n\u001b[0;32m   1832\u001b[0m     dim \u001b[38;5;241m=\u001b[39m _get_softmax_dim(\u001b[38;5;124m\"\u001b[39m\u001b[38;5;124msoftmax\u001b[39m\u001b[38;5;124m\"\u001b[39m, \u001b[38;5;28minput\u001b[39m\u001b[38;5;241m.\u001b[39mdim(), _stacklevel)\n\u001b[0;32m   1833\u001b[0m \u001b[38;5;28;01mif\u001b[39;00m dtype \u001b[38;5;129;01mis\u001b[39;00m \u001b[38;5;28;01mNone\u001b[39;00m:\n\u001b[1;32m-> 1834\u001b[0m     ret \u001b[38;5;241m=\u001b[39m \u001b[38;5;28;43minput\u001b[39;49m\u001b[38;5;241;43m.\u001b[39;49m\u001b[43msoftmax\u001b[49m(dim)\n\u001b[0;32m   1835\u001b[0m \u001b[38;5;28;01melse\u001b[39;00m:\n\u001b[0;32m   1836\u001b[0m     ret \u001b[38;5;241m=\u001b[39m \u001b[38;5;28minput\u001b[39m\u001b[38;5;241m.\u001b[39msoftmax(dim, dtype\u001b[38;5;241m=\u001b[39mdtype)\n",
            "\u001b[1;31mAttributeError\u001b[0m: 'list' object has no attribute 'softmax'"
          ]
        }
      ],
      "source": [
        "loss = torch.nn.CrossEntropyLoss()\n",
        "# pred=(a,c),(a,a), label=(a,b),(c,c)\n",
        "pred = [torch.FloatTensor([10,20]),torch.FloatTensor([20,10])\n",
        "softmax = torch.nn.Softmax(dim=0)\n",
        "label = torch.FloatTensor([[softmax(pred)[0][0],softmax(pred)[0][1]],[softmax(pred)[1][0],softmax(pred)[1][1]]])\n",
        "print(pred.size())\n",
        "loss(pred,label)"
      ]
    },
    {
      "cell_type": "code",
      "execution_count": null,
      "id": "9d0d1d66-d815-4641-8394-f61d51f43974",
      "metadata": {
        "id": "9d0d1d66-d815-4641-8394-f61d51f43974",
        "outputId": "925453e1-baf8-4c8c-c94c-cc9fcfc3a52a"
      },
      "outputs": [
        {
          "data": {
            "text/plain": [
              "tensor([6.])"
            ]
          },
          "execution_count": 106,
          "metadata": {},
          "output_type": "execute_result"
        }
      ],
      "source": [
        "x = torch.ones(1, requires_grad=True)\n",
        "y = x**2\n",
        "z = x**3\n",
        "w = x**3\n",
        "z.backward()\n",
        "w.backward()\n",
        "x.grad"
      ]
    },
    {
      "cell_type": "code",
      "execution_count": null,
      "id": "e53b4bbf-6021-4c27-b87c-d7b797353bb7",
      "metadata": {
        "id": "e53b4bbf-6021-4c27-b87c-d7b797353bb7",
        "outputId": "8cf80410-f298-45ef-b2ad-07d73f3d7793"
      },
      "outputs": [
        {
          "ename": "AssertionError",
          "evalue": "",
          "output_type": "error",
          "traceback": [
            "\u001b[1;31m---------------------------------------------------------------------------\u001b[0m",
            "\u001b[1;31mAssertionError\u001b[0m                            Traceback (most recent call last)",
            "Cell \u001b[1;32mIn [17], line 4\u001b[0m\n\u001b[0;32m      2\u001b[0m target \u001b[38;5;241m=\u001b[39m tensor([\u001b[38;5;241m0\u001b[39m, \u001b[38;5;241m1\u001b[39m, \u001b[38;5;241m2\u001b[39m, \u001b[38;5;241m3\u001b[39m])\n\u001b[0;32m      3\u001b[0m preds \u001b[38;5;241m=\u001b[39m tensor([\u001b[38;5;241m0\u001b[39m, \u001b[38;5;241m2\u001b[39m, \u001b[38;5;241m1\u001b[39m, \u001b[38;5;241m3\u001b[39m])\n\u001b[1;32m----> 4\u001b[0m accuracy \u001b[38;5;241m=\u001b[39m \u001b[43mtorchmetrics\u001b[49m\u001b[38;5;241;43m.\u001b[39;49m\u001b[43mAccuracy\u001b[49m\u001b[43m(\u001b[49m\u001b[43mtask\u001b[49m\u001b[38;5;241;43m=\u001b[39;49m\u001b[38;5;124;43m\"\u001b[39;49m\u001b[38;5;124;43mmulticlass\u001b[39;49m\u001b[38;5;124;43m\"\u001b[39;49m\u001b[43m,\u001b[49m\u001b[43m \u001b[49m\u001b[43mnum_classes\u001b[49m\u001b[38;5;241;43m=\u001b[39;49m\u001b[38;5;241;43m4\u001b[39;49m\u001b[43m)\u001b[49m\n\u001b[0;32m      5\u001b[0m accuracy(preds, target)\n",
            "File \u001b[1;32mD:\\Programmi\\Anaconda\\envs\\pytorch\\lib\\site-packages\\torchmetrics\\classification\\accuracy.py:490\u001b[0m, in \u001b[0;36mAccuracy.__new__\u001b[1;34m(cls, threshold, num_classes, average, mdmc_average, ignore_index, top_k, multiclass, subset_accuracy, task, num_labels, multidim_average, validate_args, **kwargs)\u001b[0m\n\u001b[0;32m    488\u001b[0m \u001b[38;5;28;01mif\u001b[39;00m task \u001b[38;5;241m==\u001b[39m \u001b[38;5;124m\"\u001b[39m\u001b[38;5;124mmulticlass\u001b[39m\u001b[38;5;124m\"\u001b[39m:\n\u001b[0;32m    489\u001b[0m     \u001b[38;5;28;01massert\u001b[39;00m \u001b[38;5;28misinstance\u001b[39m(num_classes, \u001b[38;5;28mint\u001b[39m)\n\u001b[1;32m--> 490\u001b[0m     \u001b[38;5;28;01massert\u001b[39;00m \u001b[38;5;28misinstance\u001b[39m(top_k, \u001b[38;5;28mint\u001b[39m)\n\u001b[0;32m    491\u001b[0m     \u001b[38;5;28;01mreturn\u001b[39;00m MulticlassAccuracy(num_classes, top_k, average, \u001b[38;5;241m*\u001b[39m\u001b[38;5;241m*\u001b[39mkwargs)\n\u001b[0;32m    492\u001b[0m \u001b[38;5;28;01mif\u001b[39;00m task \u001b[38;5;241m==\u001b[39m \u001b[38;5;124m\"\u001b[39m\u001b[38;5;124mmultilabel\u001b[39m\u001b[38;5;124m\"\u001b[39m:\n",
            "\u001b[1;31mAssertionError\u001b[0m: "
          ]
        }
      ],
      "source": [
        "from torch import tensor\n",
        "target = tensor([0, 1, 2, 3])\n",
        "preds = tensor([0, 2, 1, 3])\n",
        "accuracy = torchmetrics.Accuracy(task=\"multiclass\", num_classes=4)\n",
        "accuracy(preds, target)"
      ]
    },
    {
      "cell_type": "code",
      "execution_count": null,
      "id": "4a94f05d-8a65-4e46-af34-13c6c7de5229",
      "metadata": {
        "id": "4a94f05d-8a65-4e46-af34-13c6c7de5229"
      },
      "outputs": [],
      "source": [
        "y = torch.tensor([\n",
        "     [\n",
        "       [1, 0, 0],\n",
        "       [1, 0, 0]\n",
        "     ],\n",
        "     [\n",
        "       [0, 1, 0],\n",
        "       [0, 0, 1]\n",
        "     ],\n",
        "     [\n",
        "       [0, 0, 1],\n",
        "       [0, 0, 1]\n",
        "     ]\n",
        "   ])"
      ]
    },
    {
      "cell_type": "code",
      "execution_count": null,
      "id": "73572edf-58fa-4377-a1de-63edd46e23ce",
      "metadata": {
        "id": "73572edf-58fa-4377-a1de-63edd46e23ce",
        "outputId": "0f5853c3-3379-479c-85fb-c3fbd34e68b0"
      },
      "outputs": [
        {
          "data": {
            "text/plain": [
              "torch.Size([3, 2, 3])"
            ]
          },
          "execution_count": 128,
          "metadata": {},
          "output_type": "execute_result"
        }
      ],
      "source": [
        "y.size()"
      ]
    },
    {
      "cell_type": "code",
      "execution_count": null,
      "id": "9f3b11e1-caf8-4666-adb9-c5edb2444d78",
      "metadata": {
        "id": "9f3b11e1-caf8-4666-adb9-c5edb2444d78",
        "outputId": "46fb6d68-ae0c-4ef2-f2ad-395bbc6808e2"
      },
      "outputs": [
        {
          "data": {
            "text/plain": [
              "tensor([[0, 0],\n",
              "        [1, 2],\n",
              "        [2, 2]])"
            ]
          },
          "execution_count": 129,
          "metadata": {},
          "output_type": "execute_result"
        }
      ],
      "source": [
        "torch.argmax(y.float(),dim=2)"
      ]
    },
    {
      "cell_type": "code",
      "execution_count": null,
      "id": "a41635f7-8e0e-4a9b-a393-ba0ae1f05974",
      "metadata": {
        "id": "a41635f7-8e0e-4a9b-a393-ba0ae1f05974",
        "outputId": "ddf72c4d-a94f-4237-91e7-5b27ecb170e5"
      },
      "outputs": [
        {
          "name": "stdout",
          "output_type": "stream",
          "text": [
            "        data  int_encoding\n",
            "0          b            39\n",
            "1          e            42\n",
            "2          n            51\n",
            "4                        1\n",
            "6          u            58\n",
            "...      ...           ...\n",
            "1099082    -             4\n",
            "1099618    U            33\n",
            "1100751    È            64\n",
            "1101278    N            26\n",
            "1104174    V            34\n",
            "\n",
            "[72 rows x 2 columns]\n",
            "72\n",
            "39\n"
          ]
        }
      ],
      "source": [
        "print(dictionary)\n",
        "print(len(dictionary))\n",
        "a = dictionary.loc[dictionary['data'] == 'b']['int_encoding']\n",
        "print(a[0])"
      ]
    },
    {
      "cell_type": "markdown",
      "id": "1d88a0ea-e6fc-40f2-8f7f-180d66d65557",
      "metadata": {
        "id": "1d88a0ea-e6fc-40f2-8f7f-180d66d65557"
      },
      "source": [
        "##"
      ]
    },
    {
      "cell_type": "code",
      "execution_count": null,
      "id": "b017161f-557e-4242-b603-f587262a76d3",
      "metadata": {
        "id": "b017161f-557e-4242-b603-f587262a76d3"
      },
      "outputs": [],
      "source": []
    }
  ],
  "metadata": {
    "kernelspec": {
      "display_name": "Python 3",
      "name": "python3"
    },
    "language_info": {
      "codemirror_mode": {
        "name": "ipython",
        "version": 3
      },
      "file_extension": ".py",
      "mimetype": "text/x-python",
      "name": "python",
      "nbconvert_exporter": "python",
      "pygments_lexer": "ipython3",
      "version": "3.10.6"
    },
    "colab": {
      "provenance": [],
      "gpuType": "T4"
    },
    "accelerator": "GPU"
  },
  "nbformat": 4,
  "nbformat_minor": 5
}